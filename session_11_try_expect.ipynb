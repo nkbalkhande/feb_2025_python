{
 "cells": [
  {
   "cell_type": "markdown",
   "id": "452a1538-f6de-45de-b516-08823f6c3cea",
   "metadata": {},
   "source": [
    "**try-except**\n",
    "\n",
    "- try and except is a concept of exception handling\n",
    "\n",
    "- there are two block\n",
    "\n",
    "    - try block\n",
    "    - except block\n",
    "- original code willl run under try block\n",
    "\n",
    "- if any error occures in try block, the error will catch by except block\n",
    "\n",
    "- usecase-1: The code should catch the error automatically\n",
    "\n",
    "- usecase-2: The code should continue eventhough we got the error"
   ]
  },
  {
   "cell_type": "code",
   "execution_count": 1,
   "id": "00b414bf-31a4-424d-b606-5f595f6fbadd",
   "metadata": {},
   "outputs": [
    {
     "name": "stdout",
     "output_type": "stream",
     "text": [
      "error coming in try block\n",
      "zero division error\n"
     ]
    }
   ],
   "source": [
    "try:\n",
    "    a=10\n",
    "    b=0\n",
    "    c=a/b   # we will get error\n",
    "except:\n",
    "    print('error coming in try block')\n",
    "    print('zero division error')\n",
    "    "
   ]
  },
  {
   "cell_type": "code",
   "execution_count": 2,
   "id": "3387254a-c81d-4d57-b7ef-d49d6e723ec0",
   "metadata": {},
   "outputs": [
    {
     "name": "stdout",
     "output_type": "stream",
     "text": [
      "2.5\n"
     ]
    }
   ],
   "source": [
    "try:\n",
    "    a=10\n",
    "    b=4\n",
    "    c=a/b   \n",
    "    print(c)\n",
    "except:\n",
    "    print('error coming in try block')\n",
    "    print('zero division error')\n",
    "    "
   ]
  },
  {
   "cell_type": "markdown",
   "id": "11342b5f-1f8c-4007-a669-6f85d3c0737f",
   "metadata": {},
   "source": [
    "**Note:**\n",
    "\n",
    "- except block will run when we got the error in try block\n",
    "\n",
    "- if code is correct only try block executed\n",
    "\n",
    "- Synatx error\n",
    "\n",
    "- Attribute error\n",
    "\n",
    "- Name error\n",
    "\n",
    "- Type error\n",
    "\n",
    "- Indentation error\n",
    "\n",
    "- Module not found error\n",
    "\n",
    "- Zero division error\n",
    "\n",
    "- Object not allowed"
   ]
  },
  {
   "cell_type": "code",
   "execution_count": 3,
   "id": "e124365d-f243-4697-af7f-fe84e14a64df",
   "metadata": {},
   "outputs": [
    {
     "ename": "IndentationError",
     "evalue": "unexpected indent (2514313760.py, line 2)",
     "output_type": "error",
     "traceback": [
      "\u001b[1;36m  Cell \u001b[1;32mIn[3], line 2\u001b[1;36m\u001b[0m\n\u001b[1;33m    print('10'\u001b[0m\n\u001b[1;37m    ^\u001b[0m\n\u001b[1;31mIndentationError\u001b[0m\u001b[1;31m:\u001b[0m unexpected indent\n"
     ]
    }
   ],
   "source": [
    "# indentation error\n",
    " print('10'"
   ]
  },
  {
   "cell_type": "code",
   "execution_count": 4,
   "id": "38813825-44c3-4232-95db-ed3a3de4b9ae",
   "metadata": {},
   "outputs": [
    {
     "ename": "AttributeError",
     "evalue": "module 'random' has no attribute 'pushpa'",
     "output_type": "error",
     "traceback": [
      "\u001b[1;31m---------------------------------------------------------------------------\u001b[0m",
      "\u001b[1;31mAttributeError\u001b[0m                            Traceback (most recent call last)",
      "Cell \u001b[1;32mIn[4], line 3\u001b[0m\n\u001b[0;32m      1\u001b[0m \u001b[38;5;66;03m#Attribute error\u001b[39;00m\n\u001b[0;32m      2\u001b[0m \u001b[38;5;28;01mimport\u001b[39;00m \u001b[38;5;21;01mrandom\u001b[39;00m\n\u001b[1;32m----> 3\u001b[0m random\u001b[38;5;241m.\u001b[39mpushpa\n",
      "\u001b[1;31mAttributeError\u001b[0m: module 'random' has no attribute 'pushpa'"
     ]
    }
   ],
   "source": [
    "#Attribute error\n",
    "import random\n",
    "random.pushpa"
   ]
  },
  {
   "cell_type": "code",
   "execution_count": 5,
   "id": "0945e57e-39a1-4e15-9fdf-4ee46df34ce4",
   "metadata": {},
   "outputs": [
    {
     "ename": "NameError",
     "evalue": "name 'num1' is not defined",
     "output_type": "error",
     "traceback": [
      "\u001b[1;31m---------------------------------------------------------------------------\u001b[0m",
      "\u001b[1;31mNameError\u001b[0m                                 Traceback (most recent call last)",
      "Cell \u001b[1;32mIn[5], line 2\u001b[0m\n\u001b[0;32m      1\u001b[0m \u001b[38;5;66;03m#Name error\u001b[39;00m\n\u001b[1;32m----> 2\u001b[0m c\u001b[38;5;241m=\u001b[39mnum1\u001b[38;5;241m+\u001b[39mnum2\n",
      "\u001b[1;31mNameError\u001b[0m: name 'num1' is not defined"
     ]
    }
   ],
   "source": [
    "#Name error\n",
    "c=num1+num2"
   ]
  },
  {
   "cell_type": "code",
   "execution_count": 6,
   "id": "2a2cd61e-c251-4617-83e5-c517fe08a54c",
   "metadata": {},
   "outputs": [
    {
     "ename": "TypeError",
     "evalue": "can't multiply sequence by non-int of type 'str'",
     "output_type": "error",
     "traceback": [
      "\u001b[1;31m---------------------------------------------------------------------------\u001b[0m",
      "\u001b[1;31mTypeError\u001b[0m                                 Traceback (most recent call last)",
      "Cell \u001b[1;32mIn[6], line 2\u001b[0m\n\u001b[0;32m      1\u001b[0m \u001b[38;5;66;03m#Type error\u001b[39;00m\n\u001b[1;32m----> 2\u001b[0m \u001b[38;5;28mprint\u001b[39m(\u001b[38;5;124m'\u001b[39m\u001b[38;5;124m10\u001b[39m\u001b[38;5;124m'\u001b[39m\u001b[38;5;241m*\u001b[39m\u001b[38;5;124m'\u001b[39m\u001b[38;5;124m10\u001b[39m\u001b[38;5;124m'\u001b[39m)\n",
      "\u001b[1;31mTypeError\u001b[0m: can't multiply sequence by non-int of type 'str'"
     ]
    }
   ],
   "source": [
    "#Type error\n",
    "print('10'*'10')"
   ]
  },
  {
   "cell_type": "code",
   "execution_count": 7,
   "id": "a9f2a67d-6f4d-41e7-a6fb-f2a2c54e7d39",
   "metadata": {},
   "outputs": [
    {
     "ename": "SyntaxError",
     "evalue": "expected ':' (456087575.py, line 2)",
     "output_type": "error",
     "traceback": [
      "\u001b[1;36m  Cell \u001b[1;32mIn[7], line 2\u001b[1;36m\u001b[0m\n\u001b[1;33m    if True\u001b[0m\n\u001b[1;37m           ^\u001b[0m\n\u001b[1;31mSyntaxError\u001b[0m\u001b[1;31m:\u001b[0m expected ':'\n"
     ]
    }
   ],
   "source": [
    "#syntax error \n",
    "if True\n",
    "    a=10"
   ]
  },
  {
   "cell_type": "code",
   "execution_count": 21,
   "id": "86a58aeb-4535-400d-807c-0a3d1cc54c95",
   "metadata": {},
   "outputs": [
    {
     "ename": "TypeError",
     "evalue": "'module' object is not callable. Did you mean: 'random.random(...)'?",
     "output_type": "error",
     "traceback": [
      "\u001b[1;31m---------------------------------------------------------------------------\u001b[0m",
      "\u001b[1;31mTypeError\u001b[0m                                 Traceback (most recent call last)",
      "Cell \u001b[1;32mIn[21], line 1\u001b[0m\n\u001b[1;32m----> 1\u001b[0m random()\n",
      "\u001b[1;31mTypeError\u001b[0m: 'module' object is not callable. Did you mean: 'random.random(...)'?"
     ]
    }
   ],
   "source": [
    "random()"
   ]
  },
  {
   "cell_type": "code",
   "execution_count": 9,
   "id": "40031221-2993-4aaf-bdf5-7bb29aaef506",
   "metadata": {},
   "outputs": [
    {
     "name": "stdin",
     "output_type": "stream",
     "text": [
      "enter the number: 34\n",
      "enter the number: 23\n"
     ]
    },
    {
     "name": "stdout",
     "output_type": "stream",
     "text": [
      "the div is: 1.4782608695652173\n"
     ]
    }
   ],
   "source": [
    "n1=eval(input(\"enter the number:\"))\n",
    "n3=eval(input(\"enter the number:\"))\n",
    "div=n1/n3\n",
    "print(\"the div is:\", div)"
   ]
  },
  {
   "cell_type": "code",
   "execution_count": 10,
   "id": "da3bd82b-5ba0-4d10-927e-f0ffe01488dc",
   "metadata": {},
   "outputs": [
    {
     "name": "stdin",
     "output_type": "stream",
     "text": [
      "enter the number: 34\n",
      "enter the number: 54\n"
     ]
    },
    {
     "name": "stdout",
     "output_type": "stream",
     "text": [
      "the div is: 0.6296296296296297\n"
     ]
    }
   ],
   "source": [
    "try:\n",
    "    n1=eval(input(\"enter the number:\"))\n",
    "    n3=eval(input(\"enter the number:\"))\n",
    "    div=n1/n3\n",
    "    print(\"the div is:\", div)\n",
    "\n",
    "except:\n",
    "    print(\"the div not zero\")"
   ]
  },
  {
   "cell_type": "code",
   "execution_count": 12,
   "id": "5f281605-4cb8-4e07-8324-1b3416385b51",
   "metadata": {},
   "outputs": [
    {
     "name": "stdin",
     "output_type": "stream",
     "text": [
      "enter the number: 45\n",
      "enter the number: 0\n"
     ]
    },
    {
     "name": "stdout",
     "output_type": "stream",
     "text": [
      "division by zero\n"
     ]
    }
   ],
   "source": [
    "try:\n",
    "    n1=eval(input(\"enter the number:\"))\n",
    "    n3=eval(input(\"enter the number:\"))\n",
    "    div=n1/n3\n",
    "    print(\"the div is:\", div)\n",
    "\n",
    "except Exception as e:\n",
    "    print(e)"
   ]
  },
  {
   "cell_type": "code",
   "execution_count": 13,
   "id": "c6ebde26-f1a0-448e-93a1-149c9b13f4ee",
   "metadata": {},
   "outputs": [
    {
     "name": "stdout",
     "output_type": "stream",
     "text": [
      "No module named 'nareshit'\n"
     ]
    }
   ],
   "source": [
    "try:\n",
    "    import nareshit \n",
    "except Exception as e:\n",
    "    print(e)"
   ]
  },
  {
   "cell_type": "code",
   "execution_count": 14,
   "id": "f2563a27-e543-4ec9-9a4f-2b2b43ec451d",
   "metadata": {},
   "outputs": [
    {
     "name": "stdout",
     "output_type": "stream",
     "text": [
      "module 'random' has no attribute 'pushpa'\n"
     ]
    }
   ],
   "source": [
    "try:\n",
    "    import random\n",
    "    random.pushpa\n",
    "\n",
    "except Exception as e:\n",
    "    print(e)"
   ]
  },
  {
   "cell_type": "code",
   "execution_count": 16,
   "id": "58bdd0e3-6d10-4ba5-b3ac-263919671358",
   "metadata": {},
   "outputs": [
    {
     "name": "stdin",
     "output_type": "stream",
     "text": [
      "enter the number: hello\n"
     ]
    },
    {
     "ename": "NameError",
     "evalue": "name 'hello' is not defined",
     "output_type": "error",
     "traceback": [
      "\u001b[1;31m---------------------------------------------------------------------------\u001b[0m",
      "\u001b[1;31mNameError\u001b[0m                                 Traceback (most recent call last)",
      "Cell \u001b[1;32mIn[16], line 1\u001b[0m\n\u001b[1;32m----> 1\u001b[0m n1\u001b[38;5;241m=\u001b[39m\u001b[38;5;28meval\u001b[39m(\u001b[38;5;28minput\u001b[39m(\u001b[38;5;124m\"\u001b[39m\u001b[38;5;124menter the number:\u001b[39m\u001b[38;5;124m\"\u001b[39m))\n",
      "File \u001b[1;32m<string>:1\u001b[0m\n",
      "\u001b[1;31mNameError\u001b[0m: name 'hello' is not defined"
     ]
    }
   ],
   "source": [
    "n1=eval(input(\"enter the number:\"))"
   ]
  },
  {
   "cell_type": "markdown",
   "id": "5cc47446-4fcf-486f-aa41-8df444283ae5",
   "metadata": {},
   "source": [
    "- step-1: are you able to write the code with out silly mistakes\n",
    ".\n",
    "\n",
    "- step-2: are you able to understand the logic\n",
    "\n",
    "- step-3: are you able to implement the logic (single day)"
   ]
  },
  {
   "cell_type": "code",
   "execution_count": 19,
   "id": "8efd346a-9e2a-422e-b4d8-7b60634f8bc5",
   "metadata": {},
   "outputs": [
    {
     "name": "stdin",
     "output_type": "stream",
     "text": [
      "enter the number: ge\n"
     ]
    },
    {
     "name": "stdout",
     "output_type": "stream",
     "text": [
      "name 'ge' is not defined\n",
      "a+b: 30\n"
     ]
    }
   ],
   "source": [
    "try:\n",
    "    n1=eval(input(\"enter the number:\"))\n",
    "    if n1%2==0:\n",
    "        print(f\"{n1} is an even\")\n",
    "    else:\n",
    "        print(f\"{n1} is an odd\")\n",
    "\n",
    "except Exception as e:\n",
    "    print(e)\n",
    "    a=10\n",
    "    b=20\n",
    "    print(\"a+b:\",a+b)"
   ]
  },
  {
   "cell_type": "code",
   "execution_count": 20,
   "id": "01489274-166a-4311-a290-b9a7e96fe17e",
   "metadata": {},
   "outputs": [
    {
     "name": "stdin",
     "output_type": "stream",
     "text": [
      "enter the number: 56\n"
     ]
    },
    {
     "name": "stdout",
     "output_type": "stream",
     "text": [
      "name 'n12' is not defined\n",
      "a+b: 30\n"
     ]
    }
   ],
   "source": [
    "try:\n",
    "    n1=eval(input(\"enter the number:\"))\n",
    "    if n1%2==0:\n",
    "        print(f\"{n12} is an even\")\n",
    "    else:\n",
    "        print(f\"{n12} is an odd\")\n",
    "\n",
    "except Exception as e:\n",
    "    print(e)\n",
    "    a=10\n",
    "    b=20\n",
    "    print(\"a+b:\",a+b)"
   ]
  },
  {
   "cell_type": "code",
   "execution_count": null,
   "id": "39afe94b-134d-44bd-9f99-33f9cd937a3e",
   "metadata": {},
   "outputs": [],
   "source": []
  }
 ],
 "metadata": {
  "kernelspec": {
   "display_name": "Python 3 (ipykernel)",
   "language": "python",
   "name": "python3"
  },
  "language_info": {
   "codemirror_mode": {
    "name": "ipython",
    "version": 3
   },
   "file_extension": ".py",
   "mimetype": "text/x-python",
   "name": "python",
   "nbconvert_exporter": "python",
   "pygments_lexer": "ipython3",
   "version": "3.12.7"
  }
 },
 "nbformat": 4,
 "nbformat_minor": 5
}
