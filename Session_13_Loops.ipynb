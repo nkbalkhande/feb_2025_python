{
 "cells": [
  {
   "cell_type": "markdown",
   "id": "39e183b9-fddb-4d32-b026-b880079253b4",
   "metadata": {},
   "source": [
    "**Loops**\n",
    "\n",
    "- loops are used to iterate the code multiple times\n",
    "\n",
    "- functions are used to reuse the code block\n",
    "\n",
    "- that code block can be repeated multiple times\n",
    "\n",
    "- whenver you are doing same task multiple times then think about loop\n",
    "\n",
    "- we have two loops\n",
    "\n",
    "     - for loop\n",
    " \n",
    "     - while loop\n",
    "\n",
    "- any loop we need 3 things\n",
    "\n",
    "   - intialization (start point)\n",
    " \n",
    "   - increament or decrement\n",
    " \n",
    "   - condition to stop"
   ]
  },
  {
   "cell_type": "markdown",
   "id": "0422b661-6d0d-4e39-8942-cc85ec4568f9",
   "metadata": {},
   "source": [
    "**For Loop**"
   ]
  },
  {
   "cell_type": "code",
   "execution_count": null,
   "id": "20321c90-a6f2-4e77-bb3c-d32716e64c30",
   "metadata": {},
   "outputs": [],
   "source": [
    "for <variable> in range(<number>):\n",
    "    <write your code here>\n",
    "    "
   ]
  },
  {
   "cell_type": "code",
   "execution_count": 1,
   "id": "740f5477-395e-4fdf-948b-8c0dfbb092a2",
   "metadata": {},
   "outputs": [
    {
     "name": "stdout",
     "output_type": "stream",
     "text": [
      "0\n",
      "1\n",
      "2\n",
      "3\n",
      "4\n"
     ]
    }
   ],
   "source": [
    "for i in range(5):\n",
    "    print(i)"
   ]
  },
  {
   "cell_type": "code",
   "execution_count": 4,
   "id": "c410d79c-eadf-4a53-b81f-383cecbd6321",
   "metadata": {},
   "outputs": [
    {
     "name": "stdout",
     "output_type": "stream",
     "text": [
      "0 1 2 "
     ]
    }
   ],
   "source": [
    "for i in range(3):\n",
    "    print(i,end=' ')"
   ]
  },
  {
   "cell_type": "markdown",
   "id": "74108742-adde-46ea-b65e-f76186576eff",
   "metadata": {},
   "source": [
    "**case-1:range(stop)**\n",
    "\n",
    "- stop=0 : python index start always starts with zero\n",
    "\n",
    "- increment by 1\n",
    "\n",
    "- last=stop-1"
   ]
  },
  {
   "cell_type": "code",
   "execution_count": 5,
   "id": "42000c9d-a367-4bb0-a19b-66306e38c59e",
   "metadata": {},
   "outputs": [
    {
     "name": "stdout",
     "output_type": "stream",
     "text": [
      "0 1 2 3 4 5 6 7 8 9 "
     ]
    }
   ],
   "source": [
    "for i in range(10):\n",
    "    print(i,end=' ')"
   ]
  },
  {
   "cell_type": "code",
   "execution_count": 6,
   "id": "3846cd02-5ff9-4cd2-ba4f-19659a125743",
   "metadata": {},
   "outputs": [
    {
     "name": "stdout",
     "output_type": "stream",
     "text": [
      "good night\n",
      "good night\n",
      "good night\n"
     ]
    }
   ],
   "source": [
    "for i in range(3):\n",
    "    print('good night')"
   ]
  },
  {
   "cell_type": "markdown",
   "id": "b38ef0df-cbbb-44d6-b8d5-78cc83cf2613",
   "metadata": {},
   "source": [
    "**case-2:range(start,stop)**\n",
    "\n",
    "- suppose i want to start my loop with particular number\n",
    "\n",
    "- then add start also inside range\n",
    "\n",
    "- start=start\n",
    "\n",
    "- increment by 1\n",
    "\n",
    "- last=stop-1\n",
    "\n"
   ]
  },
  {
   "cell_type": "code",
   "execution_count": 9,
   "id": "e072c946-f8a0-4a05-9f0f-fb2927def914",
   "metadata": {},
   "outputs": [
    {
     "name": "stdout",
     "output_type": "stream",
     "text": [
      "10 11 12 13 14 15 16 17 18 19 "
     ]
    }
   ],
   "source": [
    "for i in range(10,20):\n",
    "    print(i,end=' ')"
   ]
  },
  {
   "cell_type": "code",
   "execution_count": 11,
   "id": "41d04f8d-e197-4d05-bca0-44561529569c",
   "metadata": {},
   "outputs": [
    {
     "name": "stdin",
     "output_type": "stream",
     "text": [
      "Enter number: 6\n"
     ]
    },
    {
     "name": "stdout",
     "output_type": "stream",
     "text": [
      "1 4 9 16 25 "
     ]
    }
   ],
   "source": [
    "#wap ask the user print the square of first 5 number\n",
    "\n",
    "for i in range(1,6):\n",
    "    print(i*i,end=' ')\n",
    "\n"
   ]
  },
  {
   "cell_type": "code",
   "execution_count": 12,
   "id": "17af8d17-1d24-490b-855f-abeca6ba621c",
   "metadata": {},
   "outputs": [
    {
     "name": "stdin",
     "output_type": "stream",
     "text": [
      "Enter number: 1\n"
     ]
    },
    {
     "name": "stdout",
     "output_type": "stream",
     "text": [
      "1\n"
     ]
    },
    {
     "name": "stdin",
     "output_type": "stream",
     "text": [
      "Enter number: 2\n"
     ]
    },
    {
     "name": "stdout",
     "output_type": "stream",
     "text": [
      "4\n"
     ]
    },
    {
     "name": "stdin",
     "output_type": "stream",
     "text": [
      "Enter number: 3\n"
     ]
    },
    {
     "name": "stdout",
     "output_type": "stream",
     "text": [
      "9\n"
     ]
    },
    {
     "name": "stdin",
     "output_type": "stream",
     "text": [
      "Enter number: 4\n"
     ]
    },
    {
     "name": "stdout",
     "output_type": "stream",
     "text": [
      "16\n"
     ]
    },
    {
     "name": "stdin",
     "output_type": "stream",
     "text": [
      "Enter number: 5\n"
     ]
    },
    {
     "name": "stdout",
     "output_type": "stream",
     "text": [
      "25\n"
     ]
    }
   ],
   "source": [
    "#wap ask enter the 5 times print their square\n",
    "\n",
    "for i in range(5):\n",
    "    num=eval(input(\"Enter number:\"))\n",
    "    print(num*num)\n",
    "    "
   ]
  },
  {
   "cell_type": "code",
   "execution_count": 13,
   "id": "1264c9ac-61e5-4571-a5a5-93e116343ad3",
   "metadata": {},
   "outputs": [
    {
     "name": "stdin",
     "output_type": "stream",
     "text": [
      "Enter number: 4\n"
     ]
    },
    {
     "name": "stdout",
     "output_type": "stream",
     "text": [
      "16\n"
     ]
    },
    {
     "name": "stdin",
     "output_type": "stream",
     "text": [
      "Enter number: 5\n"
     ]
    },
    {
     "name": "stdout",
     "output_type": "stream",
     "text": [
      "25\n"
     ]
    },
    {
     "name": "stdin",
     "output_type": "stream",
     "text": [
      "Enter number: 6\n"
     ]
    },
    {
     "name": "stdout",
     "output_type": "stream",
     "text": [
      "36\n"
     ]
    },
    {
     "name": "stdin",
     "output_type": "stream",
     "text": [
      "Enter number: 8\n"
     ]
    },
    {
     "name": "stdout",
     "output_type": "stream",
     "text": [
      "64\n"
     ]
    },
    {
     "name": "stdin",
     "output_type": "stream",
     "text": [
      "Enter number: 2\n"
     ]
    },
    {
     "name": "stdout",
     "output_type": "stream",
     "text": [
      "4\n"
     ]
    }
   ],
   "source": [
    "def sq():\n",
    "    for i in range(5):\n",
    "        num=eval(input(\"Enter number:\"))\n",
    "        print(num*num)\n",
    "sq()"
   ]
  },
  {
   "cell_type": "code",
   "execution_count": 14,
   "id": "0edb16b7-b742-4874-9dca-1c57d886cc92",
   "metadata": {},
   "outputs": [
    {
     "name": "stdin",
     "output_type": "stream",
     "text": [
      "Enter number: 3\n"
     ]
    },
    {
     "name": "stdout",
     "output_type": "stream",
     "text": [
      "9\n"
     ]
    },
    {
     "name": "stdin",
     "output_type": "stream",
     "text": [
      "Enter number: 5\n"
     ]
    },
    {
     "name": "stdout",
     "output_type": "stream",
     "text": [
      "25\n"
     ]
    },
    {
     "name": "stdin",
     "output_type": "stream",
     "text": [
      "Enter number: 7\n"
     ]
    },
    {
     "name": "stdout",
     "output_type": "stream",
     "text": [
      "49\n"
     ]
    },
    {
     "name": "stdin",
     "output_type": "stream",
     "text": [
      "Enter number: 9\n"
     ]
    },
    {
     "name": "stdout",
     "output_type": "stream",
     "text": [
      "81\n"
     ]
    },
    {
     "name": "stdin",
     "output_type": "stream",
     "text": [
      "Enter number: 2\n"
     ]
    },
    {
     "name": "stdout",
     "output_type": "stream",
     "text": [
      "4\n"
     ]
    }
   ],
   "source": [
    "def sq():   \n",
    "    num=eval(input(\"Enter number:\"))\n",
    "    print(num*num)\n",
    "for i in range(5):\n",
    "    sq()"
   ]
  },
  {
   "cell_type": "markdown",
   "id": "8bcecc76-9818-4fd9-8ba3-4ffb8317b6d4",
   "metadata": {},
   "source": [
    "**case-3:range(start,stop,step)**\n",
    "\n",
    "- start=start only\n",
    "\n",
    "- step :\n",
    "\n",
    "     - loop about step sign is positive or negative\n",
    " \n",
    "     - positive means increment\n",
    " \n",
    "         - last=stop-1\n",
    "      \n",
    "     - negative means decrement\n",
    " \n",
    "        - last=stop+1"
   ]
  },
  {
   "cell_type": "code",
   "execution_count": 15,
   "id": "c53c47fd-f608-47dc-a560-f42b0c403352",
   "metadata": {},
   "outputs": [
    {
     "name": "stdout",
     "output_type": "stream",
     "text": [
      "3 5 7 9 11 13 15 17 "
     ]
    }
   ],
   "source": [
    "#example 1: range(3,20,2)\n",
    "# start = 3\n",
    "# step=+2\n",
    "#last=20-1=19\n",
    "# 3,5,7,9\n",
    "\n",
    "for i in range(3,19,2):\n",
    "    print(i,end=' ')\n"
   ]
  },
  {
   "cell_type": "code",
   "execution_count": 17,
   "id": "558c202d-9f92-4015-b229-2a0d03b901f3",
   "metadata": {},
   "outputs": [],
   "source": [
    "#example 2: range(3,19,-2)\n",
    "# start=3\n",
    "# step=-2\n",
    "# last=19+1=20\n",
    "for i in range(3,19,-2):\n",
    "    print(i)"
   ]
  },
  {
   "cell_type": "code",
   "execution_count": 20,
   "id": "7f9ff0e2-c52d-45e7-ad1d-f4b4701d9f30",
   "metadata": {},
   "outputs": [
    {
     "name": "stdout",
     "output_type": "stream",
     "text": [
      "3 1 -1 -3 -5 -7 -9 -11 -13 -15 -17 "
     ]
    }
   ],
   "source": [
    "# start=3\n",
    "# step=-2\n",
    "# last=-19+1=-18\n",
    "for i in range(3,-19,-2):\n",
    "    print(i,end=' ')"
   ]
  },
  {
   "cell_type": "code",
   "execution_count": 21,
   "id": "c154f61d-f55b-4c68-bd20-ba58f6d492fa",
   "metadata": {},
   "outputs": [],
   "source": [
    "for i in range(3,-19,2): # no answer\n",
    "    print(i)"
   ]
  },
  {
   "cell_type": "code",
   "execution_count": 1,
   "id": "b3bbab32-133b-4b87-9d78-559687b5223c",
   "metadata": {},
   "outputs": [
    {
     "name": "stdout",
     "output_type": "stream",
     "text": [
      "20 10 0 -10 "
     ]
    }
   ],
   "source": [
    "for i in range(20,-20,-10):\n",
    "    print(i,end=' ')\n"
   ]
  },
  {
   "cell_type": "code",
   "execution_count": 6,
   "id": "c3615508-2e08-424c-aae6-263ad7b67417",
   "metadata": {},
   "outputs": [
    {
     "name": "stdin",
     "output_type": "stream",
     "text": [
      "Enter Number: 7\n"
     ]
    },
    {
     "name": "stdout",
     "output_type": "stream",
     "text": [
      "7*1=7\n",
      "7*2=14\n",
      "7*3=21\n",
      "7*4=28\n",
      "7*5=35\n",
      "7*6=42\n",
      "7*7=49\n",
      "7*8=56\n",
      "7*9=63\n",
      "7*10=70\n"
     ]
    }
   ],
   "source": [
    "#table \n",
    "num=eval(input(\"Enter Number:\"))\n",
    "for i in range(1,11):\n",
    "    print( f\"{num}*{i}={num*i}\"  )"
   ]
  },
  {
   "cell_type": "code",
   "execution_count": 7,
   "id": "f9d95d21-a181-4b44-9abe-c7ed9d2977f4",
   "metadata": {},
   "outputs": [
    {
     "name": "stdin",
     "output_type": "stream",
     "text": [
      "Enter Number: 75\n"
     ]
    },
    {
     "name": "stdout",
     "output_type": "stream",
     "text": [
      "1 3 5 15 25 75 "
     ]
    }
   ],
   "source": [
    "#find the number of divisor of 75\n",
    "num=eval(input(\"Enter Number:\"))\n",
    "for i in range(1,num+1):\n",
    "    if num%i==0:\n",
    "        print(i,end=' ')"
   ]
  },
  {
   "cell_type": "markdown",
   "id": "9f7bf203-2982-401b-a358-ac7b4db98cfd",
   "metadata": {},
   "source": [
    "**summation wrapper**\n",
    "\n",
    "- starting we intialise the sum value =0\n",
    "\n",
    "- inside the we will add a simple line : summ=summ+i"
   ]
  },
  {
   "cell_type": "code",
   "execution_count": 10,
   "id": "15f4d5d4-2a2b-47dc-b29f-faea90ca9378",
   "metadata": {},
   "outputs": [
    {
     "name": "stdout",
     "output_type": "stream",
     "text": [
      "55\n"
     ]
    }
   ],
   "source": [
    "# sum of 10 natural number\n",
    "summ=0\n",
    "for i in range(1,11):\n",
    "    summ+=i\n",
    "print(summ)"
   ]
  },
  {
   "cell_type": "code",
   "execution_count": 13,
   "id": "6b3dd213-893f-4e10-865a-6c7f9f3bda86",
   "metadata": {},
   "outputs": [
    {
     "name": "stdin",
     "output_type": "stream",
     "text": [
      "enter number: 75\n"
     ]
    },
    {
     "name": "stdout",
     "output_type": "stream",
     "text": [
      "124\n"
     ]
    }
   ],
   "source": [
    "# find the sum of divisor of 75\n",
    "num=eval(input(\"enter number:\"))\n",
    "summ=0\n",
    "for i in range(1,num+1):\n",
    "    if num%i==0:        \n",
    "        summ+=i\n",
    "print(summ)"
   ]
  },
  {
   "cell_type": "markdown",
   "id": "3301d76b-333f-42fb-b3af-70521f27aac5",
   "metadata": {},
   "source": [
    "**Counter wrapper**\n",
    "\n",
    "- counter means counting the success ones\n",
    "\n",
    "- count=0\n",
    "\n",
    "- for inside for loop\n",
    "\n",
    "     - count=count+1\n",
    "       "
   ]
  },
  {
   "cell_type": "code",
   "execution_count": 16,
   "id": "d80f600b-1980-468f-8841-87fed148451c",
   "metadata": {},
   "outputs": [
    {
     "name": "stdin",
     "output_type": "stream",
     "text": [
      "Enter Number: 75\n"
     ]
    },
    {
     "name": "stdout",
     "output_type": "stream",
     "text": [
      "6\n"
     ]
    }
   ],
   "source": [
    "# find the no.of divisors\n",
    "\n",
    "num=eval(input(\"Enter Number:\"))\n",
    "count=0\n",
    "for i in range(1,num+1):\n",
    "    if num%i==0:\n",
    "        \n",
    "        count+=1\n",
    "print(count)"
   ]
  },
  {
   "cell_type": "code",
   "execution_count": 23,
   "id": "9a35dc22-d339-4cae-bd6b-61e42796efbc",
   "metadata": {},
   "outputs": [
    {
     "name": "stdout",
     "output_type": "stream",
     "text": [
      "33 12 87 10 41 \n",
      "\n",
      "even sum: 22\n",
      "even count 2\n",
      "odd sum 161\n",
      "odd count 3\n"
     ]
    }
   ],
   "source": [
    "# as the user get 5 random number\n",
    "from random import randint as rt\n",
    "even_count,even_sum=0,0\n",
    "odd_count,odd_sum=0,0\n",
    "for i in range(5):\n",
    "    num=rt(1,100)\n",
    "    print(num,end=' ')\n",
    "    if num%2==0:\n",
    "        \n",
    "        even_sum+=num\n",
    "        even_count+=1\n",
    "    else:\n",
    "        \n",
    "        odd_sum+=num\n",
    "        odd_count+=1\n",
    "print(\"\\n\")    \n",
    "print(\"even sum:\",even_sum)\n",
    "print(\"even count\",even_count)\n",
    "print(\"odd sum\",odd_sum)\n",
    "print(\"odd count\",odd_count)"
   ]
  },
  {
   "cell_type": "code",
   "execution_count": 29,
   "id": "3d92e33b-a7bc-4480-8600-34a367c96b3f",
   "metadata": {},
   "outputs": [
    {
     "name": "stdin",
     "output_type": "stream",
     "text": [
      "Enter Number: 6\n"
     ]
    },
    {
     "name": "stdout",
     "output_type": "stream",
     "text": [
      "random number: 9\n",
      "Fail\n"
     ]
    },
    {
     "name": "stdin",
     "output_type": "stream",
     "text": [
      "Enter Number: 4\n"
     ]
    },
    {
     "name": "stdout",
     "output_type": "stream",
     "text": [
      "random number: 2\n",
      "Fail\n"
     ]
    },
    {
     "name": "stdin",
     "output_type": "stream",
     "text": [
      "Enter Number: 2\n"
     ]
    },
    {
     "name": "stdout",
     "output_type": "stream",
     "text": [
      "random number: 7\n",
      "Fail\n"
     ]
    }
   ],
   "source": [
    "# game program \n",
    "# user enter one num\n",
    "# another number generate randonly\n",
    "# if both are equal you won \n",
    "# else you lost\n",
    "from random import randint as rt\n",
    "\n",
    "for i in range(3):\n",
    "    number=eval(input(\"Enter Number:\"))\n",
    "    ran_num=rt(1,10)\n",
    "    print(\"random number:\",ran_num)\n",
    "    if number==ran_num:\n",
    "        print(\"WON\")\n",
    "        break\n",
    "    else:\n",
    "        print(\"Fail\")"
   ]
  },
  {
   "cell_type": "code",
   "execution_count": 30,
   "id": "674d159e-2b0a-46c2-b5b5-329becf3968d",
   "metadata": {},
   "outputs": [],
   "source": [
    "# case-1 : we apply break == completed\n",
    "# case-2 : whenever the user enter the wrong answer\n",
    "\n",
    "\n",
    "# case-3: if you lost all the chances\n",
    "        # print try after 24 hours times"
   ]
  },
  {
   "cell_type": "code",
   "execution_count": 38,
   "id": "8208bf29-a2c5-495a-a124-7c2244416ca5",
   "metadata": {},
   "outputs": [
    {
     "name": "stdin",
     "output_type": "stream",
     "text": [
      "Enter Number: 3\n"
     ]
    },
    {
     "name": "stdout",
     "output_type": "stream",
     "text": [
      "random number: 8\n",
      "Fail\n",
      "2 attempt left\n"
     ]
    },
    {
     "name": "stdin",
     "output_type": "stream",
     "text": [
      "Enter Number: 5\n"
     ]
    },
    {
     "name": "stdout",
     "output_type": "stream",
     "text": [
      "random number: 7\n",
      "Fail\n",
      "1 attempt left\n"
     ]
    },
    {
     "name": "stdin",
     "output_type": "stream",
     "text": [
      "Enter Number: 6\n"
     ]
    },
    {
     "name": "stdout",
     "output_type": "stream",
     "text": [
      "random number: 8\n",
      "Fail\n",
      "0 attempt left\n"
     ]
    }
   ],
   "source": [
    "# case-2\n",
    "from random import randint as rt\n",
    "count=0\n",
    "for i in range(3):\n",
    "    number=eval(input(\"Enter Number:\"))\n",
    "    ran_num=rt(1,10)\n",
    "    print(\"random number:\",ran_num)\n",
    "    if number==ran_num:\n",
    "        print(\"WON\")\n",
    "        break\n",
    "    else:\n",
    "        count+=1\n",
    "        print(\"Fail\")\n",
    "        print(f\"{3-count} attempt left\")"
   ]
  },
  {
   "cell_type": "code",
   "execution_count": 39,
   "id": "8921c53e-9c45-448d-99dc-c5a2d0474a11",
   "metadata": {},
   "outputs": [
    {
     "name": "stdin",
     "output_type": "stream",
     "text": [
      "Enter Number: 3\n"
     ]
    },
    {
     "name": "stdout",
     "output_type": "stream",
     "text": [
      "random number: 7\n",
      "Fail\n",
      "2 attempt left\n"
     ]
    },
    {
     "name": "stdin",
     "output_type": "stream",
     "text": [
      "Enter Number: 5\n"
     ]
    },
    {
     "name": "stdout",
     "output_type": "stream",
     "text": [
      "random number: 8\n",
      "Fail\n",
      "1 attempt left\n"
     ]
    },
    {
     "name": "stdin",
     "output_type": "stream",
     "text": [
      "Enter Number: 6\n"
     ]
    },
    {
     "name": "stdout",
     "output_type": "stream",
     "text": [
      "random number: 8\n",
      "Fail\n",
      "0 attempt left\n",
      "try after 24 hours later\n"
     ]
    }
   ],
   "source": [
    "# case-3\n",
    "from random import randint as rt\n",
    "count=0\n",
    "for i in range(3):\n",
    "    number=eval(input(\"Enter Number:\"))\n",
    "    ran_num=rt(1,10)\n",
    "    print(\"random number:\",ran_num)\n",
    "    if number==ran_num:\n",
    "        print(\"WON\")\n",
    "        break\n",
    "    else:\n",
    "        count+=1\n",
    "        print(\"Fail\")\n",
    "        print(f\"{3-count} attempt left\")\n",
    "        if count==3:\n",
    "            print(\"try after 24 hours later\")\n"
   ]
  },
  {
   "cell_type": "markdown",
   "id": "026aa429-abbd-4c51-b7ac-e75be2d353b7",
   "metadata": {},
   "source": [
    "**in operator**"
   ]
  },
  {
   "cell_type": "markdown",
   "id": "e97e556e-8ccb-49fb-b071-c56c5570dace",
   "metadata": {},
   "source": [
    "- in for loop we have range and in operators\n",
    "\n",
    "- range is math related word, whenever we use range it ex[ects a number inside range\n",
    "\n",
    "- in operator expects a string"
   ]
  },
  {
   "cell_type": "code",
   "execution_count": 2,
   "id": "8b68013d-236f-41b9-8dcd-088af8a506c4",
   "metadata": {},
   "outputs": [
    {
     "name": "stdout",
     "output_type": "stream",
     "text": [
      "0 1 2 3 4 5 6 7 8 9 "
     ]
    }
   ],
   "source": [
    "for i in range(10):\n",
    "    print(i,end=' ')"
   ]
  },
  {
   "cell_type": "code",
   "execution_count": 3,
   "id": "73cc391b-20c0-4374-8baf-305f3d31096f",
   "metadata": {},
   "outputs": [
    {
     "ename": "TypeError",
     "evalue": "'str' object cannot be interpreted as an integer",
     "output_type": "error",
     "traceback": [
      "\u001b[1;31m---------------------------------------------------------------------------\u001b[0m",
      "\u001b[1;31mTypeError\u001b[0m                                 Traceback (most recent call last)",
      "Cell \u001b[1;32mIn[3], line 1\u001b[0m\n\u001b[1;32m----> 1\u001b[0m \u001b[38;5;28;01mfor\u001b[39;00m i \u001b[38;5;129;01min\u001b[39;00m \u001b[38;5;28mrange\u001b[39m(\u001b[38;5;124m'\u001b[39m\u001b[38;5;124mpython\u001b[39m\u001b[38;5;124m'\u001b[39m):\n\u001b[0;32m      2\u001b[0m     \u001b[38;5;28mprint\u001b[39m(i,end\u001b[38;5;241m=\u001b[39m\u001b[38;5;124m'\u001b[39m\u001b[38;5;124m \u001b[39m\u001b[38;5;124m'\u001b[39m)\n",
      "\u001b[1;31mTypeError\u001b[0m: 'str' object cannot be interpreted as an integer"
     ]
    }
   ],
   "source": [
    "for i in range('python'):\n",
    "    print(i,end=' ')"
   ]
  },
  {
   "cell_type": "code",
   "execution_count": 4,
   "id": "085d6a17-24f3-4dbb-aaec-7c36db3ef6db",
   "metadata": {},
   "outputs": [
    {
     "name": "stdout",
     "output_type": "stream",
     "text": [
      "p y t h o n "
     ]
    }
   ],
   "source": [
    "for i in 'python':\n",
    "    print(i,end=' ')"
   ]
  },
  {
   "cell_type": "code",
   "execution_count": 6,
   "id": "f14ee26c-ab75-4185-98c7-6dd092d2ca01",
   "metadata": {},
   "outputs": [
    {
     "data": {
      "text/plain": [
       "True"
      ]
     },
     "execution_count": 6,
     "metadata": {},
     "output_type": "execute_result"
    }
   ],
   "source": [
    "'p' in 'python'\n",
    "'y' in 'python'\n",
    "'t' in 'python'\n",
    "'h' in 'python'\n",
    "'o' in 'python'\n",
    "'n' in 'python'\n",
    "\n",
    "i in 'python'"
   ]
  },
  {
   "cell_type": "markdown",
   "id": "c044623d-277b-4e02-af4e-58fcb095237b",
   "metadata": {},
   "source": [
    "**ASCII**\n",
    "- AMERICAN STANDARD CODE FOR INFORMATION INTERCHANGE"
   ]
  },
  {
   "cell_type": "code",
   "execution_count": 8,
   "id": "455b0e1b-80ef-4733-a2e0-be5a8c234d66",
   "metadata": {},
   "outputs": [
    {
     "data": {
      "text/plain": [
       "False"
      ]
     },
     "execution_count": 8,
     "metadata": {},
     "output_type": "execute_result"
    }
   ],
   "source": [
    "\n",
    "#'A'====65\n",
    "#'a'====97\n",
    "'A'>'a'"
   ]
  },
  {
   "cell_type": "markdown",
   "id": "7aae28b7-0883-40f0-b9df-8a439bade4f2",
   "metadata": {},
   "source": [
    "- How to convert char to number\n",
    "\n",
    "- Hoe to convert number to char"
   ]
  },
  {
   "cell_type": "markdown",
   "id": "0a944765-3f87-4943-bb1f-3655a58b1ec6",
   "metadata": {},
   "source": [
    "**char-ord**"
   ]
  },
  {
   "cell_type": "code",
   "execution_count": 12,
   "id": "534fce0d-94c8-40f2-9061-57c30be28a19",
   "metadata": {},
   "outputs": [
    {
     "data": {
      "text/plain": [
       "65"
      ]
     },
     "execution_count": 12,
     "metadata": {},
     "output_type": "execute_result"
    }
   ],
   "source": [
    "ord('A')"
   ]
  },
  {
   "cell_type": "code",
   "execution_count": 13,
   "id": "337c6739-b918-471e-891a-9996bc777d3f",
   "metadata": {},
   "outputs": [
    {
     "data": {
      "text/plain": [
       "'A'"
      ]
     },
     "execution_count": 13,
     "metadata": {},
     "output_type": "execute_result"
    }
   ],
   "source": [
    "chr(65)"
   ]
  },
  {
   "cell_type": "code",
   "execution_count": 14,
   "id": "6d01a922-c146-4560-ae10-8290a5ddf229",
   "metadata": {},
   "outputs": [
    {
     "data": {
      "text/plain": [
       "97"
      ]
     },
     "execution_count": 14,
     "metadata": {},
     "output_type": "execute_result"
    }
   ],
   "source": [
    "ord('a')"
   ]
  },
  {
   "cell_type": "code",
   "execution_count": 15,
   "id": "4d29131b-09aa-44ac-b0ba-6cec8578ba45",
   "metadata": {},
   "outputs": [
    {
     "data": {
      "text/plain": [
       "'a'"
      ]
     },
     "execution_count": 15,
     "metadata": {},
     "output_type": "execute_result"
    }
   ],
   "source": [
    "chr(97)"
   ]
  },
  {
   "cell_type": "markdown",
   "id": "b544c975-092e-41f0-b89c-df8eb10bd8da",
   "metadata": {},
   "source": [
    "- so **ord** converting char to number\n",
    "\n",
    "- **chr** converting the number to char"
   ]
  },
  {
   "cell_type": "code",
   "execution_count": 22,
   "id": "2cf749a0-d5de-4372-83e4-790a102bac75",
   "metadata": {},
   "outputs": [
    {
     "name": "stdout",
     "output_type": "stream",
     "text": [
      "A:65\n",
      "B:66\n",
      "C:67\n",
      "D:68\n",
      "E:69\n",
      "F:70\n",
      "G:71\n",
      "H:72\n",
      "I:73\n",
      "J:74\n",
      "K:75\n",
      "L:76\n",
      "M:77\n",
      "N:78\n",
      "O:79\n",
      "P:80\n",
      "Q:81\n",
      "R:82\n",
      "S:83\n",
      "T:84\n",
      "U:85\n",
      "V:86\n",
      "W:87\n",
      "X:88\n",
      "Y:89\n",
      "Z:90\n"
     ]
    }
   ],
   "source": [
    "#wap ask the user get the ascii number from a to z\n",
    "#print: A;65,  B:66\n",
    "\n",
    "for i in 'ABCDEFGHIJKLMNOPQRSTUVWXYZ':\n",
    "    print(f'{i}:{ord(i)}' )"
   ]
  },
  {
   "cell_type": "markdown",
   "id": "e9d89b82-d310-4f9b-8b0a-5a8f66a43d8c",
   "metadata": {},
   "source": [
    "**package : String**"
   ]
  },
  {
   "cell_type": "code",
   "execution_count": null,
   "id": "4e7433e2-ea22-4a8d-8aaf-281d78742318",
   "metadata": {},
   "outputs": [],
   "source": [
    "import <packagename>\n",
    "dir(<packagename>)\n",
    "in that A to Z will be given by one method"
   ]
  },
  {
   "cell_type": "code",
   "execution_count": 23,
   "id": "03c742ed-5beb-4646-ad7a-ba6876c76766",
   "metadata": {},
   "outputs": [],
   "source": [
    "import string"
   ]
  },
  {
   "cell_type": "code",
   "execution_count": 24,
   "id": "1a55385f-54c7-4b4e-b731-36378fd37ac7",
   "metadata": {},
   "outputs": [
    {
     "data": {
      "text/plain": [
       "['Formatter',\n",
       " 'Template',\n",
       " '_ChainMap',\n",
       " '__all__',\n",
       " '__builtins__',\n",
       " '__cached__',\n",
       " '__doc__',\n",
       " '__file__',\n",
       " '__loader__',\n",
       " '__name__',\n",
       " '__package__',\n",
       " '__spec__',\n",
       " '_re',\n",
       " '_sentinel_dict',\n",
       " '_string',\n",
       " 'ascii_letters',\n",
       " 'ascii_lowercase',\n",
       " 'ascii_uppercase',\n",
       " 'capwords',\n",
       " 'digits',\n",
       " 'hexdigits',\n",
       " 'octdigits',\n",
       " 'printable',\n",
       " 'punctuation',\n",
       " 'whitespace']"
      ]
     },
     "execution_count": 24,
     "metadata": {},
     "output_type": "execute_result"
    }
   ],
   "source": [
    "dir(string)"
   ]
  },
  {
   "cell_type": "code",
   "execution_count": 25,
   "id": "e3329632-e5a9-4e6c-90d7-27312fecfbb1",
   "metadata": {},
   "outputs": [
    {
     "data": {
      "text/plain": [
       "'abcdefghijklmnopqrstuvwxyzABCDEFGHIJKLMNOPQRSTUVWXYZ'"
      ]
     },
     "execution_count": 25,
     "metadata": {},
     "output_type": "execute_result"
    }
   ],
   "source": [
    "string.ascii_letters"
   ]
  },
  {
   "cell_type": "code",
   "execution_count": 26,
   "id": "9c615410-8de0-415e-b0e1-a74f3b0d67f2",
   "metadata": {},
   "outputs": [
    {
     "data": {
      "text/plain": [
       "'abcdefghijklmnopqrstuvwxyz'"
      ]
     },
     "execution_count": 26,
     "metadata": {},
     "output_type": "execute_result"
    }
   ],
   "source": [
    "string.ascii_lowercase"
   ]
  },
  {
   "cell_type": "code",
   "execution_count": 27,
   "id": "719f817b-85e9-44ff-9ada-ed20a0c97079",
   "metadata": {},
   "outputs": [
    {
     "data": {
      "text/plain": [
       "'ABCDEFGHIJKLMNOPQRSTUVWXYZ'"
      ]
     },
     "execution_count": 27,
     "metadata": {},
     "output_type": "execute_result"
    }
   ],
   "source": [
    "string.ascii_uppercase"
   ]
  },
  {
   "cell_type": "code",
   "execution_count": 28,
   "id": "5cc76433-708b-4008-befe-b3f53ccab52c",
   "metadata": {},
   "outputs": [
    {
     "data": {
      "text/plain": [
       "'0123456789'"
      ]
     },
     "execution_count": 28,
     "metadata": {},
     "output_type": "execute_result"
    }
   ],
   "source": [
    "string.digits"
   ]
  },
  {
   "cell_type": "code",
   "execution_count": 30,
   "id": "b3504e27-e9d9-48d2-8320-3cee942b5806",
   "metadata": {},
   "outputs": [
    {
     "name": "stdout",
     "output_type": "stream",
     "text": [
      "A:65 B:66 C:67 D:68 E:69 F:70 G:71 H:72 I:73 J:74 K:75 L:76 M:77 N:78 O:79 P:80 Q:81 R:82 S:83 T:84 U:85 V:86 W:87 X:88 Y:89 Z:90 "
     ]
    }
   ],
   "source": [
    "for i in string.ascii_uppercase:\n",
    "    print(f'{i}:{ord(i)}',end=' ')"
   ]
  },
  {
   "cell_type": "code",
   "execution_count": 31,
   "id": "758a492b-beff-4f57-b1d8-2fdfe625f1fd",
   "metadata": {},
   "outputs": [
    {
     "name": "stdout",
     "output_type": "stream",
     "text": [
      "a:97 b:98 c:99 d:100 e:101 f:102 g:103 h:104 i:105 j:106 k:107 l:108 m:109 n:110 o:111 p:112 q:113 r:114 s:115 t:116 u:117 v:118 w:119 x:120 y:121 z:122 "
     ]
    }
   ],
   "source": [
    "for i in string.ascii_lowercase:\n",
    "    print(f'{i}:{ord(i)}',end=' ')"
   ]
  },
  {
   "cell_type": "code",
   "execution_count": 33,
   "id": "9550b491-ec25-4feb-8780-d79faf51fa89",
   "metadata": {},
   "outputs": [
    {
     "data": {
      "text/plain": [
       "<function string.capwords(s, sep=None)>"
      ]
     },
     "execution_count": 33,
     "metadata": {},
     "output_type": "execute_result"
    }
   ],
   "source": [
    "string.capwords"
   ]
  },
  {
   "cell_type": "code",
   "execution_count": 34,
   "id": "a8db806b-5b5f-4c62-84e6-ef0907b80d01",
   "metadata": {},
   "outputs": [
    {
     "data": {
      "text/plain": [
       "'!\"#$%&\\'()*+,-./:;<=>?@[\\\\]^_`{|}~'"
      ]
     },
     "execution_count": 34,
     "metadata": {},
     "output_type": "execute_result"
    }
   ],
   "source": [
    "string.punctuation"
   ]
  },
  {
   "cell_type": "code",
   "execution_count": 36,
   "id": "9f3540ba-21d9-4a6f-9adb-08ecfe5381f3",
   "metadata": {},
   "outputs": [
    {
     "name": "stdout",
     "output_type": "stream",
     "text": [
      "!:33\n",
      "\":34\n",
      "#:35\n",
      "$:36\n",
      "%:37\n",
      "&:38\n",
      "':39\n",
      "(:40\n",
      "):41\n",
      "*:42\n",
      "+:43\n",
      ",:44\n",
      "-:45\n",
      ".:46\n",
      "/:47\n",
      "::58\n",
      ";:59\n",
      "<:60\n",
      "=:61\n",
      ">:62\n",
      "?:63\n",
      "@:64\n",
      "[:91\n",
      "\\:92\n",
      "]:93\n",
      "^:94\n",
      "_:95\n",
      "`:96\n",
      "{:123\n",
      "|:124\n",
      "}:125\n",
      "~:126\n"
     ]
    }
   ],
   "source": [
    "for i in string.punctuation:\n",
    "    print(f'{i}:{ord(i)}')"
   ]
  },
  {
   "cell_type": "code",
   "execution_count": 37,
   "id": "3e4232d4-6c3d-45f3-bc26-049fbf89ad15",
   "metadata": {},
   "outputs": [
    {
     "name": "stdout",
     "output_type": "stream",
     "text": [
      "33:!\n",
      "34:\"\n",
      "35:#\n",
      "36:$\n",
      "37:%\n",
      "38:&\n",
      "39:'\n",
      "40:(\n",
      "41:)\n",
      "42:*\n",
      "43:+\n",
      "44:,\n",
      "45:-\n",
      "46:.\n",
      "47:/\n",
      "48:0\n",
      "49:1\n",
      "50:2\n",
      "51:3\n",
      "52:4\n",
      "53:5\n",
      "54:6\n",
      "55:7\n",
      "56:8\n",
      "57:9\n",
      "58::\n",
      "59:;\n",
      "60:<\n",
      "61:=\n",
      "62:>\n",
      "63:?\n",
      "64:@\n",
      "65:A\n",
      "66:B\n",
      "67:C\n",
      "68:D\n",
      "69:E\n",
      "70:F\n",
      "71:G\n",
      "72:H\n",
      "73:I\n",
      "74:J\n",
      "75:K\n",
      "76:L\n",
      "77:M\n",
      "78:N\n",
      "79:O\n",
      "80:P\n",
      "81:Q\n",
      "82:R\n",
      "83:S\n",
      "84:T\n",
      "85:U\n",
      "86:V\n",
      "87:W\n",
      "88:X\n",
      "89:Y\n",
      "90:Z\n",
      "91:[\n",
      "92:\\\n",
      "93:]\n",
      "94:^\n",
      "95:_\n",
      "96:`\n",
      "97:a\n",
      "98:b\n",
      "99:c\n",
      "100:d\n",
      "101:e\n",
      "102:f\n",
      "103:g\n",
      "104:h\n",
      "105:i\n",
      "106:j\n",
      "107:k\n",
      "108:l\n",
      "109:m\n",
      "110:n\n",
      "111:o\n",
      "112:p\n",
      "113:q\n",
      "114:r\n",
      "115:s\n",
      "116:t\n",
      "117:u\n",
      "118:v\n",
      "119:w\n",
      "120:x\n",
      "121:y\n",
      "122:z\n",
      "123:{\n",
      "124:|\n",
      "125:}\n",
      "126:~\n"
     ]
    }
   ],
   "source": [
    "for i in range(33,127):\n",
    "    print(f'{i}:{chr(i)}')"
   ]
  },
  {
   "cell_type": "code",
   "execution_count": 39,
   "id": "69df43c7-c674-4768-8e1c-e3a8997685bc",
   "metadata": {},
   "outputs": [
    {
     "name": "stdout",
     "output_type": "stream",
     "text": [
      "0:\u0000\n",
      "1:\u0001\n",
      "2:\u0002\n",
      "3:\u0003\n",
      "4:\u0004\n",
      "5:\u0005\n",
      "6:\u0006\n",
      "7:\u0007\n",
      "8\n",
      "9:\t\n",
      "10:\n",
      "\n",
      "11:\u000b",
      "\n",
      "12:\f",
      "\n",
      "13:\n",
      "14:\u000e\n",
      "15:\u000f\n",
      "16:\u0010\n",
      "17:\u0011\n",
      "18:\u0012\n",
      "19:\u0013\n",
      "20:\u0014\n",
      "21:\u0015\n",
      "22:\u0016\n",
      "23:\u0017\n",
      "24:\u0018\n",
      "25:\u0019\n",
      "26:\u001a\n",
      "27:\u001b\n",
      "28:\u001c",
      "\n",
      "29:\u001d",
      "\n",
      "30:\u001e",
      "\n",
      "31:\u001f\n",
      "32: \n"
     ]
    }
   ],
   "source": [
    "for i in range(0,33):\n",
    "    print(f'{i}:{chr(i)}')"
   ]
  },
  {
   "cell_type": "code",
   "execution_count": 46,
   "id": "0a018374-b144-4d73-93aa-ce8041c94469",
   "metadata": {},
   "outputs": [
    {
     "name": "stdout",
     "output_type": "stream",
     "text": [
      "3077:అ\n",
      "3078:ఆ\n",
      "3079:ఇ\n",
      "3080:ఈ\n",
      "3081:ఉ\n",
      "3082:ఊ\n",
      "3083:ఋ\n",
      "3084:ఌ\n",
      "3085:఍\n",
      "3086:ఎ\n",
      "3087:ఏ\n",
      "3088:ఐ\n",
      "3089:఑\n",
      "3090:ఒ\n",
      "3091:ఓ\n",
      "3092:ఔ\n",
      "3093:క\n",
      "3094:ఖ\n",
      "3095:గ\n",
      "3096:ఘ\n",
      "3097:ఙ\n",
      "3098:చ\n",
      "3099:ఛ\n",
      "3100:జ\n",
      "3101:ఝ\n",
      "3102:ఞ\n",
      "3103:ట\n",
      "3104:ఠ\n",
      "3105:డ\n",
      "3106:ఢ\n",
      "3107:ణ\n",
      "3108:త\n",
      "3109:థ\n",
      "3110:ద\n",
      "3111:ధ\n",
      "3112:న\n",
      "3113:఩\n",
      "3114:ప\n",
      "3115:ఫ\n",
      "3116:బ\n",
      "3117:భ\n",
      "3118:మ\n",
      "3119:య\n",
      "3120:ర\n",
      "3121:ఱ\n",
      "3122:ల\n",
      "3123:ళ\n",
      "3124:ఴ\n",
      "3125:వ\n",
      "3126:శ\n",
      "3127:ష\n",
      "3128:స\n",
      "3129:హ\n",
      "3130:఺\n",
      "3131:఻\n",
      "3132:఼\n",
      "3133:ఽ\n",
      "3134:ా\n",
      "3135:ి\n",
      "3136:ీ\n",
      "3137:ు\n",
      "3138:ూ\n",
      "3139:ృ\n",
      "3140:ౄ\n",
      "3141:౅\n",
      "3142:ె\n",
      "3143:ే\n",
      "3144:ై\n",
      "3145:౉\n",
      "3146:ొ\n",
      "3147:ో\n",
      "3148:ౌ\n",
      "3149:్\n"
     ]
    }
   ],
   "source": [
    "for i in range(3077,3150):\n",
    "    print(f'{i}:{chr(i)}')"
   ]
  },
  {
   "cell_type": "code",
   "execution_count": null,
   "id": "274427ec-6c3d-475b-bbad-07b4a8779c45",
   "metadata": {},
   "outputs": [],
   "source": []
  },
  {
   "cell_type": "code",
   "execution_count": null,
   "id": "36bfbb0d-855a-450f-ab8b-58d4520d9148",
   "metadata": {},
   "outputs": [],
   "source": []
  },
  {
   "cell_type": "code",
   "execution_count": null,
   "id": "48220059-d6b7-4d08-8765-f672e7feb305",
   "metadata": {},
   "outputs": [],
   "source": []
  }
 ],
 "metadata": {
  "kernelspec": {
   "display_name": "Python 3 (ipykernel)",
   "language": "python",
   "name": "python3"
  },
  "language_info": {
   "codemirror_mode": {
    "name": "ipython",
    "version": 3
   },
   "file_extension": ".py",
   "mimetype": "text/x-python",
   "name": "python",
   "nbconvert_exporter": "python",
   "pygments_lexer": "ipython3",
   "version": "3.12.7"
  }
 },
 "nbformat": 4,
 "nbformat_minor": 5
}
