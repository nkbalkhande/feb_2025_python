{
 "cells": [
  {
   "cell_type": "markdown",
   "id": "283f0b97-eaa0-47b4-99df-9153d63abbaa",
   "metadata": {},
   "source": [
    "## while loop "
   ]
  },
  {
   "cell_type": "markdown",
   "id": "7878c9dd-d8c3-4f8c-a48d-b63a3fa3f91a",
   "metadata": {},
   "source": [
    "- initialization to start\n",
    "\n",
    "- increment or decrement\n",
    "\n",
    "- condition to stop"
   ]
  },
  {
   "cell_type": "markdown",
   "id": "d0cd3280-4272-483a-918c-f9d0a6fe7a3e",
   "metadata": {},
   "source": [
    "for i in range(1,10)\n",
    "\n",
    "- in a single line we have start=1,increment +1 end=10-1"
   ]
  },
  {
   "cell_type": "code",
   "execution_count": null,
   "id": "85002af8-b52c-4c2d-a4af-b446b3ef5275",
   "metadata": {},
   "outputs": [],
   "source": [
    "<initialization>\n",
    "\n",
    "while <condition>:\n",
    "    #=====python\n",
    "    increment/decrement\n"
   ]
  },
  {
   "cell_type": "code",
   "execution_count": 2,
   "id": "81533156-70db-4767-9a86-62d819ae2bfc",
   "metadata": {},
   "outputs": [
    {
     "name": "stdout",
     "output_type": "stream",
     "text": [
      "1\n",
      "2\n",
      "3\n",
      "4\n",
      "5\n",
      "6\n",
      "7\n",
      "8\n",
      "9\n"
     ]
    }
   ],
   "source": [
    "i=1\n",
    "while i<10:\n",
    "    print(i)\n",
    "    i+=1\n",
    "# step1: i=1 while 1<10 T i++\n",
    "# step2: i=2 while 2<10 T i++\n",
    "# and so on\n",
    "# i=10 while 10<10 F\n"
   ]
  },
  {
   "cell_type": "code",
   "execution_count": 3,
   "id": "98f34a67-a38b-4bb4-89ab-6ce017e03514",
   "metadata": {},
   "outputs": [],
   "source": [
    "# #wap print 1 to 10\n",
    "# 2] print 10 to 1\n",
    "# 3] print -1 to 1=-10\n",
    "# # 4] -10 to -1\n"
   ]
  },
  {
   "cell_type": "code",
   "execution_count": 4,
   "id": "4a41e4a2-0d7a-4f8f-a7d8-f42c2919b3e9",
   "metadata": {},
   "outputs": [
    {
     "name": "stdout",
     "output_type": "stream",
     "text": [
      "10 9 8 7 6 5 4 3 2 1 "
     ]
    }
   ],
   "source": [
    "# 2] print 10 to 1\n",
    "i=10\n",
    "while i>0:\n",
    "    print(i,end=' ')\n",
    "    i-=1"
   ]
  },
  {
   "cell_type": "code",
   "execution_count": 6,
   "id": "9bcd3729-c848-433a-9fc7-8e6671509779",
   "metadata": {},
   "outputs": [
    {
     "name": "stdout",
     "output_type": "stream",
     "text": [
      "-1 -2 -3 -4 -5 -6 -7 -8 -9 -10 "
     ]
    }
   ],
   "source": [
    "# 3] print -1 to -10\n",
    "i=-1\n",
    "while i>=-10:\n",
    "    print(i,end=' ')\n",
    "    i-=1\n",
    "    "
   ]
  },
  {
   "cell_type": "code",
   "execution_count": 7,
   "id": "e232c465-cd8f-485d-9fa0-de32ec025980",
   "metadata": {},
   "outputs": [
    {
     "name": "stdout",
     "output_type": "stream",
     "text": [
      "-10 -9 -8 -7 -6 -5 -4 -3 -2 -1 "
     ]
    }
   ],
   "source": [
    "# # 4] -10 to -1\n",
    "i=-10\n",
    "while i<=-1:\n",
    "    print(i,end=' ')\n",
    "    i+=1"
   ]
  },
  {
   "cell_type": "code",
   "execution_count": 8,
   "id": "a1e099f1-db30-42f2-9192-2d3cdc731e05",
   "metadata": {},
   "outputs": [
    {
     "name": "stdout",
     "output_type": "stream",
     "text": [
      "10 9 8 7 6 5 4 3 2 1 "
     ]
    }
   ],
   "source": [
    "i=10\n",
    "while True:\n",
    "    print(i,end=' ')\n",
    "    i-=1\n",
    "    if i==0:\n",
    "        break\n",
    "    "
   ]
  },
  {
   "cell_type": "code",
   "execution_count": 2,
   "id": "e791f293-5fe6-46a3-a5ab-56db32aa8ea1",
   "metadata": {},
   "outputs": [
    {
     "name": "stdin",
     "output_type": "stream",
     "text": [
      " 6\n"
     ]
    },
    {
     "name": "stdout",
     "output_type": "stream",
     "text": [
      "Fail\n"
     ]
    },
    {
     "name": "stdin",
     "output_type": "stream",
     "text": [
      " 4\n"
     ]
    },
    {
     "name": "stdout",
     "output_type": "stream",
     "text": [
      "Fail\n"
     ]
    },
    {
     "name": "stdin",
     "output_type": "stream",
     "text": [
      " 4\n"
     ]
    },
    {
     "name": "stdout",
     "output_type": "stream",
     "text": [
      "Won\n"
     ]
    }
   ],
   "source": [
    "from random import randint as rt\n",
    "while True:\n",
    "    num1=rt(1,10)\n",
    "    num2=eval(input())\n",
    "    if num1==num2:\n",
    "        print('Won')\n",
    "        break\n",
    "    else:\n",
    "        print('Fail')"
   ]
  },
  {
   "cell_type": "code",
   "execution_count": 1,
   "id": "10a83618-7cb7-4b98-bd3c-8e89f757fbd2",
   "metadata": {},
   "outputs": [],
   "source": [
    "# complete all for loop qns using while loop"
   ]
  },
  {
   "cell_type": "code",
   "execution_count": null,
   "id": "4469a745-13cb-4e48-a08b-6f218f9f2886",
   "metadata": {},
   "outputs": [],
   "source": []
  }
 ],
 "metadata": {
  "kernelspec": {
   "display_name": "Python 3 (ipykernel)",
   "language": "python",
   "name": "python3"
  },
  "language_info": {
   "codemirror_mode": {
    "name": "ipython",
    "version": 3
   },
   "file_extension": ".py",
   "mimetype": "text/x-python",
   "name": "python",
   "nbconvert_exporter": "python",
   "pygments_lexer": "ipython3",
   "version": "3.12.7"
  }
 },
 "nbformat": 4,
 "nbformat_minor": 5
}
