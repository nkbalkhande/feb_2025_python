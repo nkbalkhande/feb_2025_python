{
 "cells": [
  {
   "cell_type": "markdown",
   "id": "47b79614-42c0-4382-8a1b-b8cd5728c16d",
   "metadata": {},
   "source": [
    "**List Comprehension 4 method**\n"
   ]
  },
  {
   "cell_type": "code",
   "execution_count": null,
   "id": "5224e15b-15d5-452d-8e5c-a0da1b476a60",
   "metadata": {},
   "outputs": [],
   "source": [
    "#method1 : [out forloop]\n",
    "#method2 : [out forloop if]"
   ]
  },
  {
   "cell_type": "code",
   "execution_count": null,
   "id": "776c5d42-60d7-4578-94db-8533efa66800",
   "metadata": {},
   "outputs": [],
   "source": []
  },
  {
   "cell_type": "markdown",
   "id": "2ad05980-4627-4523-b00d-66459d854313",
   "metadata": {},
   "source": [
    "**Lambda Functions**\n",
    "\n",
    "- lambda function represents function in a single line\n",
    "\n",
    "- it is similar analogy to list comprehension\n",
    "\n",
    "- to reduce the time complexity will go for lambda functions"
   ]
  },
  {
   "cell_type": "markdown",
   "id": "18151696-3fb1-4b56-9a76-77f013ba0ae1",
   "metadata": {},
   "source": [
    "$pattern-1$ : function with one argument"
   ]
  },
  {
   "cell_type": "code",
   "execution_count": 1,
   "id": "0165e288-a90d-4ed3-8a0c-8bfdfd2f63fb",
   "metadata": {},
   "outputs": [
    {
     "data": {
      "text/plain": [
       "100"
      ]
     },
     "execution_count": 1,
     "metadata": {},
     "output_type": "execute_result"
    }
   ],
   "source": [
    "def mul(a):\n",
    "    return a*a\n",
    "ans=mul(10)\n",
    "ans"
   ]
  },
  {
   "cell_type": "code",
   "execution_count": 2,
   "id": "a8e4aa11-cac6-4fa5-997f-b873d61b4544",
   "metadata": {},
   "outputs": [],
   "source": [
    "# syntax: \n",
    "# function_name= Lambda <argument>:<return output>\n",
    "# in the above \n",
    "#function_name= mul\n",
    "# argument = a\n",
    "#return = a*a"
   ]
  },
  {
   "cell_type": "code",
   "execution_count": 4,
   "id": "58fbfe69-c924-42b7-af19-dcfac95e6960",
   "metadata": {},
   "outputs": [
    {
     "data": {
      "text/plain": [
       "400"
      ]
     },
     "execution_count": 4,
     "metadata": {},
     "output_type": "execute_result"
    }
   ],
   "source": [
    "mul= lambda a: a*a\n",
    "mul(20)"
   ]
  },
  {
   "cell_type": "code",
   "execution_count": 5,
   "id": "9250e498-c76e-44bd-8082-6c76e3ae2fde",
   "metadata": {},
   "outputs": [
    {
     "data": {
      "text/plain": [
       "27"
      ]
     },
     "execution_count": 5,
     "metadata": {},
     "output_type": "execute_result"
    }
   ],
   "source": [
    "def cube(a):\n",
    "    return a**3\n",
    "cube(3)"
   ]
  },
  {
   "cell_type": "code",
   "execution_count": 6,
   "id": "e327d4e4-4dcb-4693-a19c-7122f151d66a",
   "metadata": {},
   "outputs": [
    {
     "data": {
      "text/plain": [
       "27"
      ]
     },
     "execution_count": 6,
     "metadata": {},
     "output_type": "execute_result"
    }
   ],
   "source": [
    "cube= lambda a: a**3\n",
    "cube(3)"
   ]
  },
  {
   "cell_type": "code",
   "execution_count": null,
   "id": "98636f51-f8ad-4ebd-ada0-e77c68922a2d",
   "metadata": {},
   "outputs": [],
   "source": []
  },
  {
   "cell_type": "markdown",
   "id": "f2194ce3-1a0b-4035-8c73-fd43c20823c4",
   "metadata": {},
   "source": [
    "$pattern-2$: function with two argument"
   ]
  },
  {
   "cell_type": "code",
   "execution_count": 7,
   "id": "f97708f4-f0da-4197-8055-b39a7353e8d1",
   "metadata": {},
   "outputs": [
    {
     "data": {
      "text/plain": [
       "30"
      ]
     },
     "execution_count": 7,
     "metadata": {},
     "output_type": "execute_result"
    }
   ],
   "source": [
    "def add(a,b):\n",
    "    return a+b\n",
    "add(10,20)"
   ]
  },
  {
   "cell_type": "code",
   "execution_count": 8,
   "id": "c27ad14a-6a9c-4171-82dc-c1b45f906ea8",
   "metadata": {},
   "outputs": [],
   "source": [
    "#syntax:\n",
    "# function_name = lambda arg1,arg2: return statemetn"
   ]
  },
  {
   "cell_type": "code",
   "execution_count": 9,
   "id": "7fac4e6c-b843-45bb-a15d-fbcbf7450288",
   "metadata": {},
   "outputs": [
    {
     "data": {
      "text/plain": [
       "30"
      ]
     },
     "execution_count": 9,
     "metadata": {},
     "output_type": "execute_result"
    }
   ],
   "source": [
    "add=lambda a,b: a+b\n",
    "add(10,20)"
   ]
  },
  {
   "cell_type": "code",
   "execution_count": null,
   "id": "764d2130-b4d6-4bbb-87bc-56e5e0d10137",
   "metadata": {},
   "outputs": [],
   "source": []
  },
  {
   "cell_type": "markdown",
   "id": "3a90b1ac-ef20-41c4-b3c4-34365117c360",
   "metadata": {},
   "source": [
    "$pattern-3$: three argument"
   ]
  },
  {
   "cell_type": "code",
   "execution_count": 16,
   "id": "23e9fdad-072f-4f44-a8e8-249d282638e7",
   "metadata": {},
   "outputs": [
    {
     "data": {
      "text/plain": [
       "25.67"
      ]
     },
     "execution_count": 16,
     "metadata": {},
     "output_type": "execute_result"
    }
   ],
   "source": [
    "def avg(a,b,c):\n",
    "    return round((a+b+c)/3,2)\n",
    "avg(11,27,39)"
   ]
  },
  {
   "cell_type": "code",
   "execution_count": 14,
   "id": "4e619e07-d33e-436a-bf50-b9604c033b0f",
   "metadata": {},
   "outputs": [
    {
     "data": {
      "text/plain": [
       "25.67"
      ]
     },
     "execution_count": 14,
     "metadata": {},
     "output_type": "execute_result"
    }
   ],
   "source": [
    "avg = lambda a,b,c: round((a+b+c)/3,2)\n",
    "avg(11,27,39)"
   ]
  },
  {
   "cell_type": "code",
   "execution_count": null,
   "id": "dbc42be4-af33-481d-9623-63c530e378a2",
   "metadata": {},
   "outputs": [],
   "source": []
  },
  {
   "cell_type": "markdown",
   "id": "a9c2ab24-c430-4b46-837b-c47a1d80f8f8",
   "metadata": {},
   "source": [
    "$pattern-4$: default argument"
   ]
  },
  {
   "cell_type": "code",
   "execution_count": 17,
   "id": "e7c667ad-6561-40f0-b05b-125cffed9bce",
   "metadata": {},
   "outputs": [
    {
     "data": {
      "text/plain": [
       "25.67"
      ]
     },
     "execution_count": 17,
     "metadata": {},
     "output_type": "execute_result"
    }
   ],
   "source": [
    "avg = lambda a,b,c=39: round((a+b+c)/3,2)\n",
    "avg(11,27)"
   ]
  },
  {
   "cell_type": "code",
   "execution_count": null,
   "id": "538e7382-17c3-43a6-854d-f13718b60b02",
   "metadata": {},
   "outputs": [],
   "source": []
  },
  {
   "cell_type": "code",
   "execution_count": 18,
   "id": "e9c07a93-1e80-419c-a86c-49138183b92d",
   "metadata": {},
   "outputs": [],
   "source": [
    "# do all together \n",
    "mul= lambda a: a*a\n",
    "add=lambda a,b: a+b\n",
    "avg = lambda a,b,c: round((a+b+c)/3,2)\n",
    "avg = lambda a,b,c=39: round((a+b+c)/3,2)"
   ]
  },
  {
   "cell_type": "code",
   "execution_count": null,
   "id": "749972ad-9432-4fd3-84b0-59748e03f68a",
   "metadata": {},
   "outputs": [],
   "source": []
  },
  {
   "cell_type": "code",
   "execution_count": null,
   "id": "55479be2-5dbc-4fc9-a8a8-220b9f18ed4b",
   "metadata": {},
   "outputs": [],
   "source": []
  },
  {
   "cell_type": "markdown",
   "id": "d73df839-6d54-4fa1-a759-23554d4fd2db",
   "metadata": {},
   "source": [
    "$pattern-5$: List cases"
   ]
  },
  {
   "cell_type": "code",
   "execution_count": 20,
   "id": "bea65d22-d2bb-47db-9024-76f4d59f9596",
   "metadata": {},
   "outputs": [
    {
     "data": {
      "text/plain": [
       "['Hyd', 'Beng', 'Mumbai', 'Pune']"
      ]
     },
     "execution_count": 20,
     "metadata": {},
     "output_type": "execute_result"
    }
   ],
   "source": [
    "input1=['hyd','beng','mumbai','pune']\n",
    "l1=[]\n",
    "for i in input1:\n",
    "    l1.append(i.capitalize())\n",
    "l1    "
   ]
  },
  {
   "cell_type": "code",
   "execution_count": 22,
   "id": "e0580647-8966-4ea2-a0e5-a005bf2867a8",
   "metadata": {},
   "outputs": [
    {
     "data": {
      "text/plain": [
       "['Hyd', 'Beng', 'Mumbai', 'Pune']"
      ]
     },
     "execution_count": 22,
     "metadata": {},
     "output_type": "execute_result"
    }
   ],
   "source": [
    "out=[i.capitalize() for i in input1]\n",
    "out"
   ]
  },
  {
   "cell_type": "code",
   "execution_count": null,
   "id": "43737f73-94b3-42f7-af23-614512586628",
   "metadata": {},
   "outputs": [],
   "source": []
  },
  {
   "cell_type": "code",
   "execution_count": 27,
   "id": "d3f469a7-6438-425a-ab4e-2a518df04d8e",
   "metadata": {},
   "outputs": [
    {
     "data": {
      "text/plain": [
       "<function __main__.<lambda>(i)>"
      ]
     },
     "execution_count": 27,
     "metadata": {},
     "output_type": "execute_result"
    }
   ],
   "source": [
    "#step1: lambda <variable>: <output>\n",
    "lambda i : i.capitalize()"
   ]
  },
  {
   "cell_type": "code",
   "execution_count": 28,
   "id": "54424e63-f755-49ad-8466-c42497b7ec45",
   "metadata": {},
   "outputs": [
    {
     "data": {
      "text/plain": [
       "(<function __main__.<lambda>(i)>, ['hyd', 'beng', 'mumbai', 'pune'])"
      ]
     },
     "execution_count": 28,
     "metadata": {},
     "output_type": "execute_result"
    }
   ],
   "source": [
    "#step-2: lambda <variable>: <output>,<iterator>\n",
    "lambda i : i.capitalize(),input1"
   ]
  },
  {
   "cell_type": "code",
   "execution_count": 29,
   "id": "88101155-b3af-4e1e-923b-bd53b1e0cf41",
   "metadata": {},
   "outputs": [
    {
     "data": {
      "text/plain": [
       "<map at 0x1b338393250>"
      ]
     },
     "execution_count": 29,
     "metadata": {},
     "output_type": "execute_result"
    }
   ],
   "source": [
    "#step-3: map(lambda <variable>: <output>,<iterator>)\n",
    "map(lambda i : i.capitalize(),input1)"
   ]
  },
  {
   "cell_type": "code",
   "execution_count": 31,
   "id": "993b4b6d-497d-4f96-8fae-97f4fff6f164",
   "metadata": {},
   "outputs": [
    {
     "data": {
      "text/plain": [
       "['Hyd', 'Beng', 'Mumbai', 'Pune']"
      ]
     },
     "execution_count": 31,
     "metadata": {},
     "output_type": "execute_result"
    }
   ],
   "source": [
    "#step-4: list(map(lambda <variable>: <output>,<iterator>))\n",
    "list(map(lambda i : i.capitalize(),input1))"
   ]
  },
  {
   "cell_type": "code",
   "execution_count": null,
   "id": "d7e9c08f-2fff-4d0f-95b2-c28959758447",
   "metadata": {},
   "outputs": [],
   "source": []
  },
  {
   "cell_type": "code",
   "execution_count": null,
   "id": "68d0d138-afa2-4c9c-b707-566d4b03de17",
   "metadata": {},
   "outputs": [],
   "source": []
  },
  {
   "cell_type": "code",
   "execution_count": null,
   "id": "015ee854-4ffd-4bb9-b286-1a7e7c89b083",
   "metadata": {},
   "outputs": [],
   "source": []
  },
  {
   "cell_type": "code",
   "execution_count": 33,
   "id": "f5c9f410-2c48-4b41-a59c-e5c3a72c6652",
   "metadata": {},
   "outputs": [
    {
     "data": {
      "text/plain": [
       "['HYD', 'BENG', 'MUMBAI', 'PUNE']"
      ]
     },
     "execution_count": 33,
     "metadata": {},
     "output_type": "execute_result"
    }
   ],
   "source": [
    "input1=['hyd','beng','mumbai','pune']\n",
    "#upper case\n",
    "a=list(map(lambda i:i.upper(),input1))\n",
    "a\n"
   ]
  },
  {
   "cell_type": "code",
   "execution_count": 36,
   "id": "36d289ee-a9dd-405e-b614-795d57fdb135",
   "metadata": {},
   "outputs": [
    {
     "data": {
      "text/plain": [
       "[0, 1, 2, 3]"
      ]
     },
     "execution_count": 36,
     "metadata": {},
     "output_type": "execute_result"
    }
   ],
   "source": [
    "#[0,1,2,3]\n",
    "b=list(map(lambda i : input1.index(i),input1))\n",
    "b"
   ]
  },
  {
   "cell_type": "code",
   "execution_count": 38,
   "id": "282356a5-98e4-4239-b4fa-cf349d7eac3d",
   "metadata": {},
   "outputs": [
    {
     "data": {
      "text/plain": [
       "['Hello', 'How', 'Are', 'You']"
      ]
     },
     "execution_count": 38,
     "metadata": {},
     "output_type": "execute_result"
    }
   ],
   "source": [
    "input='hello how are you'\n",
    "#['Hello','How','Are','You']\n",
    "c=list(map(lambda i: i.capitalize(),input.split()))\n",
    "c"
   ]
  },
  {
   "cell_type": "code",
   "execution_count": 59,
   "id": "1498770a-456b-46f2-a778-088a35ff398e",
   "metadata": {},
   "outputs": [
    {
     "data": {
      "text/plain": [
       "[False, True, False, True]"
      ]
     },
     "execution_count": 59,
     "metadata": {},
     "output_type": "execute_result"
    }
   ],
   "source": [
    "input1=['hyd','beng#luru','mumbai','pu#ne']\n",
    "d=list(map(lambda i:'#' in i ,input1))\n",
    "d"
   ]
  },
  {
   "cell_type": "markdown",
   "id": "91693047-0479-48e9-ac97-049fe781f835",
   "metadata": {},
   "source": [
    "**filter**\n",
    "\n",
    "- filter applied on lambda function to retrive the true output\n",
    "\n",
    "- map will just map the function and iterator\n",
    "\n",
    "- when we apply condition map will give true  false\n",
    "\n",
    "- filter will use insteds of map"
   ]
  },
  {
   "cell_type": "code",
   "execution_count": 60,
   "id": "515282cd-aff9-448e-8d47-d9c0887cc7f3",
   "metadata": {},
   "outputs": [
    {
     "data": {
      "text/plain": [
       "['beng#luru', 'pu#ne']"
      ]
     },
     "execution_count": 60,
     "metadata": {},
     "output_type": "execute_result"
    }
   ],
   "source": [
    "d=list(filter(lambda i:'#' in i ,input1))\n",
    "d"
   ]
  },
  {
   "cell_type": "code",
   "execution_count": 62,
   "id": "84ec1b78-a137-4388-a001-a0c12a92b1db",
   "metadata": {},
   "outputs": [
    {
     "data": {
      "text/plain": [
       "['hyd', 'mumbai']"
      ]
     },
     "execution_count": 62,
     "metadata": {},
     "output_type": "execute_result"
    }
   ],
   "source": [
    "d=list(filter(lambda i:'#' not in i ,input1))\n",
    "d"
   ]
  },
  {
   "cell_type": "code",
   "execution_count": null,
   "id": "53c69861-caa9-4459-a670-43f22579f4dd",
   "metadata": {},
   "outputs": [],
   "source": []
  },
  {
   "cell_type": "code",
   "execution_count": null,
   "id": "3788fc1e-0974-4914-a4ff-723ff73697bb",
   "metadata": {},
   "outputs": [],
   "source": []
  },
  {
   "cell_type": "markdown",
   "id": "3e78f7f1-7f6b-4cb2-88df-470b32e485a7",
   "metadata": {},
   "source": [
    "**reduce**\n",
    "\n",
    "- reduce will helpful to perform math opration using lambda function\n",
    "\n",
    "- it is a method under the package of called: **functools**\n",
    "\n"
   ]
  },
  {
   "cell_type": "code",
   "execution_count": 63,
   "id": "23256a10-c628-48cb-bcd0-ced6531b4132",
   "metadata": {},
   "outputs": [],
   "source": [
    "import functools"
   ]
  },
  {
   "cell_type": "code",
   "execution_count": 64,
   "id": "1b6ce082-79c1-4983-b551-64aaa1e0ddf1",
   "metadata": {},
   "outputs": [
    {
     "data": {
      "text/plain": [
       "['GenericAlias',\n",
       " 'RLock',\n",
       " 'WRAPPER_ASSIGNMENTS',\n",
       " 'WRAPPER_UPDATES',\n",
       " '_CacheInfo',\n",
       " '_HashedSeq',\n",
       " '_NOT_FOUND',\n",
       " '__all__',\n",
       " '__builtins__',\n",
       " '__cached__',\n",
       " '__doc__',\n",
       " '__file__',\n",
       " '__loader__',\n",
       " '__name__',\n",
       " '__package__',\n",
       " '__spec__',\n",
       " '_c3_merge',\n",
       " '_c3_mro',\n",
       " '_compose_mro',\n",
       " '_convert',\n",
       " '_find_impl',\n",
       " '_ge_from_gt',\n",
       " '_ge_from_le',\n",
       " '_ge_from_lt',\n",
       " '_gt_from_ge',\n",
       " '_gt_from_le',\n",
       " '_gt_from_lt',\n",
       " '_initial_missing',\n",
       " '_le_from_ge',\n",
       " '_le_from_gt',\n",
       " '_le_from_lt',\n",
       " '_lru_cache_wrapper',\n",
       " '_lt_from_ge',\n",
       " '_lt_from_gt',\n",
       " '_lt_from_le',\n",
       " '_make_key',\n",
       " '_unwrap_partial',\n",
       " 'cache',\n",
       " 'cached_property',\n",
       " 'cmp_to_key',\n",
       " 'get_cache_token',\n",
       " 'lru_cache',\n",
       " 'namedtuple',\n",
       " 'partial',\n",
       " 'partialmethod',\n",
       " 'recursive_repr',\n",
       " 'reduce',\n",
       " 'singledispatch',\n",
       " 'singledispatchmethod',\n",
       " 'total_ordering',\n",
       " 'update_wrapper',\n",
       " 'wraps']"
      ]
     },
     "execution_count": 64,
     "metadata": {},
     "output_type": "execute_result"
    }
   ],
   "source": [
    "dir(functools)"
   ]
  },
  {
   "cell_type": "code",
   "execution_count": 69,
   "id": "d7d6587e-a8ac-460a-9e46-bb35ee5411c1",
   "metadata": {},
   "outputs": [
    {
     "data": {
      "text/plain": [
       "15"
      ]
     },
     "execution_count": 69,
     "metadata": {},
     "output_type": "execute_result"
    }
   ],
   "source": [
    "from functools import reduce\n",
    "l1=[1,2,3,4,5]\n",
    "reduce(lambda summ,i: summ+i,l1)\n",
    "\n",
    "#by default summ=0"
   ]
  },
  {
   "cell_type": "code",
   "execution_count": 71,
   "id": "8facf3c7-bd10-420d-b1b4-0c7db9eef031",
   "metadata": {},
   "outputs": [
    {
     "data": {
      "text/plain": [
       "215"
      ]
     },
     "execution_count": 71,
     "metadata": {},
     "output_type": "execute_result"
    }
   ],
   "source": [
    "from functools import reduce\n",
    "l1=[1,2,3,4,5]\n",
    "\n",
    "#lambda summ,i: summ+i,l1 by default 0\n",
    "\n",
    "#lambda summ,i: summ+i,l1,200 \n",
    "\n",
    "reduce(lambda summ,i: summ+i,l1,200)\n"
   ]
  },
  {
   "cell_type": "code",
   "execution_count": null,
   "id": "9eb844b3-4080-4caf-a7da-14168abd5794",
   "metadata": {},
   "outputs": [],
   "source": []
  }
 ],
 "metadata": {
  "kernelspec": {
   "display_name": "Python 3 (ipykernel)",
   "language": "python",
   "name": "python3"
  },
  "language_info": {
   "codemirror_mode": {
    "name": "ipython",
    "version": 3
   },
   "file_extension": ".py",
   "mimetype": "text/x-python",
   "name": "python",
   "nbconvert_exporter": "python",
   "pygments_lexer": "ipython3",
   "version": "3.12.7"
  }
 },
 "nbformat": 4,
 "nbformat_minor": 5
}
