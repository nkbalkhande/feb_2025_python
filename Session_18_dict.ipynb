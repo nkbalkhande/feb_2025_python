{
 "cells": [
  {
   "cell_type": "code",
   "execution_count": 5,
   "id": "7ed86966-84af-4621-86a9-5bd214dd7f0c",
   "metadata": {},
   "outputs": [
    {
     "name": "stdout",
     "output_type": "stream",
     "text": [
      "ramesh 20\n",
      "suresh 25\n",
      "sathish 30\n"
     ]
    }
   ],
   "source": [
    "names=['ramesh','suresh','sathish']\n",
    "ages=[20,25,30]\n",
    "for i in range(len(names)):\n",
    "    print(names[i],ages[i])\n"
   ]
  },
  {
   "cell_type": "markdown",
   "id": "8c5c9334-77a1-4108-b975-3f1dc1afbaf4",
   "metadata": {},
   "source": [
    "**zip**"
   ]
  },
  {
   "cell_type": "code",
   "execution_count": 6,
   "id": "2be6c950-1ea4-4ca9-8cc6-1d1248c353a6",
   "metadata": {},
   "outputs": [
    {
     "name": "stdout",
     "output_type": "stream",
     "text": [
      "('ramesh', 20)\n",
      "('suresh', 25)\n",
      "('sathish', 30)\n"
     ]
    }
   ],
   "source": [
    "for i in zip(names,ages):\n",
    "    print(i)"
   ]
  },
  {
   "cell_type": "code",
   "execution_count": 4,
   "id": "40e5559b-ca3b-4992-8d6a-cec8ea4b4251",
   "metadata": {},
   "outputs": [
    {
     "name": "stdout",
     "output_type": "stream",
     "text": [
      "ramesh 20\n",
      "suresh 25\n",
      "sathish 30\n"
     ]
    }
   ],
   "source": [
    "for name,age in zip(names,ages):\n",
    "    print(name,age)"
   ]
  },
  {
   "cell_type": "code",
   "execution_count": 8,
   "id": "fdbb0f1b-ca48-4f78-a903-ff7ba1f3710d",
   "metadata": {},
   "outputs": [
    {
     "data": {
      "text/plain": [
       "['ramesh:20', 'suresh:25', 'sathish:30']"
      ]
     },
     "execution_count": 8,
     "metadata": {},
     "output_type": "execute_result"
    }
   ],
   "source": [
    "ls=[f'{name}:{age}' for name,age in zip(names,ages)]\n",
    "ls"
   ]
  },
  {
   "cell_type": "code",
   "execution_count": null,
   "id": "483709f0-d2a7-4925-8f3f-7bd2669b9bd6",
   "metadata": {},
   "outputs": [],
   "source": []
  },
  {
   "cell_type": "code",
   "execution_count": null,
   "id": "0bee6692-7783-4308-98bb-b50b549b144b",
   "metadata": {},
   "outputs": [],
   "source": []
  },
  {
   "cell_type": "markdown",
   "id": "27b2c7ee-77ff-497e-87ce-8f920a63bad5",
   "metadata": {},
   "source": [
    "## Dictionary"
   ]
  },
  {
   "cell_type": "markdown",
   "id": "9e05c22f-04bb-4ac0-9a21-ff2d017ba6c2",
   "metadata": {},
   "source": [
    "- above examplenames and age both are togther\n",
    "\n",
    "- we can pair them \n",
    "\n",
    "- this can happen using dictionary\n",
    "\n",
    "- dictionary is called as a **key-value** pair \n",
    "\n",
    "- it represents with curly braces : **{key:value}**\n",
    "\n",
    "- Ramesh and 20 years both are pair: {'Ramesh':20}"
   ]
  },
  {
   "cell_type": "code",
   "execution_count": 10,
   "id": "0b048006-1fe0-4571-9a20-9dfa15e88f5f",
   "metadata": {},
   "outputs": [
    {
     "data": {
      "text/plain": [
       "{'ramesh': 20, 'suresh': 25, 'sathish': 30}"
      ]
     },
     "execution_count": 10,
     "metadata": {},
     "output_type": "execute_result"
    }
   ],
   "source": [
    "d1={'ramesh':20,'suresh':25,'sathish':30}\n",
    "d1"
   ]
  },
  {
   "cell_type": "code",
   "execution_count": 11,
   "id": "2eae1ca2-c9cd-40a7-9c3e-bf5b572b33aa",
   "metadata": {},
   "outputs": [
    {
     "data": {
      "text/plain": [
       "{20: 'ramesh', 25: 'suresh', 30: 'sathish'}"
      ]
     },
     "execution_count": 11,
     "metadata": {},
     "output_type": "execute_result"
    }
   ],
   "source": [
    "d2={20:'ramesh',25:'suresh',30:'sathish'}\n",
    "d2"
   ]
  },
  {
   "cell_type": "code",
   "execution_count": 33,
   "id": "97582929-2cb8-4be2-ae45-e7939ae416f1",
   "metadata": {},
   "outputs": [
    {
     "data": {
      "text/plain": [
       "{True: 'true'}"
      ]
     },
     "execution_count": 33,
     "metadata": {},
     "output_type": "execute_result"
    }
   ],
   "source": [
    "#start your imagination   make a dictionary with many ways\n",
    "d1={'ramesh':20,'suresh':25,'sathish':30}\n",
    "d2={20:'ramesh',25:'suresh',30:'sathish'}\n",
    "d3={'nilesh':'balkhande'}\n",
    "d4={'20':'ramesh','25':'suresh','30':'sathish'}\n",
    "d5={'ramesh':10,'ramesh':30} # if both keys are same then it takes latest value\n",
    "# dictionary kind database\n",
    "d6={'ramesh':20,'ramesh':20}\n",
    "# dictionary doesnt allowed duplicates\n",
    "d7={'ramesh':20,'suresh':20}\n",
    "# keys cant be dulpicate but value can be duplicate\n",
    "d8={20:'ramesh',20:'suresh'}\n",
    "d9={True:'true'}\n",
    "d10={'fruites':['apples','banana']}\n",
    "d11={['apples','banana']:'fruites'}\n",
    "d12={'fruites':('apples','banana')}\n",
    "d13={('apples','banana'):'fruites'}"
   ]
  },
  {
   "cell_type": "code",
   "execution_count": 26,
   "id": "6051960a-5c62-421e-a0a0-0cd3f2c4a634",
   "metadata": {},
   "outputs": [
    {
     "data": {
      "text/plain": [
       "{'ramesh': 30}"
      ]
     },
     "execution_count": 26,
     "metadata": {},
     "output_type": "execute_result"
    }
   ],
   "source": [
    "d5={'ramesh':10,'ramesh':30}# if both keys are same then it takes latest value\n",
    "d5"
   ]
  },
  {
   "cell_type": "code",
   "execution_count": 28,
   "id": "19589dc7-43cd-4516-9cff-4a3634c8d3fd",
   "metadata": {},
   "outputs": [
    {
     "data": {
      "text/plain": [
       "{'ramesh': 20}"
      ]
     },
     "execution_count": 28,
     "metadata": {},
     "output_type": "execute_result"
    }
   ],
   "source": [
    "d6={'ramesh':20,'ramesh':20}\n",
    "d6"
   ]
  },
  {
   "cell_type": "code",
   "execution_count": 31,
   "id": "d7518029-67e1-4393-aad5-218e1688226e",
   "metadata": {},
   "outputs": [
    {
     "data": {
      "text/plain": [
       "{'ramesh': 20, 'suresh': 20}"
      ]
     },
     "execution_count": 31,
     "metadata": {},
     "output_type": "execute_result"
    }
   ],
   "source": [
    "d7={'ramesh':20,'suresh':20}\n",
    "d7"
   ]
  },
  {
   "cell_type": "code",
   "execution_count": 32,
   "id": "161bbf4c-6617-43b9-a5b6-2917fe1adf9e",
   "metadata": {},
   "outputs": [
    {
     "data": {
      "text/plain": [
       "{20: 'suresh'}"
      ]
     },
     "execution_count": 32,
     "metadata": {},
     "output_type": "execute_result"
    }
   ],
   "source": [
    "d8={20:'ramesh',20:'suresh'}\n",
    "d8"
   ]
  },
  {
   "cell_type": "code",
   "execution_count": 34,
   "id": "c6ce50c5-be7f-4310-9f28-764628974f64",
   "metadata": {},
   "outputs": [
    {
     "data": {
      "text/plain": [
       "{True: 'true'}"
      ]
     },
     "execution_count": 34,
     "metadata": {},
     "output_type": "execute_result"
    }
   ],
   "source": [
    "d9={True:'true'}\n",
    "d9"
   ]
  },
  {
   "cell_type": "code",
   "execution_count": 35,
   "id": "1d60326f-8d64-4c32-8430-b00d074d8a93",
   "metadata": {},
   "outputs": [
    {
     "data": {
      "text/plain": [
       "{'fruites': ['apples', 'banana']}"
      ]
     },
     "execution_count": 35,
     "metadata": {},
     "output_type": "execute_result"
    }
   ],
   "source": [
    "d10={'fruites':['apples','banana']}\n",
    "d10"
   ]
  },
  {
   "cell_type": "code",
   "execution_count": 36,
   "id": "869d280b-db93-4446-9095-c1124c6c053a",
   "metadata": {},
   "outputs": [
    {
     "ename": "TypeError",
     "evalue": "unhashable type: 'list'",
     "output_type": "error",
     "traceback": [
      "\u001b[1;31m---------------------------------------------------------------------------\u001b[0m",
      "\u001b[1;31mTypeError\u001b[0m                                 Traceback (most recent call last)",
      "Cell \u001b[1;32mIn[36], line 1\u001b[0m\n\u001b[1;32m----> 1\u001b[0m d11\u001b[38;5;241m=\u001b[39m{[\u001b[38;5;124m'\u001b[39m\u001b[38;5;124mapples\u001b[39m\u001b[38;5;124m'\u001b[39m,\u001b[38;5;124m'\u001b[39m\u001b[38;5;124mbanana\u001b[39m\u001b[38;5;124m'\u001b[39m]:\u001b[38;5;124m'\u001b[39m\u001b[38;5;124mfruites\u001b[39m\u001b[38;5;124m'\u001b[39m}\n",
      "\u001b[1;31mTypeError\u001b[0m: unhashable type: 'list'"
     ]
    }
   ],
   "source": [
    "d11={['apples','banana']:'fruites'}"
   ]
  },
  {
   "cell_type": "code",
   "execution_count": 38,
   "id": "5703d2ba-ec53-4345-ac3e-c0036565943e",
   "metadata": {},
   "outputs": [
    {
     "data": {
      "text/plain": [
       "{'fruites': ('apples', 'banana')}"
      ]
     },
     "execution_count": 38,
     "metadata": {},
     "output_type": "execute_result"
    }
   ],
   "source": [
    "d12={'fruites':('apples','banana')}\n",
    "d12"
   ]
  },
  {
   "cell_type": "code",
   "execution_count": 39,
   "id": "6da61405-bfc7-4330-bf2c-512d4dc104d5",
   "metadata": {},
   "outputs": [
    {
     "data": {
      "text/plain": [
       "{('apples', 'banana'): 'fruites'}"
      ]
     },
     "execution_count": 39,
     "metadata": {},
     "output_type": "execute_result"
    }
   ],
   "source": [
    "d13={('apples','banana'):'fruites'}\n",
    "d13"
   ]
  },
  {
   "cell_type": "code",
   "execution_count": 40,
   "id": "1db388a2-bd68-4479-bbc0-4204432e5f7b",
   "metadata": {},
   "outputs": [
    {
     "ename": "TypeError",
     "evalue": "unhashable type: 'list'",
     "output_type": "error",
     "traceback": [
      "\u001b[1;31m---------------------------------------------------------------------------\u001b[0m",
      "\u001b[1;31mTypeError\u001b[0m                                 Traceback (most recent call last)",
      "Cell \u001b[1;32mIn[40], line 2\u001b[0m\n\u001b[0;32m      1\u001b[0m d10\u001b[38;5;241m=\u001b[39m{\u001b[38;5;124m'\u001b[39m\u001b[38;5;124mfruites\u001b[39m\u001b[38;5;124m'\u001b[39m:[\u001b[38;5;124m'\u001b[39m\u001b[38;5;124mapples\u001b[39m\u001b[38;5;124m'\u001b[39m,\u001b[38;5;124m'\u001b[39m\u001b[38;5;124mbanana\u001b[39m\u001b[38;5;124m'\u001b[39m]} \u001b[38;5;66;03m#works\u001b[39;00m\n\u001b[1;32m----> 2\u001b[0m d11\u001b[38;5;241m=\u001b[39m{[\u001b[38;5;124m'\u001b[39m\u001b[38;5;124mapples\u001b[39m\u001b[38;5;124m'\u001b[39m,\u001b[38;5;124m'\u001b[39m\u001b[38;5;124mbanana\u001b[39m\u001b[38;5;124m'\u001b[39m]:\u001b[38;5;124m'\u001b[39m\u001b[38;5;124mfruites\u001b[39m\u001b[38;5;124m'\u001b[39m} \u001b[38;5;66;03m# not works\u001b[39;00m\n\u001b[0;32m      3\u001b[0m d12\u001b[38;5;241m=\u001b[39m{\u001b[38;5;124m'\u001b[39m\u001b[38;5;124mfruites\u001b[39m\u001b[38;5;124m'\u001b[39m:(\u001b[38;5;124m'\u001b[39m\u001b[38;5;124mapples\u001b[39m\u001b[38;5;124m'\u001b[39m,\u001b[38;5;124m'\u001b[39m\u001b[38;5;124mbanana\u001b[39m\u001b[38;5;124m'\u001b[39m)} \u001b[38;5;66;03m# works\u001b[39;00m\n\u001b[0;32m      4\u001b[0m d13\u001b[38;5;241m=\u001b[39m{(\u001b[38;5;124m'\u001b[39m\u001b[38;5;124mapples\u001b[39m\u001b[38;5;124m'\u001b[39m,\u001b[38;5;124m'\u001b[39m\u001b[38;5;124mbanana\u001b[39m\u001b[38;5;124m'\u001b[39m):\u001b[38;5;124m'\u001b[39m\u001b[38;5;124mfruites\u001b[39m\u001b[38;5;124m'\u001b[39m}\n",
      "\u001b[1;31mTypeError\u001b[0m: unhashable type: 'list'"
     ]
    }
   ],
   "source": [
    "d10={'fruites':['apples','banana']} #works\n",
    "d11={['apples','banana']:'fruites'} # not works\n",
    "d12={'fruites':('apples','banana')} # works\n",
    "d13={('apples','banana'):'fruites'} # works\n",
    "\n"
   ]
  },
  {
   "cell_type": "markdown",
   "id": "4d9e7e3b-79da-4e3a-8e84-ad6f2410ffb9",
   "metadata": {},
   "source": [
    "**list as key fails beacuase list has a mutable behavoiur**"
   ]
  },
  {
   "cell_type": "code",
   "execution_count": null,
   "id": "0725aa9f-c946-431a-9af6-bd18d59e9d29",
   "metadata": {},
   "outputs": [],
   "source": []
  },
  {
   "cell_type": "markdown",
   "id": "b247a33a-b77f-431f-b701-38df22d3db28",
   "metadata": {},
   "source": [
    "- if both keys are same then it takes latest value\n",
    "\n",
    "-  dictionary doesnt allowed duplicates\n",
    "\n",
    "-  keys cant be dulpicate but value can be duplicate"
   ]
  },
  {
   "cell_type": "code",
   "execution_count": 1,
   "id": "52ab26ef-942c-41e8-ae7c-3f01370bdf0d",
   "metadata": {},
   "outputs": [
    {
     "data": {
      "text/plain": [
       "{'fruites': {'apples': 20}}"
      ]
     },
     "execution_count": 1,
     "metadata": {},
     "output_type": "execute_result"
    }
   ],
   "source": [
    "d14={'fruites':{'apples':20}} #works\n",
    "d14"
   ]
  },
  {
   "cell_type": "code",
   "execution_count": 2,
   "id": "d7333f63-f9eb-4d22-b1af-70ac80f0fa2d",
   "metadata": {},
   "outputs": [
    {
     "ename": "TypeError",
     "evalue": "unhashable type: 'dict'",
     "output_type": "error",
     "traceback": [
      "\u001b[1;31m---------------------------------------------------------------------------\u001b[0m",
      "\u001b[1;31mTypeError\u001b[0m                                 Traceback (most recent call last)",
      "Cell \u001b[1;32mIn[2], line 1\u001b[0m\n\u001b[1;32m----> 1\u001b[0m d15\u001b[38;5;241m=\u001b[39m{{\u001b[38;5;124m'\u001b[39m\u001b[38;5;124mapples\u001b[39m\u001b[38;5;124m'\u001b[39m:\u001b[38;5;241m20\u001b[39m}:\u001b[38;5;124m'\u001b[39m\u001b[38;5;124mfruites\u001b[39m\u001b[38;5;124m'\u001b[39m}\n\u001b[0;32m      2\u001b[0m d15\n",
      "\u001b[1;31mTypeError\u001b[0m: unhashable type: 'dict'"
     ]
    }
   ],
   "source": [
    "d15={{'apples':20}:'fruites'} # not works\n",
    "d15"
   ]
  },
  {
   "cell_type": "code",
   "execution_count": 3,
   "id": "a4e116a5-ea83-46e0-91a2-88cddae15702",
   "metadata": {},
   "outputs": [],
   "source": [
    "dict1={'apple':20,'banana':30,'cherry':50}\n",
    "dict2={'apple':20,'apple':30}\n",
    "dict3={20:'apple',30:'banana',50:'cherry'}\n",
    "\n",
    "#apply min max summ sorted reversed"
   ]
  },
  {
   "cell_type": "code",
   "execution_count": 26,
   "id": "6ed01af3-c4ec-44e0-9391-f1179bbe07fa",
   "metadata": {},
   "outputs": [
    {
     "data": {
      "text/plain": [
       "3"
      ]
     },
     "execution_count": 26,
     "metadata": {},
     "output_type": "execute_result"
    }
   ],
   "source": [
    "len(dict1)"
   ]
  },
  {
   "cell_type": "code",
   "execution_count": 6,
   "id": "b79119aa-f0b2-430c-b53a-1f4a51c45154",
   "metadata": {},
   "outputs": [
    {
     "name": "stdout",
     "output_type": "stream",
     "text": [
      "cherry\n",
      "apple\n"
     ]
    }
   ],
   "source": [
    "print(max(dict1))\n",
    "print(min(dict1))"
   ]
  },
  {
   "cell_type": "code",
   "execution_count": 12,
   "id": "b9fbb796-fdcd-44d4-92ae-9d40cee9ae6a",
   "metadata": {},
   "outputs": [
    {
     "ename": "TypeError",
     "evalue": "unsupported operand type(s) for +: 'int' and 'str'",
     "output_type": "error",
     "traceback": [
      "\u001b[1;31m---------------------------------------------------------------------------\u001b[0m",
      "\u001b[1;31mTypeError\u001b[0m                                 Traceback (most recent call last)",
      "Cell \u001b[1;32mIn[12], line 1\u001b[0m\n\u001b[1;32m----> 1\u001b[0m \u001b[38;5;28mprint\u001b[39m(\u001b[38;5;28msum\u001b[39m(dict1))\n",
      "\u001b[1;31mTypeError\u001b[0m: unsupported operand type(s) for +: 'int' and 'str'"
     ]
    }
   ],
   "source": [
    "print(sum(dict1)) #because key is a string"
   ]
  },
  {
   "cell_type": "code",
   "execution_count": 13,
   "id": "b5f714b5-620c-43a4-9588-edaedb27ff13",
   "metadata": {},
   "outputs": [
    {
     "name": "stdout",
     "output_type": "stream",
     "text": [
      "['apple', 'banana', 'cherry']\n"
     ]
    }
   ],
   "source": [
    "print(sorted(dict1))"
   ]
  },
  {
   "cell_type": "code",
   "execution_count": 15,
   "id": "7c89934d-8037-4a00-9b14-d4a7d8a387b9",
   "metadata": {},
   "outputs": [
    {
     "data": {
      "text/plain": [
       "['cherry', 'banana', 'apple']"
      ]
     },
     "execution_count": 15,
     "metadata": {},
     "output_type": "execute_result"
    }
   ],
   "source": [
    "list(reversed(dict1))"
   ]
  },
  {
   "cell_type": "code",
   "execution_count": null,
   "id": "4c2b6a5f-1dac-44be-bda7-bcf417f7197b",
   "metadata": {},
   "outputs": [],
   "source": []
  },
  {
   "cell_type": "code",
   "execution_count": 24,
   "id": "401205c0-ebfe-4d7c-aba9-248b2e124832",
   "metadata": {},
   "outputs": [
    {
     "data": {
      "text/plain": [
       "{'apple': 30}"
      ]
     },
     "execution_count": 24,
     "metadata": {},
     "output_type": "execute_result"
    }
   ],
   "source": [
    "dict2"
   ]
  },
  {
   "cell_type": "code",
   "execution_count": null,
   "id": "6f3cbdd1-ae79-43ec-8ad5-78a8fa7588f5",
   "metadata": {},
   "outputs": [],
   "source": []
  },
  {
   "cell_type": "code",
   "execution_count": 8,
   "id": "a949da17-6b6b-47a3-ac7b-3ca0db93e372",
   "metadata": {},
   "outputs": [
    {
     "name": "stdout",
     "output_type": "stream",
     "text": [
      "apple\n",
      "apple\n"
     ]
    }
   ],
   "source": [
    "print(max(dict2))\n",
    "print(min(dict2))"
   ]
  },
  {
   "cell_type": "code",
   "execution_count": 9,
   "id": "15843c63-d0e5-4947-a221-57bda3f79b17",
   "metadata": {},
   "outputs": [
    {
     "ename": "TypeError",
     "evalue": "unsupported operand type(s) for +: 'int' and 'str'",
     "output_type": "error",
     "traceback": [
      "\u001b[1;31m---------------------------------------------------------------------------\u001b[0m",
      "\u001b[1;31mTypeError\u001b[0m                                 Traceback (most recent call last)",
      "Cell \u001b[1;32mIn[9], line 1\u001b[0m\n\u001b[1;32m----> 1\u001b[0m \u001b[38;5;28mprint\u001b[39m(\u001b[38;5;28msum\u001b[39m(dict2))\n",
      "\u001b[1;31mTypeError\u001b[0m: unsupported operand type(s) for +: 'int' and 'str'"
     ]
    }
   ],
   "source": [
    "print(sum(dict2))"
   ]
  },
  {
   "cell_type": "code",
   "execution_count": 16,
   "id": "5765dd9a-73dd-4ee9-a22d-58e0ceab9f3d",
   "metadata": {},
   "outputs": [
    {
     "name": "stdout",
     "output_type": "stream",
     "text": [
      "['apple']\n"
     ]
    }
   ],
   "source": [
    "print(sorted(dict2))"
   ]
  },
  {
   "cell_type": "code",
   "execution_count": 17,
   "id": "9bc743cf-2d39-453f-ac08-f39ed7bc7c63",
   "metadata": {},
   "outputs": [
    {
     "data": {
      "text/plain": [
       "['apple']"
      ]
     },
     "execution_count": 17,
     "metadata": {},
     "output_type": "execute_result"
    }
   ],
   "source": [
    "list(reversed(dict2))"
   ]
  },
  {
   "cell_type": "code",
   "execution_count": null,
   "id": "56c183b6-bf5b-4248-a6fd-67bcb9c754d4",
   "metadata": {},
   "outputs": [],
   "source": []
  },
  {
   "cell_type": "code",
   "execution_count": null,
   "id": "ae9d3585-476f-4727-945b-23ee8343e674",
   "metadata": {},
   "outputs": [],
   "source": []
  },
  {
   "cell_type": "code",
   "execution_count": 10,
   "id": "6252ee75-6026-4dc5-a2ef-13f9d46ecb12",
   "metadata": {},
   "outputs": [
    {
     "name": "stdout",
     "output_type": "stream",
     "text": [
      "50\n",
      "20\n"
     ]
    }
   ],
   "source": [
    "print(max(dict3))\n",
    "print(min(dict3))"
   ]
  },
  {
   "cell_type": "code",
   "execution_count": 11,
   "id": "7243a7bd-49b5-4ca4-b12b-4d0674947684",
   "metadata": {},
   "outputs": [
    {
     "name": "stdout",
     "output_type": "stream",
     "text": [
      "100\n"
     ]
    }
   ],
   "source": [
    "print(sum(dict3))"
   ]
  },
  {
   "cell_type": "code",
   "execution_count": 18,
   "id": "4b8d0f1d-36e2-44b6-b621-ab66b089bc97",
   "metadata": {},
   "outputs": [
    {
     "name": "stdout",
     "output_type": "stream",
     "text": [
      "[20, 30, 50]\n"
     ]
    }
   ],
   "source": [
    "print(sorted(dict3))"
   ]
  },
  {
   "cell_type": "code",
   "execution_count": null,
   "id": "76abed34-6d68-4564-a781-0a2a2df08f3a",
   "metadata": {},
   "outputs": [],
   "source": []
  },
  {
   "cell_type": "code",
   "execution_count": 19,
   "id": "5f8eb6e4-9cc1-48d9-88e1-ec3b5d453dde",
   "metadata": {},
   "outputs": [
    {
     "data": {
      "text/plain": [
       "[50, 30, 20]"
      ]
     },
     "execution_count": 19,
     "metadata": {},
     "output_type": "execute_result"
    }
   ],
   "source": [
    "list(reversed(dict3))"
   ]
  },
  {
   "cell_type": "code",
   "execution_count": null,
   "id": "48d8fb5f-668b-4f70-ba9d-f66da393ed3b",
   "metadata": {},
   "outputs": [],
   "source": []
  },
  {
   "cell_type": "code",
   "execution_count": null,
   "id": "9ff66633-8fb0-410b-a147-3dd94b61c980",
   "metadata": {},
   "outputs": [],
   "source": []
  },
  {
   "cell_type": "code",
   "execution_count": 27,
   "id": "f54a68a9-3b76-4b40-9bdc-f0bf14c83327",
   "metadata": {},
   "outputs": [],
   "source": [
    "dict1={'apple':20,'banana':30,'cherry':50}\n",
    "dict2={'apple':20,'apple':30}\n",
    "dict3={20:'apple',30:'banana',50:'cherry'}\n"
   ]
  },
  {
   "cell_type": "code",
   "execution_count": 28,
   "id": "28693ed3-3171-473a-b82d-e651311bc3bd",
   "metadata": {},
   "outputs": [
    {
     "name": "stdout",
     "output_type": "stream",
     "text": [
      "y\n"
     ]
    }
   ],
   "source": [
    "if 'apple' in dict1:\n",
    "    print('y')"
   ]
  },
  {
   "cell_type": "code",
   "execution_count": 29,
   "id": "07b37fd5-62da-4649-894a-6085751641e9",
   "metadata": {},
   "outputs": [],
   "source": [
    "if 20 in dict1:\n",
    "    print('y')"
   ]
  },
  {
   "cell_type": "code",
   "execution_count": 30,
   "id": "11731338-122c-4fa8-9324-7b93d86ce7f8",
   "metadata": {},
   "outputs": [
    {
     "ename": "SyntaxError",
     "evalue": "invalid syntax (4007115636.py, line 1)",
     "output_type": "error",
     "traceback": [
      "\u001b[1;36m  Cell \u001b[1;32mIn[30], line 1\u001b[1;36m\u001b[0m\n\u001b[1;33m    if 'apple':20 in dict1:\u001b[0m\n\u001b[1;37m                          ^\u001b[0m\n\u001b[1;31mSyntaxError\u001b[0m\u001b[1;31m:\u001b[0m invalid syntax\n"
     ]
    }
   ],
   "source": [
    "if 'apple':20 in dict1:\n",
    "    print('y')"
   ]
  },
  {
   "cell_type": "code",
   "execution_count": 31,
   "id": "e3ada1ee-fb45-4422-8982-b7abf047f3e4",
   "metadata": {},
   "outputs": [
    {
     "name": "stdout",
     "output_type": "stream",
     "text": [
      "apple\n",
      "banana\n",
      "cherry\n"
     ]
    }
   ],
   "source": [
    "for i in dict1:\n",
    "    print(i)"
   ]
  },
  {
   "cell_type": "code",
   "execution_count": 40,
   "id": "78c425eb-0fb6-4535-8adc-f45541fc972a",
   "metadata": {},
   "outputs": [
    {
     "ename": "KeyError",
     "evalue": "0",
     "output_type": "error",
     "traceback": [
      "\u001b[1;31m---------------------------------------------------------------------------\u001b[0m",
      "\u001b[1;31mKeyError\u001b[0m                                  Traceback (most recent call last)",
      "Cell \u001b[1;32mIn[40], line 2\u001b[0m\n\u001b[0;32m      1\u001b[0m \u001b[38;5;28;01mfor\u001b[39;00m i \u001b[38;5;129;01min\u001b[39;00m \u001b[38;5;28mrange\u001b[39m(\u001b[38;5;28mlen\u001b[39m(dict1)):\n\u001b[1;32m----> 2\u001b[0m     \u001b[38;5;28mprint\u001b[39m(dict1[i])\n",
      "\u001b[1;31mKeyError\u001b[0m: 0"
     ]
    }
   ],
   "source": [
    "for i in range(len(dict1)):\n",
    "    print(dict1[i])"
   ]
  },
  {
   "cell_type": "markdown",
   "id": "cbb9e6cf-e247-41ea-bfb0-77f954c168b2",
   "metadata": {},
   "source": [
    "**Index**"
   ]
  },
  {
   "cell_type": "code",
   "execution_count": 35,
   "id": "a4442c4f-2bf2-4f3a-b4d0-27f43d313248",
   "metadata": {},
   "outputs": [
    {
     "data": {
      "text/plain": [
       "10"
      ]
     },
     "execution_count": 35,
     "metadata": {},
     "output_type": "execute_result"
    }
   ],
   "source": [
    "l1=[10,20,30]\n",
    "l1[0]"
   ]
  },
  {
   "cell_type": "code",
   "execution_count": 36,
   "id": "b8f79a00-c391-4bc9-806e-e0d5bf37d490",
   "metadata": {},
   "outputs": [
    {
     "data": {
      "text/plain": [
       "'p'"
      ]
     },
     "execution_count": 36,
     "metadata": {},
     "output_type": "execute_result"
    }
   ],
   "source": [
    "str1='python'\n",
    "str1[0]"
   ]
  },
  {
   "cell_type": "code",
   "execution_count": null,
   "id": "22e63d88-7d44-43b9-aa57-4a3f0cf1cd2d",
   "metadata": {},
   "outputs": [],
   "source": []
  },
  {
   "cell_type": "code",
   "execution_count": 43,
   "id": "315fa057-5bbb-4b41-a6dd-96783cdf2a14",
   "metadata": {},
   "outputs": [
    {
     "ename": "TypeError",
     "evalue": "unhashable type: 'list'",
     "output_type": "error",
     "traceback": [
      "\u001b[1;31m---------------------------------------------------------------------------\u001b[0m",
      "\u001b[1;31mTypeError\u001b[0m                                 Traceback (most recent call last)",
      "Cell \u001b[1;32mIn[43], line 2\u001b[0m\n\u001b[0;32m      1\u001b[0m dict1\u001b[38;5;241m=\u001b[39m{\u001b[38;5;124m'\u001b[39m\u001b[38;5;124mapple\u001b[39m\u001b[38;5;124m'\u001b[39m:\u001b[38;5;241m20\u001b[39m,\u001b[38;5;124m'\u001b[39m\u001b[38;5;124mbanana\u001b[39m\u001b[38;5;124m'\u001b[39m:\u001b[38;5;241m30\u001b[39m,\u001b[38;5;124m'\u001b[39m\u001b[38;5;124mcherry\u001b[39m\u001b[38;5;124m'\u001b[39m:\u001b[38;5;241m50\u001b[39m}\n\u001b[1;32m----> 2\u001b[0m dict1[[\u001b[38;5;241m0\u001b[39m]]\n",
      "\u001b[1;31mTypeError\u001b[0m: unhashable type: 'list'"
     ]
    }
   ],
   "source": [
    "dict1={'apple':20,'banana':30,'cherry':50}\n",
    "dict1[0]"
   ]
  },
  {
   "cell_type": "markdown",
   "id": "3eaef1ad-95d5-430c-8833-54e96b51b02c",
   "metadata": {},
   "source": [
    "**keyerror:**"
   ]
  },
  {
   "cell_type": "markdown",
   "id": "6cb66050-ad05-4eae-9d13-9d7349c9b0fc",
   "metadata": {},
   "source": [
    "**how to extract the value**\n",
    "\n",
    "- in dictionary we have a concept key:value pair\n",
    "\n",
    "- key are very important\n",
    "\n",
    "- in order to get values we need to take keys hepls\n",
    "\n",
    "  "
   ]
  },
  {
   "cell_type": "code",
   "execution_count": 44,
   "id": "c977c4e9-ebf2-4a34-a9a1-bf43fa157707",
   "metadata": {},
   "outputs": [
    {
     "data": {
      "text/plain": [
       "20"
      ]
     },
     "execution_count": 44,
     "metadata": {},
     "output_type": "execute_result"
    }
   ],
   "source": [
    "dict1={'apple':20,'banana':30,'cherry':50}\n",
    "dict1['apple']"
   ]
  },
  {
   "cell_type": "code",
   "execution_count": 45,
   "id": "85ccd789-bd10-443b-850a-77b1ea034b4d",
   "metadata": {},
   "outputs": [
    {
     "data": {
      "text/plain": [
       "30"
      ]
     },
     "execution_count": 45,
     "metadata": {},
     "output_type": "execute_result"
    }
   ],
   "source": [
    "dict1['banana']"
   ]
  },
  {
   "cell_type": "code",
   "execution_count": 46,
   "id": "221f15ea-29ee-42c6-b9e2-6c44aae81692",
   "metadata": {},
   "outputs": [
    {
     "data": {
      "text/plain": [
       "50"
      ]
     },
     "execution_count": 46,
     "metadata": {},
     "output_type": "execute_result"
    }
   ],
   "source": [
    "dict1['cherry']"
   ]
  },
  {
   "cell_type": "code",
   "execution_count": 48,
   "id": "9bdfb9dd-9671-432a-bdcc-5252ca00fda7",
   "metadata": {},
   "outputs": [
    {
     "name": "stdout",
     "output_type": "stream",
     "text": [
      "apple 20\n",
      "banana 30\n",
      "cherry 50\n"
     ]
    }
   ],
   "source": [
    "for i in dict1:\n",
    "    print(i,dict1[i])"
   ]
  },
  {
   "cell_type": "code",
   "execution_count": 52,
   "id": "c77e3646-554b-4552-a9b4-956264edc045",
   "metadata": {},
   "outputs": [
    {
     "name": "stdout",
     "output_type": "stream",
     "text": [
      "ramesh age is 20\n",
      "suresh age is 25\n",
      "sathish age is 30\n"
     ]
    }
   ],
   "source": [
    "# names=['ramesh','suresh','sathish']\n",
    "# ages=[20,25,30]\n",
    "dict1={'ramesh':20,'suresh':25,'sathish':30}\n",
    "for i in dict1:\n",
    "    print(f'{i} age is {dict1[i]}')"
   ]
  },
  {
   "cell_type": "code",
   "execution_count": 54,
   "id": "9c0a9ca3-6ad3-47ab-a624-ce7173732328",
   "metadata": {},
   "outputs": [
    {
     "data": {
      "text/plain": [
       "'cherry'"
      ]
     },
     "execution_count": 54,
     "metadata": {},
     "output_type": "execute_result"
    }
   ],
   "source": [
    "d={'fruites':['apple','banana','cherry']}\n",
    "d['fruites'][2]"
   ]
  },
  {
   "cell_type": "code",
   "execution_count": 58,
   "id": "8dd7d7a3-952e-423b-a9bf-a2b2fff13f6e",
   "metadata": {},
   "outputs": [
    {
     "data": {
      "text/plain": [
       "'green'"
      ]
     },
     "execution_count": 58,
     "metadata": {},
     "output_type": "execute_result"
    }
   ],
   "source": [
    "d={'fruites':{'apple':['sweet','sour','green']}}\n",
    "d['fruites']['apple'][2]"
   ]
  },
  {
   "cell_type": "code",
   "execution_count": 64,
   "id": "73bab2a5-fbbf-491c-a92a-5ecf20802522",
   "metadata": {},
   "outputs": [
    {
     "data": {
      "text/plain": [
       "50"
      ]
     },
     "execution_count": 64,
     "metadata": {},
     "output_type": "execute_result"
    }
   ],
   "source": [
    "d={'fruites':[{'Cost':[50]}]}\n",
    "d['fruites'][0]['Cost'][0]"
   ]
  },
  {
   "cell_type": "code",
   "execution_count": 76,
   "id": "d677759b-50c8-45e0-9bcc-a5a18d3c1b7e",
   "metadata": {},
   "outputs": [
    {
     "data": {
      "text/plain": [
       "40"
      ]
     },
     "execution_count": 76,
     "metadata": {},
     "output_type": "execute_result"
    }
   ],
   "source": [
    "d={'fruites':['apple'],'Cost':[{'1kg':[20,30,40],'2kg':None}]}\n",
    "\n",
    "d['Cost'][0]['1kg'][2]\n",
    "#40 and None"
   ]
  },
  {
   "cell_type": "code",
   "execution_count": 73,
   "id": "468a5554-f1eb-4107-9223-cb888a60c6f4",
   "metadata": {},
   "outputs": [],
   "source": [
    "d['Cost'][0]['2kg']"
   ]
  },
  {
   "cell_type": "code",
   "execution_count": null,
   "id": "d53a9425-05e5-4d84-9b8e-ec44b848b444",
   "metadata": {},
   "outputs": [],
   "source": []
  },
  {
   "cell_type": "code",
   "execution_count": 4,
   "id": "3c652428-0ff4-4412-ac63-5a38ebd050c2",
   "metadata": {},
   "outputs": [
    {
     "data": {
      "text/plain": [
       "{'Shambaji'}"
      ]
     },
     "execution_count": 4,
     "metadata": {},
     "output_type": "execute_result"
    }
   ],
   "source": [
    "d={'Fruites':{'Orange':{'Nagpur':{'MH':{'King':{'Shivaji':{'Shambaji'}}}}}}}\n",
    "d['Fruites']['Orange']['Nagpur']['MH']['King']['Shivaji']"
   ]
  },
  {
   "cell_type": "code",
   "execution_count": null,
   "id": "cd6b4826-bbcc-4094-b5cc-25fbf99f6d39",
   "metadata": {},
   "outputs": [],
   "source": []
  },
  {
   "cell_type": "code",
   "execution_count": null,
   "id": "ca06201d-d5b4-452a-ace2-831b23302306",
   "metadata": {},
   "outputs": [],
   "source": []
  },
  {
   "cell_type": "markdown",
   "id": "82126344-6df8-4e28-a43e-1c7ab06b3fca",
   "metadata": {},
   "source": [
    "**how to create empty dictionary**\n",
    "\n",
    "- Now onwards focus on creation of empty list,string and dictionary\n",
    "\n",
    "- we will take empty list will use append opeartion\n",
    "\n",
    "- we will take empty string will use concatenation\n",
    "\n",
    "- we will empty dict will use key:value pair concept"
   ]
  },
  {
   "cell_type": "code",
   "execution_count": 88,
   "id": "f06d83ec-e0ef-4a7c-b306-763a3c6d9720",
   "metadata": {},
   "outputs": [
    {
     "data": {
      "text/plain": [
       "[10, 20]"
      ]
     },
     "execution_count": 88,
     "metadata": {},
     "output_type": "execute_result"
    }
   ],
   "source": [
    "#list\n",
    "l=[]\n",
    "l.append(10)\n",
    "l.append(20)\n",
    "l"
   ]
  },
  {
   "cell_type": "code",
   "execution_count": 90,
   "id": "987e5598-4c34-4c85-a3e3-59da871211a0",
   "metadata": {},
   "outputs": [
    {
     "data": {
      "text/plain": [
       "'py'"
      ]
     },
     "execution_count": 90,
     "metadata": {},
     "output_type": "execute_result"
    }
   ],
   "source": [
    "#strings\n",
    "s=''\n",
    "s=s+'p' # ''+'p'\n",
    "s=s+'y' # 'p'+'y'\n",
    "s"
   ]
  },
  {
   "cell_type": "code",
   "execution_count": 93,
   "id": "a084cdf1-4873-4fc3-8c6f-295b7d7f0554",
   "metadata": {},
   "outputs": [
    {
     "data": {
      "text/plain": [
       "{'ramesh': 20, 'suresh': 25, 'sathish': 30}"
      ]
     },
     "execution_count": 93,
     "metadata": {},
     "output_type": "execute_result"
    }
   ],
   "source": [
    "# dictionary\n",
    "d={}\n",
    "d['ramesh']=20\n",
    "d['suresh']=25\n",
    "d['sathish']=30\n",
    "d"
   ]
  },
  {
   "cell_type": "code",
   "execution_count": null,
   "id": "77a7f7b9-ed99-432d-8776-8b8220e86d45",
   "metadata": {},
   "outputs": [],
   "source": []
  },
  {
   "cell_type": "markdown",
   "id": "764528dd-24ed-437c-b9d8-79516f744ec7",
   "metadata": {},
   "source": [
    "### how to convert list to dictionary"
   ]
  },
  {
   "cell_type": "code",
   "execution_count": 94,
   "id": "1d73e801-96db-4c62-9960-a2b6a4ad61a2",
   "metadata": {},
   "outputs": [
    {
     "data": {
      "text/plain": [
       "{'ramesh': 20, 'suresh': 25, 'sathish': 30}"
      ]
     },
     "execution_count": 94,
     "metadata": {},
     "output_type": "execute_result"
    }
   ],
   "source": [
    "names=['ramesh','suresh','sathish']\n",
    "ages=[20,25,30]\n",
    "dict1={}\n",
    "for i,j in zip(names,ages):\n",
    "    dict1[i]=j\n",
    "dict1"
   ]
  },
  {
   "cell_type": "code",
   "execution_count": null,
   "id": "6df185b5-0296-4ebd-b0b4-2043ba00cb84",
   "metadata": {},
   "outputs": [],
   "source": []
  },
  {
   "cell_type": "markdown",
   "id": "b3ca022f-f4fd-47c2-9116-fe6b36017b3d",
   "metadata": {},
   "source": [
    "**dictionary comprehension**\n",
    "\n",
    "- for list comprehension we ritten evrything inside list\n",
    "\n",
    "- for dict comprehension we should write everything inside dictionary\n",
    "\n",
    " "
   ]
  },
  {
   "cell_type": "code",
   "execution_count": 97,
   "id": "307366e7-8809-4453-88ae-4b351e9425e6",
   "metadata": {},
   "outputs": [],
   "source": [
    "#list comprehension : [<output> <for loop>]\n",
    "#dict comprehension : {key:value <for loop>}"
   ]
  },
  {
   "cell_type": "code",
   "execution_count": 96,
   "id": "ee893b0f-ef11-4698-9b86-90e11ab3c444",
   "metadata": {},
   "outputs": [
    {
     "data": {
      "text/plain": [
       "{'ramesh': 20, 'suresh': 25, 'sathish': 30}"
      ]
     },
     "execution_count": 96,
     "metadata": {},
     "output_type": "execute_result"
    }
   ],
   "source": [
    "dict1={i:j for i,j in zip(names,ages)}\n",
    "dict1"
   ]
  },
  {
   "cell_type": "code",
   "execution_count": null,
   "id": "b2ccf3c7-b6ab-462f-bf6c-b2e0387a81b2",
   "metadata": {},
   "outputs": [],
   "source": []
  },
  {
   "cell_type": "markdown",
   "id": "24cc1fd8-5166-4a52-ac6e-8ec075007448",
   "metadata": {},
   "source": [
    "**Mutable - immutable**"
   ]
  },
  {
   "cell_type": "markdown",
   "id": "0b12a36f-8fdd-4efe-8993-30c24c18660a",
   "metadata": {},
   "source": [
    "- lists are mutable\n",
    "\n",
    "- dictionary are also mutable\n",
    "\n",
    "- strings immutable\n",
    "\n",
    "- tuple immutable\n",
    "\n",
    "- in dictionary we can change the values using keys"
   ]
  },
  {
   "cell_type": "code",
   "execution_count": 101,
   "id": "65fea743-2915-4a0d-9d79-cce4acbd2633",
   "metadata": {},
   "outputs": [],
   "source": [
    "d={'ramesh': 20, 'suresh': 25, 'sathish': 30}\n",
    "d['ramesh']=40"
   ]
  },
  {
   "cell_type": "code",
   "execution_count": 102,
   "id": "8a9a6218-d755-4741-b482-2cb368480f7d",
   "metadata": {},
   "outputs": [
    {
     "data": {
      "text/plain": [
       "{'ramesh': 40, 'suresh': 25, 'sathish': 30}"
      ]
     },
     "execution_count": 102,
     "metadata": {},
     "output_type": "execute_result"
    }
   ],
   "source": [
    "d"
   ]
  },
  {
   "cell_type": "code",
   "execution_count": null,
   "id": "00f7eebc-c893-43d2-bb2c-66f7b2bf6672",
   "metadata": {},
   "outputs": [],
   "source": []
  },
  {
   "cell_type": "code",
   "execution_count": null,
   "id": "168ab365-d789-454f-9074-6ad101a032ac",
   "metadata": {},
   "outputs": [],
   "source": []
  },
  {
   "cell_type": "code",
   "execution_count": 103,
   "id": "5f9ecbbd-c881-444b-b784-09628c316cdd",
   "metadata": {},
   "outputs": [
    {
     "data": {
      "text/plain": [
       "['__class__',\n",
       " '__class_getitem__',\n",
       " '__contains__',\n",
       " '__delattr__',\n",
       " '__delitem__',\n",
       " '__dir__',\n",
       " '__doc__',\n",
       " '__eq__',\n",
       " '__format__',\n",
       " '__ge__',\n",
       " '__getattribute__',\n",
       " '__getitem__',\n",
       " '__getstate__',\n",
       " '__gt__',\n",
       " '__hash__',\n",
       " '__init__',\n",
       " '__init_subclass__',\n",
       " '__ior__',\n",
       " '__iter__',\n",
       " '__le__',\n",
       " '__len__',\n",
       " '__lt__',\n",
       " '__ne__',\n",
       " '__new__',\n",
       " '__or__',\n",
       " '__reduce__',\n",
       " '__reduce_ex__',\n",
       " '__repr__',\n",
       " '__reversed__',\n",
       " '__ror__',\n",
       " '__setattr__',\n",
       " '__setitem__',\n",
       " '__sizeof__',\n",
       " '__str__',\n",
       " '__subclasshook__',\n",
       " 'clear',\n",
       " 'copy',\n",
       " 'fromkeys',\n",
       " 'get',\n",
       " 'items',\n",
       " 'keys',\n",
       " 'pop',\n",
       " 'popitem',\n",
       " 'setdefault',\n",
       " 'update',\n",
       " 'values']"
      ]
     },
     "execution_count": 103,
     "metadata": {},
     "output_type": "execute_result"
    }
   ],
   "source": [
    "dir({})"
   ]
  },
  {
   "cell_type": "markdown",
   "id": "b4ac4b2b-9a0d-47f2-97b3-5786b66891e1",
   "metadata": {},
   "source": [
    "- clear\n",
    "\n",
    "- copy\n",
    "\n",
    "- keys\n",
    "\n",
    "- values\n",
    "\n",
    "- items"
   ]
  },
  {
   "cell_type": "code",
   "execution_count": 1,
   "id": "7ea48acb-ef19-4ec2-96f7-c2ca87ac6896",
   "metadata": {},
   "outputs": [],
   "source": [
    "d={'apple':20,'banana':30,'cherry':40}"
   ]
  },
  {
   "cell_type": "code",
   "execution_count": 2,
   "id": "3fe71911-15aa-4c32-8b84-11168ede5b42",
   "metadata": {},
   "outputs": [],
   "source": [
    "d.clear()"
   ]
  },
  {
   "cell_type": "code",
   "execution_count": 3,
   "id": "5f26b7e1-e860-46e9-ba7c-c7d3f876b79b",
   "metadata": {},
   "outputs": [
    {
     "data": {
      "text/plain": [
       "{}"
      ]
     },
     "execution_count": 3,
     "metadata": {},
     "output_type": "execute_result"
    }
   ],
   "source": [
    "d"
   ]
  },
  {
   "cell_type": "code",
   "execution_count": null,
   "id": "e9a90b1f-9349-4da1-9082-d0fbea60c6b4",
   "metadata": {},
   "outputs": [],
   "source": []
  },
  {
   "cell_type": "code",
   "execution_count": 4,
   "id": "04a96ef5-d482-4070-8e7b-d5c99d64aa59",
   "metadata": {},
   "outputs": [
    {
     "data": {
      "text/plain": [
       "{'apple': 20, 'banana': 30, 'cherry': 40}"
      ]
     },
     "execution_count": 4,
     "metadata": {},
     "output_type": "execute_result"
    }
   ],
   "source": [
    "d={'apple':20,'banana':30,'cherry':40}\n",
    "d"
   ]
  },
  {
   "cell_type": "code",
   "execution_count": 6,
   "id": "5cabf976-8bd0-4db5-ac55-555b08296b92",
   "metadata": {},
   "outputs": [
    {
     "data": {
      "text/plain": [
       "{'apple': 20, 'banana': 30, 'cherry': 40}"
      ]
     },
     "execution_count": 6,
     "metadata": {},
     "output_type": "execute_result"
    }
   ],
   "source": [
    "d1=d.copy()\n",
    "d1"
   ]
  },
  {
   "cell_type": "code",
   "execution_count": null,
   "id": "ac3d8252-516c-451c-8d2a-421c162ed556",
   "metadata": {},
   "outputs": [],
   "source": []
  },
  {
   "cell_type": "code",
   "execution_count": 7,
   "id": "d58fd59a-4ed9-431f-9b11-62c6630d9dee",
   "metadata": {},
   "outputs": [
    {
     "data": {
      "text/plain": [
       "dict_keys(['apple', 'banana', 'cherry'])"
      ]
     },
     "execution_count": 7,
     "metadata": {},
     "output_type": "execute_result"
    }
   ],
   "source": [
    "d={'apple':20,'banana':30,'cherry':40}\n",
    "d.keys()"
   ]
  },
  {
   "cell_type": "code",
   "execution_count": 11,
   "id": "d1dc143e-ae24-48b7-9f23-8352f2693368",
   "metadata": {},
   "outputs": [
    {
     "name": "stdout",
     "output_type": "stream",
     "text": [
      "apple\n",
      "banana\n",
      "cherry\n"
     ]
    }
   ],
   "source": [
    "for i in d.keys():\n",
    "    print(i)"
   ]
  },
  {
   "cell_type": "code",
   "execution_count": null,
   "id": "cec586f1-a3ec-4d64-a035-7ee31e0be9cc",
   "metadata": {},
   "outputs": [],
   "source": []
  },
  {
   "cell_type": "code",
   "execution_count": 8,
   "id": "27f9743d-364d-428b-8474-aeeb7f36f250",
   "metadata": {},
   "outputs": [
    {
     "data": {
      "text/plain": [
       "dict_values([20, 30, 40])"
      ]
     },
     "execution_count": 8,
     "metadata": {},
     "output_type": "execute_result"
    }
   ],
   "source": [
    "d.values()"
   ]
  },
  {
   "cell_type": "code",
   "execution_count": 12,
   "id": "495c6e44-18af-4260-ac96-a0ed7b43c6ea",
   "metadata": {},
   "outputs": [
    {
     "name": "stdout",
     "output_type": "stream",
     "text": [
      "20\n",
      "30\n",
      "40\n"
     ]
    }
   ],
   "source": [
    "for i in d.values():\n",
    "    print(i)"
   ]
  },
  {
   "cell_type": "code",
   "execution_count": null,
   "id": "f13fb6aa-0e87-4fbe-8c0b-869cb538b31f",
   "metadata": {},
   "outputs": [],
   "source": []
  },
  {
   "cell_type": "code",
   "execution_count": 9,
   "id": "e9c03e8a-4f8f-4e57-8167-44f10e00c3ec",
   "metadata": {},
   "outputs": [
    {
     "data": {
      "text/plain": [
       "dict_items([('apple', 20), ('banana', 30), ('cherry', 40)])"
      ]
     },
     "execution_count": 9,
     "metadata": {},
     "output_type": "execute_result"
    }
   ],
   "source": [
    "d.items()"
   ]
  },
  {
   "cell_type": "code",
   "execution_count": null,
   "id": "f89953ab-022b-407c-9915-1534ddab177b",
   "metadata": {},
   "outputs": [],
   "source": []
  },
  {
   "cell_type": "code",
   "execution_count": 10,
   "id": "776fde1a-416f-4b8b-a973-4c2aeb8d02c6",
   "metadata": {},
   "outputs": [
    {
     "name": "stdout",
     "output_type": "stream",
     "text": [
      "apple 20\n",
      "banana 30\n",
      "cherry 40\n"
     ]
    }
   ],
   "source": [
    "for i,v in d.items():\n",
    "    print(i,v)"
   ]
  },
  {
   "cell_type": "code",
   "execution_count": null,
   "id": "738f0175-f074-4c39-a1ca-4d84a1803222",
   "metadata": {},
   "outputs": [],
   "source": []
  },
  {
   "cell_type": "markdown",
   "id": "df3bec29-b2ae-4c29-94ce-0640a6d9a718",
   "metadata": {},
   "source": [
    "**keys**"
   ]
  },
  {
   "cell_type": "code",
   "execution_count": 5,
   "id": "6aa77f65-f19b-4af1-b5c9-a551aa915adc",
   "metadata": {},
   "outputs": [
    {
     "data": {
      "text/plain": [
       "dict_keys(['ramesh', 'suresh', 'sathish'])"
      ]
     },
     "execution_count": 5,
     "metadata": {},
     "output_type": "execute_result"
    }
   ],
   "source": [
    "d={'ramesh': 20, 'suresh': 25, 'sathish': 30}\n",
    "keys=d.keys()\n",
    "keys"
   ]
  },
  {
   "cell_type": "code",
   "execution_count": 6,
   "id": "c604c3d0-7484-4f6f-a9ea-5fb712bc86c7",
   "metadata": {},
   "outputs": [
    {
     "data": {
      "text/plain": [
       "dict_keys"
      ]
     },
     "execution_count": 6,
     "metadata": {},
     "output_type": "execute_result"
    }
   ],
   "source": [
    "type(keys)"
   ]
  },
  {
   "cell_type": "code",
   "execution_count": 7,
   "id": "11de3835-5903-4f6c-a869-ffbd25de21e4",
   "metadata": {},
   "outputs": [
    {
     "ename": "AttributeError",
     "evalue": "'dict_keys' object has no attribute 'count'",
     "output_type": "error",
     "traceback": [
      "\u001b[1;31m---------------------------------------------------------------------------\u001b[0m",
      "\u001b[1;31mAttributeError\u001b[0m                            Traceback (most recent call last)",
      "Cell \u001b[1;32mIn[7], line 2\u001b[0m\n\u001b[0;32m      1\u001b[0m \u001b[38;5;66;03m# i got mistaken im assuming this is list type\u001b[39;00m\n\u001b[1;32m----> 2\u001b[0m keys\u001b[38;5;241m.\u001b[39mcount(\u001b[38;5;124m'\u001b[39m\u001b[38;5;124mramesh\u001b[39m\u001b[38;5;124m'\u001b[39m)\n",
      "\u001b[1;31mAttributeError\u001b[0m: 'dict_keys' object has no attribute 'count'"
     ]
    }
   ],
   "source": [
    "# i got mistaken im assuming this is list type\n",
    "keys.count('ramesh')"
   ]
  },
  {
   "cell_type": "code",
   "execution_count": null,
   "id": "6ffd77ba-69de-4b22-bfcf-e1a94d2e32cf",
   "metadata": {},
   "outputs": [],
   "source": []
  },
  {
   "cell_type": "markdown",
   "id": "b90b645e-e18f-44a6-9235-806663ec6ae6",
   "metadata": {},
   "source": [
    "**convert dictionary to list**\n",
    "\n",
    "- in order to convert dictionary to list\n",
    "\n",
    "- we need to separate key and values\n",
    "\n",
    "- and then apply list type casting"
   ]
  },
  {
   "cell_type": "code",
   "execution_count": 9,
   "id": "d2c7f1bb-c48e-49c0-9991-b4f79c6ec062",
   "metadata": {},
   "outputs": [
    {
     "data": {
      "text/plain": [
       "['ramesh', 'suresh', 'sathish']"
      ]
     },
     "execution_count": 9,
     "metadata": {},
     "output_type": "execute_result"
    }
   ],
   "source": [
    "d={'ramesh': 20, 'suresh': 25, 'sathish': 30}\n",
    "keys=d.keys()\n",
    "keys_list=list(keys)\n",
    "keys_list"
   ]
  },
  {
   "cell_type": "code",
   "execution_count": 16,
   "id": "d7b6a9c0-d9f0-49d8-ad17-1d5f43ebd583",
   "metadata": {},
   "outputs": [
    {
     "data": {
      "text/plain": [
       "1"
      ]
     },
     "execution_count": 16,
     "metadata": {},
     "output_type": "execute_result"
    }
   ],
   "source": [
    "keys_list.count('ramesh')"
   ]
  },
  {
   "cell_type": "code",
   "execution_count": null,
   "id": "41e9d545-20f3-4ff0-9bbb-234cc6c86742",
   "metadata": {},
   "outputs": [],
   "source": []
  },
  {
   "cell_type": "markdown",
   "id": "51a9ea6a-3aa5-4afa-b71a-1f51c59bfbc5",
   "metadata": {},
   "source": [
    "- for conversion\n",
    "\n",
    "**list ====  string  using join**\n",
    "\n",
    "**string ===  list   using split**\n",
    "\n",
    "**list ===  dict   zip**\n",
    "\n",
    "**dict === list    typecasting**"
   ]
  },
  {
   "cell_type": "code",
   "execution_count": 10,
   "id": "901ee577-b475-44a4-ac5e-7e98ae6c9036",
   "metadata": {},
   "outputs": [
    {
     "data": {
      "text/plain": [
       "[20, 25, 30]"
      ]
     },
     "execution_count": 10,
     "metadata": {},
     "output_type": "execute_result"
    }
   ],
   "source": [
    "d={'ramesh': 20, 'suresh': 25, 'sathish': 30}\n",
    "values=d.values()\n",
    "values_list=list(values)\n",
    "values_list"
   ]
  },
  {
   "cell_type": "code",
   "execution_count": 17,
   "id": "01bb058a-0515-4008-9f7d-f3e8d24634d5",
   "metadata": {},
   "outputs": [
    {
     "data": {
      "text/plain": [
       "1"
      ]
     },
     "execution_count": 17,
     "metadata": {},
     "output_type": "execute_result"
    }
   ],
   "source": [
    "values_list.count(20)"
   ]
  },
  {
   "cell_type": "code",
   "execution_count": null,
   "id": "af52d487-0fa9-4f95-b5d6-cffdc48d5b44",
   "metadata": {},
   "outputs": [],
   "source": []
  },
  {
   "cell_type": "code",
   "execution_count": 15,
   "id": "651b6065-3077-44ce-acfd-c1b91b47b507",
   "metadata": {},
   "outputs": [
    {
     "data": {
      "text/plain": [
       "[('ramesh', 20), ('suresh', 25), ('sathish', 30)]"
      ]
     },
     "execution_count": 15,
     "metadata": {},
     "output_type": "execute_result"
    }
   ],
   "source": [
    "d={'ramesh': 20, 'suresh': 25, 'sathish': 30}\n",
    "items=d.items()\n",
    "items_list=list(items)\n",
    "items_list"
   ]
  },
  {
   "cell_type": "code",
   "execution_count": 19,
   "id": "a280bba9-927b-4e05-8415-cadd9416d6ee",
   "metadata": {},
   "outputs": [
    {
     "data": {
      "text/plain": [
       "1"
      ]
     },
     "execution_count": 19,
     "metadata": {},
     "output_type": "execute_result"
    }
   ],
   "source": [
    "items_list.count(('ramesh',20))"
   ]
  },
  {
   "cell_type": "code",
   "execution_count": null,
   "id": "c13c38f6-2baf-4380-95cd-f21b4558977a",
   "metadata": {},
   "outputs": [],
   "source": []
  },
  {
   "cell_type": "code",
   "execution_count": 30,
   "id": "9e05fcd7-5ab5-489c-8e70-4d7fc6ff7e3d",
   "metadata": {},
   "outputs": [
    {
     "data": {
      "text/plain": [
       "{'fname': ['virat', 'rohit', 'ms'],\n",
       " 'sname': ['kohli', 'sharma', 'dhoni'],\n",
       " 'cname': ['rcb', 'mi', 'csk']}"
      ]
     },
     "execution_count": 30,
     "metadata": {},
     "output_type": "execute_result"
    }
   ],
   "source": [
    "input1 = 'virat.kohli@rcb.com;rohit.sharma@mi.com;ms.dhoni@csk.com'\n",
    "\n",
    "fname=[]\n",
    "sname=[]\n",
    "cname=[]\n",
    "d={}\n",
    "for i in input1.split(';'):\n",
    "    f_i=i.index('.')\n",
    "    s_i=i.index('@')\n",
    "    c_i=i.index('.',f_i+1)\n",
    "\n",
    "    fname.append(i[:f_i])\n",
    "    sname.append(i[f_i+1:s_i])\n",
    "    cname.append(i[s_i+1:c_i])\n",
    "\n",
    "d['fname']=fname\n",
    "d['sname']=sname\n",
    "d['cname']=cname\n",
    "\n",
    "d\n",
    "\n",
    "\n",
    "    \n",
    "\n"
   ]
  },
  {
   "cell_type": "code",
   "execution_count": null,
   "id": "0c1ced75-db7c-431c-b1b5-33490742936c",
   "metadata": {},
   "outputs": [],
   "source": []
  },
  {
   "cell_type": "code",
   "execution_count": null,
   "id": "156fcdd2-486b-4c77-8532-b2f3ba130833",
   "metadata": {},
   "outputs": [],
   "source": []
  },
  {
   "cell_type": "markdown",
   "id": "feb6e03e-9ea5-44cb-bf8a-7c96600cfeb6",
   "metadata": {},
   "source": [
    "**pop,  popitem**"
   ]
  },
  {
   "cell_type": "code",
   "execution_count": 31,
   "id": "d37ce140-8001-47d6-8f47-4df882df5342",
   "metadata": {},
   "outputs": [
    {
     "data": {
      "text/plain": [
       "25"
      ]
     },
     "execution_count": 31,
     "metadata": {},
     "output_type": "execute_result"
    }
   ],
   "source": [
    "d={'ramesh': 20, 'suresh': 25, 'sathish': 30}\n",
    "d.pop('suresh') # remove specific key"
   ]
  },
  {
   "cell_type": "code",
   "execution_count": 32,
   "id": "48697d22-4748-4d73-8f99-43295817065a",
   "metadata": {},
   "outputs": [
    {
     "data": {
      "text/plain": [
       "{'ramesh': 20, 'sathish': 30}"
      ]
     },
     "execution_count": 32,
     "metadata": {},
     "output_type": "execute_result"
    }
   ],
   "source": [
    "d"
   ]
  },
  {
   "cell_type": "code",
   "execution_count": 33,
   "id": "bfdf8bf2-f2ce-447b-aa79-77d61441dc31",
   "metadata": {},
   "outputs": [
    {
     "data": {
      "text/plain": [
       "('sathish', 30)"
      ]
     },
     "execution_count": 33,
     "metadata": {},
     "output_type": "execute_result"
    }
   ],
   "source": [
    "d.popitem() #remove last key,value of dict"
   ]
  },
  {
   "cell_type": "code",
   "execution_count": 34,
   "id": "00d2860c-27c8-49f0-964b-be57f9e9f03b",
   "metadata": {},
   "outputs": [
    {
     "data": {
      "text/plain": [
       "{'ramesh': 20}"
      ]
     },
     "execution_count": 34,
     "metadata": {},
     "output_type": "execute_result"
    }
   ],
   "source": [
    "d"
   ]
  },
  {
   "cell_type": "code",
   "execution_count": 40,
   "id": "9558806f-be72-4fa5-b009-024eb1da16e9",
   "metadata": {},
   "outputs": [
    {
     "data": {
      "text/plain": [
       "[20]"
      ]
     },
     "execution_count": 40,
     "metadata": {},
     "output_type": "execute_result"
    }
   ],
   "source": [
    "l1=[10,20,30]\n",
    "l1.remove(10)\n",
    "l1.pop()\n",
    "l1"
   ]
  },
  {
   "cell_type": "markdown",
   "id": "14d4b7f7-4d13-4e9a-8b7c-2b88075acb19",
   "metadata": {},
   "source": [
    "- **pop** in dictionary similar analogy **remove** in list\n",
    "\n",
    "- **popitem** in dictionary similar analogy **pop** in list"
   ]
  },
  {
   "cell_type": "code",
   "execution_count": null,
   "id": "6726bc08-8d3e-47fc-9619-b29c6f7e1b6d",
   "metadata": {},
   "outputs": [],
   "source": []
  },
  {
   "cell_type": "code",
   "execution_count": null,
   "id": "41e82f08-f2ef-4952-8507-cc21924a4c9d",
   "metadata": {},
   "outputs": [],
   "source": []
  },
  {
   "cell_type": "markdown",
   "id": "da7d6214-2d2a-4ae1-a745-92151f25182c",
   "metadata": {},
   "source": [
    "**get**"
   ]
  },
  {
   "cell_type": "code",
   "execution_count": 41,
   "id": "41595a50-2352-4dc6-987c-54077a9de972",
   "metadata": {},
   "outputs": [
    {
     "data": {
      "text/plain": [
       "25"
      ]
     },
     "execution_count": 41,
     "metadata": {},
     "output_type": "execute_result"
    }
   ],
   "source": [
    "d={'ramesh': 20, 'suresh': 25, 'sathish': 30}\n",
    "d.get('suresh')"
   ]
  },
  {
   "cell_type": "code",
   "execution_count": 44,
   "id": "6460757d-8a49-460c-b2f4-0c0d72bb4a4d",
   "metadata": {},
   "outputs": [
    {
     "data": {
      "text/plain": [
       "20"
      ]
     },
     "execution_count": 44,
     "metadata": {},
     "output_type": "execute_result"
    }
   ],
   "source": [
    "d['ramesh'] # key as a index"
   ]
  },
  {
   "cell_type": "code",
   "execution_count": null,
   "id": "e23945e9-6210-4ff7-b10d-1b70a54fc118",
   "metadata": {},
   "outputs": [],
   "source": []
  },
  {
   "cell_type": "code",
   "execution_count": null,
   "id": "36477866-84b2-48cb-8f64-ffd70af911bb",
   "metadata": {},
   "outputs": [],
   "source": []
  },
  {
   "cell_type": "markdown",
   "id": "67a5dba7-f692-45f3-9a5d-39543d542ec8",
   "metadata": {},
   "source": [
    "**update**"
   ]
  },
  {
   "cell_type": "code",
   "execution_count": 48,
   "id": "8d84db43-4fe5-44a7-8037-279d08a8b90a",
   "metadata": {},
   "outputs": [],
   "source": [
    "d={'ramesh': 20, 'suresh': 25, 'sathish': 30}\n",
    "d1={'abhi':25,'nil':31,'sumit':26}\n",
    "\n",
    "d.update(d1)"
   ]
  },
  {
   "cell_type": "code",
   "execution_count": 47,
   "id": "4807c127-e83f-4b67-9250-680c3a838ddd",
   "metadata": {},
   "outputs": [
    {
     "data": {
      "text/plain": [
       "{'ramesh': 20, 'suresh': 25, 'sathish': 30, 'abhi': 25, 'nil': 31, 'sumit': 26}"
      ]
     },
     "execution_count": 47,
     "metadata": {},
     "output_type": "execute_result"
    }
   ],
   "source": [
    "d"
   ]
  },
  {
   "cell_type": "markdown",
   "id": "d0b9b646-2233-403b-bc74-1fe167aec4c8",
   "metadata": {},
   "source": [
    "- **update** is similar analogy list **extend**\n",
    "\n",
    "- take two dictionary and apply update"
   ]
  },
  {
   "cell_type": "code",
   "execution_count": 49,
   "id": "4edb46ca-e6ba-43d5-8f63-3bbdb57a5610",
   "metadata": {},
   "outputs": [],
   "source": [
    "l1=[10,20,30]\n",
    "l2=[40,50,60]\n",
    "l1.extend(l2)"
   ]
  },
  {
   "cell_type": "code",
   "execution_count": 50,
   "id": "519e9a70-5353-4d41-8d44-5cab819cbb3b",
   "metadata": {},
   "outputs": [
    {
     "data": {
      "text/plain": [
       "[10, 20, 30, 40, 50, 60]"
      ]
     },
     "execution_count": 50,
     "metadata": {},
     "output_type": "execute_result"
    }
   ],
   "source": [
    "l1"
   ]
  },
  {
   "cell_type": "code",
   "execution_count": null,
   "id": "0ccb0eb0-354c-4045-a01e-9ac351ed8af8",
   "metadata": {},
   "outputs": [],
   "source": []
  },
  {
   "cell_type": "code",
   "execution_count": null,
   "id": "49fabdb9-43bc-406f-8031-0010a927ec47",
   "metadata": {},
   "outputs": [],
   "source": []
  },
  {
   "cell_type": "markdown",
   "id": "62ba60a2-d8c0-4936-b216-2454ca92f939",
   "metadata": {},
   "source": [
    "**setdefault**\n",
    "\n",
    "- suppose an already existed dictionary available\n",
    "\n",
    "- we can update the dictionary with new key:value pair"
   ]
  },
  {
   "cell_type": "code",
   "execution_count": 51,
   "id": "b4dcf032-8f16-472c-97c6-f80c8327e4f3",
   "metadata": {},
   "outputs": [],
   "source": [
    "d={'ramesh': 20, 'suresh': 25, 'sathish': 30}"
   ]
  },
  {
   "cell_type": "code",
   "execution_count": 55,
   "id": "19d74d16-faf9-4066-9c38-12fc8d52d3a8",
   "metadata": {},
   "outputs": [],
   "source": [
    "d.setdefault('manish')"
   ]
  },
  {
   "cell_type": "code",
   "execution_count": 56,
   "id": "8888e0b3-7418-40cf-bade-09b27c84d17d",
   "metadata": {},
   "outputs": [
    {
     "data": {
      "text/plain": [
       "{'ramesh': 20, 'suresh': 25, 'sathish': 30, 'manish': None}"
      ]
     },
     "execution_count": 56,
     "metadata": {},
     "output_type": "execute_result"
    }
   ],
   "source": [
    "d"
   ]
  },
  {
   "cell_type": "code",
   "execution_count": 57,
   "id": "20348f26-fb6f-4e5a-b8ca-f6d8a4661cd6",
   "metadata": {},
   "outputs": [
    {
     "data": {
      "text/plain": [
       "27"
      ]
     },
     "execution_count": 57,
     "metadata": {},
     "output_type": "execute_result"
    }
   ],
   "source": [
    "d.setdefault('mahesh',27)"
   ]
  },
  {
   "cell_type": "code",
   "execution_count": 58,
   "id": "e9149abd-457a-4739-a215-6076059e66b7",
   "metadata": {},
   "outputs": [
    {
     "data": {
      "text/plain": [
       "{'ramesh': 20, 'suresh': 25, 'sathish': 30, 'manish': None, 'mahesh': 27}"
      ]
     },
     "execution_count": 58,
     "metadata": {},
     "output_type": "execute_result"
    }
   ],
   "source": [
    "d"
   ]
  },
  {
   "cell_type": "markdown",
   "id": "e8004ab7-c497-4328-a5bb-4d3b8515e7b1",
   "metadata": {},
   "source": [
    "- setdefault in dictionary , similar analogy **list append**\n",
    "\n",
    "- always remember dictionary is key:value pair concept\n",
    "\n",
    "- it never involves index operations\n",
    "\n",
    "- thats why we dont have any index or find methods\n",
    "\n",
    "- we have get method to extract values using key"
   ]
  },
  {
   "cell_type": "code",
   "execution_count": null,
   "id": "2f7d3b4a-2d90-46cf-8972-2aa45d51b582",
   "metadata": {},
   "outputs": [],
   "source": []
  },
  {
   "cell_type": "code",
   "execution_count": null,
   "id": "6c97ff74-7208-4243-9e99-144489db6a60",
   "metadata": {},
   "outputs": [],
   "source": []
  },
  {
   "cell_type": "markdown",
   "id": "7f752e3e-e181-423e-b18a-51186bd2079e",
   "metadata": {},
   "source": [
    "**fromkeys**\n",
    "\n",
    "- create a dictionary with diffrent keys but same value\n",
    "\n",
    "- fromkeys will take an argument **iterable**\n",
    "\n",
    "- try to provide an iterator i.e string,list,tuple"
   ]
  },
  {
   "cell_type": "code",
   "execution_count": 59,
   "id": "bd2e0e37-a325-474b-84ce-9dc79699eecd",
   "metadata": {},
   "outputs": [
    {
     "data": {
      "text/plain": [
       "{'ramesh': None, 'suresh': None, 'sathish': None}"
      ]
     },
     "execution_count": 59,
     "metadata": {},
     "output_type": "execute_result"
    }
   ],
   "source": [
    "d={}\n",
    "names=['ramesh','suresh','sathish']\n",
    "d.fromkeys(names)"
   ]
  },
  {
   "cell_type": "code",
   "execution_count": 60,
   "id": "8e31910a-6102-4039-9641-342811a3722e",
   "metadata": {},
   "outputs": [
    {
     "data": {
      "text/plain": [
       "{'ramesh': 'nareshit', 'suresh': 'nareshit', 'sathish': 'nareshit'}"
      ]
     },
     "execution_count": 60,
     "metadata": {},
     "output_type": "execute_result"
    }
   ],
   "source": [
    "d.fromkeys(names,'nareshit')"
   ]
  },
  {
   "cell_type": "code",
   "execution_count": null,
   "id": "66b09167-3409-427c-80cf-256a1b406404",
   "metadata": {},
   "outputs": [],
   "source": []
  },
  {
   "cell_type": "code",
   "execution_count": 62,
   "id": "43903b20-69f5-440a-b3f1-e4a00f566443",
   "metadata": {},
   "outputs": [
    {
     "data": {
      "text/plain": [
       "{'ramesh': 'nareshit', 'suresh': 'nareshit', 'sathish': 'nareshit'}"
      ]
     },
     "execution_count": 62,
     "metadata": {},
     "output_type": "execute_result"
    }
   ],
   "source": [
    "d={}\n",
    "names=('ramesh','suresh','sathish')\n",
    "d.fromkeys(names,'nareshit')"
   ]
  },
  {
   "cell_type": "code",
   "execution_count": null,
   "id": "a28c8fef-ccc9-412f-80ec-1b268867aaf6",
   "metadata": {},
   "outputs": [],
   "source": []
  },
  {
   "cell_type": "code",
   "execution_count": 61,
   "id": "8c86f691-2716-43b8-9de0-ea8882fb5d92",
   "metadata": {},
   "outputs": [
    {
     "data": {
      "text/plain": [
       "{'p': 'nareshit',\n",
       " 'y': 'nareshit',\n",
       " 't': 'nareshit',\n",
       " 'h': 'nareshit',\n",
       " 'o': 'nareshit',\n",
       " 'n': 'nareshit'}"
      ]
     },
     "execution_count": 61,
     "metadata": {},
     "output_type": "execute_result"
    }
   ],
   "source": [
    "d={}\n",
    "d.fromkeys('python','nareshit')"
   ]
  },
  {
   "cell_type": "code",
   "execution_count": null,
   "id": "0e3fa7f5-e495-461f-aebc-b0f152c05854",
   "metadata": {},
   "outputs": [],
   "source": []
  },
  {
   "cell_type": "code",
   "execution_count": null,
   "id": "e3a97cd0-dd8e-4948-bc33-6ff30f7e1389",
   "metadata": {},
   "outputs": [],
   "source": []
  },
  {
   "cell_type": "markdown",
   "id": "42a37143-e4ab-4b70-9986-656581b24300",
   "metadata": {},
   "source": [
    "- **pop** in dictionary similar analogy **remove** in list\n",
    "\n",
    "- **popitem** in dictionary similar analogy **pop** in list\n",
    "\n",
    "- **update** is similar analogy list **extend**\n",
    "\n",
    "- take two dictionary and apply update\n",
    "\n",
    "- setdefault in dictionary , similar analogy **list append**\n",
    "\n",
    "- **get** in dictionary , similr analogy **list index**\n",
    "\n",
    "- list has count, string has count and tuple also has count\n",
    "\n",
    "    - but dictionary does not have **count**\n",
    "\n",
    "    - because dictionary deoes not allow duplicate\n",
    " \n",
    "      \n",
    "- strings has find but list does not have"
   ]
  },
  {
   "cell_type": "code",
   "execution_count": null,
   "id": "8e2cb6bc-45ed-440d-88e0-60ad352ce4b5",
   "metadata": {},
   "outputs": [],
   "source": []
  }
 ],
 "metadata": {
  "kernelspec": {
   "display_name": "Python 3 (ipykernel)",
   "language": "python",
   "name": "python3"
  },
  "language_info": {
   "codemirror_mode": {
    "name": "ipython",
    "version": 3
   },
   "file_extension": ".py",
   "mimetype": "text/x-python",
   "name": "python",
   "nbconvert_exporter": "python",
   "pygments_lexer": "ipython3",
   "version": "3.12.7"
  }
 },
 "nbformat": 4,
 "nbformat_minor": 5
}
