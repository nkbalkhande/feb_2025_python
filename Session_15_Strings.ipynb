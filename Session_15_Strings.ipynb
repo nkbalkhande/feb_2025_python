{
 "cells": [
  {
   "cell_type": "code",
   "execution_count": null,
   "id": "4a1b0bda-9292-483c-b423-e4a0a45379f2",
   "metadata": {},
   "outputs": [],
   "source": [
    "============================ Basic python ==============================\n",
    "- Variable\n",
    "\n",
    "- Data type\n",
    "\n",
    "- Type Conversion\n",
    "\n",
    "- Print\n",
    "\n",
    "- eval and input\n",
    "\n",
    "- Basic code\n",
    "\n",
    "- Packages\n",
    "\n",
    "- Conditional statement\n",
    "\n",
    "- try and except\n",
    "\n",
    "- function\n",
    "\n",
    "- for loop\n",
    "\n",
    "- while loop\n",
    "\n",
    "\n",
    "==============================Intermediate python =============================\n",
    "\n",
    "- Strings\n",
    "\n",
    "- Lists\n",
    "\n",
    "- List comprehsion\n",
    "\n",
    "- Tuple  ======> you do\n",
    "\n",
    "- Sets ========> you do\n",
    "\n",
    "- Dictionary\n",
    "\n",
    "- Lambda function\n",
    "\n",
    "- file handling\n",
    "\n",
    "==================================OOPS Concepts===========================================(ML)"
   ]
  },
  {
   "cell_type": "markdown",
   "id": "a722a394-ecf9-49e2-9125-2c10456a9c4a",
   "metadata": {},
   "source": [
    "- Basic Representations\n",
    "\n",
    "- Inbuilt function\n",
    "\n",
    "     - print\n",
    "\n",
    "     - type\n",
    " \n",
    "     - len\n",
    " \n",
    "     - sum\n",
    " \n",
    "     - max\n",
    " \n",
    "     - min\n",
    " \n",
    "     - sorted\n",
    " \n",
    "     - reveresed\n",
    " \n",
    "- concatenation\n",
    "\n",
    "- indexing\n",
    "\n",
    "- mutabel or immutable concept\n",
    "\n",
    "- slicing\n",
    "\n",
    "- methods\n",
    "       "
   ]
  },
  {
   "cell_type": "markdown",
   "id": "b9d41a0c-8101-49f9-a338-bdd2c84bd492",
   "metadata": {},
   "source": [
    "**Basic Representation**"
   ]
  },
  {
   "cell_type": "code",
   "execution_count": 2,
   "id": "35334adc-6cb1-494b-9a21-9896775db82d",
   "metadata": {},
   "outputs": [],
   "source": [
    "name='python'"
   ]
  },
  {
   "cell_type": "code",
   "execution_count": 3,
   "id": "a4d4e345-18c0-446f-8cb2-e6bce667d53d",
   "metadata": {},
   "outputs": [
    {
     "data": {
      "text/plain": [
       "'python'"
      ]
     },
     "execution_count": 3,
     "metadata": {},
     "output_type": "execute_result"
    }
   ],
   "source": [
    "name"
   ]
  },
  {
   "cell_type": "code",
   "execution_count": 4,
   "id": "f06d3f06-e5f7-4373-8769-ba782bd7b0d5",
   "metadata": {},
   "outputs": [
    {
     "name": "stdout",
     "output_type": "stream",
     "text": [
      "python\n"
     ]
    }
   ],
   "source": [
    "print(name)"
   ]
  },
  {
   "cell_type": "code",
   "execution_count": 5,
   "id": "9a94b300-cb8c-4010-bf0c-eda62b3cd03c",
   "metadata": {},
   "outputs": [
    {
     "data": {
      "text/plain": [
       "'python'"
      ]
     },
     "execution_count": 5,
     "metadata": {},
     "output_type": "execute_result"
    }
   ],
   "source": [
    "name=\"python\"\n",
    "name"
   ]
  },
  {
   "cell_type": "markdown",
   "id": "dce7a725-8e38-4ba5-9753-77e7143ec8e4",
   "metadata": {},
   "source": [
    "- python by default give output in **single quotes**\n",
    "\n",
    "- when we print the string the output display **without qoutes**"
   ]
  },
  {
   "cell_type": "code",
   "execution_count": 9,
   "id": "d6b0bf60-c2f9-453c-be6d-d9d35e5bb38d",
   "metadata": {},
   "outputs": [
    {
     "name": "stdout",
     "output_type": "stream",
     "text": [
      "I love 'python' \n"
     ]
    }
   ],
   "source": [
    "str1=\"I love 'python' \"\n",
    "print(str1)"
   ]
  },
  {
   "cell_type": "code",
   "execution_count": 10,
   "id": "00fa2fcc-e900-41cb-99c6-6ddc6f3e35b8",
   "metadata": {},
   "outputs": [
    {
     "name": "stdout",
     "output_type": "stream",
     "text": [
      "I love \"python\" \n"
     ]
    }
   ],
   "source": [
    "str2='I love \"python\" '\n",
    "print(str2)"
   ]
  },
  {
   "cell_type": "code",
   "execution_count": null,
   "id": "c8ef5847-53fc-436d-8eea-f6182503095d",
   "metadata": {},
   "outputs": [],
   "source": []
  },
  {
   "cell_type": "markdown",
   "id": "f2f419d6-3a41-4085-91bf-6820529e3f1a",
   "metadata": {},
   "source": [
    "**Doc String**\n",
    "\n",
    "- triple quotes also called as doc string.\n",
    "\n",
    "- triple quotes means the user try to convey the some information"
   ]
  },
  {
   "cell_type": "markdown",
   "id": "17645a7d-b870-4bb6-ae87-4742ef1d9f59",
   "metadata": {},
   "source": [
    "**Type**"
   ]
  },
  {
   "cell_type": "code",
   "execution_count": 12,
   "id": "23dc9b23-8ee7-412e-a32c-a04f5ed82c9a",
   "metadata": {},
   "outputs": [
    {
     "data": {
      "text/plain": [
       "str"
      ]
     },
     "execution_count": 12,
     "metadata": {},
     "output_type": "execute_result"
    }
   ],
   "source": [
    "name='python'\n",
    "type(name)"
   ]
  },
  {
   "cell_type": "markdown",
   "id": "4600ab3e-2272-47c8-bf36-f4472300706d",
   "metadata": {},
   "source": [
    "**len**"
   ]
  },
  {
   "cell_type": "code",
   "execution_count": 14,
   "id": "f66951fb-6451-48a1-89c4-9cda9f7ba651",
   "metadata": {},
   "outputs": [
    {
     "data": {
      "text/plain": [
       "6"
      ]
     },
     "execution_count": 14,
     "metadata": {},
     "output_type": "execute_result"
    }
   ],
   "source": [
    "name='python'\n",
    "len(name)"
   ]
  },
  {
   "cell_type": "code",
   "execution_count": null,
   "id": "be0d9bcf-7350-4bfb-b2db-7719d7dace1a",
   "metadata": {},
   "outputs": [],
   "source": []
  },
  {
   "cell_type": "markdown",
   "id": "4e4a4c20-9935-4bab-8ca4-79d19989c27d",
   "metadata": {},
   "source": [
    "**Max**"
   ]
  },
  {
   "cell_type": "code",
   "execution_count": 16,
   "id": "b5af0627-28a6-43a4-a288-7c73de633a7e",
   "metadata": {},
   "outputs": [
    {
     "data": {
      "text/plain": [
       "'y'"
      ]
     },
     "execution_count": 16,
     "metadata": {},
     "output_type": "execute_result"
    }
   ],
   "source": [
    "max(name)"
   ]
  },
  {
   "cell_type": "code",
   "execution_count": 25,
   "id": "95355797-e717-47f7-99ef-b6f0b1fff885",
   "metadata": {},
   "outputs": [
    {
     "name": "stdout",
     "output_type": "stream",
     "text": [
      "112 121 116 104 111 110 "
     ]
    }
   ],
   "source": [
    "for i in 'python':\n",
    "    print(ord(i),end=' ')"
   ]
  },
  {
   "cell_type": "markdown",
   "id": "dae59d94-bc72-4128-96f0-59e8e3116509",
   "metadata": {},
   "source": [
    "**Min**"
   ]
  },
  {
   "cell_type": "code",
   "execution_count": 17,
   "id": "a0db0d02-da73-445f-9b9f-a47bffd3007d",
   "metadata": {},
   "outputs": [
    {
     "data": {
      "text/plain": [
       "'h'"
      ]
     },
     "execution_count": 17,
     "metadata": {},
     "output_type": "execute_result"
    }
   ],
   "source": [
    "min(name)"
   ]
  },
  {
   "cell_type": "code",
   "execution_count": null,
   "id": "0b25d062-5dfd-4fb3-8e45-5c9aee963e28",
   "metadata": {},
   "outputs": [],
   "source": []
  },
  {
   "cell_type": "markdown",
   "id": "81c5a60f-5deb-45fd-9835-69cb45e85fe1",
   "metadata": {},
   "source": [
    "**Sorted**"
   ]
  },
  {
   "cell_type": "markdown",
   "id": "31ebecf5-bb81-4883-9f89-4bae9d6ee878",
   "metadata": {},
   "source": [
    "- sorted means either ascending or descending\n",
    "\n",
    "- ascending: small to big\n",
    "\n",
    "- decending : big to small"
   ]
  },
  {
   "cell_type": "code",
   "execution_count": 26,
   "id": "9b632373-7820-4132-9bc8-79c7e9a1c09f",
   "metadata": {},
   "outputs": [
    {
     "data": {
      "text/plain": [
       "['h', 'n', 'o', 'p', 't', 'y']"
      ]
     },
     "execution_count": 26,
     "metadata": {},
     "output_type": "execute_result"
    }
   ],
   "source": [
    "sorted(name)\n",
    "# by default ascending"
   ]
  },
  {
   "cell_type": "code",
   "execution_count": 35,
   "id": "bd880816-d481-4006-b2b4-91169b5de43d",
   "metadata": {},
   "outputs": [
    {
     "data": {
      "text/plain": [
       "['y', 't', 'p', 'o', 'n', 'h']"
      ]
     },
     "execution_count": 35,
     "metadata": {},
     "output_type": "execute_result"
    }
   ],
   "source": [
    "sorted(name,reverse=True)"
   ]
  },
  {
   "cell_type": "code",
   "execution_count": 27,
   "id": "730fc18e-9ea3-4925-81f4-bad8f48e9857",
   "metadata": {},
   "outputs": [
    {
     "name": "stdout",
     "output_type": "stream",
     "text": [
      "30\n"
     ]
    }
   ],
   "source": [
    "def add(a,b):\n",
    "    print(a+b)\n",
    "add(10,20)"
   ]
  },
  {
   "cell_type": "code",
   "execution_count": 28,
   "id": "2317ad76-9469-4b85-9599-037bc6ba0a14",
   "metadata": {},
   "outputs": [
    {
     "name": "stdout",
     "output_type": "stream",
     "text": [
      "30\n"
     ]
    }
   ],
   "source": [
    "def add(a,b):\n",
    "    print(a+b)\n",
    "add(a=10,b=20)"
   ]
  },
  {
   "cell_type": "code",
   "execution_count": 29,
   "id": "e5ee6179-fa75-4566-b01d-8eb67c4e77a2",
   "metadata": {},
   "outputs": [
    {
     "name": "stdout",
     "output_type": "stream",
     "text": [
      "30\n"
     ]
    }
   ],
   "source": [
    "def add(a,/,b):\n",
    "    print(a+b)\n",
    "add(10,b=20)"
   ]
  },
  {
   "cell_type": "code",
   "execution_count": 30,
   "id": "05d252da-26c1-40ab-99da-576b9243acf0",
   "metadata": {},
   "outputs": [
    {
     "ename": "SyntaxError",
     "evalue": "positional argument follows keyword argument (3787002837.py, line 3)",
     "output_type": "error",
     "traceback": [
      "\u001b[1;36m  Cell \u001b[1;32mIn[30], line 3\u001b[1;36m\u001b[0m\n\u001b[1;33m    add(a=10,20)\u001b[0m\n\u001b[1;37m               ^\u001b[0m\n\u001b[1;31mSyntaxError\u001b[0m\u001b[1;31m:\u001b[0m positional argument follows keyword argument\n"
     ]
    }
   ],
   "source": [
    "def add(a,/,b):\n",
    "    print(a+b)\n",
    "add(a=10,20)"
   ]
  },
  {
   "cell_type": "code",
   "execution_count": 31,
   "id": "7cd30f69-38fb-448d-8fd3-1454403beef2",
   "metadata": {},
   "outputs": [
    {
     "ename": "TypeError",
     "evalue": "add() got some positional-only arguments passed as keyword arguments: 'a'",
     "output_type": "error",
     "traceback": [
      "\u001b[1;31m---------------------------------------------------------------------------\u001b[0m",
      "\u001b[1;31mTypeError\u001b[0m                                 Traceback (most recent call last)",
      "Cell \u001b[1;32mIn[31], line 3\u001b[0m\n\u001b[0;32m      1\u001b[0m \u001b[38;5;28;01mdef\u001b[39;00m \u001b[38;5;21madd\u001b[39m(a,\u001b[38;5;241m/\u001b[39m,b):\n\u001b[0;32m      2\u001b[0m     \u001b[38;5;28mprint\u001b[39m(a\u001b[38;5;241m+\u001b[39mb)\n\u001b[1;32m----> 3\u001b[0m add(a\u001b[38;5;241m=\u001b[39m\u001b[38;5;241m10\u001b[39m,b\u001b[38;5;241m=\u001b[39m\u001b[38;5;241m20\u001b[39m)\n",
      "\u001b[1;31mTypeError\u001b[0m: add() got some positional-only arguments passed as keyword arguments: 'a'"
     ]
    }
   ],
   "source": [
    "def add(a,/,b):\n",
    "    print(a+b)\n",
    "add(a=10,b=20)"
   ]
  },
  {
   "cell_type": "code",
   "execution_count": 33,
   "id": "dd88818a-b77b-4ccd-908f-a626dcdb4769",
   "metadata": {},
   "outputs": [
    {
     "ename": "TypeError",
     "evalue": "sorted expected 1 argument, got 0",
     "output_type": "error",
     "traceback": [
      "\u001b[1;31m---------------------------------------------------------------------------\u001b[0m",
      "\u001b[1;31mTypeError\u001b[0m                                 Traceback (most recent call last)",
      "Cell \u001b[1;32mIn[33], line 1\u001b[0m\n\u001b[1;32m----> 1\u001b[0m \u001b[38;5;28msorted\u001b[39m(iterable\u001b[38;5;241m=\u001b[39m\u001b[38;5;124m'\u001b[39m\u001b[38;5;124mpython\u001b[39m\u001b[38;5;124m'\u001b[39m)\n",
      "\u001b[1;31mTypeError\u001b[0m: sorted expected 1 argument, got 0"
     ]
    }
   ],
   "source": [
    "sorted(iterable='python')"
   ]
  },
  {
   "cell_type": "markdown",
   "id": "e7892e44-41bc-40d5-bfc1-a2aa5105494c",
   "metadata": {},
   "source": [
    "- **Note**: \n",
    "\n",
    "- / :before dont use argument name\n",
    "\n",
    "- / :after you can use argument name, that is our wish\n",
    "\n",
    "- (*): star indicates no need maintain the order of the arguments\n"
   ]
  },
  {
   "cell_type": "code",
   "execution_count": null,
   "id": "d0667741-aa98-4f9f-a8e2-55b29564f41c",
   "metadata": {},
   "outputs": [],
   "source": []
  },
  {
   "cell_type": "code",
   "execution_count": 36,
   "id": "cb80e638-6d94-4e73-ae63-715021432b94",
   "metadata": {},
   "outputs": [
    {
     "name": "stdout",
     "output_type": "stream",
     "text": [
      "60\n"
     ]
    }
   ],
   "source": [
    "def add(a,/,*,b,c):\n",
    "    print(a+b+c)\n",
    "add(10,c=30,b=20)"
   ]
  },
  {
   "cell_type": "code",
   "execution_count": 37,
   "id": "35635bac-f0d6-4993-be7b-af567a1ba0a6",
   "metadata": {},
   "outputs": [
    {
     "ename": "TypeError",
     "evalue": "add() takes 1 positional argument but 3 were given",
     "output_type": "error",
     "traceback": [
      "\u001b[1;31m---------------------------------------------------------------------------\u001b[0m",
      "\u001b[1;31mTypeError\u001b[0m                                 Traceback (most recent call last)",
      "Cell \u001b[1;32mIn[37], line 1\u001b[0m\n\u001b[1;32m----> 1\u001b[0m add(\u001b[38;5;241m10\u001b[39m,\u001b[38;5;241m20\u001b[39m,\u001b[38;5;241m30\u001b[39m)\n",
      "\u001b[1;31mTypeError\u001b[0m: add() takes 1 positional argument but 3 were given"
     ]
    }
   ],
   "source": [
    "add(10,20,30)"
   ]
  },
  {
   "cell_type": "code",
   "execution_count": 38,
   "id": "25e3e945-8c7d-4abe-80ac-ee947bc4add0",
   "metadata": {},
   "outputs": [
    {
     "ename": "SyntaxError",
     "evalue": "positional argument follows keyword argument (2063205267.py, line 1)",
     "output_type": "error",
     "traceback": [
      "\u001b[1;36m  Cell \u001b[1;32mIn[38], line 1\u001b[1;36m\u001b[0m\n\u001b[1;33m    add(10,c=20,b)\u001b[0m\n\u001b[1;37m                 ^\u001b[0m\n\u001b[1;31mSyntaxError\u001b[0m\u001b[1;31m:\u001b[0m positional argument follows keyword argument\n"
     ]
    }
   ],
   "source": [
    "add(10,c=20,b)"
   ]
  },
  {
   "cell_type": "code",
   "execution_count": 39,
   "id": "5de0ac16-b2e7-41c9-a0dc-ffbc6135d4f0",
   "metadata": {},
   "outputs": [
    {
     "ename": "TypeError",
     "evalue": "add() takes 1 positional argument but 2 were given",
     "output_type": "error",
     "traceback": [
      "\u001b[1;31m---------------------------------------------------------------------------\u001b[0m",
      "\u001b[1;31mTypeError\u001b[0m                                 Traceback (most recent call last)",
      "Cell \u001b[1;32mIn[39], line 1\u001b[0m\n\u001b[1;32m----> 1\u001b[0m add(\u001b[38;5;241m10\u001b[39m,\u001b[38;5;241m30\u001b[39m)\n",
      "\u001b[1;31mTypeError\u001b[0m: add() takes 1 positional argument but 2 were given"
     ]
    }
   ],
   "source": [
    "add(10,30)"
   ]
  },
  {
   "cell_type": "code",
   "execution_count": 40,
   "id": "959979c2-4dde-4d36-b4f9-bcb03ffa23fe",
   "metadata": {},
   "outputs": [
    {
     "ename": "TypeError",
     "evalue": "add() got some positional-only arguments passed as keyword arguments: 'a'",
     "output_type": "error",
     "traceback": [
      "\u001b[1;31m---------------------------------------------------------------------------\u001b[0m",
      "\u001b[1;31mTypeError\u001b[0m                                 Traceback (most recent call last)",
      "Cell \u001b[1;32mIn[40], line 1\u001b[0m\n\u001b[1;32m----> 1\u001b[0m add(a\u001b[38;5;241m=\u001b[39m\u001b[38;5;241m10\u001b[39m,b\u001b[38;5;241m=\u001b[39m\u001b[38;5;241m20\u001b[39m,c\u001b[38;5;241m=\u001b[39m\u001b[38;5;241m30\u001b[39m)\n",
      "\u001b[1;31mTypeError\u001b[0m: add() got some positional-only arguments passed as keyword arguments: 'a'"
     ]
    }
   ],
   "source": [
    "add(a=10,b=20,c=30)"
   ]
  },
  {
   "cell_type": "markdown",
   "id": "87c68374-704b-4bb4-a767-c48c2f5825c0",
   "metadata": {},
   "source": [
    "**Note**:\n",
    "- (*); indicates provide the argument name "
   ]
  },
  {
   "cell_type": "code",
   "execution_count": null,
   "id": "37028a86-b7a3-401e-987e-cd5f7f3f9ee8",
   "metadata": {},
   "outputs": [],
   "source": []
  },
  {
   "cell_type": "code",
   "execution_count": null,
   "id": "157ae9e6-d67b-47e7-9137-88d2fa1c5509",
   "metadata": {},
   "outputs": [],
   "source": []
  },
  {
   "cell_type": "code",
   "execution_count": 41,
   "id": "804c0fbb-6257-4b64-b25c-67efdc9feb7a",
   "metadata": {},
   "outputs": [
    {
     "ename": "TypeError",
     "evalue": "sorted expected 1 argument, got 2",
     "output_type": "error",
     "traceback": [
      "\u001b[1;31m---------------------------------------------------------------------------\u001b[0m",
      "\u001b[1;31mTypeError\u001b[0m                                 Traceback (most recent call last)",
      "Cell \u001b[1;32mIn[41], line 1\u001b[0m\n\u001b[1;32m----> 1\u001b[0m \u001b[38;5;28msorted\u001b[39m(name,\u001b[38;5;28;01mTrue\u001b[39;00m)\n",
      "\u001b[1;31mTypeError\u001b[0m: sorted expected 1 argument, got 2"
     ]
    }
   ],
   "source": [
    "sorted(name,True)"
   ]
  },
  {
   "cell_type": "code",
   "execution_count": 43,
   "id": "a7b44faa-69b4-45c5-a051-67df12c206f4",
   "metadata": {},
   "outputs": [
    {
     "data": {
      "text/plain": [
       "['h', 'n', 'o', 'p', 't', 'y']"
      ]
     },
     "execution_count": 43,
     "metadata": {},
     "output_type": "execute_result"
    }
   ],
   "source": [
    "sorted(name)"
   ]
  },
  {
   "cell_type": "code",
   "execution_count": 42,
   "id": "3316ee50-2985-4e75-ba16-d1f5fb1524c3",
   "metadata": {},
   "outputs": [
    {
     "data": {
      "text/plain": [
       "['y', 't', 'p', 'o', 'n', 'h']"
      ]
     },
     "execution_count": 42,
     "metadata": {},
     "output_type": "execute_result"
    }
   ],
   "source": [
    "sorted(name,reverse=True)"
   ]
  },
  {
   "cell_type": "code",
   "execution_count": null,
   "id": "4d5be7c1-0ff2-4742-95ab-749e95d9a34a",
   "metadata": {},
   "outputs": [],
   "source": []
  },
  {
   "cell_type": "code",
   "execution_count": null,
   "id": "6498c8b6-94e8-4834-8bd4-46a1df2f8c7a",
   "metadata": {},
   "outputs": [],
   "source": [
    "sorted('python') #W\n",
    "sorted(iterable='python')#F\n",
    "sorted('python',reverse=True)#W\n",
    "sorted(iterable='python',reverse=True)#F\n",
    "sorted('python',True)#F\n"
   ]
  },
  {
   "cell_type": "markdown",
   "id": "8c6262b4-e996-4c1f-8d3b-8a773f94ec38",
   "metadata": {},
   "source": [
    "**Reversed**"
   ]
  },
  {
   "cell_type": "code",
   "execution_count": 44,
   "id": "2b792269-37cb-4c5f-b852-f57dab7dd9df",
   "metadata": {},
   "outputs": [
    {
     "ename": "TypeError",
     "evalue": "reversed() takes no keyword arguments",
     "output_type": "error",
     "traceback": [
      "\u001b[1;31m---------------------------------------------------------------------------\u001b[0m",
      "\u001b[1;31mTypeError\u001b[0m                                 Traceback (most recent call last)",
      "Cell \u001b[1;32mIn[44], line 1\u001b[0m\n\u001b[1;32m----> 1\u001b[0m \u001b[38;5;28mreversed\u001b[39m(iterates\u001b[38;5;241m=\u001b[39m\u001b[38;5;124m'\u001b[39m\u001b[38;5;124mpython\u001b[39m\u001b[38;5;124m'\u001b[39m)\n",
      "\u001b[1;31mTypeError\u001b[0m: reversed() takes no keyword arguments"
     ]
    }
   ],
   "source": [
    "reversed(iterates='python')"
   ]
  },
  {
   "cell_type": "code",
   "execution_count": 32,
   "id": "d25cb653-33bb-487b-a105-c36beb962a57",
   "metadata": {},
   "outputs": [
    {
     "data": {
      "text/plain": [
       "<reversed at 0x155879e88e0>"
      ]
     },
     "execution_count": 32,
     "metadata": {},
     "output_type": "execute_result"
    }
   ],
   "source": [
    "reversed(name)"
   ]
  },
  {
   "cell_type": "markdown",
   "id": "c2e1b555-9d2f-4d24-b14e-a03d2b230c81",
   "metadata": {},
   "source": [
    "- answer saved at address memory location\n",
    "\n",
    "- we can see the answer by using for loop or list\n",
    "\n",
    "- whenever we see less than greater tahn symbol answer\n",
    "\n",
    "- try to apply loop or list"
   ]
  },
  {
   "cell_type": "code",
   "execution_count": 5,
   "id": "17fb27ba-c3cf-4ef8-a057-05f29dd7e3a5",
   "metadata": {},
   "outputs": [],
   "source": [
    "ans=reversed('python')"
   ]
  },
  {
   "cell_type": "code",
   "execution_count": 6,
   "id": "f9d8bb48-2e47-44f3-8e3d-3eb6c1953ced",
   "metadata": {},
   "outputs": [
    {
     "name": "stdout",
     "output_type": "stream",
     "text": [
      "n o h t y p "
     ]
    }
   ],
   "source": [
    "for i in ans:\n",
    "    print(i,end=' ')"
   ]
  },
  {
   "cell_type": "code",
   "execution_count": 47,
   "id": "51b2348d-d06c-460d-ad9b-9d5d872e0904",
   "metadata": {},
   "outputs": [],
   "source": [
    "ans=reversed('python')\n",
    "list1=list(ans)"
   ]
  },
  {
   "cell_type": "code",
   "execution_count": 48,
   "id": "1fda319f-a8f7-40b9-9c95-3f7c73c56a47",
   "metadata": {},
   "outputs": [
    {
     "data": {
      "text/plain": [
       "['n', 'o', 'h', 't', 'y', 'p']"
      ]
     },
     "execution_count": 48,
     "metadata": {},
     "output_type": "execute_result"
    }
   ],
   "source": [
    "list1"
   ]
  },
  {
   "cell_type": "code",
   "execution_count": null,
   "id": "e1093b05-dd02-40ff-868f-6cedb6638c75",
   "metadata": {},
   "outputs": [],
   "source": []
  },
  {
   "cell_type": "code",
   "execution_count": null,
   "id": "414d1a77-4c8a-4292-9b1a-7219b9b5350f",
   "metadata": {},
   "outputs": [],
   "source": []
  },
  {
   "cell_type": "code",
   "execution_count": null,
   "id": "e44be2d5-2cc1-431e-a978-d7d34fa58271",
   "metadata": {},
   "outputs": [],
   "source": []
  },
  {
   "cell_type": "markdown",
   "id": "ad2246fb-5d42-427c-a78d-58275fba92f9",
   "metadata": {},
   "source": [
    "**Concatenation**"
   ]
  },
  {
   "cell_type": "code",
   "execution_count": 50,
   "id": "360cbf36-384a-489a-b5d2-ebe8eee7a153",
   "metadata": {},
   "outputs": [
    {
     "name": "stdout",
     "output_type": "stream",
     "text": [
      "hellopython\n"
     ]
    }
   ],
   "source": [
    "str1='hello'\n",
    "str2='python'\n",
    "print(str1+str2)\n"
   ]
  },
  {
   "cell_type": "code",
   "execution_count": 51,
   "id": "99ac867d-8960-47c7-aa73-3a609ba37423",
   "metadata": {},
   "outputs": [
    {
     "ename": "TypeError",
     "evalue": "unsupported operand type(s) for -: 'str' and 'str'",
     "output_type": "error",
     "traceback": [
      "\u001b[1;31m---------------------------------------------------------------------------\u001b[0m",
      "\u001b[1;31mTypeError\u001b[0m                                 Traceback (most recent call last)",
      "Cell \u001b[1;32mIn[51], line 1\u001b[0m\n\u001b[1;32m----> 1\u001b[0m str1\u001b[38;5;241m-\u001b[39mstr2\n",
      "\u001b[1;31mTypeError\u001b[0m: unsupported operand type(s) for -: 'str' and 'str'"
     ]
    }
   ],
   "source": [
    "str1-str2"
   ]
  },
  {
   "cell_type": "code",
   "execution_count": 53,
   "id": "2aaf1340-0a77-46ad-ac8a-595d6c104474",
   "metadata": {},
   "outputs": [
    {
     "ename": "TypeError",
     "evalue": "can't multiply sequence by non-int of type 'str'",
     "output_type": "error",
     "traceback": [
      "\u001b[1;31m---------------------------------------------------------------------------\u001b[0m",
      "\u001b[1;31mTypeError\u001b[0m                                 Traceback (most recent call last)",
      "Cell \u001b[1;32mIn[53], line 1\u001b[0m\n\u001b[1;32m----> 1\u001b[0m str1\u001b[38;5;241m*\u001b[39mstr2\n",
      "\u001b[1;31mTypeError\u001b[0m: can't multiply sequence by non-int of type 'str'"
     ]
    }
   ],
   "source": [
    "str1*str2"
   ]
  },
  {
   "cell_type": "code",
   "execution_count": 54,
   "id": "34f9c224-25a4-4edc-84dc-4946a9878583",
   "metadata": {},
   "outputs": [
    {
     "ename": "TypeError",
     "evalue": "unsupported operand type(s) for /: 'str' and 'str'",
     "output_type": "error",
     "traceback": [
      "\u001b[1;31m---------------------------------------------------------------------------\u001b[0m",
      "\u001b[1;31mTypeError\u001b[0m                                 Traceback (most recent call last)",
      "Cell \u001b[1;32mIn[54], line 1\u001b[0m\n\u001b[1;32m----> 1\u001b[0m str1\u001b[38;5;241m/\u001b[39mstr2\n",
      "\u001b[1;31mTypeError\u001b[0m: unsupported operand type(s) for /: 'str' and 'str'"
     ]
    }
   ],
   "source": [
    "str1/str2"
   ]
  },
  {
   "cell_type": "markdown",
   "id": "9da5acd9-796c-465d-b099-a9d5d2f8cfd1",
   "metadata": {},
   "source": [
    "**str1-str2**:\n",
    "- TypeError: unsupported operand type(s) for -: 'str' and 'str'\n",
    "    \n",
    "**str1/str2**:\n",
    "- TypeError: unsupported operand type(s) for /: 'str' and 'str'\n",
    "\n",
    "**str1*str2**:\n",
    "- TypeError: can't multiply sequence by non-int of type 'str'"
   ]
  },
  {
   "cell_type": "code",
   "execution_count": null,
   "id": "00ef6332-21ce-4875-b663-022add135164",
   "metadata": {},
   "outputs": [],
   "source": []
  },
  {
   "cell_type": "code",
   "execution_count": 56,
   "id": "1213a4ff-d3eb-40df-9377-71b9dcc1fbfd",
   "metadata": {},
   "outputs": [
    {
     "data": {
      "text/plain": [
       "'pythonpythonpython'"
      ]
     },
     "execution_count": 56,
     "metadata": {},
     "output_type": "execute_result"
    }
   ],
   "source": [
    "'python'*3"
   ]
  },
  {
   "cell_type": "code",
   "execution_count": 57,
   "id": "3c335c05-3cf5-4314-9b68-b263482eb111",
   "metadata": {},
   "outputs": [
    {
     "name": "stdout",
     "output_type": "stream",
     "text": [
      "hello python\n"
     ]
    }
   ],
   "source": [
    "str1='hello '\n",
    "str2='python'\n",
    "print(str1+str2)\n"
   ]
  },
  {
   "cell_type": "code",
   "execution_count": 58,
   "id": "ef6e63eb-7cf3-49f3-8b25-5d06ac893932",
   "metadata": {},
   "outputs": [
    {
     "name": "stdout",
     "output_type": "stream",
     "text": [
      "hello python\n"
     ]
    }
   ],
   "source": [
    "str1='hello'\n",
    "str2=' python'\n",
    "print(str1+str2)\n"
   ]
  },
  {
   "cell_type": "code",
   "execution_count": 59,
   "id": "f1319ef1-a649-4111-b16a-fb85373bbc15",
   "metadata": {},
   "outputs": [
    {
     "name": "stdout",
     "output_type": "stream",
     "text": [
      "hello python\n"
     ]
    }
   ],
   "source": [
    "str1='hello'\n",
    "str2='python'\n",
    "print(str1,end=' ')\n",
    "print(str2)"
   ]
  },
  {
   "cell_type": "markdown",
   "id": "24f901e9-9d34-4351-a0dd-fe31602f4a6a",
   "metadata": {},
   "source": [
    "- basic representation\n",
    "\n",
    "- min max len\n",
    "\n",
    "- sorted\n",
    "\n",
    "- reversed\n",
    "\n",
    "- concetenation"
   ]
  },
  {
   "cell_type": "code",
   "execution_count": null,
   "id": "bb529843-5369-457e-bf6e-8ea6e3816a4d",
   "metadata": {},
   "outputs": [],
   "source": []
  },
  {
   "cell_type": "code",
   "execution_count": null,
   "id": "f1d878c0-06b5-4eaf-a241-7bba1c5df933",
   "metadata": {},
   "outputs": [],
   "source": []
  },
  {
   "cell_type": "markdown",
   "id": "cfe52a60-7ce5-411d-97a3-46f6c6014172",
   "metadata": {},
   "source": [
    "**Index**"
   ]
  },
  {
   "cell_type": "code",
   "execution_count": 8,
   "id": "c8a1071f-da96-4893-9937-2095c46669db",
   "metadata": {},
   "outputs": [
    {
     "data": {
      "text/plain": [
       "'python'"
      ]
     },
     "execution_count": 8,
     "metadata": {},
     "output_type": "execute_result"
    }
   ],
   "source": [
    "str1='python'\n",
    "str1"
   ]
  },
  {
   "cell_type": "code",
   "execution_count": null,
   "id": "9f73a7f8-86e7-429e-a02f-c10a1b15650e",
   "metadata": {},
   "outputs": [],
   "source": [
    "-6 -5 -4 -3 -2 -1 # negative indexing\n",
    "p  y  t  h  o  n\n",
    "0  1  2  3  4  5 # positive indexing"
   ]
  },
  {
   "cell_type": "markdown",
   "id": "42f4f51d-f24f-446d-8034-eed81f734960",
   "metadata": {},
   "source": [
    "- access the character or elements use square bractket"
   ]
  },
  {
   "cell_type": "code",
   "execution_count": 10,
   "id": "cadb72de-411c-43ae-aa90-929534a3ead1",
   "metadata": {},
   "outputs": [
    {
     "data": {
      "text/plain": [
       "('p', 'p')"
      ]
     },
     "execution_count": 10,
     "metadata": {},
     "output_type": "execute_result"
    }
   ],
   "source": [
    "str1[0],str1[-6]"
   ]
  },
  {
   "cell_type": "code",
   "execution_count": 11,
   "id": "9a6fb60b-296b-432a-b141-fe3e149ac5e8",
   "metadata": {},
   "outputs": [
    {
     "data": {
      "text/plain": [
       "('y', 'y')"
      ]
     },
     "execution_count": 11,
     "metadata": {},
     "output_type": "execute_result"
    }
   ],
   "source": [
    "str1[1],str1[-5]"
   ]
  },
  {
   "cell_type": "code",
   "execution_count": 12,
   "id": "5ef142b0-8125-4493-b1a3-552892ba83dc",
   "metadata": {},
   "outputs": [
    {
     "data": {
      "text/plain": [
       "('t', 't')"
      ]
     },
     "execution_count": 12,
     "metadata": {},
     "output_type": "execute_result"
    }
   ],
   "source": [
    "str1[2],str1[-4]"
   ]
  },
  {
   "cell_type": "code",
   "execution_count": 13,
   "id": "95b2dca7-6fda-4a1e-bfe6-c10535fd44e8",
   "metadata": {},
   "outputs": [
    {
     "data": {
      "text/plain": [
       "('h', 'h')"
      ]
     },
     "execution_count": 13,
     "metadata": {},
     "output_type": "execute_result"
    }
   ],
   "source": [
    "str1[3],str1[-3]"
   ]
  },
  {
   "cell_type": "code",
   "execution_count": 15,
   "id": "f6876470-5bde-4f6b-95fe-fd8f92e6c810",
   "metadata": {},
   "outputs": [
    {
     "data": {
      "text/plain": [
       "('o', 'o')"
      ]
     },
     "execution_count": 15,
     "metadata": {},
     "output_type": "execute_result"
    }
   ],
   "source": [
    "str1[4],str1[-2]"
   ]
  },
  {
   "cell_type": "code",
   "execution_count": 16,
   "id": "dba78e8d-5fbf-4c1c-9a37-389785e38e4d",
   "metadata": {},
   "outputs": [
    {
     "data": {
      "text/plain": [
       "('n', 'n')"
      ]
     },
     "execution_count": 16,
     "metadata": {},
     "output_type": "execute_result"
    }
   ],
   "source": [
    "str1[5],str1[-1]"
   ]
  },
  {
   "cell_type": "code",
   "execution_count": 20,
   "id": "3a4d894a-d279-40c3-85df-3c968e9d4eb6",
   "metadata": {},
   "outputs": [
    {
     "name": "stdout",
     "output_type": "stream",
     "text": [
      "str:0 h\n",
      "str:1 e\n",
      "str:2 l\n",
      "str:3 l\n",
      "str:4 o\n",
      "str:5  \n",
      "str:6 h\n",
      "str:7 o\n",
      "str:8 w\n",
      "str:9  \n",
      "str:10 a\n",
      "str:11 r\n",
      "str:12 e\n",
      "str:13  \n",
      "str:14 y\n",
      "str:15 o\n",
      "str:16 u\n"
     ]
    }
   ],
   "source": [
    "str1='hello how are you'\n",
    "n=len(str1)\n",
    "for i in range(0,n):\n",
    "    print(f\"str:{i}\",str1[i])"
   ]
  },
  {
   "cell_type": "code",
   "execution_count": 23,
   "id": "1e9b81e6-662d-4e81-a2fb-974b9c1ca2a2",
   "metadata": {},
   "outputs": [
    {
     "name": "stdout",
     "output_type": "stream",
     "text": [
      "the positive index p is 0\n",
      "the positive index y is 1\n",
      "the positive index t is 2\n",
      "the positive index h is 3\n",
      "the positive index o is 4\n",
      "the positive index n is 5\n"
     ]
    }
   ],
   "source": [
    "#Q1) the positive index of p is 0\n",
    "str1='python'\n",
    "n=len(str1)\n",
    "for i in range(0,n):\n",
    "    print(f\"the positive index {str1[i]} is {i}\")"
   ]
  },
  {
   "cell_type": "code",
   "execution_count": 43,
   "id": "b07e7513-9991-42ec-8dfc-e4462d37880b",
   "metadata": {},
   "outputs": [
    {
     "name": "stdout",
     "output_type": "stream",
     "text": [
      "the negative index p is -6\n",
      "the negative index y is -5\n",
      "the negative index t is -4\n",
      "the negative index h is -3\n",
      "the negative index o is -2\n",
      "the negative index n is -1\n"
     ]
    }
   ],
   "source": [
    "#Q1) the positive index of p is 0\n",
    "str1='python'\n",
    "n=len(str1)\n",
    "for i in range(0,n):\n",
    "    print(f\"the negative index {str1[i]} is {i-n}\")"
   ]
  },
  {
   "cell_type": "code",
   "execution_count": 45,
   "id": "35497352-8acb-4ea8-9b94-927076fbb1be",
   "metadata": {},
   "outputs": [
    {
     "name": "stdout",
     "output_type": "stream",
     "text": [
      "the positive index p is 0\n",
      "the negative index p is -6\n",
      "\n",
      "\n",
      "the positive index y is 1\n",
      "the negative index y is -5\n",
      "\n",
      "\n",
      "the positive index t is 2\n",
      "the negative index t is -4\n",
      "\n",
      "\n",
      "the positive index h is 3\n",
      "the negative index h is -3\n",
      "\n",
      "\n",
      "the positive index o is 4\n",
      "the negative index o is -2\n",
      "\n",
      "\n",
      "the positive index n is 5\n",
      "the negative index n is -1\n",
      "\n",
      "\n"
     ]
    }
   ],
   "source": [
    "str1='python'\n",
    "n=len(str1)\n",
    "\n",
    "for i in range(0,n):\n",
    "    print(f\"the positive index {str1[i]} is {i}\")\n",
    "    print(f\"the negative index {str1[i]} is {i-n}\")\n",
    "    print(\"\\n\")\n"
   ]
  },
  {
   "cell_type": "code",
   "execution_count": null,
   "id": "a0cbe2a7-52f9-4ea0-abcf-cd2ec34bbb0a",
   "metadata": {},
   "outputs": [],
   "source": []
  },
  {
   "cell_type": "code",
   "execution_count": null,
   "id": "0cd5acac-a19e-450c-8267-dfbb32e1f32f",
   "metadata": {},
   "outputs": [],
   "source": []
  },
  {
   "cell_type": "markdown",
   "id": "00c94dcc-44d1-4aed-a0c7-863b6b5a9a42",
   "metadata": {},
   "source": [
    "**when to use **in** - when to use range operator**"
   ]
  },
  {
   "cell_type": "markdown",
   "id": "ce44c1b6-d0ca-47e8-ab51-89622f525e39",
   "metadata": {},
   "source": [
    "- **in** operator directly access the elements\n",
    "\n",
    "- **range** opeartor access the elements using index or numbers\n",
    "\n",
    "- any problem statement if you need numbers then go for **range**\n",
    "\n",
    "- otherwise go for **in** opeartor deirectly"
   ]
  },
  {
   "cell_type": "code",
   "execution_count": 46,
   "id": "a1c2ddd2-a347-4af9-814f-a07d55bb1eda",
   "metadata": {},
   "outputs": [
    {
     "name": "stdout",
     "output_type": "stream",
     "text": [
      "p\n",
      "y\n",
      "t\n",
      "h\n",
      "o\n",
      "n\n"
     ]
    }
   ],
   "source": [
    "str1='python'\n",
    "for i in str1:\n",
    "    print(i)"
   ]
  },
  {
   "cell_type": "code",
   "execution_count": 47,
   "id": "a6c54c38-7aa4-4968-8212-5b69a4e22ae0",
   "metadata": {},
   "outputs": [
    {
     "name": "stdout",
     "output_type": "stream",
     "text": [
      "p\n",
      "y\n",
      "t\n",
      "h\n",
      "o\n",
      "n\n"
     ]
    }
   ],
   "source": [
    "for i in range(len(str1)):\n",
    "    print(str1[i])"
   ]
  },
  {
   "cell_type": "code",
   "execution_count": 52,
   "id": "249e506c-ab17-4209-90db-e491a2276dd1",
   "metadata": {},
   "outputs": [
    {
     "name": "stdout",
     "output_type": "stream",
     "text": [
      "2\n",
      "6\n",
      "10\n"
     ]
    }
   ],
   "source": [
    "#Q)4wap to find the  indexes of 'a' in a given string\n",
    "\n",
    "str1='ola ola ola'\n",
    "n=len(str1)\n",
    "for i in range(n):\n",
    "    if str1[i]=='a':\n",
    "        print(i)\n",
    "        \n",
    "\n"
   ]
  },
  {
   "cell_type": "code",
   "execution_count": 53,
   "id": "a9ca3639-3d03-4623-87f3-65ab42b81ee6",
   "metadata": {},
   "outputs": [
    {
     "name": "stdout",
     "output_type": "stream",
     "text": [
      "18\n"
     ]
    }
   ],
   "source": [
    "#5) wap to find the sum of all indexes of 'a ' in given string \n",
    "str1='ola ola ola'\n",
    "summ=0\n",
    "for i in range(n):\n",
    "    if str1[i]=='a':\n",
    "        summ+=i\n",
    "print(summ)"
   ]
  },
  {
   "cell_type": "code",
   "execution_count": 57,
   "id": "ba08e60b-c1f4-4865-836e-685b1e98f54a",
   "metadata": {},
   "outputs": [
    {
     "name": "stdout",
     "output_type": "stream",
     "text": [
      "3\n"
     ]
    }
   ],
   "source": [
    "#6) waq to find the number of \" a\" in a given string\n",
    "str1='ola ola ola'\n",
    "count=0\n",
    "for i in range(n):\n",
    "    if str1[i]=='a':\n",
    "        count+=1\n",
    "print(count)"
   ]
  },
  {
   "cell_type": "code",
   "execution_count": 61,
   "id": "164f1f35-4e7b-4568-9580-872a02e27f50",
   "metadata": {},
   "outputs": [
    {
     "name": "stdout",
     "output_type": "stream",
     "text": [
      "a i o a e o u \n",
      "\n",
      "7\n"
     ]
    }
   ],
   "source": [
    "#7) wap to find the vowel and counts in a given string\n",
    "str1='hai how are you'\n",
    "vowels='aeiou'\n",
    "count=0\n",
    "for i in str1:\n",
    "    if i in vowels:\n",
    "        print(i,end=' ')\n",
    "        count+=1\n",
    "print(\"\\n\")\n",
    "print(count)\n",
    "    "
   ]
  },
  {
   "cell_type": "code",
   "execution_count": 65,
   "id": "e0ad8df5-1030-46e4-aa6d-d78a63e03179",
   "metadata": {},
   "outputs": [
    {
     "name": "stdout",
     "output_type": "stream",
     "text": [
      "oa\n",
      "2\n"
     ]
    }
   ],
   "source": [
    "#waq to find the find the  vowels which are repeating then print only one time\n",
    "# hello e coming two time we want one time\n",
    "#8) wap to find the vowel and counts in a given string\n",
    "str1='ola ola ola'\n",
    "vowels='aeiou'\n",
    "count=0\n",
    "str2=''\n",
    "for i in str1:\n",
    "    if i in vowels:\n",
    "        if i not in str2:\n",
    "            str2+=i\n",
    "            count+=1\n",
    "        \n",
    "print(str2)\n",
    "print(count)\n",
    "# print(\"\\n\")\n",
    "# print(set1)\n",
    "# print(len(set1))\n",
    "    "
   ]
  },
  {
   "cell_type": "code",
   "execution_count": null,
   "id": "2d67eb34-97c7-41b7-b7f3-6b683a4dfee9",
   "metadata": {},
   "outputs": [],
   "source": []
  },
  {
   "cell_type": "code",
   "execution_count": null,
   "id": "12da7a96-d79a-46d1-b84e-208643444169",
   "metadata": {},
   "outputs": [],
   "source": []
  },
  {
   "cell_type": "markdown",
   "id": "907aa015-b952-4b58-a733-9a7026655995",
   "metadata": {},
   "source": [
    "## Mutable-Immutable"
   ]
  },
  {
   "cell_type": "markdown",
   "id": "5fb0baf8-c7bd-4fa0-9a03-ce6c921c2856",
   "metadata": {},
   "source": [
    "**Mutable**- means change\n",
    "\n",
    "**ImMutable**- means can not change\n",
    "\n",
    "- we can not change the element using index opeartions"
   ]
  },
  {
   "cell_type": "code",
   "execution_count": 66,
   "id": "5dee56c4-bd78-402e-9f9f-72169db4192b",
   "metadata": {},
   "outputs": [
    {
     "data": {
      "text/plain": [
       "'l'"
      ]
     },
     "execution_count": 66,
     "metadata": {},
     "output_type": "execute_result"
    }
   ],
   "source": [
    "str1='hello'\n",
    "str1[2]"
   ]
  },
  {
   "cell_type": "code",
   "execution_count": 67,
   "id": "0b5481e2-b81a-42b6-9ad5-a6b814a59648",
   "metadata": {},
   "outputs": [
    {
     "ename": "TypeError",
     "evalue": "'str' object does not support item assignment",
     "output_type": "error",
     "traceback": [
      "\u001b[1;31m---------------------------------------------------------------------------\u001b[0m",
      "\u001b[1;31mTypeError\u001b[0m                                 Traceback (most recent call last)",
      "Cell \u001b[1;32mIn[67], line 1\u001b[0m\n\u001b[1;32m----> 1\u001b[0m str1[\u001b[38;5;241m2\u001b[39m]\u001b[38;5;241m=\u001b[39m\u001b[38;5;124m'\u001b[39m\u001b[38;5;124mL\u001b[39m\u001b[38;5;124m'\u001b[39m\n",
      "\u001b[1;31mTypeError\u001b[0m: 'str' object does not support item assignment"
     ]
    }
   ],
   "source": [
    "str1[2]='L'"
   ]
  },
  {
   "cell_type": "markdown",
   "id": "4bc0dbde-e622-486a-b3a2-e68387daeae6",
   "metadata": {},
   "source": [
    "- String are **immutable**"
   ]
  },
  {
   "cell_type": "code",
   "execution_count": null,
   "id": "c62bc955-1f4c-463f-9f95-cdfa30d8a8a2",
   "metadata": {},
   "outputs": [],
   "source": []
  },
  {
   "cell_type": "code",
   "execution_count": null,
   "id": "0be4c05c-0814-40fb-bc08-83358d915857",
   "metadata": {},
   "outputs": [],
   "source": []
  },
  {
   "cell_type": "markdown",
   "id": "ac8c6430-e3ba-42c9-b92f-7b7f8f3fd3d8",
   "metadata": {},
   "source": [
    "### Slicing"
   ]
  },
  {
   "cell_type": "markdown",
   "id": "5139efd7-73bb-4d27-b5bd-79b03b6a00ae",
   "metadata": {},
   "source": [
    "- slice means cut into pieces\n",
    "\n",
    "- it has same analogy with for loop range\n",
    "\n",
    "- in the for loop range we have start,stop,step\n",
    "\n",
    "- range(start,stop,step)\n",
    "\n",
    "- str[start:stop:step]"
   ]
  },
  {
   "cell_type": "code",
   "execution_count": null,
   "id": "631135e5-15e9-4544-972d-3ee66b030814",
   "metadata": {},
   "outputs": [],
   "source": [
    "-17-16-15-14-13-12 -11 -10 -9 -8 -7 -6 -5 -4 -3 -2 -1\n",
    " h  e  l  l  o      h   o   w     a  r  e     y  o  u\n",
    " 0  1  2  3  4  5   6   7   8  9  10 11 12 13 14 15 16"
   ]
  },
  {
   "cell_type": "markdown",
   "id": "0735f093-9ada-4256-84f8-bab5d9e3ead4",
   "metadata": {},
   "source": [
    "**case-1**\n",
    "\n",
    "**str[:stop]**\n",
    "\n",
    "- by default start=0\n",
    "\n",
    "- by default step=positive direction 1\n",
    "\n",
    "- last=stop-1"
   ]
  },
  {
   "cell_type": "code",
   "execution_count": 2,
   "id": "8726759c-b64f-4b3d-93a3-907f23fd18c6",
   "metadata": {},
   "outputs": [
    {
     "data": {
      "text/plain": [
       "'hello'"
      ]
     },
     "execution_count": 2,
     "metadata": {},
     "output_type": "execute_result"
    }
   ],
   "source": [
    "str1='hello how are you'\n",
    "str1[:5] # start=0 stop=5-1 step=1"
   ]
  },
  {
   "cell_type": "markdown",
   "id": "0d0cc5b8-6b87-44fa-8224-c8ea4891e017",
   "metadata": {},
   "source": [
    "**case-2**:\n",
    "\n",
    "**str[start:]**\n",
    "\n",
    "-  by default start=start value\n",
    "\n",
    "-  by default step= positive dire 1\n",
    "\n",
    "-  last=last index"
   ]
  },
  {
   "cell_type": "code",
   "execution_count": 3,
   "id": "fbf0adbf-046b-4b03-8dce-315a53162c33",
   "metadata": {},
   "outputs": [
    {
     "data": {
      "text/plain": [
       "' how are you'"
      ]
     },
     "execution_count": 3,
     "metadata": {},
     "output_type": "execute_result"
    }
   ],
   "source": [
    "str1[5:]"
   ]
  },
  {
   "cell_type": "code",
   "execution_count": 4,
   "id": "1c89bc28-4c86-42cb-82df-ac4ec88eb09a",
   "metadata": {},
   "outputs": [
    {
     "data": {
      "text/plain": [
       "'you'"
      ]
     },
     "execution_count": 4,
     "metadata": {},
     "output_type": "execute_result"
    }
   ],
   "source": [
    "str1[-3:]"
   ]
  },
  {
   "cell_type": "markdown",
   "id": "6d2363dd-b171-46ff-8dd6-c6d1e96618af",
   "metadata": {},
   "source": [
    "**case-3**\n",
    "\n",
    "**str[start:stop]**\n",
    "\n",
    "-  by default start=start value\n",
    "\n",
    "-  by default step= positive direction 1\n",
    "\n",
    "-  last=stop-1"
   ]
  },
  {
   "cell_type": "code",
   "execution_count": 6,
   "id": "97519502-5de3-4886-877b-1a695370e3e0",
   "metadata": {},
   "outputs": [
    {
     "data": {
      "text/plain": [
       "'are y'"
      ]
     },
     "execution_count": 6,
     "metadata": {},
     "output_type": "execute_result"
    }
   ],
   "source": [
    "# -17-16-15-14-13-12 -11 -10 -9 -8 -7 -6 -5 -4 -3 -2 -1\n",
    "#  h  e  l  l  o      h   o   w     a  r  e     y  o  u\n",
    "#  0  1  2  3  4  5   6   7   8  9  10 11 12 13 14 15 16\n",
    "str1[10:15]"
   ]
  },
  {
   "cell_type": "code",
   "execution_count": 7,
   "id": "3b64f5f6-09e6-4f4d-9a1b-e5ed016c6469",
   "metadata": {},
   "outputs": [
    {
     "data": {
      "text/plain": [
       "'llo how '"
      ]
     },
     "execution_count": 7,
     "metadata": {},
     "output_type": "execute_result"
    }
   ],
   "source": [
    "str1[-15:10]"
   ]
  },
  {
   "cell_type": "code",
   "execution_count": 11,
   "id": "78b82a11-9bb9-4093-97eb-3609cb978713",
   "metadata": {},
   "outputs": [
    {
     "data": {
      "text/plain": [
       "''"
      ]
     },
     "execution_count": 11,
     "metadata": {},
     "output_type": "execute_result"
    }
   ],
   "source": [
    "str1[-10:2]"
   ]
  },
  {
   "cell_type": "code",
   "execution_count": 12,
   "id": "a2b07c2b-fcf3-4e96-ad92-55d1b9c84095",
   "metadata": {},
   "outputs": [
    {
     "data": {
      "text/plain": [
       "'llo how are y'"
      ]
     },
     "execution_count": 12,
     "metadata": {},
     "output_type": "execute_result"
    }
   ],
   "source": [
    "str1[2:-2]"
   ]
  },
  {
   "cell_type": "code",
   "execution_count": 13,
   "id": "110e17b1-f1e7-40c5-8927-4df576fb3bbf",
   "metadata": {},
   "outputs": [
    {
     "data": {
      "text/plain": [
       "'hello how are yo'"
      ]
     },
     "execution_count": 13,
     "metadata": {},
     "output_type": "execute_result"
    }
   ],
   "source": [
    "str1[0:-1]"
   ]
  },
  {
   "cell_type": "markdown",
   "id": "d2809b62-0bf1-474c-8f9c-6a09fd96cf24",
   "metadata": {},
   "source": [
    "**case-4**\n",
    "\n",
    "**str[start:stop:step]**\n",
    "\n",
    "\n",
    "-  by default start=start value\n",
    "\n",
    "-  if step is positive value\n",
    "\n",
    "    - last=stop-1\n",
    "\n",
    "-  if step is negative value\n",
    "\n",
    "    - last=stop+1"
   ]
  },
  {
   "cell_type": "code",
   "execution_count": 14,
   "id": "961da9b9-8149-4420-8a20-18957cd52a8f",
   "metadata": {},
   "outputs": [
    {
     "data": {
      "text/plain": [
       "'l wr'"
      ]
     },
     "execution_count": 14,
     "metadata": {},
     "output_type": "execute_result"
    }
   ],
   "source": [
    "# -17-16-15-14-13-12 -11 -10 -9 -8 -7 -6 -5 -4 -3 -2 -1\n",
    "#  h  e  l  l  o      h   o   w     a  r  e     y  o  u\n",
    "#  0  1  2  3  4  5   6   7   8  9  10 11 12 13 14 15 16\n",
    "str1[2:14:3]"
   ]
  },
  {
   "cell_type": "code",
   "execution_count": 15,
   "id": "066a8fc3-2e70-4cc1-adef-cda112069c91",
   "metadata": {},
   "outputs": [
    {
     "data": {
      "text/plain": [
       "'ohwaey'"
      ]
     },
     "execution_count": 15,
     "metadata": {},
     "output_type": "execute_result"
    }
   ],
   "source": [
    "str1[4:-2:2]"
   ]
  },
  {
   "cell_type": "code",
   "execution_count": 16,
   "id": "a638d59e-9995-4ca2-beb0-24758fda2791",
   "metadata": {},
   "outputs": [
    {
     "data": {
      "text/plain": [
       "'o r o'"
      ]
     },
     "execution_count": 16,
     "metadata": {},
     "output_type": "execute_result"
    }
   ],
   "source": [
    "str1[-2:6:-2]"
   ]
  },
  {
   "cell_type": "code",
   "execution_count": 17,
   "id": "2bc9e5f7-af60-4e88-9f27-2e4b43965339",
   "metadata": {},
   "outputs": [
    {
     "data": {
      "text/plain": [
       "'uyeawho'"
      ]
     },
     "execution_count": 17,
     "metadata": {},
     "output_type": "execute_result"
    }
   ],
   "source": [
    "str1[-1:-14:-2]"
   ]
  },
  {
   "cell_type": "code",
   "execution_count": 19,
   "id": "e7ecedd6-6c9e-4c59-922e-ff0217928375",
   "metadata": {},
   "outputs": [
    {
     "data": {
      "text/plain": [
       "''"
      ]
     },
     "execution_count": 19,
     "metadata": {},
     "output_type": "execute_result"
    }
   ],
   "source": [
    "str1[15:2:2]"
   ]
  },
  {
   "cell_type": "code",
   "execution_count": 20,
   "id": "a1553c1d-a32f-4d6e-b747-3bce4e6b0c7e",
   "metadata": {},
   "outputs": [
    {
     "data": {
      "text/plain": [
       "'hello how are you'"
      ]
     },
     "execution_count": 20,
     "metadata": {},
     "output_type": "execute_result"
    }
   ],
   "source": [
    "str1[:]"
   ]
  },
  {
   "cell_type": "code",
   "execution_count": 21,
   "id": "97c48bb3-f7e1-4d01-a4d4-52232dae2738",
   "metadata": {},
   "outputs": [
    {
     "data": {
      "text/plain": [
       "'hello how are you'"
      ]
     },
     "execution_count": 21,
     "metadata": {},
     "output_type": "execute_result"
    }
   ],
   "source": [
    "str1[::]"
   ]
  },
  {
   "cell_type": "code",
   "execution_count": 22,
   "id": "57f7a1d1-4023-42fc-a72f-af965d566638",
   "metadata": {},
   "outputs": [
    {
     "data": {
      "text/plain": [
       "'uoy era woh olleh'"
      ]
     },
     "execution_count": 22,
     "metadata": {},
     "output_type": "execute_result"
    }
   ],
   "source": [
    "str1[::-1]"
   ]
  },
  {
   "cell_type": "code",
   "execution_count": 24,
   "id": "4b63c538-ac00-4cb7-8bfd-ccfe1224724d",
   "metadata": {},
   "outputs": [
    {
     "data": {
      "text/plain": [
       "'llo how are you'"
      ]
     },
     "execution_count": 24,
     "metadata": {},
     "output_type": "execute_result"
    }
   ],
   "source": [
    "str1[2:150] # it give till last"
   ]
  },
  {
   "cell_type": "code",
   "execution_count": null,
   "id": "e462f520-635f-4bb7-b302-8617fbac1b0e",
   "metadata": {},
   "outputs": [],
   "source": []
  },
  {
   "cell_type": "markdown",
   "id": "b4f79d7d-d2a8-4222-9a80-e4bd43b87c20",
   "metadata": {},
   "source": [
    "- basic representation\n",
    "\n",
    "- inbuilt function\n",
    "\n",
    "   - min max  len type reversed sorted\n",
    "\n",
    "- concentenation\n",
    "\n",
    "- index\n",
    "\n",
    "- in vs range\n",
    "\n",
    "- mutable vs immutable\n",
    "\n",
    "- slice"
   ]
  },
  {
   "cell_type": "code",
   "execution_count": null,
   "id": "5be625dd-4e3f-4d09-9dc8-4bdafed61df1",
   "metadata": {},
   "outputs": [],
   "source": []
  },
  {
   "cell_type": "code",
   "execution_count": null,
   "id": "a35af381-2e20-46d5-87fa-9e917c5e824a",
   "metadata": {},
   "outputs": [],
   "source": []
  },
  {
   "cell_type": "markdown",
   "id": "a3eb8bff-3fcf-4b3c-a897-dfa3a79003e7",
   "metadata": {},
   "source": [
    "## Methods"
   ]
  },
  {
   "cell_type": "code",
   "execution_count": 26,
   "id": "638eeceb-f2a8-4af0-b3a9-a625e8aa954a",
   "metadata": {},
   "outputs": [
    {
     "data": {
      "text/plain": [
       "['__add__',\n",
       " '__class__',\n",
       " '__contains__',\n",
       " '__delattr__',\n",
       " '__dir__',\n",
       " '__doc__',\n",
       " '__eq__',\n",
       " '__format__',\n",
       " '__ge__',\n",
       " '__getattribute__',\n",
       " '__getitem__',\n",
       " '__getnewargs__',\n",
       " '__getstate__',\n",
       " '__gt__',\n",
       " '__hash__',\n",
       " '__init__',\n",
       " '__init_subclass__',\n",
       " '__iter__',\n",
       " '__le__',\n",
       " '__len__',\n",
       " '__lt__',\n",
       " '__mod__',\n",
       " '__mul__',\n",
       " '__ne__',\n",
       " '__new__',\n",
       " '__reduce__',\n",
       " '__reduce_ex__',\n",
       " '__repr__',\n",
       " '__rmod__',\n",
       " '__rmul__',\n",
       " '__setattr__',\n",
       " '__sizeof__',\n",
       " '__str__',\n",
       " '__subclasshook__',\n",
       " 'capitalize',\n",
       " 'casefold',\n",
       " 'center',\n",
       " 'count',\n",
       " 'encode',\n",
       " 'endswith',\n",
       " 'expandtabs',\n",
       " 'find',\n",
       " 'format',\n",
       " 'format_map',\n",
       " 'index',\n",
       " 'isalnum',\n",
       " 'isalpha',\n",
       " 'isascii',\n",
       " 'isdecimal',\n",
       " 'isdigit',\n",
       " 'isidentifier',\n",
       " 'islower',\n",
       " 'isnumeric',\n",
       " 'isprintable',\n",
       " 'isspace',\n",
       " 'istitle',\n",
       " 'isupper',\n",
       " 'join',\n",
       " 'ljust',\n",
       " 'lower',\n",
       " 'lstrip',\n",
       " 'maketrans',\n",
       " 'partition',\n",
       " 'removeprefix',\n",
       " 'removesuffix',\n",
       " 'replace',\n",
       " 'rfind',\n",
       " 'rindex',\n",
       " 'rjust',\n",
       " 'rpartition',\n",
       " 'rsplit',\n",
       " 'rstrip',\n",
       " 'split',\n",
       " 'splitlines',\n",
       " 'startswith',\n",
       " 'strip',\n",
       " 'swapcase',\n",
       " 'title',\n",
       " 'translate',\n",
       " 'upper',\n",
       " 'zfill']"
      ]
     },
     "execution_count": 26,
     "metadata": {},
     "output_type": "execute_result"
    }
   ],
   "source": [
    "dir('python') # it gives the all methods name"
   ]
  },
  {
   "cell_type": "code",
   "execution_count": null,
   "id": "91677d33-c484-4125-ab3b-372ee6d2d101",
   "metadata": {},
   "outputs": [],
   "source": []
  },
  {
   "cell_type": "markdown",
   "id": "b252316c-3aae-4c4f-84e5-f9aad3668d87",
   "metadata": {},
   "source": [
    "**Upper**"
   ]
  },
  {
   "cell_type": "code",
   "execution_count": 43,
   "id": "03f9181b-e917-473d-9b93-02e396ce1a16",
   "metadata": {},
   "outputs": [
    {
     "data": {
      "text/plain": [
       "'WELCOME TO NARESHIT'"
      ]
     },
     "execution_count": 43,
     "metadata": {},
     "output_type": "execute_result"
    }
   ],
   "source": [
    "str1='welcome to nareshit'\n",
    "str1.upper()"
   ]
  },
  {
   "cell_type": "markdown",
   "id": "6d57352d-713e-4df5-8a39-62f939ab258d",
   "metadata": {},
   "source": [
    "- lower\n",
    "\n",
    "- title\n",
    "\n",
    "- capitalize\n",
    "\n",
    "- casefold"
   ]
  },
  {
   "cell_type": "code",
   "execution_count": 44,
   "id": "7888525c-83b2-431c-9a06-8f188dbcdb81",
   "metadata": {},
   "outputs": [
    {
     "data": {
      "text/plain": [
       "'welcome to nareshit'"
      ]
     },
     "execution_count": 44,
     "metadata": {},
     "output_type": "execute_result"
    }
   ],
   "source": [
    "str1.lower()"
   ]
  },
  {
   "cell_type": "code",
   "execution_count": 45,
   "id": "b2c3386d-0bea-497f-b83e-8e1551a9060f",
   "metadata": {},
   "outputs": [
    {
     "data": {
      "text/plain": [
       "'Welcome To Nareshit'"
      ]
     },
     "execution_count": 45,
     "metadata": {},
     "output_type": "execute_result"
    }
   ],
   "source": [
    "str1.title()"
   ]
  },
  {
   "cell_type": "code",
   "execution_count": 46,
   "id": "0d10afc6-31b8-4edf-bde5-7122dd221198",
   "metadata": {},
   "outputs": [
    {
     "data": {
      "text/plain": [
       "'Welcome to nareshit'"
      ]
     },
     "execution_count": 46,
     "metadata": {},
     "output_type": "execute_result"
    }
   ],
   "source": [
    "str1.capitalize()"
   ]
  },
  {
   "cell_type": "code",
   "execution_count": 47,
   "id": "ec528a29-c728-4251-adf3-dfca5a64a903",
   "metadata": {},
   "outputs": [
    {
     "data": {
      "text/plain": [
       "'welcome to nareshit'"
      ]
     },
     "execution_count": 47,
     "metadata": {},
     "output_type": "execute_result"
    }
   ],
   "source": [
    "str1.casefold()"
   ]
  },
  {
   "cell_type": "code",
   "execution_count": null,
   "id": "691c17f1-f9f1-4e53-88c6-66e18c6cea07",
   "metadata": {},
   "outputs": [],
   "source": []
  },
  {
   "cell_type": "markdown",
   "id": "8094053e-d337-4b84-9c22-57cbb7d72de3",
   "metadata": {},
   "source": [
    "**difference between methods and inbuilt functions**"
   ]
  },
  {
   "cell_type": "markdown",
   "id": "05161e27-a08e-42d1-94c4-6dc076111daf",
   "metadata": {},
   "source": [
    "============inbuild function================\n",
    "len('python') \n",
    "max()\n",
    "min()\n",
    "type()\n",
    "print()\n",
    "sum()\n",
    "\n",
    "==============methods==================\n",
    "str1.upper()\n",
    "str1.lower()\n",
    "str1.title()\n",
    "str1.capitalize()\n",
    "str1.casefold()"
   ]
  },
  {
   "cell_type": "code",
   "execution_count": null,
   "id": "455f1518-fd77-4b10-a91e-d555a42856d5",
   "metadata": {},
   "outputs": [],
   "source": []
  },
  {
   "cell_type": "code",
   "execution_count": null,
   "id": "31794c47-a614-4c81-83f1-03b37afbb738",
   "metadata": {},
   "outputs": [],
   "source": []
  },
  {
   "cell_type": "markdown",
   "id": "76129f44-8d45-4f29-9662-d14964b13716",
   "metadata": {},
   "source": [
    "**center**"
   ]
  },
  {
   "cell_type": "code",
   "execution_count": 48,
   "id": "0fe18507-ca8f-4319-8851-284077f239ce",
   "metadata": {},
   "outputs": [
    {
     "data": {
      "text/plain": [
       "'   python   '"
      ]
     },
     "execution_count": 48,
     "metadata": {},
     "output_type": "execute_result"
    }
   ],
   "source": [
    "str1='python'\n",
    "str1.center(12)"
   ]
  },
  {
   "cell_type": "code",
   "execution_count": 52,
   "id": "a88d68a9-3a89-4b6f-a55d-d4883492d79e",
   "metadata": {},
   "outputs": [
    {
     "data": {
      "text/plain": [
       "'***python***'"
      ]
     },
     "execution_count": 52,
     "metadata": {},
     "output_type": "execute_result"
    }
   ],
   "source": [
    "str1.center(12,'*')\n",
    "#here length of string become 12 char\n",
    "# already str1 has 6 char remaing fill with *"
   ]
  },
  {
   "cell_type": "code",
   "execution_count": 53,
   "id": "2bb7f613-0353-45b4-a3da-637d7ac111b1",
   "metadata": {},
   "outputs": [
    {
     "data": {
      "text/plain": [
       "'****python***'"
      ]
     },
     "execution_count": 53,
     "metadata": {},
     "output_type": "execute_result"
    }
   ],
   "source": [
    "str1.center(13,'*')\n"
   ]
  },
  {
   "cell_type": "code",
   "execution_count": null,
   "id": "d52f040b-e301-44eb-8242-4b15355e57d4",
   "metadata": {},
   "outputs": [],
   "source": []
  },
  {
   "cell_type": "code",
   "execution_count": null,
   "id": "45db883a-6cc8-470b-b9d2-39db6aea1171",
   "metadata": {},
   "outputs": [],
   "source": []
  },
  {
   "cell_type": "markdown",
   "id": "d9289d35-273f-4996-b911-0dfc7e011b36",
   "metadata": {},
   "source": [
    "**Strip-lstrip-rstrip**\n",
    "\n",
    "- strip :- will remove the chracters both left and right side\n",
    "\n",
    "- lstrip:- will remove the character left side\n",
    "\n",
    "- rstrip:- will remove the character right side"
   ]
  },
  {
   "cell_type": "code",
   "execution_count": null,
   "id": "acbc67c3-09a1-4253-8a55-d44128639b0c",
   "metadata": {},
   "outputs": [],
   "source": []
  },
  {
   "cell_type": "code",
   "execution_count": 64,
   "id": "7aec4681-1c21-4622-ae1e-15e90e3223df",
   "metadata": {},
   "outputs": [
    {
     "data": {
      "text/plain": [
       "('python', 'python  ', '  python')"
      ]
     },
     "execution_count": 64,
     "metadata": {},
     "output_type": "execute_result"
    }
   ],
   "source": [
    "str1='  python  '\n",
    "str1.strip(),str1.lstrip(),str1.rstrip()\n",
    "\n"
   ]
  },
  {
   "cell_type": "code",
   "execution_count": null,
   "id": "91eeb412-f2e9-4bd4-9484-0e6c467537c9",
   "metadata": {},
   "outputs": [],
   "source": []
  },
  {
   "cell_type": "code",
   "execution_count": 57,
   "id": "b81443a8-13cf-4014-8c2b-99a2a307d0b8",
   "metadata": {},
   "outputs": [
    {
     "name": "stdout",
     "output_type": "stream",
     "text": [
      "python\n",
      "python  \n",
      "  python\n"
     ]
    }
   ],
   "source": [
    "str1='  python  '\n",
    "print(str1.strip(' '))\n",
    "print(str1.lstrip(' '))\n",
    "print(str1.rstrip(' '))\n",
    "\n"
   ]
  },
  {
   "cell_type": "code",
   "execution_count": 58,
   "id": "cdc34d59-43c4-4286-8594-99528fd2ae38",
   "metadata": {},
   "outputs": [
    {
     "name": "stdout",
     "output_type": "stream",
     "text": [
      "python\n",
      "python****\n",
      "***python\n"
     ]
    }
   ],
   "source": [
    "str1='***python****'\n",
    "print(str1.strip('*'))\n",
    "print(str1.lstrip('*'))\n",
    "print(str1.rstrip('*'))"
   ]
  },
  {
   "cell_type": "code",
   "execution_count": 62,
   "id": "49f9a6c7-c556-4258-859b-2dd3e5bc2e96",
   "metadata": {},
   "outputs": [
    {
     "name": "stdout",
     "output_type": "stream",
     "text": [
      "python****\n",
      "python****\n",
      "   python****\n"
     ]
    }
   ],
   "source": [
    "str1='   python****'\n",
    "print(str1.strip(' '))#spaces only\n",
    "print(str1.lstrip(' '))\n",
    "print(str1.rstrip(' '))"
   ]
  },
  {
   "cell_type": "code",
   "execution_count": 63,
   "id": "37b470e6-ade7-42ce-bc2f-f4b9a2f5d8b8",
   "metadata": {},
   "outputs": [
    {
     "name": "stdout",
     "output_type": "stream",
     "text": [
      "   python\n",
      "   python****\n",
      "   python\n"
     ]
    }
   ],
   "source": [
    "str1='   python****'\n",
    "print(str1.strip('*'))\n",
    "print(str1.lstrip('*'))\n",
    "print(str1.rstrip('*'))"
   ]
  },
  {
   "cell_type": "code",
   "execution_count": 66,
   "id": "abcc1fff-8992-46eb-a7be-eed92a6d6b28",
   "metadata": {},
   "outputs": [
    {
     "data": {
      "text/plain": [
       "'python'"
      ]
     },
     "execution_count": 66,
     "metadata": {},
     "output_type": "execute_result"
    }
   ],
   "source": [
    "str1='   python****'\n",
    "str1.strip().rstrip('*') # first remove spaces and then remove * from string"
   ]
  },
  {
   "cell_type": "code",
   "execution_count": null,
   "id": "0170ab2c-fdb9-488f-abb5-27c021594212",
   "metadata": {},
   "outputs": [],
   "source": []
  },
  {
   "cell_type": "markdown",
   "id": "8d1cd0e8-4093-49f4-888a-a2db47ab2f98",
   "metadata": {},
   "source": [
    "**Count**"
   ]
  },
  {
   "cell_type": "code",
   "execution_count": 2,
   "id": "8a45763b-9072-46e8-a0d4-e53a9ad0f44e",
   "metadata": {},
   "outputs": [
    {
     "name": "stdout",
     "output_type": "stream",
     "text": [
      "3\n"
     ]
    }
   ],
   "source": [
    "str1='ola ola ola'\n",
    "# in the above how many 'a' are available\n",
    "count=0\n",
    "for i in str1:\n",
    "    if i=='a':\n",
    "        count+=1\n",
    "print(count)"
   ]
  },
  {
   "cell_type": "markdown",
   "id": "84b01768-4c3d-4422-bf85-423af086e97e",
   "metadata": {},
   "source": [
    "**case-1**"
   ]
  },
  {
   "cell_type": "code",
   "execution_count": 3,
   "id": "d51e7a6d-3514-4990-a683-99b895fd1a56",
   "metadata": {},
   "outputs": [
    {
     "data": {
      "text/plain": [
       "3"
      ]
     },
     "execution_count": 3,
     "metadata": {},
     "output_type": "execute_result"
    }
   ],
   "source": [
    "str1.count('a')"
   ]
  },
  {
   "cell_type": "code",
   "execution_count": 5,
   "id": "de295bb4-e993-47c7-b668-b3e093acb69d",
   "metadata": {},
   "outputs": [
    {
     "data": {
      "text/plain": [
       "3"
      ]
     },
     "execution_count": 5,
     "metadata": {},
     "output_type": "execute_result"
    }
   ],
   "source": [
    "str1.count('ola')"
   ]
  },
  {
   "cell_type": "code",
   "execution_count": 6,
   "id": "b8835e25-6fe6-4acf-993d-0c8f04fbf220",
   "metadata": {},
   "outputs": [
    {
     "data": {
      "text/plain": [
       "2"
      ]
     },
     "execution_count": 6,
     "metadata": {},
     "output_type": "execute_result"
    }
   ],
   "source": [
    "str1.count('ola ')"
   ]
  },
  {
   "cell_type": "markdown",
   "id": "f57e37e0-9f3c-4c13-aad6-6d28f070c195",
   "metadata": {},
   "source": [
    "**case-2**"
   ]
  },
  {
   "cell_type": "code",
   "execution_count": 7,
   "id": "f501aab3-f82d-446c-8fee-913b55992cd0",
   "metadata": {},
   "outputs": [],
   "source": [
    "#o  l   a     o   l   a     o   l   a\n",
    "#0  1   2  3  4   5   6  7  8   9   10  "
   ]
  },
  {
   "cell_type": "code",
   "execution_count": 8,
   "id": "3f4f23d4-9a97-4c22-89ef-79591a86d3c7",
   "metadata": {},
   "outputs": [
    {
     "data": {
      "text/plain": [
       "2"
      ]
     },
     "execution_count": 8,
     "metadata": {},
     "output_type": "execute_result"
    }
   ],
   "source": [
    "str1.count('a',4)"
   ]
  },
  {
   "cell_type": "code",
   "execution_count": 10,
   "id": "f2ce9d69-b7c4-49b2-add8-fe2586346842",
   "metadata": {},
   "outputs": [
    {
     "data": {
      "text/plain": [
       "1"
      ]
     },
     "execution_count": 10,
     "metadata": {},
     "output_type": "execute_result"
    }
   ],
   "source": [
    "str1.count('a',7)"
   ]
  },
  {
   "cell_type": "code",
   "execution_count": 11,
   "id": "fc9af76c-efbf-442a-8524-405096afb7aa",
   "metadata": {},
   "outputs": [
    {
     "data": {
      "text/plain": [
       "1"
      ]
     },
     "execution_count": 11,
     "metadata": {},
     "output_type": "execute_result"
    }
   ],
   "source": [
    "str1.count('a',4,7)"
   ]
  },
  {
   "cell_type": "code",
   "execution_count": 13,
   "id": "08800a0e-39ae-4152-86ec-df94a6165435",
   "metadata": {},
   "outputs": [
    {
     "data": {
      "text/plain": [
       "0"
      ]
     },
     "execution_count": 13,
     "metadata": {},
     "output_type": "execute_result"
    }
   ],
   "source": [
    "str1.count('a',4,6)\n",
    "#start=0, end=stop-1"
   ]
  },
  {
   "cell_type": "code",
   "execution_count": 14,
   "id": "cf5a8554-31c8-4c09-8c5d-c737aa04e80f",
   "metadata": {},
   "outputs": [
    {
     "data": {
      "text/plain": [
       "1"
      ]
     },
     "execution_count": 14,
     "metadata": {},
     "output_type": "execute_result"
    }
   ],
   "source": [
    "str1.count('ol',7)"
   ]
  },
  {
   "cell_type": "code",
   "execution_count": 15,
   "id": "e5b762d5-c4d0-4a03-87d4-4452944652ee",
   "metadata": {},
   "outputs": [
    {
     "data": {
      "text/plain": [
       "1"
      ]
     },
     "execution_count": 15,
     "metadata": {},
     "output_type": "execute_result"
    }
   ],
   "source": [
    "str1.count('ol',4,6)"
   ]
  },
  {
   "cell_type": "code",
   "execution_count": 16,
   "id": "33c3f9b0-8408-4727-ac31-7c537082b22d",
   "metadata": {},
   "outputs": [
    {
     "data": {
      "text/plain": [
       "1"
      ]
     },
     "execution_count": 16,
     "metadata": {},
     "output_type": "execute_result"
    }
   ],
   "source": [
    "str1.count('la',7)"
   ]
  },
  {
   "cell_type": "code",
   "execution_count": 18,
   "id": "99001a9d-822e-4c3c-b5b4-09cdf1335632",
   "metadata": {},
   "outputs": [
    {
     "data": {
      "text/plain": [
       "0"
      ]
     },
     "execution_count": 18,
     "metadata": {},
     "output_type": "execute_result"
    }
   ],
   "source": [
    "str1.count('a',-1,-10)"
   ]
  },
  {
   "cell_type": "code",
   "execution_count": 19,
   "id": "a6da690a-e742-4c1a-b84b-58a08059ca93",
   "metadata": {},
   "outputs": [
    {
     "data": {
      "text/plain": [
       "2"
      ]
     },
     "execution_count": 19,
     "metadata": {},
     "output_type": "execute_result"
    }
   ],
   "source": [
    "str1.count('a',-10,-1)"
   ]
  },
  {
   "cell_type": "code",
   "execution_count": 20,
   "id": "a09e7035-5bc2-4771-bc37-f4befbf38304",
   "metadata": {},
   "outputs": [
    {
     "data": {
      "text/plain": [
       "0"
      ]
     },
     "execution_count": 20,
     "metadata": {},
     "output_type": "execute_result"
    }
   ],
   "source": [
    "str1.count('z')"
   ]
  },
  {
   "cell_type": "code",
   "execution_count": null,
   "id": "3bfd9104-6e64-4c2f-a09b-e12430fe7f3d",
   "metadata": {},
   "outputs": [],
   "source": []
  },
  {
   "cell_type": "markdown",
   "id": "5af8330c-e4a0-4140-95df-6cd74d0dfb27",
   "metadata": {},
   "source": [
    "**slicing window approach**\n",
    "\n",
    "- fix the slice value first: **str1[i:i+3]**\n",
    "\n",
    "- then increase the slice by 1: **for i in range (len(str1))**\n",
    "\n",
    "- whenecver it is equal to substring : **str1[i:i+3]=='ola'**\n",
    "\n",
    "- then upadte the count : **count+=1**"
   ]
  },
  {
   "cell_type": "code",
   "execution_count": 39,
   "id": "7de76e50-6bbd-4c86-aa04-9c25c0ee0dba",
   "metadata": {},
   "outputs": [
    {
     "name": "stdout",
     "output_type": "stream",
     "text": [
      "3\n"
     ]
    }
   ],
   "source": [
    "#waqp\n",
    "#count no.of sunstring ;\"ola\"\n",
    "# without count\n",
    "\n",
    "str1='ola ola ola'\n",
    "a=str1[:3]\n",
    "count=0\n",
    "for i in range(len(str1)):\n",
    "    if str1[i:i+3]==a:\n",
    "        count+=1\n",
    "print(count)\n",
    "\n",
    "    "
   ]
  },
  {
   "cell_type": "code",
   "execution_count": 40,
   "id": "56f07577-1ab7-4109-8f38-c25bdf6d4924",
   "metadata": {},
   "outputs": [
    {
     "data": {
      "text/plain": [
       "3"
      ]
     },
     "execution_count": 40,
     "metadata": {},
     "output_type": "execute_result"
    }
   ],
   "source": [
    "str1.count('ola')"
   ]
  },
  {
   "cell_type": "code",
   "execution_count": null,
   "id": "17d62e49-4b56-4449-9d75-25b8e6c7fe23",
   "metadata": {},
   "outputs": [],
   "source": []
  },
  {
   "cell_type": "code",
   "execution_count": null,
   "id": "d0ad7399-849a-481e-b613-b1207db3023c",
   "metadata": {},
   "outputs": [],
   "source": []
  },
  {
   "cell_type": "markdown",
   "id": "3d1eb824-b9be-4a4a-ac76-dafeaf3a3f0e",
   "metadata": {},
   "source": [
    "**replace**"
   ]
  },
  {
   "cell_type": "code",
   "execution_count": 44,
   "id": "2f472668-91c3-4031-85d5-042f91baee9c",
   "metadata": {},
   "outputs": [
    {
     "data": {
      "text/plain": [
       "'weLLLcome'"
      ]
     },
     "execution_count": 44,
     "metadata": {},
     "output_type": "execute_result"
    }
   ],
   "source": [
    "str1='welllcome' #weLLLcome\n",
    "str1.replace('l','L') # by default all occurence"
   ]
  },
  {
   "cell_type": "code",
   "execution_count": 45,
   "id": "3d1aab39-75bd-4bf7-a4bd-3056ccdafcd5",
   "metadata": {},
   "outputs": [
    {
     "data": {
      "text/plain": [
       "'welllcome'"
      ]
     },
     "execution_count": 45,
     "metadata": {},
     "output_type": "execute_result"
    }
   ],
   "source": [
    "str1.replace('z','Z')"
   ]
  },
  {
   "cell_type": "code",
   "execution_count": 46,
   "id": "21e4061b-5f39-44b5-9e84-f65235145529",
   "metadata": {},
   "outputs": [
    {
     "data": {
      "text/plain": [
       "'weLllcome'"
      ]
     },
     "execution_count": 46,
     "metadata": {},
     "output_type": "execute_result"
    }
   ],
   "source": [
    "str1='welllcome' #weLLLcome\n",
    "str1.replace('l','L',1) # we want only one occurence "
   ]
  },
  {
   "cell_type": "code",
   "execution_count": 47,
   "id": "c3633a4a-ae8d-4622-8146-fa6c404cacbc",
   "metadata": {},
   "outputs": [
    {
     "data": {
      "text/plain": [
       "'weLLlcome'"
      ]
     },
     "execution_count": 47,
     "metadata": {},
     "output_type": "execute_result"
    }
   ],
   "source": [
    "str1='welllcome' #weLLLcome\n",
    "str1.replace('l','L',2)"
   ]
  },
  {
   "cell_type": "markdown",
   "id": "da019334-331b-449c-8d38-464ce736e1b0",
   "metadata": {},
   "source": [
    "- by default it will replace all the occurences\n",
    "\n",
    "- the user can provide count which indicates how many letters can replace\n",
    "\n",
    "- if the substring not found it will return the original string itself"
   ]
  },
  {
   "cell_type": "code",
   "execution_count": 54,
   "id": "11cc60b5-7f89-4f80-ab9f-d11a9b8084a9",
   "metadata": {},
   "outputs": [
    {
     "name": "stdout",
     "output_type": "stream",
     "text": [
      "resta$t\n"
     ]
    }
   ],
   "source": [
    "str1='restart'\n",
    "#replace 'r'  with $ only\n",
    "# second only 'resta$t'\n",
    "str2=str1[:5]\n",
    "str3=str1[5:]\n",
    "str3=str3.replace('r','$')\n",
    "print(str2+str3)\n",
    "    "
   ]
  },
  {
   "cell_type": "code",
   "execution_count": 56,
   "id": "1b14555f-653d-4316-b095-a3a42e513dd8",
   "metadata": {},
   "outputs": [
    {
     "data": {
      "text/plain": [
       "'resta$t'"
      ]
     },
     "execution_count": 56,
     "metadata": {},
     "output_type": "execute_result"
    }
   ],
   "source": [
    "str1='restart'\n",
    "str1[::-1].replace('r','$',1)[::-1]"
   ]
  },
  {
   "cell_type": "code",
   "execution_count": null,
   "id": "092fdd17-a89c-4649-8e50-ba3bddcd3ca1",
   "metadata": {},
   "outputs": [],
   "source": []
  },
  {
   "cell_type": "code",
   "execution_count": null,
   "id": "2cafdb44-8318-466a-81e3-21ffb2737e14",
   "metadata": {},
   "outputs": [],
   "source": []
  },
  {
   "cell_type": "markdown",
   "id": "b05f4def-354f-454d-a388-1e5f0f14cd95",
   "metadata": {},
   "source": [
    "**Index**"
   ]
  },
  {
   "cell_type": "code",
   "execution_count": 61,
   "id": "c3a96c6c-2d88-4465-9d12-ff8ccf0d2eb8",
   "metadata": {},
   "outputs": [
    {
     "data": {
      "text/plain": [
       "(3, 0)"
      ]
     },
     "execution_count": 61,
     "metadata": {},
     "output_type": "execute_result"
    }
   ],
   "source": [
    "str1='restart'\n",
    "str1.index('t'),str1.index('r')\n",
    "# by default first string index will come"
   ]
  },
  {
   "cell_type": "code",
   "execution_count": 62,
   "id": "6b7f6865-abdc-4771-bc86-4b9a9f683bb6",
   "metadata": {},
   "outputs": [
    {
     "ename": "ValueError",
     "evalue": "substring not found",
     "output_type": "error",
     "traceback": [
      "\u001b[1;31m---------------------------------------------------------------------------\u001b[0m",
      "\u001b[1;31mValueError\u001b[0m                                Traceback (most recent call last)",
      "Cell \u001b[1;32mIn[62], line 1\u001b[0m\n\u001b[1;32m----> 1\u001b[0m str1\u001b[38;5;241m.\u001b[39mindex(\u001b[38;5;124m'\u001b[39m\u001b[38;5;124mz\u001b[39m\u001b[38;5;124m'\u001b[39m)\n",
      "\u001b[1;31mValueError\u001b[0m: substring not found"
     ]
    }
   ],
   "source": [
    "str1.index('z')"
   ]
  },
  {
   "cell_type": "code",
   "execution_count": 63,
   "id": "0c019d6e-baf0-4e5d-b707-4cc6904944cf",
   "metadata": {},
   "outputs": [
    {
     "data": {
      "text/plain": [
       "5"
      ]
     },
     "execution_count": 63,
     "metadata": {},
     "output_type": "execute_result"
    }
   ],
   "source": [
    "#str1.index('r') # given 0\n",
    "# \n",
    "str1.index('r',1)"
   ]
  },
  {
   "cell_type": "code",
   "execution_count": 65,
   "id": "c03bd9c7-e014-481e-a5c9-a858f58297aa",
   "metadata": {},
   "outputs": [
    {
     "data": {
      "text/plain": [
       "13"
      ]
     },
     "execution_count": 65,
     "metadata": {},
     "output_type": "execute_result"
    }
   ],
   "source": [
    "str1='restart restart'\n",
    "str1.index('r')#0\n",
    "str1.index('r',1) # 1=0+1\n",
    "str1.index('r',6) # 6=5+1\n",
    "str1.index('r',9) # 9 =8+1"
   ]
  },
  {
   "cell_type": "code",
   "execution_count": 68,
   "id": "4e573259-fd51-4d90-9b30-69e8ffa1ae95",
   "metadata": {},
   "outputs": [
    {
     "name": "stdout",
     "output_type": "stream",
     "text": [
      "0 5 8 13\n"
     ]
    }
   ],
   "source": [
    "str1='restart restart'\n",
    "i1=str1.index('r')      # 0\n",
    "i2=str1.index('r',i1+1) # 5\n",
    "i3=str1.index('r',i2+1) # 8\n",
    "i4=str1.index('r',i3+1) # 13\n",
    "print(i1,i2,i3,i4)"
   ]
  },
  {
   "cell_type": "code",
   "execution_count": null,
   "id": "c80038bb-bfa6-4a94-9226-22bfda94b3fd",
   "metadata": {},
   "outputs": [],
   "source": []
  },
  {
   "cell_type": "code",
   "execution_count": null,
   "id": "ba2a4d93-4f31-42f9-bc5f-ae9b51d83617",
   "metadata": {},
   "outputs": [],
   "source": []
  },
  {
   "cell_type": "markdown",
   "id": "f2533903-af8a-48dc-96ca-ef143791cd19",
   "metadata": {},
   "source": [
    "**find**\n",
    "- same as index"
   ]
  },
  {
   "cell_type": "code",
   "execution_count": 74,
   "id": "8436dd34-b33a-495f-a0f7-25e7ec1ea66b",
   "metadata": {},
   "outputs": [
    {
     "data": {
      "text/plain": [
       "-1"
      ]
     },
     "execution_count": 74,
     "metadata": {},
     "output_type": "execute_result"
    }
   ],
   "source": [
    "str1.find('z') # if string not find return -1 "
   ]
  },
  {
   "cell_type": "code",
   "execution_count": 1,
   "id": "31e04d6c-35c0-4c9e-b94a-24da44695671",
   "metadata": {},
   "outputs": [
    {
     "ename": "ValueError",
     "evalue": "substring not found",
     "output_type": "error",
     "traceback": [
      "\u001b[1;31m---------------------------------------------------------------------------\u001b[0m",
      "\u001b[1;31mValueError\u001b[0m                                Traceback (most recent call last)",
      "Cell \u001b[1;32mIn[1], line 4\u001b[0m\n\u001b[0;32m      2\u001b[0m str1\u001b[38;5;241m.\u001b[39mcount(\u001b[38;5;124m'\u001b[39m\u001b[38;5;124mz\u001b[39m\u001b[38;5;124m'\u001b[39m)       \u001b[38;5;66;03m# 0\u001b[39;00m\n\u001b[0;32m      3\u001b[0m str1\u001b[38;5;241m.\u001b[39mreplace(\u001b[38;5;124m'\u001b[39m\u001b[38;5;124mz\u001b[39m\u001b[38;5;124m'\u001b[39m,\u001b[38;5;124m'\u001b[39m\u001b[38;5;124mZ\u001b[39m\u001b[38;5;124m'\u001b[39m) \u001b[38;5;66;03m# 'restart'\u001b[39;00m\n\u001b[1;32m----> 4\u001b[0m str1\u001b[38;5;241m.\u001b[39mindex(\u001b[38;5;124m'\u001b[39m\u001b[38;5;124mz\u001b[39m\u001b[38;5;124m'\u001b[39m)       \u001b[38;5;66;03m# if element not in string they show error i.e valuerror\u001b[39;00m\n\u001b[0;32m      5\u001b[0m str1\u001b[38;5;241m.\u001b[39mfind(\u001b[38;5;124m'\u001b[39m\u001b[38;5;124mz\u001b[39m\u001b[38;5;124m'\u001b[39m)\n",
      "\u001b[1;31mValueError\u001b[0m: substring not found"
     ]
    }
   ],
   "source": [
    "str1='restart'\n",
    "str1.count('z')       # 0\n",
    "str1.replace('z','Z') # 'restart'\n",
    "str1.index('z')       # if element not in string they show error i.e valuerror\n",
    "str1.find('z')        # if element not in string they return -1 value"
   ]
  },
  {
   "cell_type": "code",
   "execution_count": 18,
   "id": "f7d9a7e7-ffe8-4eb3-ac5f-e71dd5b74058",
   "metadata": {},
   "outputs": [
    {
     "data": {
      "text/plain": [
       "('rohit', 'sharma', 'mi')"
      ]
     },
     "execution_count": 18,
     "metadata": {},
     "output_type": "execute_result"
    }
   ],
   "source": [
    "str1='virat.kohli@rcb.com'\n",
    "str2='rohit.sharma@mi.com'\n",
    "str3='ms.dhoni@csk.com'\n",
    "str4='a.b@c.com'\n",
    "#firstname\n",
    "#secondname\n",
    "#company\n",
    "# firstindex=str1.index('.')\n",
    "# secondindex=str1.index('@')\n",
    "# thirdname=str1.index('.',firstindex+1)\n",
    "\n",
    "# firstname=str1[:firstindex]\n",
    "# secondname=str1[firstindex+1:secondindex]\n",
    "# thirdname=str1[secondindex+1:thirdname]\n",
    "\n",
    "# print(firstname,secondname,thirdname)\n",
    "\n",
    "\n",
    "def name(i):\n",
    "    firstindex=i.index('.')\n",
    "    secondindex=i.index('@')\n",
    "    thirdname=i.index('.',firstindex+1)\n",
    "    \n",
    "    firstname=i[:firstindex]\n",
    "    secondname=i[firstindex+1:secondindex]\n",
    "    thirdname=i[secondindex+1:thirdname]\n",
    "    return (firstname,secondname,thirdname)\n",
    "name(str2)\n"
   ]
  },
  {
   "cell_type": "code",
   "execution_count": null,
   "id": "b255ab54-41ee-47b7-8ebe-acf1ebb74965",
   "metadata": {},
   "outputs": [],
   "source": []
  },
  {
   "cell_type": "code",
   "execution_count": null,
   "id": "49f4b62e-f3ad-49eb-802c-e67ddd741db2",
   "metadata": {},
   "outputs": [],
   "source": []
  },
  {
   "cell_type": "markdown",
   "id": "c5db54ba-7122-4348-81c4-7512ff09b079",
   "metadata": {},
   "source": [
    "**Split**"
   ]
  },
  {
   "cell_type": "markdown",
   "id": "cecfcbb3-3a5b-4163-b7be-0eb1487fbd52",
   "metadata": {},
   "source": [
    "- split is used to convert a string to list of elements\n",
    "\n",
    "- by default it will split based on space"
   ]
  },
  {
   "cell_type": "code",
   "execution_count": 19,
   "id": "b61f50d9-c948-4fae-8923-12bc12b9d253",
   "metadata": {},
   "outputs": [
    {
     "data": {
      "text/plain": [
       "['hai', 'how', 'are', 'you']"
      ]
     },
     "execution_count": 19,
     "metadata": {},
     "output_type": "execute_result"
    }
   ],
   "source": [
    "str1='hai how are you'\n",
    "str1.split()"
   ]
  },
  {
   "cell_type": "code",
   "execution_count": 22,
   "id": "d48839ab-cc8b-4c78-aad1-00d310412975",
   "metadata": {},
   "outputs": [
    {
     "data": {
      "text/plain": [
       "['hai how', 'are you']"
      ]
     },
     "execution_count": 22,
     "metadata": {},
     "output_type": "execute_result"
    }
   ],
   "source": [
    "str1='hai how,are you'\n",
    "str1.split(',')"
   ]
  },
  {
   "cell_type": "code",
   "execution_count": 23,
   "id": "22c333b1-dd1b-4b0a-bce5-caca655668f4",
   "metadata": {},
   "outputs": [
    {
     "data": {
      "text/plain": [
       "['hai', 'how,are', 'you']"
      ]
     },
     "execution_count": 23,
     "metadata": {},
     "output_type": "execute_result"
    }
   ],
   "source": [
    "str1='hai how,are you'\n",
    "str1.split()"
   ]
  },
  {
   "cell_type": "code",
   "execution_count": 26,
   "id": "1907d94b-f0fa-44dc-bf0a-ce5bcf515a98",
   "metadata": {},
   "outputs": [
    {
     "data": {
      "text/plain": [
       "['hell', ' hai h', 'w are y', 'u']"
      ]
     },
     "execution_count": 26,
     "metadata": {},
     "output_type": "execute_result"
    }
   ],
   "source": [
    "str1='hello hai how are you'\n",
    "l=str1.split('o')\n",
    "l\n",
    "#'hell',' hai h','w are y','u'"
   ]
  },
  {
   "cell_type": "code",
   "execution_count": 27,
   "id": "55011a55-4535-453a-b67c-a4e27bf51a1b",
   "metadata": {},
   "outputs": [
    {
     "data": {
      "text/plain": [
       "['hello', 'hai', 'how', 'are', 'you']"
      ]
     },
     "execution_count": 27,
     "metadata": {},
     "output_type": "execute_result"
    }
   ],
   "source": [
    "str1='hello hai how are you'\n",
    "l=str1.split() #splitted using = ' '\n",
    "l"
   ]
  },
  {
   "cell_type": "code",
   "execution_count": null,
   "id": "406e72ff-b686-441f-8478-c3c309c7b1cd",
   "metadata": {},
   "outputs": [],
   "source": []
  },
  {
   "cell_type": "markdown",
   "id": "d96ce801-ffbd-4364-a9f9-22e764228439",
   "metadata": {},
   "source": [
    "**Join**"
   ]
  },
  {
   "cell_type": "code",
   "execution_count": 28,
   "id": "c9cd25ff-038c-4dd2-8b1f-c9f38c72bbe8",
   "metadata": {},
   "outputs": [
    {
     "data": {
      "text/plain": [
       "'hello hai how are you'"
      ]
     },
     "execution_count": 28,
     "metadata": {},
     "output_type": "execute_result"
    }
   ],
   "source": [
    "str1='hello hai how are you'\n",
    "l=str1.split() \n",
    "' '.join(l)"
   ]
  },
  {
   "cell_type": "code",
   "execution_count": 29,
   "id": "09e3b368-4676-4feb-90ac-d21886da1973",
   "metadata": {},
   "outputs": [
    {
     "data": {
      "text/plain": [
       "'hello hai how are you'"
      ]
     },
     "execution_count": 29,
     "metadata": {},
     "output_type": "execute_result"
    }
   ],
   "source": [
    "str1='hello hai how are you'\n",
    "l=str1.split('o')\n",
    "'o'.join(l)"
   ]
  },
  {
   "cell_type": "code",
   "execution_count": 30,
   "id": "df9661e7-0686-49fe-bfa4-a7af303db7ec",
   "metadata": {},
   "outputs": [
    {
     "data": {
      "text/plain": [
       "'hai how,are you'"
      ]
     },
     "execution_count": 30,
     "metadata": {},
     "output_type": "execute_result"
    }
   ],
   "source": [
    "str1='hai how,are you'\n",
    "l=str1.split(',')\n",
    "','.join(l)"
   ]
  },
  {
   "cell_type": "markdown",
   "id": "1c442814-2cdb-4449-9064-574c5336dac0",
   "metadata": {},
   "source": [
    "- upper/lower/casefold\n",
    "\n",
    "- title/capitalization\n",
    "\n",
    "- center\n",
    "\n",
    "- lstrip/rstrip/strip\n",
    "\n",
    "- replace\n",
    "\n",
    "- count\n",
    "\n",
    "- index/find\n",
    "\n",
    "- split/join"
   ]
  },
  {
   "cell_type": "code",
   "execution_count": 32,
   "id": "eb2318b9-103d-48b1-bbe3-5fa5c0c3fd3c",
   "metadata": {},
   "outputs": [
    {
     "data": {
      "text/plain": [
       "['__add__',\n",
       " '__class__',\n",
       " '__contains__',\n",
       " '__delattr__',\n",
       " '__dir__',\n",
       " '__doc__',\n",
       " '__eq__',\n",
       " '__format__',\n",
       " '__ge__',\n",
       " '__getattribute__',\n",
       " '__getitem__',\n",
       " '__getnewargs__',\n",
       " '__getstate__',\n",
       " '__gt__',\n",
       " '__hash__',\n",
       " '__init__',\n",
       " '__init_subclass__',\n",
       " '__iter__',\n",
       " '__le__',\n",
       " '__len__',\n",
       " '__lt__',\n",
       " '__mod__',\n",
       " '__mul__',\n",
       " '__ne__',\n",
       " '__new__',\n",
       " '__reduce__',\n",
       " '__reduce_ex__',\n",
       " '__repr__',\n",
       " '__rmod__',\n",
       " '__rmul__',\n",
       " '__setattr__',\n",
       " '__sizeof__',\n",
       " '__str__',\n",
       " '__subclasshook__',\n",
       " 'capitalize',\n",
       " 'casefold',\n",
       " 'center',\n",
       " 'count',\n",
       " 'encode',\n",
       " 'endswith',\n",
       " 'expandtabs',\n",
       " 'find',\n",
       " 'format',\n",
       " 'format_map',\n",
       " 'index',\n",
       " 'isalnum',\n",
       " 'isalpha',\n",
       " 'isascii',\n",
       " 'isdecimal',\n",
       " 'isdigit',\n",
       " 'isidentifier',\n",
       " 'islower',\n",
       " 'isnumeric',\n",
       " 'isprintable',\n",
       " 'isspace',\n",
       " 'istitle',\n",
       " 'isupper',\n",
       " 'join',\n",
       " 'ljust',\n",
       " 'lower',\n",
       " 'lstrip',\n",
       " 'maketrans',\n",
       " 'partition',\n",
       " 'removeprefix',\n",
       " 'removesuffix',\n",
       " 'replace',\n",
       " 'rfind',\n",
       " 'rindex',\n",
       " 'rjust',\n",
       " 'rpartition',\n",
       " 'rsplit',\n",
       " 'rstrip',\n",
       " 'split',\n",
       " 'splitlines',\n",
       " 'startswith',\n",
       " 'strip',\n",
       " 'swapcase',\n",
       " 'title',\n",
       " 'translate',\n",
       " 'upper',\n",
       " 'zfill']"
      ]
     },
     "execution_count": 32,
     "metadata": {},
     "output_type": "execute_result"
    }
   ],
   "source": [
    "dir(str)"
   ]
  },
  {
   "cell_type": "code",
   "execution_count": null,
   "id": "99e65d8d-5dad-443a-9011-055aa4afa133",
   "metadata": {},
   "outputs": [],
   "source": []
  }
 ],
 "metadata": {
  "kernelspec": {
   "display_name": "Python 3 (ipykernel)",
   "language": "python",
   "name": "python3"
  },
  "language_info": {
   "codemirror_mode": {
    "name": "ipython",
    "version": 3
   },
   "file_extension": ".py",
   "mimetype": "text/x-python",
   "name": "python",
   "nbconvert_exporter": "python",
   "pygments_lexer": "ipython3",
   "version": "3.12.7"
  }
 },
 "nbformat": 4,
 "nbformat_minor": 5
}
