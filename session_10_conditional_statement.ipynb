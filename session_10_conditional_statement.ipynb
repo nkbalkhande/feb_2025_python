{
 "cells": [
  {
   "cell_type": "markdown",
   "id": "2f7d4c04-043a-4680-b4f2-167100fa9123",
   "metadata": {},
   "source": [
    "# conditional statements\n",
    "\n",
    "- conditional statement are used to rexcute the code based on the on some condition\n",
    "\n",
    "- assume a statement\n",
    "\n",
    "   - if rain comes i will stay at hostel\n",
    "\n",
    "   - if rain comes i will stay at hostel otherwise i will go to play cricket\n",
    "\n",
    "   - if rain comes i will stay at hostel otherwise i will go to play cricket but if omkar sir call i will go to Nareshit\n",
    " \n",
    "- if rain comes i will stay at hostel else i will go to play cricket\n",
    "\n",
    "- **if**\n",
    "\n",
    "- **if-else**\n",
    "\n",
    "- **if-elif-else**"
   ]
  },
  {
   "cell_type": "markdown",
   "id": "c865a9e9-acdb-43c1-915a-78d5ee8a6120",
   "metadata": {},
   "source": [
    "**case-1:if**"
   ]
  },
  {
   "cell_type": "code",
   "execution_count": 2,
   "id": "ce0cfeb0-6d7f-40b7-9f75-97603df1b1d0",
   "metadata": {},
   "outputs": [],
   "source": [
    "#if <condition>:\n",
    "    # write your code here\n",
    "\n",
    "#whenever the condition is true\n",
    "# then python will go inside the if area then the lines will be execute\n"
   ]
  },
  {
   "cell_type": "code",
   "execution_count": 7,
   "id": "baa51283-a598-4f86-99c3-fd039a2f22ec",
   "metadata": {},
   "outputs": [
    {
     "name": "stdout",
     "output_type": "stream",
     "text": [
      "True\n",
      "False\n",
      "False\n",
      "False\n",
      "True\n",
      "True\n"
     ]
    }
   ],
   "source": [
    "num=10 #\n",
    "#print(num=10)# assignment 10 is a value stored in a variable\n",
    "print(num==10) #T condition check num value equal to  10 or not\n",
    "print(num==100) # f\n",
    "print(num>10) #f\n",
    "print(num<10) #f\n",
    "print(num>=10) #T\n",
    "print(num<=10)# T"
   ]
  },
  {
   "cell_type": "code",
   "execution_count": 8,
   "id": "8af10a83-9f42-4920-b86b-ab817c30e966",
   "metadata": {},
   "outputs": [
    {
     "name": "stdout",
     "output_type": "stream",
     "text": [
      "hello\n"
     ]
    }
   ],
   "source": [
    "if 100>10:\n",
    "    print('hello')"
   ]
  },
  {
   "cell_type": "markdown",
   "id": "ffc530fd-0b15-42ab-a6a2-c3c3f72a046b",
   "metadata": {},
   "source": [
    "**mistake-1**\n",
    "\n",
    "**indentation error**\n",
    "\n",
    "- whenever a line start with keyword at last : will be there\n",
    "\n",
    "- whenever : there then we have indentation\n"
   ]
  },
  {
   "cell_type": "code",
   "execution_count": 10,
   "id": "c378248f-00d0-4f2b-9d85-752cc3e85d2b",
   "metadata": {},
   "outputs": [
    {
     "name": "stdout",
     "output_type": "stream",
     "text": [
      "hi\n"
     ]
    }
   ],
   "source": [
    "if 100>10:\n",
    "    print('hi')"
   ]
  },
  {
   "cell_type": "markdown",
   "id": "26e140fb-2fe5-469b-9455-a6ef83745825",
   "metadata": {},
   "source": [
    "**mistake-2**"
   ]
  },
  {
   "cell_type": "code",
   "execution_count": 11,
   "id": "efaf2d63-45c3-4024-99d2-1deb5e03f0f7",
   "metadata": {},
   "outputs": [
    {
     "ename": "SyntaxError",
     "evalue": "expected ':' (2631669042.py, line 1)",
     "output_type": "error",
     "traceback": [
      "\u001b[1;36m  Cell \u001b[1;32mIn[11], line 1\u001b[1;36m\u001b[0m\n\u001b[1;33m    if 100>10\u001b[0m\n\u001b[1;37m             ^\u001b[0m\n\u001b[1;31mSyntaxError\u001b[0m\u001b[1;31m:\u001b[0m expected ':'\n"
     ]
    }
   ],
   "source": [
    "if 100>10\n",
    "    print('hi')"
   ]
  },
  {
   "cell_type": "code",
   "execution_count": 12,
   "id": "db97434a-8c45-4556-b3ac-827855d2a488",
   "metadata": {},
   "outputs": [],
   "source": [
    "if 100<10:\n",
    "    print('hi')\n",
    "\n",
    "# step-1; 100<10 false"
   ]
  },
  {
   "cell_type": "code",
   "execution_count": 13,
   "id": "8bb0f309-9183-4d70-8e0b-51a734c7861f",
   "metadata": {},
   "outputs": [
    {
     "data": {
      "text/plain": [
       "True"
      ]
     },
     "execution_count": 13,
     "metadata": {},
     "output_type": "execute_result"
    }
   ],
   "source": [
    "100>10"
   ]
  },
  {
   "cell_type": "code",
   "execution_count": 15,
   "id": "271f9a2a-d51a-454f-8fda-9b626d50baf5",
   "metadata": {},
   "outputs": [],
   "source": [
    "if True:\n",
    "    print('hi')"
   ]
  },
  {
   "cell_type": "code",
   "execution_count": 17,
   "id": "c7d78e56-d500-4c75-9b5a-bcbb7e6f2fe1",
   "metadata": {},
   "outputs": [],
   "source": [
    "if False:\n",
    "    print('hi')"
   ]
  },
  {
   "cell_type": "code",
   "execution_count": 18,
   "id": "a0da5742-7a70-490d-ac63-bd543954b3c9",
   "metadata": {},
   "outputs": [
    {
     "name": "stdout",
     "output_type": "stream",
     "text": [
      "hi\n",
      "hi\n",
      "hi\n"
     ]
    }
   ],
   "source": [
    "if bool(100):\n",
    "    print('hi')\n",
    "\n",
    "if 100>10:\n",
    "    print('hi')\n",
    "if True:\n",
    "    print('hi')"
   ]
  },
  {
   "cell_type": "code",
   "execution_count": 19,
   "id": "8668d06d-caad-4afb-a89f-ab819ab9ba20",
   "metadata": {},
   "outputs": [
    {
     "name": "stdout",
     "output_type": "stream",
     "text": [
      "hi\n",
      "with bye\n",
      "without bye\n"
     ]
    }
   ],
   "source": [
    "if 100>10:\n",
    "    print('hi')\n",
    "    print('with bye')\n",
    "print('without bye')"
   ]
  },
  {
   "cell_type": "code",
   "execution_count": null,
   "id": "e69e4aac-2075-4086-867f-d397d00e11da",
   "metadata": {},
   "outputs": [],
   "source": [
    "if <con>:\n",
    "    <write your code>"
   ]
  },
  {
   "cell_type": "markdown",
   "id": "a406672a-f5a2-4005-bb95-618a151fe1b7",
   "metadata": {},
   "source": [
    "**Case-2 : if-else**"
   ]
  },
  {
   "cell_type": "markdown",
   "id": "f28f3d16-22ca-40bb-bb3a-0a993bc4ad73",
   "metadata": {},
   "source": [
    "- if condition is true then if statement will execute\n",
    "\n",
    "- if condition is false then else statement will excute\n",
    "\n",
    "- one condition two outputs\n",
    "\n",
    "- if needs condition but not else\n",
    "\n",
    "  "
   ]
  },
  {
   "cell_type": "code",
   "execution_count": 2,
   "id": "20356031-f8e1-40e9-96e6-f737de914a3b",
   "metadata": {},
   "outputs": [],
   "source": [
    "#  syntax :\n",
    "# if <con>:\n",
    "#     <code>\n",
    "# else:\n",
    "#     <code>"
   ]
  },
  {
   "cell_type": "code",
   "execution_count": 3,
   "id": "5b2557af-dd6f-4301-b01f-f5e4603347e3",
   "metadata": {},
   "outputs": [
    {
     "name": "stdout",
     "output_type": "stream",
     "text": [
      "hello\n"
     ]
    }
   ],
   "source": [
    "print(\"hello\")\n"
   ]
  },
  {
   "cell_type": "code",
   "execution_count": 4,
   "id": "d6f655bb-7fbc-40b3-a52d-0297138602d9",
   "metadata": {},
   "outputs": [
    {
     "name": "stdout",
     "output_type": "stream",
     "text": [
      "hello\n"
     ]
    }
   ],
   "source": [
    "frd='yes'\n",
    "if frd=='yes':\n",
    "    print('hello')"
   ]
  },
  {
   "cell_type": "code",
   "execution_count": 5,
   "id": "b519850f-7aa6-4251-bc04-f8fc2c63fbf1",
   "metadata": {},
   "outputs": [
    {
     "name": "stdout",
     "output_type": "stream",
     "text": [
      "positive\n"
     ]
    }
   ],
   "source": [
    "if 100>0:\n",
    "    print(\"positive\")\n",
    "else:\n",
    "    print(\"negative\")"
   ]
  },
  {
   "cell_type": "code",
   "execution_count": 7,
   "id": "769c6270-2b3b-46ad-8c29-6a04eaddc911",
   "metadata": {},
   "outputs": [
    {
     "name": "stdout",
     "output_type": "stream",
     "text": [
      "positive\n"
     ]
    },
    {
     "name": "stdin",
     "output_type": "stream",
     "text": [
      "Enter Number: 10\n"
     ]
    },
    {
     "name": "stdout",
     "output_type": "stream",
     "text": [
      "10 is positive\n",
      "20 is positive\n"
     ]
    }
   ],
   "source": [
    "#using 3 types\n",
    "from random import randint as rt\n",
    "n=50\n",
    "if n>0:\n",
    "    print(\"positive\")\n",
    "else:\n",
    "    print(\"negative\")\n",
    "\n",
    "n=eval(input(\"Enter Number:\"))\n",
    "if n>0:\n",
    "    print(f\"{n} is positive\")\n",
    "else:\n",
    "    print(f\"{n} is negative\")\n",
    "\n",
    "n=rt(-100,100)\n",
    "if 100>0:\n",
    "    print(f\"{n} is positive\")\n",
    "else:\n",
    "    print(f\"{n} is negative\")"
   ]
  },
  {
   "cell_type": "code",
   "execution_count": 9,
   "id": "b1acaa65-c91a-4087-809a-adac126d064d",
   "metadata": {},
   "outputs": [
    {
     "name": "stdout",
     "output_type": "stream",
     "text": [
      "hello\n",
      "positive\n",
      "condition True\n"
     ]
    }
   ],
   "source": [
    "print('hello')\n",
    "if 100>0:\n",
    "    print('positive')\n",
    "    print('condition True')\n",
    "#print('why are you in middle')#no one allowed in between if and else\n",
    "else:\n",
    "    print('negative')\n",
    "    print('condition false')\n"
   ]
  },
  {
   "cell_type": "code",
   "execution_count": 10,
   "id": "b524faea-c184-4f3f-bce8-8e037c9c501a",
   "metadata": {},
   "outputs": [
    {
     "name": "stdin",
     "output_type": "stream",
     "text": [
      "Enter n1: 34\n",
      "Enter n2: 54\n"
     ]
    },
    {
     "name": "stdout",
     "output_type": "stream",
     "text": [
      "54 is greater than 34\n"
     ]
    }
   ],
   "source": [
    "#wap askuser enter two number\n",
    "#find gratest number\n",
    "\n",
    "n1=eval(input(\"Enter n1:\"))\n",
    "n2=eval(input(\"Enter n2:\"))\n",
    "if(n1>n2):\n",
    "    print(f\"{n1} is greater than {n2}\")\n",
    "else:\n",
    "    print(f\"{n2} is greater than {n1}\")"
   ]
  },
  {
   "cell_type": "code",
   "execution_count": 12,
   "id": "3a7b0d1d-374a-4d7b-9226-c45aeff9e09e",
   "metadata": {},
   "outputs": [
    {
     "name": "stdout",
     "output_type": "stream",
     "text": [
      "n1:54 is greater\n"
     ]
    }
   ],
   "source": [
    "from random import randint as rt\n",
    "n1=rt(0,100)\n",
    "n2=rt(0,100)\n",
    "if(n1>n2):\n",
    "    print(f\"n1:{n1} is greater\")\n",
    "else:\n",
    "    print(f\"n2:{n2} is greater \")"
   ]
  },
  {
   "cell_type": "code",
   "execution_count": 15,
   "id": "729cd387-b9b5-48af-b0ec-e6aacf595d72",
   "metadata": {},
   "outputs": [
    {
     "name": "stdin",
     "output_type": "stream",
     "text": [
      "enter distance: 30\n",
      "enter charge: 10\n"
     ]
    },
    {
     "name": "stdout",
     "output_type": "stream",
     "text": [
      "Total :300\n"
     ]
    }
   ],
   "source": [
    "#wap ask the user enter distance \n",
    "# if distance grater than 25 km \n",
    "#then ask the charge per km\n",
    "# cal total charge otherwise print  free ride\n",
    "\n",
    "\n",
    "dis=eval(input(\"enter distance:\"))\n",
    "if (dis>25):\n",
    "    charge=eval(input(\"enter charge:\"))\n",
    "    total=(dis)*charge\n",
    "    print(f\"Total :{total}\")\n",
    "else:\n",
    "    print(\"Free ride\")"
   ]
  },
  {
   "cell_type": "code",
   "execution_count": 22,
   "id": "de987a6c-3596-44fe-8374-2508a886c56b",
   "metadata": {},
   "outputs": [
    {
     "name": "stdin",
     "output_type": "stream",
     "text": [
      "enter distance: 35\n",
      "enter free distance: 24\n",
      "enter charge: 23\n"
     ]
    },
    {
     "name": "stdout",
     "output_type": "stream",
     "text": [
      "chargeble distance is 11  and total charge is  :253\n"
     ]
    }
   ],
   "source": [
    "#wap ask the user enter distance \n",
    "# enter free distance\n",
    "# if distance grater than 25 km \n",
    "#then ask the charge per km\n",
    "# cal total charge otherwise print  free ride\n",
    "dis=eval(input(\"enter distance:\"))\n",
    "free=eval(input(\"enter free distance:\"))\n",
    "if (dis>free):\n",
    "    charge=eval(input(\"enter charge:\"))\n",
    "    actual=dis-free\n",
    "    total=actual*charge\n",
    "    print(f\"chargeble distance is {actual}  and total charge is  :{total}\")\n",
    "else:\n",
    "    print(\"Free ride\")"
   ]
  },
  {
   "cell_type": "code",
   "execution_count": 28,
   "id": "69cd5c73-c9b2-43a5-a4f3-c8bf780ea69c",
   "metadata": {},
   "outputs": [
    {
     "name": "stdin",
     "output_type": "stream",
     "text": [
      "enter n1: 4\n"
     ]
    },
    {
     "name": "stdout",
     "output_type": "stream",
     "text": [
      "n1:4 and n2:4, you won\n"
     ]
    }
   ],
   "source": [
    "#wap ask user enter number from keyboard n1\n",
    "# ask user get random a random number 1,10 n2\n",
    "#if n1 equal to n2 print you won  otherwise you lost\n",
    "\n",
    "n1=eval(input(\"enter n1:\"))\n",
    "n2=rt(1,10)\n",
    "if n1==n2:\n",
    "    print(f\"n1:{n1} and n2:{n2}, you won\")\n",
    "else:\n",
    "    print(f\"n1:{n1} and n2:{n2}, you lose\")"
   ]
  },
  {
   "cell_type": "code",
   "execution_count": 35,
   "id": "d48b6b17-d64b-48e9-837a-2fef2e5a07f9",
   "metadata": {},
   "outputs": [
    {
     "name": "stdin",
     "output_type": "stream",
     "text": [
      "Enter course: data science\n",
      "Enter Institute: nareshit\n"
     ]
    },
    {
     "name": "stdout",
     "output_type": "stream",
     "text": [
      "safe place\n"
     ]
    }
   ],
   "source": [
    "#wap couesr anme data science ins name is nareshit both correct \n",
    "#ask the user enter course name\n",
    "#user enter ins name if course name equal to data science and in name is nareshit the print you are at safe place otherwise khatam zindagi\n",
    "\n",
    "course=input(\"Enter course:\")\n",
    "ins_name=input(\"Enter Institute:\")\n",
    "\n",
    "if course== 'data science' and ins_name=='nareshit':\n",
    "    print('safe place')\n",
    "else:\n",
    "    print(\"khatam zindagi\")\n"
   ]
  },
  {
   "cell_type": "code",
   "execution_count": 37,
   "id": "899d449d-b769-400c-ab68-171ed8b7bc5a",
   "metadata": {},
   "outputs": [
    {
     "name": "stdin",
     "output_type": "stream",
     "text": [
      "Enter number: 9543689\n"
     ]
    },
    {
     "name": "stdout",
     "output_type": "stream",
     "text": [
      "Odd\n"
     ]
    }
   ],
   "source": [
    "#even and odd\n",
    "n=eval(input(\"Enter number:\"))\n",
    "if n%2==0:\n",
    "    print(\"Even\")\n",
    "else:\n",
    "    print(\"Odd\")"
   ]
  },
  {
   "cell_type": "markdown",
   "id": "e817a871-96c2-4950-9b50-a45828e2456e",
   "metadata": {},
   "source": [
    "**if-elif-else**\n",
    "\n",
    "- whenever we have multiple conditions we will do **if-elif-else**\n",
    "\n",
    "- if single condition is there we will go if-else\n",
    "\n",
    "     - two answer\n",
    "     - if needs condition then else does not required condition\n",
    "\n",
    "- if two condition is therewe will go if-elif-else\n",
    "\n",
    "     - three answer\n",
    "     - if and elif need condition else does not required any condition\n",
    "\n",
    "- if three condition is there we will go if-elif-elif-else\n",
    "\n",
    "    - four answer\n",
    "    - if ,elif and elif need condition else does not required any condition"
   ]
  },
  {
   "cell_type": "code",
   "execution_count": null,
   "id": "418435a0-d14a-4ae4-865b-da3e97ab57b3",
   "metadata": {},
   "outputs": [],
   "source": [
    "if <condition>:\n",
    "    <code>\n",
    "elif <condition>:\n",
    "    <code>\n",
    "elif <condition>:\n",
    "    <code>\n",
    "else:\n",
    "    <code>"
   ]
  },
  {
   "cell_type": "code",
   "execution_count": 2,
   "id": "e7ff5154-6181-437e-8057-fdf105822abf",
   "metadata": {},
   "outputs": [
    {
     "name": "stdin",
     "output_type": "stream",
     "text": [
      "Enter number: 6\n"
     ]
    },
    {
     "name": "stdout",
     "output_type": "stream",
     "text": [
      "enter a valid number\n"
     ]
    }
   ],
   "source": [
    "#wap ask user enter number\n",
    "# if number equal to one then print one\n",
    "# if number equal to two then print one\n",
    "#if number equal to three then print one\n",
    "#otherwise print enter a valid number\n",
    "num=eval(input(\"Enter number:\"))\n",
    "if num==1:\n",
    "    print(\"one\")\n",
    "elif num==2:\n",
    "    print(\"two\")\n",
    "elif num==3:\n",
    "    print(\"three\")\n",
    "else:\n",
    "    print(\"enter a valid number\")"
   ]
  },
  {
   "cell_type": "code",
   "execution_count": 13,
   "id": "b97d7481-9e77-4fd7-bd38-1f0294a9b3ec",
   "metadata": {},
   "outputs": [
    {
     "name": "stdin",
     "output_type": "stream",
     "text": [
      "Enter marks: 99\n"
     ]
    },
    {
     "name": "stdout",
     "output_type": "stream",
     "text": [
      "A Grade\n"
     ]
    }
   ],
   "source": [
    "#wap ask user enter percentage of marks \n",
    "# if marks >90 print a grade\n",
    "#70 t0 90 B\n",
    "# 50 to 70 C\n",
    "#35 to 50 D\n",
    "# fail\n",
    "\n",
    "marks=eval(input(\"Enter marks:\"))\n",
    "if marks>90:\n",
    "    print('A Grade')\n",
    "elif marks>=70:\n",
    "    print(\"B Grade\")  \n",
    "elif marks>=50 :\n",
    "    print(\"C Grade\")\n",
    "elif marks>=35:\n",
    "    print(\"D Grade\")\n",
    "\n",
    "else:\n",
    "    print(\"Fail\")\n"
   ]
  },
  {
   "cell_type": "code",
   "execution_count": 19,
   "id": "e8142a2b-f3d8-4f61-8a39-28878537b44d",
   "metadata": {},
   "outputs": [
    {
     "name": "stdin",
     "output_type": "stream",
     "text": [
      " 34\n"
     ]
    },
    {
     "name": "stdout",
     "output_type": "stream",
     "text": [
      "young\n"
     ]
    }
   ],
   "source": [
    "#wap ask user enter age\n",
    "# if age>100 unlucky guy\n",
    "# if 80 to 100 old guy\n",
    "# 60 t0 80 senior \n",
    "# 40 t0 60 mid guy\n",
    "# 20 to 40 young\n",
    "# 10 to 20 teenage\n",
    "# oterwise kid\n",
    "\n",
    "age=eval(input())\n",
    "if age>=100:\n",
    "    print(\"unlucky guy\")\n",
    "elif age>=80:\n",
    "    print(\"old guy\")\n",
    "elif age>=60:\n",
    "    print(\"senior \")\n",
    "elif age>=40:\n",
    "    print(\"mid guy\")\n",
    "elif age>=20:\n",
    "    print(\"young\")\n",
    "elif age>=10:\n",
    "    print(\"teenage\")\n",
    "else:\n",
    "    print(\"kid\")"
   ]
  },
  {
   "cell_type": "code",
   "execution_count": 28,
   "id": "5e11527b-e226-4c5c-b8d3-b80e121d1062",
   "metadata": {},
   "outputs": [
    {
     "name": "stdin",
     "output_type": "stream",
     "text": [
      "Enter gender female\n",
      "enter age: 78\n"
     ]
    },
    {
     "name": "stdout",
     "output_type": "stream",
     "text": [
      "senior female\n"
     ]
    }
   ],
   "source": [
    "#wap ak user enter gender\n",
    "#if gender equal to male inside ask user enter age \n",
    "#age>60 senoir\n",
    "#age 30 t0 60 mid age man\n",
    "#age 15 to 30 young man other wise print boy\n",
    "\n",
    "# if gender equla to female\n",
    "\n",
    "\n",
    "gender=input(\"Enter gender\")\n",
    "\n",
    "if gender=='male':\n",
    "    age=eval(input(\"enter age:\"))\n",
    "    if age>=60:\n",
    "        print(\"senior male\")\n",
    "    elif age>=30:\n",
    "        print(\"mid age man\")\n",
    "    elif age>=15:\n",
    "        print(\"young man\")\n",
    "    else:\n",
    "        print(\"Boy\")\n",
    "elif gender=='female':\n",
    "    age=eval(input(\"enter age:\"))\n",
    "    if age>=60:\n",
    "        print(\"senior female\")\n",
    "    elif age>=30:\n",
    "        print(\"mid age female\")\n",
    "    elif age>=15:\n",
    "        print(\"young girl\")\n",
    "    else:\n",
    "        print(\"girl\")\n",
    "else:\n",
    "    print(\"enter a valid gender\")\n",
    "    "
   ]
  },
  {
   "cell_type": "code",
   "execution_count": 32,
   "id": "9ea8c8e8-1d75-4838-9dc3-c8de652499fe",
   "metadata": {},
   "outputs": [
    {
     "name": "stdin",
     "output_type": "stream",
     "text": [
      "Enter Number: -4\n"
     ]
    },
    {
     "name": "stdout",
     "output_type": "stream",
     "text": [
      "Negative \n"
     ]
    }
   ],
   "source": [
    "#wap ask user to enter a number\n",
    "#idf number > than = to 0 inside number>0 print +\n",
    "\n",
    "num=eval(input(\"Enter Number:\"))\n",
    "if num>=0:\n",
    "    if num>0:\n",
    "        print(\"Positive\")\n",
    "    else:\n",
    "        print(\"Zero\")\n",
    "else:\n",
    "    print(\"Negative \")"
   ]
  },
  {
   "cell_type": "code",
   "execution_count": 36,
   "id": "b444a267-7ebc-4bc8-aa2b-0a85b3fb16bd",
   "metadata": {},
   "outputs": [
    {
     "name": "stdin",
     "output_type": "stream",
     "text": [
      "Enter Number: 3\n",
      "Enter Number1: 5\n",
      "Enter Number2: 6\n"
     ]
    },
    {
     "name": "stdout",
     "output_type": "stream",
     "text": [
      "multiplication is:30\n"
     ]
    }
   ],
   "source": [
    "# #wap ask the user enter number between 1 to 4\n",
    "# #print statement like \n",
    "# # if user enter 1 for addition \n",
    "# 2 for subtract\n",
    "# 3 for multiple\n",
    "# # 4 for div\n",
    "\n",
    "num=eval(input(\"Enter Number:\"))\n",
    "if num==1:\n",
    "    n1=eval(input(\"Enter Number1:\"))\n",
    "    n2=eval(input(\"Enter Number2:\"))\n",
    "    addition=n1+n2\n",
    "    print(f\"Addition is:{addition}\")\n",
    "elif num==2:\n",
    "    n1=eval(input(\"Enter Number1:\"))\n",
    "    n2=eval(input(\"Enter Number2:\"))\n",
    "    subtract=n1-n2\n",
    "    print(f\"subtraction is:{subtract}\")\n",
    "elif num==3:\n",
    "    n1=eval(input(\"Enter Number1:\"))\n",
    "    n2=eval(input(\"Enter Number2:\"))\n",
    "    mul=n1*n2\n",
    "    print(f\"multiplication is:{mul}\")\n",
    "elif num==4:\n",
    "    n1=eval(input(\"Enter Number1:\"))\n",
    "    n2=eval(input(\"Enter Number2:\"))\n",
    "    div=n1/n2\n",
    "    print(f\"Division is : {div}\")\n",
    "else:\n",
    "    print(\"Enter a valid number\")"
   ]
  },
  {
   "cell_type": "code",
   "execution_count": null,
   "id": "c2990341-986a-407b-a786-70e87e7b256c",
   "metadata": {},
   "outputs": [],
   "source": []
  }
 ],
 "metadata": {
  "kernelspec": {
   "display_name": "Python 3 (ipykernel)",
   "language": "python",
   "name": "python3"
  },
  "language_info": {
   "codemirror_mode": {
    "name": "ipython",
    "version": 3
   },
   "file_extension": ".py",
   "mimetype": "text/x-python",
   "name": "python",
   "nbconvert_exporter": "python",
   "pygments_lexer": "ipython3",
   "version": "3.12.7"
  }
 },
 "nbformat": 4,
 "nbformat_minor": 5
}
