{
 "cells": [
  {
   "cell_type": "markdown",
   "id": "21cc7eb7-746b-4ab5-8b10-7309392bd775",
   "metadata": {},
   "source": [
    "## List comprehension\n",
    "\n",
    "- list comprehension a way to right list operation in a single line\n",
    "\n",
    "- when we apply for loop and if-else conditional statement then the code compilation becomes slow\n",
    "\n",
    "- which means it takes much time\n",
    "\n",
    "- in order to avoid the time complexity we will use list comprehension\n",
    "\n",
    "- List comprehension is a single line code\n"
   ]
  },
  {
   "cell_type": "markdown",
   "id": "61caada8-beec-4910-bea8-ad15adebab0b",
   "metadata": {},
   "source": [
    "**case-1: only for loop**"
   ]
  },
  {
   "cell_type": "code",
   "execution_count": 1,
   "id": "003fab07-6307-4cd4-a33c-a704ed7c08a6",
   "metadata": {},
   "outputs": [
    {
     "data": {
      "text/plain": [
       "[0, 1, 2, 3, 4, 5, 6, 7, 8, 9]"
      ]
     },
     "execution_count": 1,
     "metadata": {},
     "output_type": "execute_result"
    }
   ],
   "source": [
    "list1=[]\n",
    "for i in range(10):\n",
    "    list1.append(i)\n",
    "list1"
   ]
  },
  {
   "cell_type": "code",
   "execution_count": null,
   "id": "13dbede0-4e11-4620-920a-0fee3db47958",
   "metadata": {},
   "outputs": [],
   "source": []
  },
  {
   "cell_type": "code",
   "execution_count": null,
   "id": "e9c4a059-a0d4-40df-9372-26440dc2f3fb",
   "metadata": {},
   "outputs": [],
   "source": [
    "l1=[<code should write here>]\n",
    "#indisde code no need of append\n",
    "l1=[<output var> <for loop>]"
   ]
  },
  {
   "cell_type": "code",
   "execution_count": 7,
   "id": "f9232796-4c34-4213-a757-a99aea930659",
   "metadata": {},
   "outputs": [
    {
     "data": {
      "text/plain": [
       "[0, 1, 2, 3, 4, 5, 6, 7, 8, 9]"
      ]
     },
     "execution_count": 7,
     "metadata": {},
     "output_type": "execute_result"
    }
   ],
   "source": [
    "list1=[i for i in range(10)]\n",
    "list1"
   ]
  },
  {
   "cell_type": "markdown",
   "id": "49b37b31-7f5d-417f-a7eb-1520efb2dd76",
   "metadata": {},
   "source": [
    "**dont give : after for loop**"
   ]
  },
  {
   "cell_type": "code",
   "execution_count": 19,
   "id": "51af78d6-0afe-4329-aed8-663b8ac7b31a",
   "metadata": {},
   "outputs": [
    {
     "data": {
      "text/plain": [
       "['Hyd', 'Benaglure', 'Pune', 'Mumbai']"
      ]
     },
     "execution_count": 19,
     "metadata": {},
     "output_type": "execute_result"
    }
   ],
   "source": [
    "input1=['hyd','benaglure','pune','mumbai']\n",
    "l1=[i.capitalize() for i in input1]\n",
    "l1"
   ]
  },
  {
   "cell_type": "code",
   "execution_count": 21,
   "id": "7bd35251-8dc1-4b83-a4da-e8bc3c525edc",
   "metadata": {},
   "outputs": [
    {
     "data": {
      "text/plain": [
       "['HYD', 'BENAGLURE', 'PUNE', 'MUMBAI']"
      ]
     },
     "execution_count": 21,
     "metadata": {},
     "output_type": "execute_result"
    }
   ],
   "source": [
    "input1=['hyd','benaglure','pune','mumbai']\n",
    "l1=[i.upper() for i in input1]\n",
    "l1"
   ]
  },
  {
   "cell_type": "code",
   "execution_count": 37,
   "id": "be5bdb0e-9b34-43d5-9ef9-4b58195b5de9",
   "metadata": {},
   "outputs": [
    {
     "data": {
      "text/plain": [
       "[0, 10, 20, 30]"
      ]
     },
     "execution_count": 37,
     "metadata": {},
     "output_type": "execute_result"
    }
   ],
   "source": [
    "input1=['hyd','benaglure','pune','mumbai']\n",
    "l1=[input1.index(i)*10 for i in (input1)]\n",
    "l1"
   ]
  },
  {
   "cell_type": "code",
   "execution_count": 45,
   "id": "751047ee-f02d-407c-99ec-1cca910221c9",
   "metadata": {},
   "outputs": [
    {
     "data": {
      "text/plain": [
       "6"
      ]
     },
     "execution_count": 45,
     "metadata": {},
     "output_type": "execute_result"
    }
   ],
   "source": [
    "\n",
    "input1=['hyd','benaglure','pune','mumbai']\n",
    "l1=[input1.index(i) for i in input1]\n",
    "sum(l1)"
   ]
  },
  {
   "cell_type": "code",
   "execution_count": 49,
   "id": "50d747cb-7b2f-4f84-a458-40d08b65b557",
   "metadata": {},
   "outputs": [
    {
     "data": {
      "text/plain": [
       "[1, 2, 3, 4, 5, 6, 7, 8, 9, 10]"
      ]
     },
     "execution_count": 49,
     "metadata": {},
     "output_type": "execute_result"
    }
   ],
   "source": [
    "l1=[i for i in range(1,11)]\n",
    "l1"
   ]
  },
  {
   "cell_type": "code",
   "execution_count": null,
   "id": "e3cff893-8315-432f-8722-ee1c9576bf6e",
   "metadata": {},
   "outputs": [],
   "source": []
  },
  {
   "cell_type": "code",
   "execution_count": null,
   "id": "aec2a92f-6199-4c18-ae82-d456152abe10",
   "metadata": {},
   "outputs": [],
   "source": []
  },
  {
   "cell_type": "markdown",
   "id": "f100b08c-2a5c-4e10-b132-2cca70e5c19d",
   "metadata": {},
   "source": [
    "**walrus operator**"
   ]
  },
  {
   "cell_type": "code",
   "execution_count": 50,
   "id": "fd65e73e-0306-43b3-9bfd-5a902c383a4a",
   "metadata": {},
   "outputs": [
    {
     "ename": "SyntaxError",
     "evalue": "invalid syntax. Maybe you meant '==' or ':=' instead of '='? (2663275567.py, line 1)",
     "output_type": "error",
     "traceback": [
      "\u001b[1;36m  Cell \u001b[1;32mIn[50], line 1\u001b[1;36m\u001b[0m\n\u001b[1;33m    [summ=summ+i for i in range(1,11)]\u001b[0m\n\u001b[1;37m     ^\u001b[0m\n\u001b[1;31mSyntaxError\u001b[0m\u001b[1;31m:\u001b[0m invalid syntax. Maybe you meant '==' or ':=' instead of '='?\n"
     ]
    }
   ],
   "source": [
    "[summ=summ+i for i in range(1,11)]"
   ]
  },
  {
   "cell_type": "code",
   "execution_count": 53,
   "id": "f0f4491a-676a-47e9-b6f4-c8974ef00687",
   "metadata": {},
   "outputs": [
    {
     "data": {
      "text/plain": [
       "[1, 3, 6, 10, 15, 21, 28, 36, 45, 55]"
      ]
     },
     "execution_count": 53,
     "metadata": {},
     "output_type": "execute_result"
    }
   ],
   "source": [
    "summ=0\n",
    "[summ:=summ+i for i in range(1,11)]"
   ]
  },
  {
   "cell_type": "code",
   "execution_count": 54,
   "id": "9a42bb15-f5de-4a98-89a9-c915cc26ddd6",
   "metadata": {},
   "outputs": [
    {
     "data": {
      "text/plain": [
       "55"
      ]
     },
     "execution_count": 54,
     "metadata": {},
     "output_type": "execute_result"
    }
   ],
   "source": [
    "summ=0\n",
    "[summ:=summ+i for i in range(1,11)][-1]"
   ]
  },
  {
   "cell_type": "code",
   "execution_count": null,
   "id": "28c87abf-e2e3-4b1b-9311-19162b9afb1c",
   "metadata": {},
   "outputs": [],
   "source": []
  },
  {
   "cell_type": "code",
   "execution_count": null,
   "id": "b8876b50-c8d1-4c3f-809a-b4f647a8bfb2",
   "metadata": {},
   "outputs": [],
   "source": []
  },
  {
   "cell_type": "markdown",
   "id": "c0209836-1ba1-4388-84f5-b5cd818f1dc5",
   "metadata": {},
   "source": [
    "**case-2: for loop if condition**"
   ]
  },
  {
   "cell_type": "code",
   "execution_count": 58,
   "id": "5dda984a-0cd2-44cf-a022-f07247e943cd",
   "metadata": {},
   "outputs": [
    {
     "data": {
      "text/plain": [
       "['even:2', 'even:4', 'even:6', 'even:8']"
      ]
     },
     "execution_count": 58,
     "metadata": {},
     "output_type": "execute_result"
    }
   ],
   "source": [
    "#even number\\\n",
    "even_list=[]\n",
    "for i in range(1,10):\n",
    "    if i%2==0:\n",
    "        even_list.append(f'even:{i}')\n",
    "even_list"
   ]
  },
  {
   "cell_type": "markdown",
   "id": "8e0b73a5-d9db-448f-87b2-e7b496a70f2b",
   "metadata": {},
   "source": []
  },
  {
   "cell_type": "markdown",
   "id": "56551ac6-7035-45fd-bd1e-eba59ff396fd",
   "metadata": {},
   "source": [
    "<output var> <for loop> <if condition>"
   ]
  },
  {
   "cell_type": "code",
   "execution_count": null,
   "id": "c04d61aa-4cdc-411b-a962-c15c0df193d6",
   "metadata": {},
   "outputs": [],
   "source": []
  },
  {
   "cell_type": "code",
   "execution_count": 62,
   "id": "6e3a486f-f8d7-45ed-b12e-373a719a650d",
   "metadata": {},
   "outputs": [
    {
     "data": {
      "text/plain": [
       "['even:2', 'even:4', 'even:6', 'even:8']"
      ]
     },
     "execution_count": 62,
     "metadata": {},
     "output_type": "execute_result"
    }
   ],
   "source": [
    "l1=[f'even:{i}' for i in range(1,10) if i%2==0]\n",
    "l1"
   ]
  },
  {
   "cell_type": "code",
   "execution_count": null,
   "id": "350dbbbd-8b9f-4aaf-bcea-4a9d5ff4ca0d",
   "metadata": {},
   "outputs": [],
   "source": []
  },
  {
   "cell_type": "code",
   "execution_count": 64,
   "id": "f18ec803-1d85-4704-b71b-ae4ed4cee496",
   "metadata": {},
   "outputs": [
    {
     "data": {
      "text/plain": [
       "['ben#galuru', 'mu#mbai']"
      ]
     },
     "execution_count": 64,
     "metadata": {},
     "output_type": "execute_result"
    }
   ],
   "source": [
    "input1=['hyd','ben#galuru','pune','mu#mbai']\n",
    "\n",
    "l1=[i for i in input1 if '#' in i]\n",
    "l1"
   ]
  },
  {
   "cell_type": "code",
   "execution_count": 65,
   "id": "e29a3200-8e55-47a7-9bde-d92db01d0f44",
   "metadata": {},
   "outputs": [
    {
     "data": {
      "text/plain": [
       "['hyd', 'pune']"
      ]
     },
     "execution_count": 65,
     "metadata": {},
     "output_type": "execute_result"
    }
   ],
   "source": [
    "input1=['hyd','ben#galuru','pune','mu#mbai']\n",
    "\n",
    "l1=[i for i in input1 if '#' not in i]\n",
    "l1"
   ]
  },
  {
   "cell_type": "code",
   "execution_count": null,
   "id": "f5c4391e-82c2-4b9d-b8d4-136869cfe404",
   "metadata": {},
   "outputs": [],
   "source": []
  },
  {
   "cell_type": "code",
   "execution_count": null,
   "id": "fe0640a7-273a-4391-9a63-421114b0929c",
   "metadata": {},
   "outputs": [],
   "source": []
  },
  {
   "cell_type": "markdown",
   "id": "79ef8e90-30ae-4771-8ae4-b7ed9471dc17",
   "metadata": {},
   "source": [
    "**Case:3 for loop  if-else**"
   ]
  },
  {
   "cell_type": "code",
   "execution_count": null,
   "id": "8b9bfac1-266c-452a-9726-0bf14a83628f",
   "metadata": {},
   "outputs": [],
   "source": [
    "[<if_output> <if condition> else <else_output> <for loop>]"
   ]
  },
  {
   "cell_type": "code",
   "execution_count": 71,
   "id": "d8fe4897-6fdd-40d9-8866-99e8ced68880",
   "metadata": {},
   "outputs": [
    {
     "data": {
      "text/plain": [
       "['odd:1',\n",
       " 'even:2',\n",
       " 'odd:3',\n",
       " 'even:4',\n",
       " 'odd:5',\n",
       " 'even:6',\n",
       " 'odd:7',\n",
       " 'even:8',\n",
       " 'odd:9',\n",
       " 'even:10']"
      ]
     },
     "execution_count": 71,
     "metadata": {},
     "output_type": "execute_result"
    }
   ],
   "source": [
    "l1=[f'even:{i}' if i%2==0 else f'odd:{i}' for i in range(1,11)]\n",
    "l1"
   ]
  },
  {
   "cell_type": "code",
   "execution_count": null,
   "id": "13288df1-9a6c-4204-9f7b-9fa8be07485f",
   "metadata": {},
   "outputs": [],
   "source": []
  },
  {
   "cell_type": "code",
   "execution_count": null,
   "id": "3243a12d-8dab-47da-be15-1e7c28ff6a23",
   "metadata": {},
   "outputs": [],
   "source": []
  },
  {
   "cell_type": "markdown",
   "id": "21c96504-91cc-46d4-b2cb-c27fc9bc1d8a",
   "metadata": {},
   "source": [
    "**Case-4: for-if-elif-else**\n",
    "\n",
    "- in list comprehension we dont have **elif** representation\n",
    "\n",
    "- elif also represent as **else+if**\n",
    "\n",
    "- in elif we have **elif condition** and **elif output**\n",
    "\n",
    "- else elif_output elif_condition"
   ]
  },
  {
   "cell_type": "code",
   "execution_count": null,
   "id": "dc21d995-c314-44e8-9d3b-6c2122453da6",
   "metadata": {},
   "outputs": [],
   "source": [
    "[<if_output> <if con> else<elif out> <elif condition> else <else out> <for loop>]\n"
   ]
  },
  {
   "cell_type": "markdown",
   "id": "98b4b466-5e81-44be-b918-005e24f0c38a",
   "metadata": {},
   "source": [
    "**note**:-instead of elif term write if"
   ]
  },
  {
   "cell_type": "code",
   "execution_count": 78,
   "id": "d2708ebb-3f1f-4e59-a379-aea18eea68d8",
   "metadata": {},
   "outputs": [
    {
     "data": {
      "text/plain": [
       "['56:C', '87:A', '90:A', '68:B', '78:B', '77:B', '85:A', '60:B']"
      ]
     },
     "execution_count": 78,
     "metadata": {},
     "output_type": "execute_result"
    }
   ],
   "source": [
    "#>85 A 60-85 B  60< C\n",
    "l2=[56,87,90,68,78,77,85,60]\n",
    "l1=[f'{i}:A' if i>=85 \n",
    "    else f'{i}:B' if i>=60 \n",
    "    else f'{i}:C' for i in l2]\n",
    "l1"
   ]
  },
  {
   "cell_type": "code",
   "execution_count": null,
   "id": "dc79202a-121a-4896-b457-c481906d523a",
   "metadata": {},
   "outputs": [],
   "source": []
  }
 ],
 "metadata": {
  "kernelspec": {
   "display_name": "Python 3 (ipykernel)",
   "language": "python",
   "name": "python3"
  },
  "language_info": {
   "codemirror_mode": {
    "name": "ipython",
    "version": 3
   },
   "file_extension": ".py",
   "mimetype": "text/x-python",
   "name": "python",
   "nbconvert_exporter": "python",
   "pygments_lexer": "ipython3",
   "version": "3.12.7"
  }
 },
 "nbformat": 4,
 "nbformat_minor": 5
}
