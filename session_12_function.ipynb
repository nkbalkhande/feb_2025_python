{
 "cells": [
  {
   "cell_type": "markdown",
   "id": "5055124b-d4e8-4c30-acb4-0dbc46fa9b7a",
   "metadata": {},
   "source": [
    "**Function**\n",
    "- operation and task\n",
    "- block of code which executes on a call\n",
    "- reduce redundency\n",
    "- reuse of the code"
   ]
  },
  {
   "cell_type": "markdown",
   "id": "6135b029-232b-4d81-8fb5-16f091851b8d",
   "metadata": {},
   "source": [
    "**Function**\n",
    "- reuse of the code block\n",
    "- function also called as method\n",
    "- function with out arguments\n",
    "- function with arguments\n",
    "- function with default arguments\n",
    "- function with keyword arguments(kwargs)\n",
    "- function with global and local variable\n",
    "- function with return\n",
    "- function in function"
   ]
  },
  {
   "cell_type": "code",
   "execution_count": 1,
   "id": "574017ea-bc57-4f14-9002-f0f08963aa2e",
   "metadata": {},
   "outputs": [
    {
     "name": "stdin",
     "output_type": "stream",
     "text": [
      "enter the income: 10000\n",
      "enter the tax percentage: 23\n"
     ]
    },
    {
     "name": "stdout",
     "output_type": "stream",
     "text": [
      "2300.0\n"
     ]
    }
   ],
   "source": [
    "income=eval(input(\"enter the income:\"))\n",
    "tax=eval(input(\"enter the tax percentage:\"))\n",
    "tax_pay=income*tax/100\n",
    "print(tax_pay)"
   ]
  },
  {
   "cell_type": "markdown",
   "id": "273280a6-9692-49ff-a937-b32dcb6edcfd",
   "metadata": {},
   "source": [
    "**Function with out argument**"
   ]
  },
  {
   "cell_type": "code",
   "execution_count": 2,
   "id": "7e5d8415-d3e5-4594-bbd8-28fcbd4386cb",
   "metadata": {},
   "outputs": [
    {
     "ename": "SyntaxError",
     "evalue": "invalid syntax (319460642.py, line 2)",
     "output_type": "error",
     "traceback": [
      "\u001b[1;36m  Cell \u001b[1;32mIn[2], line 2\u001b[1;36m\u001b[0m\n\u001b[1;33m    def <function name>():\u001b[0m\n\u001b[1;37m        ^\u001b[0m\n\u001b[1;31mSyntaxError\u001b[0m\u001b[1;31m:\u001b[0m invalid syntax\n"
     ]
    }
   ],
   "source": [
    "# syntax \n",
    "def <function name>():\n",
    "    <write your lines here>"
   ]
  },
  {
   "cell_type": "code",
   "execution_count": 3,
   "id": "f459d089-ed37-4901-8ab0-c2f5b3d345ad",
   "metadata": {},
   "outputs": [
    {
     "name": "stdout",
     "output_type": "stream",
     "text": [
      "the addition the number 100 and 200 is :300\n"
     ]
    }
   ],
   "source": [
    "num1=100\n",
    "num2=200\n",
    "add=num1+num2\n",
    "print(f\"the addition the number {num1} and {num2} is :{add}\")"
   ]
  },
  {
   "cell_type": "code",
   "execution_count": 4,
   "id": "68a5a02b-3a83-4d1d-9b2d-404d1132c222",
   "metadata": {},
   "outputs": [],
   "source": [
    "def addition():\n",
    "    num1=eval(input(\"enter a num1:\"))\n",
    "    num2=eval(input(\"enter a num2:\"))\n",
    "    add=num1+num2\n",
    "    print(f\"the addition the number {num1} and {num2} is :{add}\")"
   ]
  },
  {
   "cell_type": "markdown",
   "id": "6dedcc98-78b6-4ade-8501-24cf091d14e2",
   "metadata": {},
   "source": [
    "**call the function**"
   ]
  },
  {
   "cell_type": "code",
   "execution_count": 5,
   "id": "d839aeab-9452-42ee-8b80-fb55fb491fb7",
   "metadata": {},
   "outputs": [
    {
     "name": "stdin",
     "output_type": "stream",
     "text": [
      "enter a num1: 67\n",
      "enter a num2: 97\n"
     ]
    },
    {
     "name": "stdout",
     "output_type": "stream",
     "text": [
      "the addition the number 67 and 97 is :164\n"
     ]
    }
   ],
   "source": [
    "addition()"
   ]
  },
  {
   "cell_type": "code",
   "execution_count": 6,
   "id": "6247514c-631a-4a56-ba32-d7df4fdff984",
   "metadata": {},
   "outputs": [
    {
     "name": "stdin",
     "output_type": "stream",
     "text": [
      "enter a num1: 23\n",
      "enter a num2: 43\n"
     ]
    },
    {
     "name": "stdout",
     "output_type": "stream",
     "text": [
      "the addition the number 23 and 43 is :66\n"
     ]
    }
   ],
   "source": [
    "def addition():\n",
    "    num1=eval(input(\"enter a num1:\"))\n",
    "    num2=eval(input(\"enter a num2:\"))\n",
    "    add=num1+num2\n",
    "    print(f\"the addition the number {num1} and {num2} is :{add}\")\n",
    "\n",
    "addition()"
   ]
  },
  {
   "cell_type": "markdown",
   "id": "b1f5be15-fa41-449d-b9bc-315a5d6c6257",
   "metadata": {},
   "source": [
    "**Note**\n",
    "\n",
    "- function name rule sam`e as variable rule\n",
    "- no special charcters\n",
    "- no number before\n",
    "- no space between words etc\n",
    "- Function name should not be any keywords\n",
    "- Function name should not be any package names\n",
    "- Function name should not be your notebook name\n",
    "- Function name should not be any variable which is using inside that function"
   ]
  },
  {
   "cell_type": "code",
   "execution_count": 8,
   "id": "a7b863bb-6977-4bbd-88bc-05acc58cfa2d",
   "metadata": {},
   "outputs": [
    {
     "name": "stdin",
     "output_type": "stream",
     "text": [
      "enter the num1 : 45\n",
      "enter the num2 : 24\n"
     ]
    },
    {
     "name": "stdout",
     "output_type": "stream",
     "text": [
      "addition the number 45 and 24 is :69\n"
     ]
    }
   ],
   "source": [
    "def addition():\n",
    "    num1=eval(input(\"enter the num1 :\"))\n",
    "    num2=eval(input(\"enter the num2 :\"))\n",
    "    add=num1+num2\n",
    "    print(f\"addition the number {num1} and {num2} is :{add}\")\n",
    "\n",
    "addition()"
   ]
  },
  {
   "cell_type": "markdown",
   "id": "beb5dc34-3100-4db4-97e2-2373b30fa788",
   "metadata": {},
   "source": [
    "- while defind the function we does not know wheter the error is there or not\n",
    "- for that we need to call the function"
   ]
  },
  {
   "cell_type": "code",
   "execution_count": null,
   "id": "e3f8037e-5bfb-4e08-bece-79392e6f27b0",
   "metadata": {},
   "outputs": [],
   "source": []
  },
  {
   "cell_type": "code",
   "execution_count": 9,
   "id": "a500e4b5-585e-4920-b4f0-75b4c076d6ca",
   "metadata": {},
   "outputs": [
    {
     "name": "stdin",
     "output_type": "stream",
     "text": [
      "enter the num1 : 34\n",
      "enter the num2 : 24\n"
     ]
    },
    {
     "ename": "NameError",
     "evalue": "name 'n11' is not defined",
     "output_type": "error",
     "traceback": [
      "\u001b[1;31m---------------------------------------------------------------------------\u001b[0m",
      "\u001b[1;31mNameError\u001b[0m                                 Traceback (most recent call last)",
      "Cell \u001b[1;32mIn[9], line 9\u001b[0m\n\u001b[0;32m      7\u001b[0m \u001b[38;5;28;01mexcept\u001b[39;00m \u001b[38;5;167;01mException\u001b[39;00m \u001b[38;5;28;01mas\u001b[39;00m e:\n\u001b[0;32m      8\u001b[0m     \u001b[38;5;28mprint\u001b[39m(e)\n\u001b[1;32m----> 9\u001b[0m addition2()\n",
      "Cell \u001b[1;32mIn[9], line 5\u001b[0m, in \u001b[0;36maddition2\u001b[1;34m()\u001b[0m\n\u001b[0;32m      3\u001b[0m n1\u001b[38;5;241m=\u001b[39m\u001b[38;5;28meval\u001b[39m(\u001b[38;5;28minput\u001b[39m(\u001b[38;5;124m\"\u001b[39m\u001b[38;5;124menter the num1 :\u001b[39m\u001b[38;5;124m\"\u001b[39m))\n\u001b[0;32m      4\u001b[0m n2\u001b[38;5;241m=\u001b[39m\u001b[38;5;28meval\u001b[39m(\u001b[38;5;28minput\u001b[39m(\u001b[38;5;124m\"\u001b[39m\u001b[38;5;124menter the num2 :\u001b[39m\u001b[38;5;124m\"\u001b[39m))\n\u001b[1;32m----> 5\u001b[0m add1\u001b[38;5;241m=\u001b[39mn11\u001b[38;5;241m+\u001b[39mn2\n\u001b[0;32m      6\u001b[0m \u001b[38;5;28mprint\u001b[39m(\u001b[38;5;124mf\u001b[39m\u001b[38;5;124m\"\u001b[39m\u001b[38;5;124maddition the number \u001b[39m\u001b[38;5;132;01m{\u001b[39;00mn1\u001b[38;5;132;01m}\u001b[39;00m\u001b[38;5;124m and \u001b[39m\u001b[38;5;132;01m{\u001b[39;00mn2\u001b[38;5;132;01m}\u001b[39;00m\u001b[38;5;124m is :\u001b[39m\u001b[38;5;132;01m{\u001b[39;00madd1\u001b[38;5;132;01m}\u001b[39;00m\u001b[38;5;124m\"\u001b[39m)\n",
      "\u001b[1;31mNameError\u001b[0m: name 'n11' is not defined"
     ]
    }
   ],
   "source": [
    "try:\n",
    "    def addition2():\n",
    "        n1=eval(input(\"enter the num1 :\"))\n",
    "        n2=eval(input(\"enter the num2 :\"))\n",
    "        add1=n11+n2\n",
    "        print(f\"addition the number {n1} and {n2} is :{add1}\")\n",
    "except Exception as e:\n",
    "    print(e)\n",
    "addition2()"
   ]
  },
  {
   "cell_type": "code",
   "execution_count": 10,
   "id": "a15998b1-ef94-4e35-88ed-dc9fd15f4772",
   "metadata": {},
   "outputs": [
    {
     "name": "stdin",
     "output_type": "stream",
     "text": [
      "enter the num1 : 23\n",
      "enter the num2 : 89\n"
     ]
    },
    {
     "name": "stdout",
     "output_type": "stream",
     "text": [
      "name 'n11' is not defined\n"
     ]
    }
   ],
   "source": [
    "def addition3():\n",
    "    try:\n",
    "        n1=eval(input(\"enter the num1 :\"))\n",
    "        n2=eval(input(\"enter the num2 :\"))\n",
    "        add1=n11+n2\n",
    "        print(f\"addition the number {n1} and {n2} is :{add1}\")\n",
    "    except Exception as e:\n",
    "        print(e)\n",
    "addition3()"
   ]
  },
  {
   "cell_type": "markdown",
   "id": "773182fc-b622-4b36-8ed9-68014fdeebdf",
   "metadata": {},
   "source": [
    "- try-except should write inside the function"
   ]
  },
  {
   "cell_type": "markdown",
   "id": "1c00c768-213a-437b-9b94-ea2cba4978db",
   "metadata": {},
   "source": [
    "**Fuctions with arguments**"
   ]
  },
  {
   "cell_type": "code",
   "execution_count": 13,
   "id": "91419c5a-2dbb-4dde-b369-16f570dc5ec3",
   "metadata": {},
   "outputs": [
    {
     "name": "stdin",
     "output_type": "stream",
     "text": [
      " 23\n",
      " 34\n"
     ]
    },
    {
     "name": "stdout",
     "output_type": "stream",
     "text": [
      "57\n"
     ]
    }
   ],
   "source": [
    "def addition():\n",
    "    n1=eval(input())\n",
    "    n2=eval(input())\n",
    "    add=n1+n2\n",
    "    print(add)\n",
    "addition()\n",
    "    "
   ]
  },
  {
   "cell_type": "markdown",
   "id": "6beec96c-12d9-4805-b95c-4c4b195b0fc1",
   "metadata": {},
   "source": [
    "- How many variables are there inside the fucntion\n",
    "   - in above **addition** function 3 varaible are there: **n1,n2,add**\n",
    "\n",
    "\n",
    "- How many input variable are there\n",
    "   - input variable means the variable access values from the user as input : **n1,n2**\n",
    "\n",
    "\n",
    "- How many output variable are there\n",
    "     - output variable means the variable created because the of some operations: **add**\n",
    "\n",
    "**dont touch output variable**"
   ]
  },
  {
   "cell_type": "code",
   "execution_count": 14,
   "id": "f79f428d-7f22-43a1-ab0a-aa06bcce5c04",
   "metadata": {},
   "outputs": [
    {
     "name": "stdout",
     "output_type": "stream",
     "text": [
      "the sum of 100 and 200 is : 300\n"
     ]
    }
   ],
   "source": [
    "def addition1(n1,n2):\n",
    "    \n",
    "    add=n1+n2\n",
    "    print(f'the sum of {n1} and {n2} is : {add}')\n",
    "    \n",
    "addition1(100,200)"
   ]
  },
  {
   "cell_type": "code",
   "execution_count": 15,
   "id": "0846678b-817d-4957-9a2b-43ee04a6d669",
   "metadata": {},
   "outputs": [
    {
     "name": "stdin",
     "output_type": "stream",
     "text": [
      " 23\n",
      " 24\n"
     ]
    },
    {
     "name": "stdout",
     "output_type": "stream",
     "text": [
      "47\n",
      "the sum of 10 and 30 is : 40\n"
     ]
    },
    {
     "name": "stdin",
     "output_type": "stream",
     "text": [
      "Enter n2: 56\n"
     ]
    },
    {
     "name": "stdout",
     "output_type": "stream",
     "text": [
      "the sum of 20 and 56 is : 76\n"
     ]
    }
   ],
   "source": [
    "def addition():\n",
    "    n1=eval(input())\n",
    "    n2=eval(input())\n",
    "    add=n1+n2\n",
    "    print(add)\n",
    "addition()\n",
    "\n",
    "def addition1(n1,n2):\n",
    "    add=n1+n2\n",
    "    print(f'the sum of {n1} and {n2} is : {add}')\n",
    "addition1(10,30)\n",
    "\n",
    "def addition2(n1):\n",
    "    n2=eval(input(\"Enter n2:\"))\n",
    "    add=n1+n2\n",
    "    print(f'the sum of {n1} and {n2} is : {add}')\n",
    "addition2(20)"
   ]
  },
  {
   "cell_type": "code",
   "execution_count": 16,
   "id": "e9d81a7c-30a9-4dcf-a385-ac3574c9fe0a",
   "metadata": {},
   "outputs": [
    {
     "name": "stdout",
     "output_type": "stream",
     "text": [
      "the avg of 12,87 and 90 is : 63.0\n"
     ]
    },
    {
     "name": "stdin",
     "output_type": "stream",
     "text": [
      "Enter n1: 34\n",
      "Enter n2: 23\n",
      "Enter n3: 43\n"
     ]
    },
    {
     "name": "stdout",
     "output_type": "stream",
     "text": [
      "the avg of 34,23 and 43 is : 33.333333333333336\n"
     ]
    },
    {
     "name": "stdin",
     "output_type": "stream",
     "text": [
      "Enter n2: 23\n",
      "Enter n3: 76\n"
     ]
    },
    {
     "name": "stdout",
     "output_type": "stream",
     "text": [
      "the avg of 10,23 and 76 is : 36.333333333333336\n"
     ]
    },
    {
     "name": "stdin",
     "output_type": "stream",
     "text": [
      "Enter n3: 12\n"
     ]
    },
    {
     "name": "stdout",
     "output_type": "stream",
     "text": [
      "the avg of 10,98 and 12 is : 40.0\n"
     ]
    }
   ],
   "source": [
    "def avg(n1,n2,n3):\n",
    "    avg=(n1+n2+n3)/3\n",
    "    print(f'the avg of {n1},{n2} and {n3} is : {avg}')\n",
    "avg(12,87,90)\n",
    "\n",
    "def avg1():\n",
    "    n1=eval(input(\"Enter n1:\"))\n",
    "    n2=eval(input(\"Enter n2:\"))\n",
    "    n3=eval(input(\"Enter n3:\"))\n",
    "    avg=(n1+n2+n3)/3\n",
    "    print(f'the avg of {n1},{n2} and {n3} is : {avg}')\n",
    "avg1()\n",
    "\n",
    "def avg2(n1):\n",
    "    n2=eval(input(\"Enter n2:\"))\n",
    "    n3=eval(input(\"Enter n3:\"))\n",
    "    avg=(n1+n2+n3)/3\n",
    "    print(f'the avg of {n1},{n2} and {n3} is : {avg}')\n",
    "avg2(10)\n",
    "\n",
    "def avg3(n1,n2):\n",
    "    n3=eval(input(\"Enter n3:\"))\n",
    "    avg=(n1+n2+n3)/3\n",
    "    print(f'the avg of {n1},{n2} and {n3} is : {avg}')\n",
    "avg3(10,98)\n",
    "    \n"
   ]
  },
  {
   "cell_type": "markdown",
   "id": "729466e2-2c91-448d-8a8a-b41d9aa85aa2",
   "metadata": {},
   "source": [
    "**Functions with default arguments**"
   ]
  },
  {
   "cell_type": "code",
   "execution_count": 18,
   "id": "af847f50-bfc8-452e-b51e-ba7abb4ed455",
   "metadata": {},
   "outputs": [
    {
     "name": "stdout",
     "output_type": "stream",
     "text": [
      "total bill is:1200.0\n"
     ]
    }
   ],
   "source": [
    "def amount1(bill,tip_per=20):\n",
    "    total=bill+(bill*tip_per)/100\n",
    "    print(f\"total bill is:{total}\")\n",
    "amount1(1000)"
   ]
  },
  {
   "cell_type": "markdown",
   "id": "f5c4db0f-4960-4e0a-9cd7-0d5c1cb7abe9",
   "metadata": {},
   "source": [
    "- In above function the tip_per is fixed as 20\n",
    "- this is called default argument\n",
    "- while calling the function no need to provide tip_per\n",
    "\n",
    "- if you provide again the value will be change "
   ]
  },
  {
   "cell_type": "code",
   "execution_count": 19,
   "id": "97d5d2b9-7c7f-4bdd-9a3d-5b4cb675130d",
   "metadata": {},
   "outputs": [
    {
     "name": "stdout",
     "output_type": "stream",
     "text": [
      "avg of 23,20,30 is 24.33\n"
     ]
    }
   ],
   "source": [
    "def avg(n1,n2=20,n3=30):\n",
    "    avg=(n1+n2+n3)/3\n",
    "    avg1=round(avg,2)\n",
    "    print(f\"avg of {n1},{n2},{n3} is {avg1}\")\n",
    "avg(23)"
   ]
  },
  {
   "cell_type": "code",
   "execution_count": 3,
   "id": "2562d98a-24ba-4da1-a3b4-31db734b0460",
   "metadata": {},
   "outputs": [
    {
     "ename": "SyntaxError",
     "evalue": "parameter without a default follows parameter with a default (3047486920.py, line 1)",
     "output_type": "error",
     "traceback": [
      "\u001b[1;36m  Cell \u001b[1;32mIn[3], line 1\u001b[1;36m\u001b[0m\n\u001b[1;33m    def avg(n1,n2=20,n3):\u001b[0m\n\u001b[1;37m                     ^\u001b[0m\n\u001b[1;31mSyntaxError\u001b[0m\u001b[1;31m:\u001b[0m parameter without a default follows parameter with a default\n"
     ]
    }
   ],
   "source": [
    "def avg(n1,n2=20,n3):\n",
    "    avg=(n1+n2+n3)/3\n",
    "    avg1=round(avg,2)\n",
    "    print(f\"avg of {n1},{n2},{n3} is {avg1}\")\n",
    "avg(100,200)"
   ]
  },
  {
   "cell_type": "markdown",
   "id": "d35a0b73-a9a7-4a20-a50d-a3f780d1534d",
   "metadata": {},
   "source": [
    "**Note : default argument always at last**"
   ]
  },
  {
   "cell_type": "code",
   "execution_count": 23,
   "id": "478511f5-ff5f-43b4-b69b-d3c347a8a988",
   "metadata": {},
   "outputs": [
    {
     "name": "stdout",
     "output_type": "stream",
     "text": [
      "avg of 100,20,200 is 106.67\n"
     ]
    }
   ],
   "source": [
    "def avg(n1,n3,n2=20):\n",
    "    avg=(n1+n2+n3)/3\n",
    "    avg1=round(avg,2)\n",
    "    print(f\"avg of {n1},{n2},{n3} is {avg1}\")\n",
    "avg(100,200)"
   ]
  },
  {
   "cell_type": "code",
   "execution_count": null,
   "id": "f6f00e1c-3150-4f5a-8721-f4380efdc7a3",
   "metadata": {},
   "outputs": [],
   "source": [
    "n1,n2,n3=100 #w\n",
    "n1,n2=100,n3 #f\n",
    "n1=100,n2,n3 #f\n",
    "n1,n2=100,n3=300 #w\n",
    "n1=100,n2,n3=100 #f\n",
    "n1=100,n2=100,n3 # f\n",
    "n1=100,n2=100,n3=100 #w\n"
   ]
  },
  {
   "cell_type": "code",
   "execution_count": 4,
   "id": "8e957545-4031-42cb-b05d-eb761d0dbe3a",
   "metadata": {},
   "outputs": [
    {
     "name": "stdout",
     "output_type": "stream",
     "text": [
      "Function without argument\n"
     ]
    },
    {
     "name": "stdin",
     "output_type": "stream",
     "text": [
      "Enter salary: 100000\n",
      "Enter tax per: 15\n"
     ]
    },
    {
     "name": "stdout",
     "output_type": "stream",
     "text": [
      "Total tax pay: 15000.0\n",
      "Function with argument\n",
      "Total tax pay: 6000.0\n",
      "Function with default argument\n",
      "Total tax pay: 2500.0\n"
     ]
    }
   ],
   "source": [
    "print(\"Function without argument\")\n",
    "\n",
    "def tax_cal():\n",
    "    sal=eval(input(\"Enter salary:\"))\n",
    "    tax_per=eval(input(\"Enter tax per:\"))\n",
    "    tax_pay=sal*tax_per/100\n",
    "    print(\"Total tax pay:\",tax_pay)\n",
    "    \n",
    "tax_cal()\n",
    "\n",
    "\n",
    "print(\"Function with argument\")\n",
    "\n",
    "def tax_cal1(sal,tax_per):\n",
    "    \n",
    "    tax_pay=sal*tax_per/100\n",
    "    print(\"Total tax pay:\",tax_pay)\n",
    "    \n",
    "tax_cal1(50000,12)\n",
    "\n",
    "print(\"Function with default argument\")\n",
    "\n",
    "def tax_cal2(sal,tax_per=10):\n",
    "    \n",
    "    tax_pay=sal*tax_per/100\n",
    "    print(\"Total tax pay:\",tax_pay)\n",
    "    \n",
    "tax_cal2(25000)\n",
    "\n",
    "\n"
   ]
  },
  {
   "cell_type": "markdown",
   "id": "12fc818b-705b-4f74-853a-5b93a62121ff",
   "metadata": {},
   "source": [
    "## analogy with the package"
   ]
  },
  {
   "cell_type": "code",
   "execution_count": 5,
   "id": "9d7e10f6-fc66-42f2-be6f-d71b41a1aca7",
   "metadata": {},
   "outputs": [
    {
     "data": {
      "text/plain": [
       "(3+4j)"
      ]
     },
     "execution_count": 5,
     "metadata": {},
     "output_type": "execute_result"
    }
   ],
   "source": [
    "complex(3,4)#real=3 and img=4 3+4j"
   ]
  },
  {
   "cell_type": "code",
   "execution_count": 7,
   "id": "9d577add-2100-4568-a9f6-44d739f86d46",
   "metadata": {},
   "outputs": [
    {
     "data": {
      "text/plain": [
       "(3+0j)"
      ]
     },
     "execution_count": 7,
     "metadata": {},
     "output_type": "execute_result"
    }
   ],
   "source": [
    "complex(3)#real=3 imag=0 3+0j"
   ]
  },
  {
   "cell_type": "code",
   "execution_count": 8,
   "id": "71bb96e1-7a6c-4969-becd-d751abdae63b",
   "metadata": {},
   "outputs": [
    {
     "data": {
      "text/plain": [
       "0j"
      ]
     },
     "execution_count": 8,
     "metadata": {},
     "output_type": "execute_result"
    }
   ],
   "source": [
    "complex()# real=0 imag=0 0+0j"
   ]
  },
  {
   "cell_type": "markdown",
   "id": "5a3cf27b-7659-4f86-975b-a4bcff3114dc",
   "metadata": {},
   "source": [
    "- Now onwards whenever you see any package\n",
    "\n",
    "- Always do shift+tab inside the packets and observe\n",
    "\n",
    "- with or without or default "
   ]
  },
  {
   "cell_type": "code",
   "execution_count": 11,
   "id": "4c4e0413-beae-4610-b0ae-0f2cdd74d1cb",
   "metadata": {},
   "outputs": [
    {
     "name": "stdout",
     "output_type": "stream",
     "text": [
      "the summation of 100,200,300 is : 600\n"
     ]
    }
   ],
   "source": [
    "def add(a,b,c):\n",
    "    summ=a+b+c\n",
    "    print(f'the summation of {a},{b},{c} is : {summ}')\n",
    "add(100,200,300)"
   ]
  },
  {
   "cell_type": "markdown",
   "id": "9ebaa308-6f66-4c5a-bcf2-93740b3908fb",
   "metadata": {},
   "source": [
    "**case-1**"
   ]
  },
  {
   "cell_type": "code",
   "execution_count": 12,
   "id": "72714fe6-9a6d-400e-b819-490c63029139",
   "metadata": {},
   "outputs": [
    {
     "name": "stdout",
     "output_type": "stream",
     "text": [
      "the summation of 100,200,300 is : 600\n"
     ]
    }
   ],
   "source": [
    "def add(a,b,c=300):\n",
    "    summ=a+b+c\n",
    "    print(f'the summation of {a},{b},{c} is : {summ}')\n",
    "add(100,200)"
   ]
  },
  {
   "cell_type": "markdown",
   "id": "5fe7f890-6361-4b2d-9b68-9427ea232712",
   "metadata": {},
   "source": [
    "**case-2**"
   ]
  },
  {
   "cell_type": "code",
   "execution_count": 13,
   "id": "ad34bb8a-24a3-4c0d-baf8-0a8f8fee2624",
   "metadata": {},
   "outputs": [
    {
     "name": "stdout",
     "output_type": "stream",
     "text": [
      "a: 100\n",
      "b: 200\n",
      "c: 600\n",
      "the summation of 100,200,600 is : 900\n"
     ]
    }
   ],
   "source": [
    "def add(a,b,c=400):\n",
    "    print('a:',a)\n",
    "    print('b:',b)\n",
    "    print('c:',c)\n",
    "    summ=a+b+c\n",
    "    print(f'the summation of {a},{b},{c} is : {summ}')\n",
    "add(100,200,600)"
   ]
  },
  {
   "cell_type": "markdown",
   "id": "bb4cc02c-3182-4495-8993-f1fc33f7bafe",
   "metadata": {},
   "source": [
    "- In above case we already provide default value c=400\n",
    "\n",
    "- but while we call the function c value become=600\n",
    "\n",
    "- step-1 : define the function : while define what is the value 400\n",
    "\n",
    "- step-2: call the function : while call the function what is the value 600\n",
    "\n",
    "- step-3: Running the function: while running the function what is the value : 600"
   ]
  },
  {
   "cell_type": "markdown",
   "id": "54fd938b-4266-4741-9a5d-16be3bca7f77",
   "metadata": {},
   "source": [
    "**case-3**"
   ]
  },
  {
   "cell_type": "code",
   "execution_count": 14,
   "id": "cf12f030-57ac-40ce-a413-ca1b6bdd5167",
   "metadata": {},
   "outputs": [
    {
     "name": "stdout",
     "output_type": "stream",
     "text": [
      "a: 100\n",
      "b: 200\n",
      "c: 1000\n",
      "the summation of 100,200,1000 is : 1300\n"
     ]
    }
   ],
   "source": [
    "def add(a,b,c=400): #step-1\n",
    "    c=1000   # step-3\n",
    "    print('a:',a)\n",
    "    print('b:',b)\n",
    "    print('c:',c)\n",
    "    summ=a+b+c\n",
    "    print(f'the summation of {a},{b},{c} is : {summ}')\n",
    "add(100,200,600) # step-2\n",
    "#while defining c=400\n",
    "#while calling c=600\n",
    "#while running c=1000\n"
   ]
  },
  {
   "cell_type": "markdown",
   "id": "1c32d646-6fa4-45f5-9f87-26ff37622ac7",
   "metadata": {},
   "source": [
    "**Global vs Local Varaible**\n",
    "\n",
    "- the variables outside the function is called as **global variable**\n",
    "\n",
    "     - global variable can you any were\n",
    " \n",
    "     - global varible can be use inside the function also outside function\n",
    "\n",
    "- the variables inside the function is called as **local variable.**\n",
    "\n",
    "     - local variable can be use only inside function\n",
    " \n",
    "     - local variable can not be use outside function\n",
    "\n",
    " "
   ]
  },
  {
   "cell_type": "code",
   "execution_count": 16,
   "id": "53a723ad-d16a-4290-97cb-7bddbb6fe130",
   "metadata": {},
   "outputs": [
    {
     "name": "stdout",
     "output_type": "stream",
     "text": [
      "300\n"
     ]
    }
   ],
   "source": [
    "def addition():\n",
    "    n1=100\n",
    "    n2=200\n",
    "    summ=n1+n2\n",
    "    print(summ)\n",
    "addition()"
   ]
  },
  {
   "cell_type": "code",
   "execution_count": 17,
   "id": "403eb067-9c8a-4413-80bc-d9f5d7772279",
   "metadata": {},
   "outputs": [
    {
     "ename": "NameError",
     "evalue": "name 'summ' is not defined",
     "output_type": "error",
     "traceback": [
      "\u001b[1;31m---------------------------------------------------------------------------\u001b[0m",
      "\u001b[1;31mNameError\u001b[0m                                 Traceback (most recent call last)",
      "Cell \u001b[1;32mIn[17], line 1\u001b[0m\n\u001b[1;32m----> 1\u001b[0m summ\n",
      "\u001b[1;31mNameError\u001b[0m: name 'summ' is not defined"
     ]
    }
   ],
   "source": [
    "summ"
   ]
  },
  {
   "cell_type": "code",
   "execution_count": 18,
   "id": "9cbc3fc5-bfdd-4792-b74b-a40503fe3ea5",
   "metadata": {},
   "outputs": [
    {
     "name": "stdout",
     "output_type": "stream",
     "text": [
      "3000\n"
     ]
    }
   ],
   "source": [
    "n1=1000\n",
    "n2=2000\n",
    "def addition():\n",
    "    summ=n1+n2\n",
    "    print(summ)\n",
    "addition()"
   ]
  },
  {
   "cell_type": "code",
   "execution_count": 19,
   "id": "55b55668-c04e-40a3-aec1-7b3520deabef",
   "metadata": {},
   "outputs": [
    {
     "data": {
      "text/plain": [
       "1000"
      ]
     },
     "execution_count": 19,
     "metadata": {},
     "output_type": "execute_result"
    }
   ],
   "source": [
    "n1"
   ]
  },
  {
   "cell_type": "code",
   "execution_count": 20,
   "id": "ab338b12-cd06-442a-a96c-71e84aff7d33",
   "metadata": {},
   "outputs": [
    {
     "data": {
      "text/plain": [
       "2000"
      ]
     },
     "execution_count": 20,
     "metadata": {},
     "output_type": "execute_result"
    }
   ],
   "source": [
    "n2"
   ]
  },
  {
   "cell_type": "markdown",
   "id": "e573436c-2ffc-4cfe-bf53-5b2c182abc07",
   "metadata": {},
   "source": [
    "**How to convert local variable to Global variable**\n",
    "\n",
    "- if we want to use summ variable outside the function\n",
    "\n",
    "- then intialise summ as global also using **global** keyword"
   ]
  },
  {
   "cell_type": "code",
   "execution_count": 21,
   "id": "5b92505a-a14a-418a-ba13-a3ca52f409fc",
   "metadata": {},
   "outputs": [
    {
     "name": "stdout",
     "output_type": "stream",
     "text": [
      "3000\n"
     ]
    }
   ],
   "source": [
    "n1=1000\n",
    "n2=2000\n",
    "def addition():\n",
    "    global summ # use global keyword to make any local variable to global variable\n",
    "    summ=n1+n2\n",
    "    print(summ)\n",
    "addition()"
   ]
  },
  {
   "cell_type": "code",
   "execution_count": 22,
   "id": "dd4eaadc-76ce-4cc0-afe8-0b0b7cd538dd",
   "metadata": {},
   "outputs": [
    {
     "data": {
      "text/plain": [
       "3000"
      ]
     },
     "execution_count": 22,
     "metadata": {},
     "output_type": "execute_result"
    }
   ],
   "source": [
    "summ"
   ]
  },
  {
   "cell_type": "markdown",
   "id": "eae07fe0-ba4d-4927-a962-2a1bc59611f1",
   "metadata": {},
   "source": [
    "**Unbounded local error**"
   ]
  },
  {
   "cell_type": "markdown",
   "id": "3fd7126b-0517-4494-b898-6c3b4aaa513d",
   "metadata": {},
   "source": [
    "- in below example s is not initialsed\n",
    "\n",
    "- we might think name error will come\n",
    "\n",
    "- but inside function we will get **unbounded local error**"
   ]
  },
  {
   "cell_type": "code",
   "execution_count": 20,
   "id": "afbf4f24-1b67-4dd1-9056-eede7d001e00",
   "metadata": {},
   "outputs": [
    {
     "ename": "UnboundLocalError",
     "evalue": "cannot access local variable 's' where it is not associated with a value",
     "output_type": "error",
     "traceback": [
      "\u001b[1;31m---------------------------------------------------------------------------\u001b[0m",
      "\u001b[1;31mUnboundLocalError\u001b[0m                         Traceback (most recent call last)",
      "Cell \u001b[1;32mIn[20], line 6\u001b[0m\n\u001b[0;32m      4\u001b[0m     s\u001b[38;5;241m=\u001b[39ms\u001b[38;5;241m+\u001b[39mn1\n\u001b[0;32m      5\u001b[0m     \u001b[38;5;28mprint\u001b[39m(s)\n\u001b[1;32m----> 6\u001b[0m add1()\n",
      "Cell \u001b[1;32mIn[20], line 4\u001b[0m, in \u001b[0;36madd1\u001b[1;34m()\u001b[0m\n\u001b[0;32m      2\u001b[0m \u001b[38;5;28;01mdef\u001b[39;00m \u001b[38;5;21madd1\u001b[39m():\n\u001b[0;32m      3\u001b[0m     n1\u001b[38;5;241m=\u001b[39m\u001b[38;5;241m100\u001b[39m\n\u001b[1;32m----> 4\u001b[0m     s\u001b[38;5;241m=\u001b[39ms\u001b[38;5;241m+\u001b[39mn1\n\u001b[0;32m      5\u001b[0m     \u001b[38;5;28mprint\u001b[39m(s)\n",
      "\u001b[1;31mUnboundLocalError\u001b[0m: cannot access local variable 's' where it is not associated with a value"
     ]
    }
   ],
   "source": [
    "s=0\n",
    "def add1():\n",
    "    n1=100\n",
    "    s=s+n1\n",
    "    print(s)\n",
    "add1()"
   ]
  },
  {
   "cell_type": "code",
   "execution_count": 25,
   "id": "d71c2e90-f5d9-4509-9a24-66483c8f2cea",
   "metadata": {},
   "outputs": [
    {
     "name": "stdout",
     "output_type": "stream",
     "text": [
      "100\n"
     ]
    }
   ],
   "source": [
    "s=0\n",
    "def add1():\n",
    "    global s1\n",
    "    n1=100\n",
    "    s1=s+n1\n",
    "    print(s1)\n",
    "add1()"
   ]
  },
  {
   "cell_type": "code",
   "execution_count": 26,
   "id": "4a4183be-ae06-4368-aa07-b80002125792",
   "metadata": {},
   "outputs": [
    {
     "data": {
      "text/plain": [
       "100"
      ]
     },
     "execution_count": 26,
     "metadata": {},
     "output_type": "execute_result"
    }
   ],
   "source": [
    "s1"
   ]
  },
  {
   "cell_type": "code",
   "execution_count": 28,
   "id": "63a4df5a-43f3-4f79-9629-7e97e18044b4",
   "metadata": {},
   "outputs": [
    {
     "ename": "NameError",
     "evalue": "name 'summ1' is not defined",
     "output_type": "error",
     "traceback": [
      "\u001b[1;31m---------------------------------------------------------------------------\u001b[0m",
      "\u001b[1;31mNameError\u001b[0m                                 Traceback (most recent call last)",
      "Cell \u001b[1;32mIn[28], line 5\u001b[0m\n\u001b[0;32m      3\u001b[0m     s1\u001b[38;5;241m=\u001b[39msumm1\u001b[38;5;241m+\u001b[39mn1 \u001b[38;5;66;03m# gives name error because of summ1\u001b[39;00m\n\u001b[0;32m      4\u001b[0m     \u001b[38;5;28mprint\u001b[39m(s1)\n\u001b[1;32m----> 5\u001b[0m add1()\n",
      "Cell \u001b[1;32mIn[28], line 3\u001b[0m, in \u001b[0;36madd1\u001b[1;34m()\u001b[0m\n\u001b[0;32m      1\u001b[0m \u001b[38;5;28;01mdef\u001b[39;00m \u001b[38;5;21madd1\u001b[39m():\n\u001b[0;32m      2\u001b[0m     n1\u001b[38;5;241m=\u001b[39m\u001b[38;5;241m100\u001b[39m\n\u001b[1;32m----> 3\u001b[0m     s1\u001b[38;5;241m=\u001b[39msumm1\u001b[38;5;241m+\u001b[39mn1 \u001b[38;5;66;03m# gives name error because of summ1\u001b[39;00m\n\u001b[0;32m      4\u001b[0m     \u001b[38;5;28mprint\u001b[39m(s1)\n",
      "\u001b[1;31mNameError\u001b[0m: name 'summ1' is not defined"
     ]
    }
   ],
   "source": [
    "def add1():\n",
    "    n1=100\n",
    "    s1=summ1+n1 # gives name error because of summ1\n",
    "    print(s1)\n",
    "add1()"
   ]
  },
  {
   "cell_type": "code",
   "execution_count": 34,
   "id": "005f1971-01cb-437d-a683-04163a01feb4",
   "metadata": {},
   "outputs": [
    {
     "name": "stdout",
     "output_type": "stream",
     "text": [
      "200\n"
     ]
    }
   ],
   "source": [
    "def add3():\n",
    "    n1=100\n",
    "    summ2=100\n",
    "    summ2=summ2+n1\n",
    "    print(summ2)\n",
    "add3()"
   ]
  },
  {
   "cell_type": "code",
   "execution_count": null,
   "id": "46166b4f-fd01-48ed-8ecb-b50f96728a6a",
   "metadata": {},
   "outputs": [],
   "source": []
  },
  {
   "cell_type": "code",
   "execution_count": 35,
   "id": "e113ab54-f57d-44b0-a7b3-a5b08bc326a5",
   "metadata": {},
   "outputs": [
    {
     "name": "stdout",
     "output_type": "stream",
     "text": [
      "60 20.0\n"
     ]
    }
   ],
   "source": [
    "def avg1(a,b,c):\n",
    "    global Add,Avg\n",
    "    Add=a+b+c\n",
    "    Avg=Add/3\n",
    "    print(Add,Avg)\n",
    "    \n",
    "avg1(10,20,30)"
   ]
  },
  {
   "cell_type": "code",
   "execution_count": 36,
   "id": "8544ce0e-843b-4d44-bbd0-f4efab1a8288",
   "metadata": {},
   "outputs": [
    {
     "data": {
      "text/plain": [
       "60"
      ]
     },
     "execution_count": 36,
     "metadata": {},
     "output_type": "execute_result"
    }
   ],
   "source": [
    "Add"
   ]
  },
  {
   "cell_type": "code",
   "execution_count": 37,
   "id": "3fefa36b-49cb-410c-82db-3230cb1d5687",
   "metadata": {},
   "outputs": [
    {
     "data": {
      "text/plain": [
       "20.0"
      ]
     },
     "execution_count": 37,
     "metadata": {},
     "output_type": "execute_result"
    }
   ],
   "source": [
    "Avg"
   ]
  },
  {
   "cell_type": "code",
   "execution_count": 4,
   "id": "dc830922-42d0-4a94-9b59-b66d845ebecc",
   "metadata": {},
   "outputs": [
    {
     "name": "stdout",
     "output_type": "stream",
     "text": [
      "a: 100\n",
      "b: 200\n",
      "c: 1000\n",
      "the summation of 100,200,1000 is : 1300\n"
     ]
    }
   ],
   "source": [
    "c=900\n",
    "def add(a,b,c=800): #step-1\n",
    "    c=1000   # step-3\n",
    "    print('a:',a)\n",
    "    print('b:',b)\n",
    "    print('c:',c)\n",
    "    summ=a+b+c\n",
    "    print(f'the summation of {a},{b},{c} is : {summ}')\n",
    "c=670\n",
    "add(100,200) # step-2\n"
   ]
  },
  {
   "cell_type": "code",
   "execution_count": 8,
   "id": "10769a6d-1a31-4386-9015-ec3c2cacb50d",
   "metadata": {},
   "outputs": [
    {
     "name": "stdout",
     "output_type": "stream",
     "text": [
      "without argument\n"
     ]
    },
    {
     "name": "stdin",
     "output_type": "stream",
     "text": [
      "Enter Number: 35\n"
     ]
    },
    {
     "name": "stdout",
     "output_type": "stream",
     "text": [
      "35 is odd\n",
      "with argument\n",
      "6 is Even\n",
      "default argument\n",
      "10 is Even\n"
     ]
    }
   ],
   "source": [
    "#wap ask the user enter a number \n",
    "#print it is even or odd\n",
    "print(\"without argument\")\n",
    "def evenodd():\n",
    "    num=eval(input(\"Enter Number:\"))\n",
    "    if num%2==0:\n",
    "        print(f\"{num} is Even\")\n",
    "    else:\n",
    "        print(f\"{num} is odd\")\n",
    "evenodd()\n",
    "\n",
    "\n",
    "\n",
    "print(\"with argument\")\n",
    "def evenodd(num):   \n",
    "    if num%2==0:\n",
    "        print(f\"{num} is Even\")\n",
    "    else:\n",
    "        print(f\"{num} is odd\")\n",
    "evenodd(6)\n",
    "\n",
    "\n",
    "\n",
    "print(\"default argument\")\n",
    "def evenodd(num=10):\n",
    "   \n",
    "    if num%2==0:\n",
    "        print(f\"{num} is Even\")\n",
    "    else:\n",
    "        print(f\"{num} is odd\")\n",
    "evenodd()\n",
    "\n",
    "\n"
   ]
  },
  {
   "cell_type": "code",
   "execution_count": 9,
   "id": "bc96b3d7-1b0c-41a0-91a2-d3c6974e33db",
   "metadata": {},
   "outputs": [
    {
     "name": "stdout",
     "output_type": "stream",
     "text": [
      "default argument\n"
     ]
    },
    {
     "ename": "SyntaxError",
     "evalue": "name 'num' is parameter and global (490262362.py, line 3)",
     "output_type": "error",
     "traceback": [
      "\u001b[1;36m  Cell \u001b[1;32mIn[9], line 3\u001b[1;36m\u001b[0m\n\u001b[1;33m    global num\u001b[0m\n\u001b[1;37m    ^\u001b[0m\n\u001b[1;31mSyntaxError\u001b[0m\u001b[1;31m:\u001b[0m name 'num' is parameter and global\n"
     ]
    }
   ],
   "source": [
    "print(\"default argument\")\n",
    "def evenodd1(num=10):\n",
    "    global num\n",
    "   \n",
    "    if num%2==0:\n",
    "        print(f\"{num} is Even\")\n",
    "    else:\n",
    "        print(f\"{num} is odd\")\n",
    "evenodd1()\n",
    "\n"
   ]
  },
  {
   "cell_type": "code",
   "execution_count": 16,
   "id": "f667afff-d9e8-475a-8466-687aa0af3d60",
   "metadata": {},
   "outputs": [
    {
     "name": "stdout",
     "output_type": "stream",
     "text": [
      "default argument\n"
     ]
    },
    {
     "name": "stdin",
     "output_type": "stream",
     "text": [
      " 6\n"
     ]
    },
    {
     "name": "stdout",
     "output_type": "stream",
     "text": [
      "6 is Even\n"
     ]
    }
   ],
   "source": [
    "print(\"default argument\")\n",
    "def evenodd():\n",
    "    num1=eval(input())\n",
    "    if num1%2==0:\n",
    "        print(f\"{num1} is Even\")\n",
    "    else:\n",
    "        print(f\"{num1} is odd\")\n",
    "evenodd()\n",
    "\n"
   ]
  },
  {
   "cell_type": "markdown",
   "id": "47359626-c4cb-483f-a467-2f7f62667907",
   "metadata": {},
   "source": [
    "**parameter vs variable**\n",
    "\n",
    "- paramaters also called as Arguments\n",
    "\n",
    "     - this always inside the function brackets\n",
    "- varaibles either outside the function or inside the function "
   ]
  },
  {
   "cell_type": "markdown",
   "id": "72205d0a-871b-4ae2-bbdb-f7e46c73f45d",
   "metadata": {},
   "source": [
    "**return**\n",
    "\n",
    "- return means function is giving something\n",
    "\n",
    "- we know that local varibles can not use outside the function\n",
    "\n",
    "- in order to local variable outside the function , we have two methods\n",
    "\n",
    "    - global\n",
    " \n",
    "    - return\n"
   ]
  },
  {
   "cell_type": "code",
   "execution_count": 25,
   "id": "8b9979c3-9aed-4743-94db-bc697f60a083",
   "metadata": {},
   "outputs": [],
   "source": [
    "def add():\n",
    "    a=10\n",
    "    b=20\n",
    "    c=a+b\n",
    "    return (c)\n",
    "val1=add()"
   ]
  },
  {
   "cell_type": "code",
   "execution_count": 26,
   "id": "9d485d84-c680-4e41-bfd5-30c6ea2b6d2d",
   "metadata": {},
   "outputs": [
    {
     "data": {
      "text/plain": [
       "30"
      ]
     },
     "execution_count": 26,
     "metadata": {},
     "output_type": "execute_result"
    }
   ],
   "source": [
    "val1"
   ]
  },
  {
   "cell_type": "code",
   "execution_count": 27,
   "id": "33b934cf-aec3-4310-99ff-c010c28c6473",
   "metadata": {},
   "outputs": [],
   "source": [
    "def add():\n",
    "    a=10\n",
    "    b=20\n",
    "    c=a+b\n",
    "    return (a,c)\n",
    "val1=add()"
   ]
  },
  {
   "cell_type": "code",
   "execution_count": 28,
   "id": "8b15a5c9-2481-4e77-9a2b-9bbe4cda3c78",
   "metadata": {},
   "outputs": [
    {
     "data": {
      "text/plain": [
       "(10, 30)"
      ]
     },
     "execution_count": 28,
     "metadata": {},
     "output_type": "execute_result"
    }
   ],
   "source": [
    "val1"
   ]
  },
  {
   "cell_type": "code",
   "execution_count": 29,
   "id": "2bff92d4-c717-489b-8d0d-fbdc159a772b",
   "metadata": {},
   "outputs": [],
   "source": [
    "def add():\n",
    "    a=10\n",
    "    b=20\n",
    "    c=a+b\n",
    "    return (a,c)\n",
    "val1,val2=add()"
   ]
  },
  {
   "cell_type": "code",
   "execution_count": 30,
   "id": "ed6cdbeb-f568-46c4-9479-5da3512bd140",
   "metadata": {},
   "outputs": [
    {
     "data": {
      "text/plain": [
       "10"
      ]
     },
     "execution_count": 30,
     "metadata": {},
     "output_type": "execute_result"
    }
   ],
   "source": [
    "val1"
   ]
  },
  {
   "cell_type": "code",
   "execution_count": 31,
   "id": "03cc92fc-17a6-42fd-8c2e-2218bb404d2e",
   "metadata": {},
   "outputs": [
    {
     "data": {
      "text/plain": [
       "30"
      ]
     },
     "execution_count": 31,
     "metadata": {},
     "output_type": "execute_result"
    }
   ],
   "source": [
    "val2"
   ]
  },
  {
   "cell_type": "code",
   "execution_count": 35,
   "id": "0a1004b6-8643-4fb5-98e1-78129903a93a",
   "metadata": {},
   "outputs": [],
   "source": [
    "def avg(a,b,c):\n",
    "    summ=a+b+c\n",
    "    Avg=summ/3\n",
    "    return (summ,round(Avg,2))\n",
    "summ,Avg=avg(12,34,67)\n"
   ]
  },
  {
   "cell_type": "code",
   "execution_count": 36,
   "id": "28c8624d-9519-40a2-8534-ece89bc9524e",
   "metadata": {},
   "outputs": [
    {
     "data": {
      "text/plain": [
       "113"
      ]
     },
     "execution_count": 36,
     "metadata": {},
     "output_type": "execute_result"
    }
   ],
   "source": [
    "summ"
   ]
  },
  {
   "cell_type": "code",
   "execution_count": 37,
   "id": "4faa6c74-d1c0-4f44-9ec9-94d1429a390a",
   "metadata": {},
   "outputs": [
    {
     "data": {
      "text/plain": [
       "37.67"
      ]
     },
     "execution_count": 37,
     "metadata": {},
     "output_type": "execute_result"
    }
   ],
   "source": [
    "Avg"
   ]
  },
  {
   "cell_type": "code",
   "execution_count": 47,
   "id": "a511c2f1-efb2-4490-be81-3541397a6dba",
   "metadata": {},
   "outputs": [
    {
     "name": "stdin",
     "output_type": "stream",
     "text": [
      "Enter Number: 78\n"
     ]
    },
    {
     "name": "stdout",
     "output_type": "stream",
     "text": [
      "78 is Even\n",
      "88\n"
     ]
    }
   ],
   "source": [
    "def evenodd():\n",
    "    num=eval(input(\"Enter Number:\"))\n",
    "    if num%2==0:\n",
    "        val=10\n",
    "        print (f\"{num} is Even\")\n",
    "        return (num+val)\n",
    "    else:\n",
    "        val=20\n",
    "        print (f\"{num} is odd\")\n",
    "        return (num+val)\n",
    "    \n",
    "num=evenodd()\n",
    "print(num)"
   ]
  },
  {
   "cell_type": "code",
   "execution_count": null,
   "id": "535fbe3d-2cdc-4c2e-99b1-504dd23b480a",
   "metadata": {},
   "outputs": [],
   "source": []
  },
  {
   "cell_type": "code",
   "execution_count": null,
   "id": "3b450788-0ad5-4e83-9dca-44099e96bcec",
   "metadata": {},
   "outputs": [],
   "source": []
  },
  {
   "cell_type": "markdown",
   "id": "d322d136-e3ac-479b-8665-b8df447a8aef",
   "metadata": {},
   "source": [
    "**Function in Function**"
   ]
  },
  {
   "cell_type": "code",
   "execution_count": 48,
   "id": "ab7ea7f7-4c1b-45e6-8719-ced6ebfc6716",
   "metadata": {},
   "outputs": [
    {
     "name": "stdout",
     "output_type": "stream",
     "text": [
      "hello gm\n",
      "hello gn\n"
     ]
    }
   ],
   "source": [
    "def greet1():\n",
    "    print(\"hello gm\")\n",
    "def greet2():\n",
    "    print(\"hello gn\")\n",
    "\n",
    "greet1()\n",
    "greet2()"
   ]
  },
  {
   "cell_type": "code",
   "execution_count": 49,
   "id": "f4fc7cf8-b6bd-440f-8160-6d387dc9a8eb",
   "metadata": {},
   "outputs": [
    {
     "name": "stdout",
     "output_type": "stream",
     "text": [
      "hello gn\n",
      "hello gm\n"
     ]
    }
   ],
   "source": [
    "def greet1():\n",
    "    print(\"hello gm\")\n",
    "def greet2():\n",
    "    print(\"hello gn\")\n",
    "    greet1()\n",
    "\n",
    "\n",
    "greet2()"
   ]
  },
  {
   "cell_type": "code",
   "execution_count": 50,
   "id": "9b2ef6ff-84f7-41a9-9382-5fe4d6e0230e",
   "metadata": {},
   "outputs": [
    {
     "name": "stdout",
     "output_type": "stream",
     "text": [
      "hello gm\n",
      "hello gn\n"
     ]
    }
   ],
   "source": [
    "def greet1():\n",
    "    print(\"hello gm\")\n",
    "    greet2()\n",
    "def greet2():\n",
    "    print(\"hello gn\")\n",
    "    \n",
    "greet1()"
   ]
  },
  {
   "cell_type": "code",
   "execution_count": 64,
   "id": "cd5e335f-c349-47cc-84ac-c4e2d0711ba3",
   "metadata": {},
   "outputs": [
    {
     "name": "stdin",
     "output_type": "stream",
     "text": [
      "enter number: 15\n"
     ]
    },
    {
     "name": "stdout",
     "output_type": "stream",
     "text": [
      "120\n"
     ]
    }
   ],
   "source": [
    "def add3(num):\n",
    "    \n",
    "    if num==0:\n",
    "        return 0\n",
    "    else:\n",
    "        #summ=num+greet3(num-1)\n",
    "        return num+add3(num-1)\n",
    "        \n",
    "a=eval(input(\"enter number:\"))\n",
    "num=add3(a)\n",
    "print(num)"
   ]
  },
  {
   "cell_type": "code",
   "execution_count": 16,
   "id": "cf428ba2-8ae2-4598-96f3-4ae7ba323c1f",
   "metadata": {},
   "outputs": [
    {
     "name": "stdin",
     "output_type": "stream",
     "text": [
      "Enter number: 3\n"
     ]
    },
    {
     "name": "stdout",
     "output_type": "stream",
     "text": [
      "Factorial of 3 is : 6\n"
     ]
    }
   ],
   "source": [
    "#factorial recursion\n",
    "def fact(num):\n",
    "    if num==0:\n",
    "        return 1\n",
    "    else:\n",
    "        return num*fact(num-1)\n",
    "num=eval(input(\"Enter number:\"))\n",
    "result=fact(num)\n",
    "print(f\"Factorial of {num} is : {result}\")"
   ]
  },
  {
   "cell_type": "code",
   "execution_count": null,
   "id": "a3e1bf85-3840-4531-b9bd-d5965362713c",
   "metadata": {},
   "outputs": [],
   "source": []
  },
  {
   "cell_type": "code",
   "execution_count": null,
   "id": "e1c938c7-ae3a-4994-978f-e0853b15d5ee",
   "metadata": {},
   "outputs": [],
   "source": [
    "# # calculator progran\n",
    "\n",
    "# step-1; create 4 function\n",
    "# def add(a,b):\n",
    "#     return a+b\n",
    "# def mul\n",
    "# def div \n",
    "# def sub\n",
    "\n",
    "# print 1 for add and so on\n",
    "\n",
    "# def main  \n",
    "#     option=eval(input())\n",
    "#     if option ==1:\n",
    "#           a=\n",
    "#           b=\n",
    "#           add()\n",
    "#            return "
   ]
  },
  {
   "cell_type": "code",
   "execution_count": 20,
   "id": "09373c3b-c5ae-40d7-a4b3-6cc500855667",
   "metadata": {},
   "outputs": [
    {
     "name": "stdout",
     "output_type": "stream",
     "text": [
      "1 : Addition\n",
      "2 : Subtraction\n",
      "3 : Multiplication\n",
      "4 : Division\n"
     ]
    },
    {
     "name": "stdin",
     "output_type": "stream",
     "text": [
      "Enter Option: 4\n",
      "Enter a: 23\n",
      "Enter b: 12\n"
     ]
    },
    {
     "name": "stdout",
     "output_type": "stream",
     "text": [
      "Division is :1.9166666666666667\n"
     ]
    }
   ],
   "source": [
    "def add(a,b):\n",
    "    return a+b\n",
    "def subtra(a,b):\n",
    "    return a-b\n",
    "def mult(a,b):\n",
    "    return a*b\n",
    "def divi(a,b):\n",
    "    try:\n",
    "        return a/b\n",
    "    except Exception as e:\n",
    "        print(e)\n",
    "print(\"1 : Addition\")\n",
    "print(\"2 : Subtraction\")\n",
    "print(\"3 : Multiplication\")\n",
    "print(\"4 : Division\")\n",
    "def main():\n",
    "    option=eval(input(\"Enter Option:\"))\n",
    "    \n",
    "    if option==1:\n",
    "        a=eval(input(\"Enter a:\"))\n",
    "        b=eval(input(\"Enter b:\"))\n",
    "        return print(f'Addition is :{add(a,b)}')\n",
    "    elif option==2:\n",
    "        a=eval(input(\"Enter a:\"))\n",
    "        b=eval(input(\"Enter b:\"))\n",
    "        return print(f'Subtraction is :{subtra(a,b)}')\n",
    "    elif option==3:\n",
    "        a=eval(input(\"Enter a:\"))\n",
    "        b=eval(input(\"Enter b:\"))\n",
    "        return print(f'Multiplication is :{mult(a,b)}')\n",
    "    elif option==4:\n",
    "        a=eval(input(\"Enter a:\"))\n",
    "        b=eval(input(\"Enter b:\"))\n",
    "        return print(f'Division is :{divi(a,b)}')\n",
    "    else:\n",
    "        print(\"please enter valid option!\")\n",
    "main()"
   ]
  },
  {
   "cell_type": "code",
   "execution_count": null,
   "id": "b240b7d2-e575-44f9-9d55-21849009c8a6",
   "metadata": {},
   "outputs": [],
   "source": [
    "\n"
   ]
  }
 ],
 "metadata": {
  "kernelspec": {
   "display_name": "Python 3 (ipykernel)",
   "language": "python",
   "name": "python3"
  },
  "language_info": {
   "codemirror_mode": {
    "name": "ipython",
    "version": 3
   },
   "file_extension": ".py",
   "mimetype": "text/x-python",
   "name": "python",
   "nbconvert_exporter": "python",
   "pygments_lexer": "ipython3",
   "version": "3.12.7"
  }
 },
 "nbformat": 4,
 "nbformat_minor": 5
}
