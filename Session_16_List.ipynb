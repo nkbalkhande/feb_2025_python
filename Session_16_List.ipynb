{
 "cells": [
  {
   "cell_type": "markdown",
   "id": "8f1f9497-f3f1-4a94-8279-70adc00aaa9e",
   "metadata": {},
   "source": [
    "### List"
   ]
  },
  {
   "cell_type": "code",
   "execution_count": 1,
   "id": "d0621252-d680-402f-84dc-4435c9908108",
   "metadata": {},
   "outputs": [
    {
     "data": {
      "text/plain": [
       "24"
      ]
     },
     "execution_count": 1,
     "metadata": {},
     "output_type": "execute_result"
    }
   ],
   "source": [
    "str1='the telephone number is 123456'\n",
    "str1.index('1')\n"
   ]
  },
  {
   "cell_type": "code",
   "execution_count": 2,
   "id": "57d35227-55c5-460f-8f1f-5ecaa028542f",
   "metadata": {},
   "outputs": [
    {
     "data": {
      "text/plain": [
       "'123456'"
      ]
     },
     "execution_count": 2,
     "metadata": {},
     "output_type": "execute_result"
    }
   ],
   "source": [
    "str1[24:len(str1)]"
   ]
  },
  {
   "cell_type": "code",
   "execution_count": 12,
   "id": "2ffb96e5-e9e4-474e-b7b5-c0bd26bfd97e",
   "metadata": {},
   "outputs": [
    {
     "name": "stdout",
     "output_type": "stream",
     "text": [
      "123456\n"
     ]
    }
   ],
   "source": [
    "str1='the telephone number is 123456'\n",
    "str2=''\n",
    "for i in str1:\n",
    "    if i.isdigit()==True:\n",
    "        str2+=i\n",
    "print(str2)\n"
   ]
  },
  {
   "cell_type": "code",
   "execution_count": 153,
   "id": "56a7b5c8-5f1c-498e-a1c8-a3319d1da16e",
   "metadata": {},
   "outputs": [
    {
     "data": {
      "text/plain": [
       "123456"
      ]
     },
     "execution_count": 153,
     "metadata": {},
     "output_type": "execute_result"
    }
   ],
   "source": [
    "str1='the telephone number is 123456'\n",
    "num=[]\n",
    "for i in str1.split():\n",
    "    if i.isdigit():\n",
    "        num.append(int(i))\n",
    "num[0]"
   ]
  },
  {
   "cell_type": "code",
   "execution_count": null,
   "id": "6356b718-286a-4068-9d4e-4a0965e86734",
   "metadata": {},
   "outputs": [],
   "source": []
  },
  {
   "cell_type": "code",
   "execution_count": null,
   "id": "cd696b27-60d7-41fc-ad99-d99557a77cfd",
   "metadata": {},
   "outputs": [],
   "source": []
  },
  {
   "cell_type": "markdown",
   "id": "fa03c7c3-4d8b-481a-a4db-66f157f08947",
   "metadata": {},
   "source": [
    "**list**"
   ]
  },
  {
   "cell_type": "markdown",
   "id": "ff5a0ee7-bd9d-43b2-a446-9d1136500944",
   "metadata": {},
   "source": [
    "- Basic Representations\n",
    "\n",
    "- Inbuilt function\n",
    "\n",
    "     - print\n",
    "\n",
    "     - type\n",
    " \n",
    "     - len\n",
    " \n",
    "     - sum\n",
    " \n",
    "     - max\n",
    " \n",
    "     - min\n",
    " \n",
    "     - sorted\n",
    " \n",
    "     - reveresed\n",
    " \n",
    "- concatenation\n",
    "\n",
    "- indexing\n",
    "\n",
    "- mutabel or immutable concept\n",
    "\n",
    "- slicing\n",
    "\n",
    "- methods\n",
    "       "
   ]
  },
  {
   "cell_type": "markdown",
   "id": "a963be4f-586e-4cba-9067-25bc2340cdab",
   "metadata": {},
   "source": [
    "**Basic Representation**"
   ]
  },
  {
   "cell_type": "markdown",
   "id": "a928c8cf-c2c1-4320-b618-2300f340d3dc",
   "metadata": {},
   "source": [
    "- Strings will use is in quotes\n",
    "\n",
    "- List elements is in square brackets"
   ]
  },
  {
   "cell_type": "code",
   "execution_count": 19,
   "id": "73c0e660-5877-4396-9900-5a2996297179",
   "metadata": {},
   "outputs": [
    {
     "data": {
      "text/plain": [
       "[1, 2, 3, 4]"
      ]
     },
     "execution_count": 19,
     "metadata": {},
     "output_type": "execute_result"
    }
   ],
   "source": [
    "list1=[1,2,3,4]\n",
    "list1"
   ]
  },
  {
   "cell_type": "code",
   "execution_count": 21,
   "id": "87d9d942-da5d-427f-92b5-579750c42ea1",
   "metadata": {},
   "outputs": [
    {
     "data": {
      "text/plain": [
       "list"
      ]
     },
     "execution_count": 21,
     "metadata": {},
     "output_type": "execute_result"
    }
   ],
   "source": [
    "type(list1)"
   ]
  },
  {
   "cell_type": "code",
   "execution_count": 20,
   "id": "74082df9-aa60-4d23-b3ff-d4aacab72221",
   "metadata": {},
   "outputs": [
    {
     "name": "stdout",
     "output_type": "stream",
     "text": [
      "[1, 2, 3, 4]\n"
     ]
    }
   ],
   "source": [
    "print(list1)"
   ]
  },
  {
   "cell_type": "code",
   "execution_count": 23,
   "id": "70396d7d-4d9d-4523-9de0-e5067a46e9f8",
   "metadata": {},
   "outputs": [
    {
     "data": {
      "text/plain": [
       "['A', 'B', 'C']"
      ]
     },
     "execution_count": 23,
     "metadata": {},
     "output_type": "execute_result"
    }
   ],
   "source": [
    "list2=['A','B','C']\n",
    "list2\n"
   ]
  },
  {
   "cell_type": "code",
   "execution_count": 25,
   "id": "88537da9-61da-47ed-8a77-d2f81fc864b3",
   "metadata": {},
   "outputs": [
    {
     "data": {
      "text/plain": [
       "[1, 2, 3, 'A', 'B', 'C']"
      ]
     },
     "execution_count": 25,
     "metadata": {},
     "output_type": "execute_result"
    }
   ],
   "source": [
    "list3=[1,2,3,'A','B','C']\n",
    "list3"
   ]
  },
  {
   "cell_type": "code",
   "execution_count": 26,
   "id": "aa6ac0fe-1815-4208-b289-c98c7edfa7a9",
   "metadata": {},
   "outputs": [
    {
     "data": {
      "text/plain": [
       "[4.5, 5.8, 3.5, True, False]"
      ]
     },
     "execution_count": 26,
     "metadata": {},
     "output_type": "execute_result"
    }
   ],
   "source": [
    "list4=[4.5,5.8,3.5,True,False]\n",
    "list4"
   ]
  },
  {
   "cell_type": "code",
   "execution_count": 27,
   "id": "7f4dac16-87b6-4aec-a7f1-80628302d49d",
   "metadata": {},
   "outputs": [
    {
     "data": {
      "text/plain": [
       "[(3+8j), (5+8j)]"
      ]
     },
     "execution_count": 27,
     "metadata": {},
     "output_type": "execute_result"
    }
   ],
   "source": [
    "list5=[3+8j,5+8j]\n",
    "list5"
   ]
  },
  {
   "cell_type": "code",
   "execution_count": 30,
   "id": "43e192e2-3136-4a53-8d12-3c17d5c67089",
   "metadata": {},
   "outputs": [
    {
     "data": {
      "text/plain": [
       "[3, 1]"
      ]
     },
     "execution_count": 30,
     "metadata": {},
     "output_type": "execute_result"
    }
   ],
   "source": [
    "ls6=[0b011,0b01]\n",
    "ls6"
   ]
  },
  {
   "cell_type": "code",
   "execution_count": 31,
   "id": "5d1b9fd0-11d9-4211-beb0-2a935ebacb11",
   "metadata": {},
   "outputs": [
    {
     "data": {
      "text/plain": [
       "['python']"
      ]
     },
     "execution_count": 31,
     "metadata": {},
     "output_type": "execute_result"
    }
   ],
   "source": [
    "name='python'\n",
    "list8=[name]\n",
    "list8"
   ]
  },
  {
   "cell_type": "code",
   "execution_count": 36,
   "id": "d508bd4e-9256-4f9b-89c1-ea3f3b9ff0c3",
   "metadata": {},
   "outputs": [
    {
     "data": {
      "text/plain": [
       "[[[[['python']]]]]"
      ]
     },
     "execution_count": 36,
     "metadata": {},
     "output_type": "execute_result"
    }
   ],
   "source": [
    "list9=[_]\n",
    "list9"
   ]
  },
  {
   "cell_type": "code",
   "execution_count": null,
   "id": "0f49902c-5548-4e9c-a9f2-b1983ea55477",
   "metadata": {},
   "outputs": [],
   "source": []
  },
  {
   "cell_type": "code",
   "execution_count": null,
   "id": "41d2b0e7-1437-4f97-9caa-cde38c5da552",
   "metadata": {},
   "outputs": [],
   "source": []
  },
  {
   "cell_type": "code",
   "execution_count": null,
   "id": "c3edb192-ee9f-4615-9f6f-4c45d06ebcf5",
   "metadata": {},
   "outputs": [],
   "source": []
  },
  {
   "cell_type": "markdown",
   "id": "7c1bc8b5-5b0a-4648-ba6f-00b6ad871a49",
   "metadata": {},
   "source": [
    "**Inbuilt Function**"
   ]
  },
  {
   "cell_type": "code",
   "execution_count": 37,
   "id": "d51be4db-5a21-47f3-8f01-ee2a62efe4ad",
   "metadata": {},
   "outputs": [],
   "source": [
    "list1=[10,20,2,5,75]\n",
    "list2=['Apple','apple','Cherry','banana']\n",
    "list3=[10,20,2,5,75,'Apple','apple','Cherry','banana']\n",
    "#len max min sum sorted revserd"
   ]
  },
  {
   "cell_type": "code",
   "execution_count": 38,
   "id": "13c2edee-b3f0-4c4e-b060-694dc1bd195d",
   "metadata": {},
   "outputs": [
    {
     "name": "stdout",
     "output_type": "stream",
     "text": [
      "5\n",
      "4\n",
      "9\n"
     ]
    }
   ],
   "source": [
    "print(len(list1))\n",
    "print(len(list2))\n",
    "print(len(list3))"
   ]
  },
  {
   "cell_type": "code",
   "execution_count": 39,
   "id": "742d9222-a835-4b68-8c40-b9c87815c848",
   "metadata": {},
   "outputs": [
    {
     "name": "stdout",
     "output_type": "stream",
     "text": [
      "75\n"
     ]
    }
   ],
   "source": [
    "print(max(list1))"
   ]
  },
  {
   "cell_type": "code",
   "execution_count": 40,
   "id": "ff761480-3c95-47ce-a1c5-dcd4bd9218cc",
   "metadata": {},
   "outputs": [
    {
     "name": "stdout",
     "output_type": "stream",
     "text": [
      "banana\n"
     ]
    }
   ],
   "source": [
    "print(max(list2))"
   ]
  },
  {
   "cell_type": "code",
   "execution_count": 41,
   "id": "1da890fb-6ca7-4d93-a1f6-9905100744c3",
   "metadata": {},
   "outputs": [
    {
     "ename": "TypeError",
     "evalue": "'>' not supported between instances of 'str' and 'int'",
     "output_type": "error",
     "traceback": [
      "\u001b[1;31m---------------------------------------------------------------------------\u001b[0m",
      "\u001b[1;31mTypeError\u001b[0m                                 Traceback (most recent call last)",
      "Cell \u001b[1;32mIn[41], line 1\u001b[0m\n\u001b[1;32m----> 1\u001b[0m \u001b[38;5;28mprint\u001b[39m(\u001b[38;5;28mmax\u001b[39m(list3))\n",
      "\u001b[1;31mTypeError\u001b[0m: '>' not supported between instances of 'str' and 'int'"
     ]
    }
   ],
   "source": [
    "print(max(list3)) "
   ]
  },
  {
   "cell_type": "code",
   "execution_count": 42,
   "id": "e061da5f-7619-4579-a374-6ea97e3d7165",
   "metadata": {},
   "outputs": [
    {
     "name": "stdout",
     "output_type": "stream",
     "text": [
      "2\n"
     ]
    }
   ],
   "source": [
    "print(min(list1))"
   ]
  },
  {
   "cell_type": "code",
   "execution_count": 43,
   "id": "5a0f1243-00dd-4ae8-8c59-ba526dcfc548",
   "metadata": {},
   "outputs": [
    {
     "name": "stdout",
     "output_type": "stream",
     "text": [
      "Apple\n"
     ]
    }
   ],
   "source": [
    "print(min(list2))"
   ]
  },
  {
   "cell_type": "code",
   "execution_count": 44,
   "id": "c2807659-e9cc-4a27-acd3-4cf687f2817f",
   "metadata": {},
   "outputs": [
    {
     "ename": "TypeError",
     "evalue": "'<' not supported between instances of 'str' and 'int'",
     "output_type": "error",
     "traceback": [
      "\u001b[1;31m---------------------------------------------------------------------------\u001b[0m",
      "\u001b[1;31mTypeError\u001b[0m                                 Traceback (most recent call last)",
      "Cell \u001b[1;32mIn[44], line 1\u001b[0m\n\u001b[1;32m----> 1\u001b[0m \u001b[38;5;28mprint\u001b[39m(\u001b[38;5;28mmin\u001b[39m(list3))\n",
      "\u001b[1;31mTypeError\u001b[0m: '<' not supported between instances of 'str' and 'int'"
     ]
    }
   ],
   "source": [
    "print(min(list3))"
   ]
  },
  {
   "cell_type": "code",
   "execution_count": 45,
   "id": "bde99ce0-7c31-47ac-95c7-623bc5a05e85",
   "metadata": {},
   "outputs": [
    {
     "name": "stdout",
     "output_type": "stream",
     "text": [
      "112\n"
     ]
    }
   ],
   "source": [
    "print(sum(list1))"
   ]
  },
  {
   "cell_type": "code",
   "execution_count": 46,
   "id": "2d600d8b-73fb-439a-92df-9c731edf52ec",
   "metadata": {},
   "outputs": [
    {
     "ename": "TypeError",
     "evalue": "unsupported operand type(s) for +: 'int' and 'str'",
     "output_type": "error",
     "traceback": [
      "\u001b[1;31m---------------------------------------------------------------------------\u001b[0m",
      "\u001b[1;31mTypeError\u001b[0m                                 Traceback (most recent call last)",
      "Cell \u001b[1;32mIn[46], line 1\u001b[0m\n\u001b[1;32m----> 1\u001b[0m \u001b[38;5;28mprint\u001b[39m(\u001b[38;5;28msum\u001b[39m(list2))\n",
      "\u001b[1;31mTypeError\u001b[0m: unsupported operand type(s) for +: 'int' and 'str'"
     ]
    }
   ],
   "source": [
    "print(sum(list2))"
   ]
  },
  {
   "cell_type": "code",
   "execution_count": 47,
   "id": "305392b0-7b55-479e-bedb-bc4602de2cc4",
   "metadata": {},
   "outputs": [
    {
     "ename": "TypeError",
     "evalue": "unsupported operand type(s) for +: 'int' and 'str'",
     "output_type": "error",
     "traceback": [
      "\u001b[1;31m---------------------------------------------------------------------------\u001b[0m",
      "\u001b[1;31mTypeError\u001b[0m                                 Traceback (most recent call last)",
      "Cell \u001b[1;32mIn[47], line 1\u001b[0m\n\u001b[1;32m----> 1\u001b[0m \u001b[38;5;28mprint\u001b[39m(\u001b[38;5;28msum\u001b[39m(list3))\n",
      "\u001b[1;31mTypeError\u001b[0m: unsupported operand type(s) for +: 'int' and 'str'"
     ]
    }
   ],
   "source": [
    "print(sum(list3))"
   ]
  },
  {
   "cell_type": "code",
   "execution_count": 48,
   "id": "090fac24-5540-4bff-b844-068c9cc4598f",
   "metadata": {},
   "outputs": [
    {
     "name": "stdout",
     "output_type": "stream",
     "text": [
      "[2, 5, 10, 20, 75]\n"
     ]
    }
   ],
   "source": [
    "print(sorted(list1))"
   ]
  },
  {
   "cell_type": "code",
   "execution_count": 49,
   "id": "b85e70f1-9db4-4c24-9563-da980c07df96",
   "metadata": {},
   "outputs": [
    {
     "name": "stdout",
     "output_type": "stream",
     "text": [
      "['Apple', 'Cherry', 'apple', 'banana']\n"
     ]
    }
   ],
   "source": [
    "print(sorted(list2))"
   ]
  },
  {
   "cell_type": "code",
   "execution_count": 50,
   "id": "ce42e361-1492-4dc8-9a73-21760f3c8072",
   "metadata": {},
   "outputs": [
    {
     "ename": "TypeError",
     "evalue": "'<' not supported between instances of 'str' and 'int'",
     "output_type": "error",
     "traceback": [
      "\u001b[1;31m---------------------------------------------------------------------------\u001b[0m",
      "\u001b[1;31mTypeError\u001b[0m                                 Traceback (most recent call last)",
      "Cell \u001b[1;32mIn[50], line 1\u001b[0m\n\u001b[1;32m----> 1\u001b[0m \u001b[38;5;28mprint\u001b[39m(\u001b[38;5;28msorted\u001b[39m(list3))\n",
      "\u001b[1;31mTypeError\u001b[0m: '<' not supported between instances of 'str' and 'int'"
     ]
    }
   ],
   "source": [
    "print(sorted(list3))"
   ]
  },
  {
   "cell_type": "code",
   "execution_count": 60,
   "id": "4ffd0560-4dce-4feb-9ca1-6df6864273fe",
   "metadata": {},
   "outputs": [],
   "source": [
    "a=reversed(list1)"
   ]
  },
  {
   "cell_type": "code",
   "execution_count": 61,
   "id": "eb0a31ba-c114-49bf-8033-cb7ea3289795",
   "metadata": {},
   "outputs": [
    {
     "name": "stdout",
     "output_type": "stream",
     "text": [
      "75 5 2 20 10 "
     ]
    }
   ],
   "source": [
    "for i in a:\n",
    "    print(i,end=' ')"
   ]
  },
  {
   "cell_type": "code",
   "execution_count": 62,
   "id": "984f61a4-8b9c-4579-aea9-19df73405a32",
   "metadata": {},
   "outputs": [
    {
     "name": "stdout",
     "output_type": "stream",
     "text": [
      "banana Cherry apple Apple "
     ]
    }
   ],
   "source": [
    "a=reversed(list2)\n",
    "for i in a:\n",
    "    print(i,end=' ')"
   ]
  },
  {
   "cell_type": "code",
   "execution_count": 64,
   "id": "4ada8103-69aa-4712-8647-3eb2cba32175",
   "metadata": {},
   "outputs": [],
   "source": [
    "a=reversed(list3)"
   ]
  },
  {
   "cell_type": "code",
   "execution_count": 65,
   "id": "ce544a9b-d3d6-416f-9698-252ce2613a5c",
   "metadata": {},
   "outputs": [
    {
     "name": "stdout",
     "output_type": "stream",
     "text": [
      "banana Cherry apple Apple 75 5 2 20 10 "
     ]
    }
   ],
   "source": [
    "for i in a:\n",
    "    print(i,end=' ')"
   ]
  },
  {
   "cell_type": "code",
   "execution_count": null,
   "id": "a6db5579-9390-4d5e-bb5a-345c10907687",
   "metadata": {},
   "outputs": [],
   "source": []
  },
  {
   "cell_type": "code",
   "execution_count": null,
   "id": "8239704d-2962-4ba9-9b52-e73227786e2d",
   "metadata": {},
   "outputs": [],
   "source": []
  },
  {
   "cell_type": "code",
   "execution_count": 66,
   "id": "01ac9238-3122-4061-865a-1bf05e0f530a",
   "metadata": {},
   "outputs": [],
   "source": [
    "# in the interview \n",
    "#list1=[10,20,]\n",
    "# sort without function\n",
    "# find max witout function\n",
    "# min without function\n",
    "# reverse\n",
    "# sum \n",
    "#second max and second min"
   ]
  },
  {
   "cell_type": "code",
   "execution_count": 130,
   "id": "385f2926-3b34-4e07-a86c-2d724953f96e",
   "metadata": {},
   "outputs": [
    {
     "name": "stdout",
     "output_type": "stream",
     "text": [
      "[2, 5, 10, 20, 75]\n"
     ]
    }
   ],
   "source": [
    "#sort without function\n",
    "list1=[10,20,2,5,75]\n",
    "num=len(list1)\n",
    "for i in range(num):\n",
    "    for j in range(i+1,num):\n",
    "        if list1[i]>list1[j]:\n",
    "            list1[i],list1[j]=list1[j],list1[i]\n",
    "                   \n",
    "print(list1)"
   ]
  },
  {
   "cell_type": "code",
   "execution_count": 131,
   "id": "36069bb1-6b2a-4e46-b314-043e6fab85c9",
   "metadata": {},
   "outputs": [
    {
     "name": "stdout",
     "output_type": "stream",
     "text": [
      "75\n"
     ]
    }
   ],
   "source": [
    "# find max witout function\n",
    "list1=[10,20,2,5,75]\n",
    "num=len(list1)\n",
    "max_e=list1[0]\n",
    "\n",
    "for i in range(num):\n",
    "    if list1[i]>max_e:\n",
    "        max_e=list1[i]\n",
    "print(max_e)"
   ]
  },
  {
   "cell_type": "code",
   "execution_count": 132,
   "id": "a162d14f-c9aa-4add-a0cf-bd4411f9e46d",
   "metadata": {},
   "outputs": [
    {
     "name": "stdout",
     "output_type": "stream",
     "text": [
      "2\n"
     ]
    }
   ],
   "source": [
    "# min without function\n",
    "list1=[10,20,2,5,75]\n",
    "num=len(list1)\n",
    "min_e=list1[0]\n",
    "\n",
    "for i in range(num):\n",
    "    if list1[i]<min_e:\n",
    "        min_e=list1[i]\n",
    "print(min_e)"
   ]
  },
  {
   "cell_type": "code",
   "execution_count": 1,
   "id": "99dd7dc0-57ab-49cd-bcaa-bad96eb71ca1",
   "metadata": {},
   "outputs": [
    {
     "name": "stdout",
     "output_type": "stream",
     "text": [
      "[75, 20, 10, 5, 2]\n"
     ]
    }
   ],
   "source": [
    "# reverse\n",
    "list1=[10,20,2,5,75]\n",
    "num=len(list1)\n",
    "for i in range(num):\n",
    "    for j in range(i+1,num):\n",
    "        if list1[i]<list1[j]:\n",
    "            list1[i],list1[j]=list1[j],list1[i]\n",
    "            \n",
    "                   \n",
    "print(list1)"
   ]
  },
  {
   "cell_type": "code",
   "execution_count": null,
   "id": "b12587b6-cb4f-4dd4-994a-513b3d698e32",
   "metadata": {},
   "outputs": [],
   "source": []
  },
  {
   "cell_type": "code",
   "execution_count": 146,
   "id": "303c536f-ddb4-48fe-ab8d-6ef48a486e85",
   "metadata": {},
   "outputs": [
    {
     "name": "stdout",
     "output_type": "stream",
     "text": [
      "First Max: 75\n",
      "second max: 20\n"
     ]
    }
   ],
   "source": [
    "#second max and second min\n",
    "# find max witout function\n",
    "list1=[10,20,2,5,75]\n",
    "num=len(list1)\n",
    "max_e=list1[0]\n",
    "max_2=max_e\n",
    "for i in range(num):\n",
    "    if list1[i]>max_e:\n",
    "        max_2=max_e\n",
    "        max_e=list1[i]\n",
    "    elif list1[i]>max_2 and list1[i]!=max_e:\n",
    "        max_2=list1[i]\n",
    "print('First Max:',max_e)\n",
    "print('second max:',max_2)"
   ]
  },
  {
   "cell_type": "code",
   "execution_count": 147,
   "id": "1213e5da-4206-4ca2-b024-20fac6f91c9f",
   "metadata": {},
   "outputs": [
    {
     "name": "stdout",
     "output_type": "stream",
     "text": [
      "First Minimum: 2\n",
      "Second Minimum: 5\n"
     ]
    }
   ],
   "source": [
    "list1=[10,20,2,5,75]\n",
    "num=len(list1)\n",
    "min_e=list1[0]\n",
    "min_2=min_e\n",
    "for i in range(num):\n",
    "    if list1[i]<min_e:\n",
    "        min_2=min_e\n",
    "        min_e=list1[i]\n",
    "    elif list1[i]<min_2 and list1[i]!=min_e:\n",
    "        min_2=list1[i]\n",
    "        \n",
    "print('First Minimum:',min_e)\n",
    "print('Second Minimum:',min_2)"
   ]
  },
  {
   "cell_type": "code",
   "execution_count": 67,
   "id": "c2836ed2-b516-4f12-a9e4-16be5d1f1fb2",
   "metadata": {},
   "outputs": [
    {
     "name": "stdout",
     "output_type": "stream",
     "text": [
      "112\n"
     ]
    }
   ],
   "source": [
    "\n",
    "list1=[10,20,2,5,75]\n",
    "sum=0\n",
    "for i in range(len(list1)):\n",
    "    sum+=list1[i]\n",
    "print(sum)\n",
    "    "
   ]
  },
  {
   "cell_type": "markdown",
   "id": "2ae350ab-270e-48f4-9295-90460477276f",
   "metadata": {},
   "source": [
    "**concetation**"
   ]
  },
  {
   "cell_type": "code",
   "execution_count": 68,
   "id": "d0839326-eeaa-4430-86d4-01118e22e34b",
   "metadata": {},
   "outputs": [
    {
     "data": {
      "text/plain": [
       "[1, 2, 3, 4, 'A', 'B', 'C', 'D']"
      ]
     },
     "execution_count": 68,
     "metadata": {},
     "output_type": "execute_result"
    }
   ],
   "source": [
    "list1=[1,2,3,4]\n",
    "list2=['A','B','C','D']\n",
    "ls3=list1+list2\n",
    "ls3"
   ]
  },
  {
   "cell_type": "code",
   "execution_count": 70,
   "id": "288ceb51-f22e-45b0-9cd8-7324935afc78",
   "metadata": {},
   "outputs": [
    {
     "data": {
      "text/plain": [
       "[1, 2, 3, 4, 1, 2, 3, 4]"
      ]
     },
     "execution_count": 70,
     "metadata": {},
     "output_type": "execute_result"
    }
   ],
   "source": [
    "list1*2"
   ]
  },
  {
   "cell_type": "code",
   "execution_count": 71,
   "id": "e6a61dc9-e1a8-403c-8547-66788f758a8c",
   "metadata": {},
   "outputs": [
    {
     "data": {
      "text/plain": [
       "['A', 'B', 'C', 'D', 'A', 'B', 'C', 'D']"
      ]
     },
     "execution_count": 71,
     "metadata": {},
     "output_type": "execute_result"
    }
   ],
   "source": [
    "list2*2"
   ]
  },
  {
   "cell_type": "code",
   "execution_count": null,
   "id": "0b5f535d-d107-4cb4-add2-753ae41a95c1",
   "metadata": {},
   "outputs": [],
   "source": [
    "list1*list1 #fail \n",
    "list1-list1 # fail \n",
    "list1/list1 # fail "
   ]
  },
  {
   "cell_type": "markdown",
   "id": "5610cb9f-67dd-41fa-b4d8-cafe9423571d",
   "metadata": {},
   "source": [
    "**indexing**"
   ]
  },
  {
   "cell_type": "code",
   "execution_count": 73,
   "id": "e9a2e665-673b-4922-a5a6-edb9b910101f",
   "metadata": {},
   "outputs": [],
   "source": [
    "#-6 -5 -4 -3 -2 -1\n",
    "list1=[10,20,30,'A','B','C']"
   ]
  },
  {
   "cell_type": "code",
   "execution_count": 79,
   "id": "100624c6-c369-42d5-b1a6-873902e864c1",
   "metadata": {},
   "outputs": [
    {
     "data": {
      "text/plain": [
       "(10, 10)"
      ]
     },
     "execution_count": 79,
     "metadata": {},
     "output_type": "execute_result"
    }
   ],
   "source": [
    "list1[0],list1[-6]"
   ]
  },
  {
   "cell_type": "code",
   "execution_count": 81,
   "id": "79aa8ae4-e285-4d12-9221-fcd4591b917e",
   "metadata": {},
   "outputs": [
    {
     "name": "stdout",
     "output_type": "stream",
     "text": [
      "positive index of 10 is 0\n",
      "positive index of 20 is 1\n",
      "positive index of 30 is 2\n",
      "positive index of A is 3\n",
      "positive index of B is 4\n",
      "positive index of C is 5\n"
     ]
    }
   ],
   "source": [
    "for i in range(len(list1)):\n",
    "    print(f'positive index of {list1[i]} is {i}')\n",
    "    "
   ]
  },
  {
   "cell_type": "code",
   "execution_count": 82,
   "id": "7173ac4f-0cd6-4644-9411-8d87f6e20916",
   "metadata": {},
   "outputs": [
    {
     "name": "stdout",
     "output_type": "stream",
     "text": [
      "negative index of 10 is -6\n",
      "negative index of 20 is -5\n",
      "negative index of 30 is -4\n",
      "negative index of A is -3\n",
      "negative index of B is -2\n",
      "negative index of C is -1\n"
     ]
    }
   ],
   "source": [
    "for i in range(len(list1)):\n",
    "    print(f'negative index of {list1[i]} is {i-len(list1)}')\n",
    "    "
   ]
  },
  {
   "cell_type": "code",
   "execution_count": 83,
   "id": "1ba7cf5a-2676-47f4-83ba-e576ca14f086",
   "metadata": {},
   "outputs": [
    {
     "name": "stdout",
     "output_type": "stream",
     "text": [
      "10 positive index 0 and neagtive index is -6\n",
      "20 positive index 1 and neagtive index is -5\n",
      "30 positive index 2 and neagtive index is -4\n",
      "A positive index 3 and neagtive index is -3\n",
      "B positive index 4 and neagtive index is -2\n",
      "C positive index 5 and neagtive index is -1\n"
     ]
    }
   ],
   "source": [
    "for i in range(len(list1)):\n",
    "    print(f'{list1[i]} positive index {i} and neagtive index is {i-len(list1)}')\n",
    "    "
   ]
  },
  {
   "cell_type": "code",
   "execution_count": null,
   "id": "83a0667f-f159-46e6-88c4-c89f833f661a",
   "metadata": {},
   "outputs": [],
   "source": []
  },
  {
   "cell_type": "code",
   "execution_count": null,
   "id": "dc6c21d9-e4d5-46ef-be3d-54bb36e569e3",
   "metadata": {},
   "outputs": [],
   "source": []
  },
  {
   "cell_type": "code",
   "execution_count": 89,
   "id": "a5968127-48e7-4ddb-9882-1232e4b4a055",
   "metadata": {},
   "outputs": [
    {
     "data": {
      "text/plain": [
       "10"
      ]
     },
     "execution_count": 89,
     "metadata": {},
     "output_type": "execute_result"
    }
   ],
   "source": [
    "list1=[10]\n",
    "list1[0]"
   ]
  },
  {
   "cell_type": "code",
   "execution_count": 91,
   "id": "f99f3518-604d-4441-b9b0-ac5e0c7fbfdf",
   "metadata": {},
   "outputs": [
    {
     "name": "stdout",
     "output_type": "stream",
     "text": [
      "[10]\n",
      "10\n"
     ]
    }
   ],
   "source": [
    "list1=[[10]]\n",
    "print(list1[0])\n",
    "print(list1[0][0])"
   ]
  },
  {
   "cell_type": "code",
   "execution_count": 93,
   "id": "e59048fa-b00a-4bd7-b0ca-f747e5839b56",
   "metadata": {},
   "outputs": [
    {
     "data": {
      "text/plain": [
       "(1, 2)"
      ]
     },
     "execution_count": 93,
     "metadata": {},
     "output_type": "execute_result"
    }
   ],
   "source": [
    "list1=[[10,20]]\n",
    "list2=[10,20]\n",
    "len(list1),len(list2)"
   ]
  },
  {
   "cell_type": "code",
   "execution_count": 94,
   "id": "912ff70b-1526-4fff-ac6e-713d286868ef",
   "metadata": {},
   "outputs": [
    {
     "data": {
      "text/plain": [
       "20"
      ]
     },
     "execution_count": 94,
     "metadata": {},
     "output_type": "execute_result"
    }
   ],
   "source": [
    "list1[0][1]"
   ]
  },
  {
   "cell_type": "code",
   "execution_count": 97,
   "id": "10ff5a87-7cfa-4850-bc8b-de75e0fffe91",
   "metadata": {},
   "outputs": [
    {
     "data": {
      "text/plain": [
       "20"
      ]
     },
     "execution_count": 97,
     "metadata": {},
     "output_type": "execute_result"
    }
   ],
   "source": [
    "list1=[10,[20]]\n",
    "list1[1][0]"
   ]
  },
  {
   "cell_type": "code",
   "execution_count": 98,
   "id": "8df6fb5f-32c0-4679-b7a6-97a8d2fa4af4",
   "metadata": {},
   "outputs": [],
   "source": [
    "list1=[10,20,30,'A',['banana','cherry']]"
   ]
  },
  {
   "cell_type": "code",
   "execution_count": 99,
   "id": "7d5cbf5c-5528-4954-95b5-c9522b3bcaee",
   "metadata": {},
   "outputs": [
    {
     "data": {
      "text/plain": [
       "['banana', 'cherry']"
      ]
     },
     "execution_count": 99,
     "metadata": {},
     "output_type": "execute_result"
    }
   ],
   "source": [
    "list1[4]"
   ]
  },
  {
   "cell_type": "code",
   "execution_count": 101,
   "id": "9f5fffde-6bb4-4a13-bed3-0b1a8efe27fe",
   "metadata": {},
   "outputs": [
    {
     "data": {
      "text/plain": [
       "'cherry'"
      ]
     },
     "execution_count": 101,
     "metadata": {},
     "output_type": "execute_result"
    }
   ],
   "source": [
    "list1[4][1]"
   ]
  },
  {
   "cell_type": "code",
   "execution_count": null,
   "id": "16344035-ad96-417b-a8ca-b0589cbf3898",
   "metadata": {},
   "outputs": [],
   "source": []
  },
  {
   "cell_type": "code",
   "execution_count": null,
   "id": "7c73e089-beb2-44be-b1c4-3f7750175ca8",
   "metadata": {},
   "outputs": [],
   "source": []
  },
  {
   "cell_type": "code",
   "execution_count": 102,
   "id": "cf428252-74fa-43b8-942f-b60b71c3028d",
   "metadata": {},
   "outputs": [
    {
     "data": {
      "text/plain": [
       "2"
      ]
     },
     "execution_count": 102,
     "metadata": {},
     "output_type": "execute_result"
    }
   ],
   "source": [
    "list1=['A',['Apple','B',['banana'],'C',['Cherry']]]\n",
    "len(list1)"
   ]
  },
  {
   "cell_type": "code",
   "execution_count": 107,
   "id": "0aa80cbc-6621-4d66-ac30-d3e8d4c38543",
   "metadata": {},
   "outputs": [
    {
     "data": {
      "text/plain": [
       "'Cherry'"
      ]
     },
     "execution_count": 107,
     "metadata": {},
     "output_type": "execute_result"
    }
   ],
   "source": [
    "list1[1][4][0]"
   ]
  },
  {
   "cell_type": "code",
   "execution_count": 113,
   "id": "420f736d-76cc-4f87-94fb-cdda2c7de288",
   "metadata": {},
   "outputs": [],
   "source": [
    "list1=['A',['Apple','B',['banana','C',['Cherry','D',['dragon fruit']]]]]"
   ]
  },
  {
   "cell_type": "code",
   "execution_count": 114,
   "id": "2804f3b2-2b64-4d39-a81e-7a021d4febee",
   "metadata": {},
   "outputs": [
    {
     "data": {
      "text/plain": [
       "2"
      ]
     },
     "execution_count": 114,
     "metadata": {},
     "output_type": "execute_result"
    }
   ],
   "source": [
    "len(list1)"
   ]
  },
  {
   "cell_type": "code",
   "execution_count": 115,
   "id": "f722c56d-d012-4faa-9ba5-a6fe864afbfe",
   "metadata": {},
   "outputs": [
    {
     "data": {
      "text/plain": [
       "['banana', 'C', ['Cherry', 'D', ['dragon fruit']]]"
      ]
     },
     "execution_count": 115,
     "metadata": {},
     "output_type": "execute_result"
    }
   ],
   "source": [
    "list1[1][2]"
   ]
  },
  {
   "cell_type": "code",
   "execution_count": 116,
   "id": "d729b061-4832-435e-ab9d-2e0aad459cc1",
   "metadata": {},
   "outputs": [
    {
     "data": {
      "text/plain": [
       "'dragon fruit'"
      ]
     },
     "execution_count": 116,
     "metadata": {},
     "output_type": "execute_result"
    }
   ],
   "source": [
    "list1[1][2][2][2][0]"
   ]
  },
  {
   "cell_type": "code",
   "execution_count": 117,
   "id": "36a821c5-2a7b-43cd-abbc-e1de7e04f8df",
   "metadata": {},
   "outputs": [
    {
     "data": {
      "text/plain": [
       "2"
      ]
     },
     "execution_count": 117,
     "metadata": {},
     "output_type": "execute_result"
    }
   ],
   "source": [
    "list1=['Aple',['kashmir',['india',['cricet',['bat']]]]]\n",
    "len(list1)"
   ]
  },
  {
   "cell_type": "code",
   "execution_count": 119,
   "id": "b0528e82-12ea-4696-ad2b-99de865bac0f",
   "metadata": {},
   "outputs": [
    {
     "data": {
      "text/plain": [
       "'bat'"
      ]
     },
     "execution_count": 119,
     "metadata": {},
     "output_type": "execute_result"
    }
   ],
   "source": [
    "list1[1][1][1][1][0]"
   ]
  },
  {
   "cell_type": "code",
   "execution_count": 120,
   "id": "388c91da-0fe8-467a-b6fc-58a9924779bd",
   "metadata": {},
   "outputs": [
    {
     "data": {
      "text/plain": [
       "'vicky'"
      ]
     },
     "execution_count": 120,
     "metadata": {},
     "output_type": "execute_result"
    }
   ],
   "source": [
    "list1=['orange',['nagpur',['maharashtra',['shivaji',['shambaji',['vicky']]]]]]\n",
    "list1[1][1][1][1][1][0]"
   ]
  },
  {
   "cell_type": "code",
   "execution_count": 124,
   "id": "59a39ab7-7fec-4ba0-b0f5-f684e596ec8d",
   "metadata": {},
   "outputs": [
    {
     "data": {
      "text/plain": [
       "1"
      ]
     },
     "execution_count": 124,
     "metadata": {},
     "output_type": "execute_result"
    }
   ],
   "source": [
    "list1=[[[[[[[['Apple']]]]]]]]\n",
    "len(list1)"
   ]
  },
  {
   "cell_type": "code",
   "execution_count": 126,
   "id": "9058e663-918f-4eb4-b67e-2e42652b1882",
   "metadata": {},
   "outputs": [
    {
     "data": {
      "text/plain": [
       "'Apple'"
      ]
     },
     "execution_count": 126,
     "metadata": {},
     "output_type": "execute_result"
    }
   ],
   "source": [
    "list1[0][0][0][0][0][0][0][0]"
   ]
  },
  {
   "cell_type": "code",
   "execution_count": 2,
   "id": "f34ed0c7-363b-4c8b-9474-375cc0a1f916",
   "metadata": {},
   "outputs": [],
   "source": [
    "str1='python'\n",
    "list1=['p','y','t','h','o','n']"
   ]
  },
  {
   "cell_type": "code",
   "execution_count": null,
   "id": "d91686fa-1de8-481f-90bd-6db2d7880477",
   "metadata": {},
   "outputs": [],
   "source": []
  },
  {
   "cell_type": "markdown",
   "id": "44715767-68ff-4b10-8a42-087158ce15c2",
   "metadata": {},
   "source": [
    "**In**"
   ]
  },
  {
   "cell_type": "code",
   "execution_count": 3,
   "id": "a7f9d755-d296-45a6-b954-66b9f3db0d92",
   "metadata": {},
   "outputs": [
    {
     "name": "stdout",
     "output_type": "stream",
     "text": [
      "p\n",
      "y\n",
      "t\n",
      "h\n",
      "o\n",
      "n\n"
     ]
    }
   ],
   "source": [
    "for i in list1:\n",
    "    print(i)"
   ]
  },
  {
   "cell_type": "markdown",
   "id": "3b596c34-1df6-4d4a-bca7-8031a4ccfe39",
   "metadata": {},
   "source": [
    "**range vs in**"
   ]
  },
  {
   "cell_type": "markdown",
   "id": "a555aa74-df86-48db-84cb-d0d2a08e5570",
   "metadata": {},
   "source": [
    "- when we have use with index then go for range\n",
    "\n",
    "- when we have use only element go for in"
   ]
  },
  {
   "cell_type": "markdown",
   "id": "ce6ee6bf-96af-4410-9a9c-90f491142465",
   "metadata": {},
   "source": [
    "**mutable vs immuatble**"
   ]
  },
  {
   "cell_type": "code",
   "execution_count": 4,
   "id": "17f632ee-6123-4396-a996-a1f4771eed31",
   "metadata": {},
   "outputs": [],
   "source": [
    "list1[0]='n'"
   ]
  },
  {
   "cell_type": "code",
   "execution_count": 5,
   "id": "505982e1-0ee7-472a-94fe-8b8720ba0eda",
   "metadata": {},
   "outputs": [
    {
     "data": {
      "text/plain": [
       "['n', 'y', 't', 'h', 'o', 'n']"
      ]
     },
     "execution_count": 5,
     "metadata": {},
     "output_type": "execute_result"
    }
   ],
   "source": [
    "list1"
   ]
  },
  {
   "cell_type": "code",
   "execution_count": 7,
   "id": "e8f7b492-85e8-4a1c-b000-f8230fbbceec",
   "metadata": {},
   "outputs": [
    {
     "data": {
      "text/plain": [
       "100"
      ]
     },
     "execution_count": 7,
     "metadata": {},
     "output_type": "execute_result"
    }
   ],
   "source": [
    "list1=[100,200,300,400]\n",
    "list1[0]"
   ]
  },
  {
   "cell_type": "code",
   "execution_count": 8,
   "id": "fbe2580b-846d-4e9b-be8d-90e7b6458fa7",
   "metadata": {},
   "outputs": [],
   "source": [
    "list1[0]=240"
   ]
  },
  {
   "cell_type": "code",
   "execution_count": 9,
   "id": "dab8c4a9-97e6-432a-bd08-405211c0c49f",
   "metadata": {},
   "outputs": [
    {
     "data": {
      "text/plain": [
       "[240, 200, 300, 400]"
      ]
     },
     "execution_count": 9,
     "metadata": {},
     "output_type": "execute_result"
    }
   ],
   "source": [
    "list1"
   ]
  },
  {
   "cell_type": "markdown",
   "id": "563af51e-2dba-4f11-b7d8-304036667900",
   "metadata": {},
   "source": [
    "- **list are mutable**"
   ]
  },
  {
   "cell_type": "code",
   "execution_count": null,
   "id": "b8ff4c4c-23e7-4afe-9b8d-13093af6a394",
   "metadata": {},
   "outputs": [],
   "source": []
  },
  {
   "cell_type": "code",
   "execution_count": null,
   "id": "7eea8d0f-26d5-4b7b-a6ae-5d3eddbbde31",
   "metadata": {},
   "outputs": [],
   "source": []
  },
  {
   "cell_type": "markdown",
   "id": "c9794b5f-94de-4a3e-bf44-78b81ec82974",
   "metadata": {},
   "source": [
    "**slice**"
   ]
  },
  {
   "cell_type": "code",
   "execution_count": 10,
   "id": "b4d27bcb-f96c-4b4e-a04f-a1eafeb432de",
   "metadata": {},
   "outputs": [
    {
     "data": {
      "text/plain": [
       "[10, 20, 30, 40, 50, 'A', 'B', 'C', 'D', 'E', 'apple', 'banaba']"
      ]
     },
     "execution_count": 10,
     "metadata": {},
     "output_type": "execute_result"
    }
   ],
   "source": [
    "l1=[10,20,30,40,50,'A','B','C','D','E','apple','banaba']\n",
    "l1[:]"
   ]
  },
  {
   "cell_type": "code",
   "execution_count": 11,
   "id": "0fb53385-8d58-4b46-a9dd-fd2386c76d39",
   "metadata": {},
   "outputs": [
    {
     "data": {
      "text/plain": [
       "[10, 20, 30, 40, 50, 'A', 'B', 'C', 'D', 'E', 'apple', 'banaba']"
      ]
     },
     "execution_count": 11,
     "metadata": {},
     "output_type": "execute_result"
    }
   ],
   "source": [
    "l1[::]"
   ]
  },
  {
   "cell_type": "code",
   "execution_count": 12,
   "id": "18497fdc-9a30-414b-b679-6bb91016a4fd",
   "metadata": {},
   "outputs": [
    {
     "data": {
      "text/plain": [
       "['banaba', 'apple', 'E', 'D', 'C', 'B', 'A', 50, 40, 30, 20, 10]"
      ]
     },
     "execution_count": 12,
     "metadata": {},
     "output_type": "execute_result"
    }
   ],
   "source": [
    "l1[::-1]"
   ]
  },
  {
   "cell_type": "code",
   "execution_count": 13,
   "id": "f454fb76-ce17-43e0-8294-82f2ae5f3586",
   "metadata": {},
   "outputs": [
    {
     "data": {
      "text/plain": [
       "[30, 50, 'B', 'D']"
      ]
     },
     "execution_count": 13,
     "metadata": {},
     "output_type": "execute_result"
    }
   ],
   "source": [
    "l1[2:10:2]"
   ]
  },
  {
   "cell_type": "code",
   "execution_count": 14,
   "id": "0b99ac9d-96ae-4c70-aa33-abbc3959d37f",
   "metadata": {},
   "outputs": [
    {
     "data": {
      "text/plain": [
       "[]"
      ]
     },
     "execution_count": 14,
     "metadata": {},
     "output_type": "execute_result"
    }
   ],
   "source": [
    "l1[2:10:-2]"
   ]
  },
  {
   "cell_type": "code",
   "execution_count": 15,
   "id": "5a27cc56-5fb6-4d8a-81b7-64af9f0fcda8",
   "metadata": {},
   "outputs": [
    {
     "data": {
      "text/plain": [
       "[]"
      ]
     },
     "execution_count": 15,
     "metadata": {},
     "output_type": "execute_result"
    }
   ],
   "source": [
    "l1[2:-10:2]"
   ]
  },
  {
   "cell_type": "code",
   "execution_count": 16,
   "id": "667d7c3f-a67c-4aea-a7b3-6d7c9172806a",
   "metadata": {},
   "outputs": [
    {
     "data": {
      "text/plain": [
       "[]"
      ]
     },
     "execution_count": 16,
     "metadata": {},
     "output_type": "execute_result"
    }
   ],
   "source": [
    "l1[-2:10:2]"
   ]
  },
  {
   "cell_type": "code",
   "execution_count": 17,
   "id": "cf89469a-47c4-4ade-999c-34f44fc22654",
   "metadata": {},
   "outputs": [
    {
     "data": {
      "text/plain": [
       "[]"
      ]
     },
     "execution_count": 17,
     "metadata": {},
     "output_type": "execute_result"
    }
   ],
   "source": [
    "l1[2:-10:-2]"
   ]
  },
  {
   "cell_type": "code",
   "execution_count": 18,
   "id": "89f9a4af-a38e-46a3-a186-b96830eb42b6",
   "metadata": {},
   "outputs": [
    {
     "data": {
      "text/plain": [
       "[]"
      ]
     },
     "execution_count": 18,
     "metadata": {},
     "output_type": "execute_result"
    }
   ],
   "source": [
    "l1[-2:10:-2]"
   ]
  },
  {
   "cell_type": "code",
   "execution_count": 19,
   "id": "c824f220-7a72-4c36-a08e-2287e8c74c2f",
   "metadata": {},
   "outputs": [
    {
     "data": {
      "text/plain": [
       "[]"
      ]
     },
     "execution_count": 19,
     "metadata": {},
     "output_type": "execute_result"
    }
   ],
   "source": [
    "l1[-2:-10:2]"
   ]
  },
  {
   "cell_type": "code",
   "execution_count": 20,
   "id": "77ee836b-1eb9-4e94-95ac-e9f25fd433c6",
   "metadata": {},
   "outputs": [
    {
     "data": {
      "text/plain": [
       "['apple', 'D', 'B', 50]"
      ]
     },
     "execution_count": 20,
     "metadata": {},
     "output_type": "execute_result"
    }
   ],
   "source": [
    "l1[-2:-10:-2]"
   ]
  },
  {
   "cell_type": "code",
   "execution_count": 21,
   "id": "81e95026-2191-4228-8f90-710d60c847a3",
   "metadata": {},
   "outputs": [
    {
     "data": {
      "text/plain": [
       "[]"
      ]
     },
     "execution_count": 21,
     "metadata": {},
     "output_type": "execute_result"
    }
   ],
   "source": [
    "l1[10:2:2]"
   ]
  },
  {
   "cell_type": "code",
   "execution_count": 23,
   "id": "28b44866-d201-4c61-9fd8-2e8361e18a2a",
   "metadata": {},
   "outputs": [
    {
     "data": {
      "text/plain": [
       "['apple', 'D', 'B', 50]"
      ]
     },
     "execution_count": 23,
     "metadata": {},
     "output_type": "execute_result"
    }
   ],
   "source": [
    "l1[10:2:-2]"
   ]
  },
  {
   "cell_type": "code",
   "execution_count": 24,
   "id": "3dc090d8-cf8b-4ade-8aab-00d46dd0bc47",
   "metadata": {},
   "outputs": [
    {
     "data": {
      "text/plain": [
       "[]"
      ]
     },
     "execution_count": 24,
     "metadata": {},
     "output_type": "execute_result"
    }
   ],
   "source": [
    "l1[10:-2:2]"
   ]
  },
  {
   "cell_type": "code",
   "execution_count": 26,
   "id": "fd087266-2ed3-4762-bdec-bd6f61e90007",
   "metadata": {},
   "outputs": [
    {
     "data": {
      "text/plain": [
       "[10, 20, 30, 40, 50, 'A', 'B', 'C', 'D', 'E', 'apple', 'banaba']"
      ]
     },
     "execution_count": 26,
     "metadata": {},
     "output_type": "execute_result"
    }
   ],
   "source": [
    "l1"
   ]
  },
  {
   "cell_type": "code",
   "execution_count": 25,
   "id": "e8a26ba7-fcc1-435b-bd27-d0e4439895b3",
   "metadata": {},
   "outputs": [
    {
     "data": {
      "text/plain": [
       "[]"
      ]
     },
     "execution_count": 25,
     "metadata": {},
     "output_type": "execute_result"
    }
   ],
   "source": [
    "l1[-10:2:-2]"
   ]
  },
  {
   "cell_type": "code",
   "execution_count": 27,
   "id": "3cd635de-d6f3-446e-b005-e2e3d656dda6",
   "metadata": {},
   "outputs": [
    {
     "data": {
      "text/plain": [
       "[]"
      ]
     },
     "execution_count": 27,
     "metadata": {},
     "output_type": "execute_result"
    }
   ],
   "source": [
    "l1[-10:-2:-2]"
   ]
  },
  {
   "cell_type": "code",
   "execution_count": null,
   "id": "b96a97b1-0d23-4c62-a76b-537557b99674",
   "metadata": {},
   "outputs": [],
   "source": []
  },
  {
   "cell_type": "code",
   "execution_count": null,
   "id": "a04b92b8-18ee-4f1a-8247-42086591c724",
   "metadata": {},
   "outputs": [],
   "source": []
  },
  {
   "cell_type": "markdown",
   "id": "05b3820e-1249-4ee1-ae72-425ee6707475",
   "metadata": {},
   "source": [
    "**methods**"
   ]
  },
  {
   "cell_type": "markdown",
   "id": "7043c794-26b0-43c1-b55a-4333bb538981",
   "metadata": {},
   "source": [
    "- if we wants to know the string method : **dir('')**\n",
    "\n",
    "- if we wants to know the list method : **dir([])**"
   ]
  },
  {
   "cell_type": "code",
   "execution_count": 28,
   "id": "a257a05a-304a-4774-b4aa-d996a5318687",
   "metadata": {},
   "outputs": [
    {
     "data": {
      "text/plain": [
       "['__add__',\n",
       " '__class__',\n",
       " '__class_getitem__',\n",
       " '__contains__',\n",
       " '__delattr__',\n",
       " '__delitem__',\n",
       " '__dir__',\n",
       " '__doc__',\n",
       " '__eq__',\n",
       " '__format__',\n",
       " '__ge__',\n",
       " '__getattribute__',\n",
       " '__getitem__',\n",
       " '__getstate__',\n",
       " '__gt__',\n",
       " '__hash__',\n",
       " '__iadd__',\n",
       " '__imul__',\n",
       " '__init__',\n",
       " '__init_subclass__',\n",
       " '__iter__',\n",
       " '__le__',\n",
       " '__len__',\n",
       " '__lt__',\n",
       " '__mul__',\n",
       " '__ne__',\n",
       " '__new__',\n",
       " '__reduce__',\n",
       " '__reduce_ex__',\n",
       " '__repr__',\n",
       " '__reversed__',\n",
       " '__rmul__',\n",
       " '__setattr__',\n",
       " '__setitem__',\n",
       " '__sizeof__',\n",
       " '__str__',\n",
       " '__subclasshook__',\n",
       " 'append',\n",
       " 'clear',\n",
       " 'copy',\n",
       " 'count',\n",
       " 'extend',\n",
       " 'index',\n",
       " 'insert',\n",
       " 'pop',\n",
       " 'remove',\n",
       " 'reverse',\n",
       " 'sort']"
      ]
     },
     "execution_count": 28,
     "metadata": {},
     "output_type": "execute_result"
    }
   ],
   "source": [
    "dir([])"
   ]
  },
  {
   "cell_type": "markdown",
   "id": "3b12a9e9-50d1-47f5-b2eb-d651ae089187",
   "metadata": {},
   "source": [
    "- clear\n",
    "\n",
    "- copy \n",
    "\n",
    "- count"
   ]
  },
  {
   "cell_type": "code",
   "execution_count": 29,
   "id": "e0fc0bac-8cb2-47ac-999e-bf74a4b62ab8",
   "metadata": {},
   "outputs": [],
   "source": [
    "list1=[10,20,30,40]\n",
    "l2=list1.copy()"
   ]
  },
  {
   "cell_type": "code",
   "execution_count": 30,
   "id": "203ded36-7ba7-4c02-b74f-ca08a9e0fdb9",
   "metadata": {},
   "outputs": [
    {
     "data": {
      "text/plain": [
       "[10, 20, 30, 40]"
      ]
     },
     "execution_count": 30,
     "metadata": {},
     "output_type": "execute_result"
    }
   ],
   "source": [
    "l2"
   ]
  },
  {
   "cell_type": "code",
   "execution_count": 32,
   "id": "bc1032bb-a210-44bd-8115-5317dbad5325",
   "metadata": {},
   "outputs": [],
   "source": [
    "list1.clear()"
   ]
  },
  {
   "cell_type": "code",
   "execution_count": 33,
   "id": "c897875e-43b7-45f5-a378-d8a771c811b7",
   "metadata": {},
   "outputs": [
    {
     "data": {
      "text/plain": [
       "[]"
      ]
     },
     "execution_count": 33,
     "metadata": {},
     "output_type": "execute_result"
    }
   ],
   "source": [
    "list1"
   ]
  },
  {
   "cell_type": "code",
   "execution_count": 34,
   "id": "14fffb30-19ae-4cbf-a3b7-0a968d52d5a9",
   "metadata": {},
   "outputs": [
    {
     "data": {
      "text/plain": [
       "1"
      ]
     },
     "execution_count": 34,
     "metadata": {},
     "output_type": "execute_result"
    }
   ],
   "source": [
    "l2.count(10)"
   ]
  },
  {
   "cell_type": "code",
   "execution_count": 35,
   "id": "d46964d0-63ba-47c9-a4b3-baab58f6ab43",
   "metadata": {},
   "outputs": [],
   "source": [
    "l1=[10,10,20,20,30,45,'a','a','b']"
   ]
  },
  {
   "cell_type": "code",
   "execution_count": 36,
   "id": "6539bcd2-d81b-4122-b4c6-439051a9d67a",
   "metadata": {},
   "outputs": [
    {
     "data": {
      "text/plain": [
       "2"
      ]
     },
     "execution_count": 36,
     "metadata": {},
     "output_type": "execute_result"
    }
   ],
   "source": [
    "l1.count('a')"
   ]
  },
  {
   "cell_type": "markdown",
   "id": "cabb82f1-dcbc-4e87-9be9-a85e308f03d5",
   "metadata": {},
   "source": [
    "**Append**"
   ]
  },
  {
   "cell_type": "markdown",
   "id": "6b99ffdd-cc92-4e63-a291-dc4e18605998",
   "metadata": {},
   "source": [
    "- append is very very important method in entire list\n",
    "\n",
    "- in our life we will use this method very very frequently\n",
    "\n",
    "- append means adding an element at last"
   ]
  },
  {
   "cell_type": "code",
   "execution_count": 39,
   "id": "657a52bb-3201-46ec-a779-66fc90951935",
   "metadata": {},
   "outputs": [],
   "source": [
    "l1=[10,20,30]\n",
    "l1.append('append')"
   ]
  },
  {
   "cell_type": "code",
   "execution_count": 40,
   "id": "dadd433a-a152-4d2b-85ee-e7201f241c20",
   "metadata": {},
   "outputs": [
    {
     "data": {
      "text/plain": [
       "[10, 20, 30, 'append']"
      ]
     },
     "execution_count": 40,
     "metadata": {},
     "output_type": "execute_result"
    }
   ],
   "source": [
    "l1"
   ]
  },
  {
   "cell_type": "code",
   "execution_count": 41,
   "id": "a7da00fd-2046-486c-a156-fff948bd9de3",
   "metadata": {},
   "outputs": [
    {
     "data": {
      "text/plain": [
       "[10, 20, 30, 'apple', 'banana']"
      ]
     },
     "execution_count": 41,
     "metadata": {},
     "output_type": "execute_result"
    }
   ],
   "source": [
    "l1=[10,20,30]\n",
    "l1.append('apple')\n",
    "l1.append('banana')\n",
    "l1\n"
   ]
  },
  {
   "cell_type": "code",
   "execution_count": 42,
   "id": "5709d298-adfd-4791-ad42-9160131afb22",
   "metadata": {},
   "outputs": [
    {
     "ename": "TypeError",
     "evalue": "list.append() takes exactly one argument (2 given)",
     "output_type": "error",
     "traceback": [
      "\u001b[1;31m---------------------------------------------------------------------------\u001b[0m",
      "\u001b[1;31mTypeError\u001b[0m                                 Traceback (most recent call last)",
      "Cell \u001b[1;32mIn[42], line 2\u001b[0m\n\u001b[0;32m      1\u001b[0m l1\u001b[38;5;241m=\u001b[39m[\u001b[38;5;241m10\u001b[39m,\u001b[38;5;241m20\u001b[39m,\u001b[38;5;241m30\u001b[39m]\n\u001b[1;32m----> 2\u001b[0m l1\u001b[38;5;241m.\u001b[39mappend(\u001b[38;5;124m'\u001b[39m\u001b[38;5;124mapple\u001b[39m\u001b[38;5;124m'\u001b[39m,\u001b[38;5;124m'\u001b[39m\u001b[38;5;124mbanana\u001b[39m\u001b[38;5;124m'\u001b[39m)\n",
      "\u001b[1;31mTypeError\u001b[0m: list.append() takes exactly one argument (2 given)"
     ]
    }
   ],
   "source": [
    "l1=[10,20,30]\n",
    "l1.append('apple','banana')"
   ]
  },
  {
   "cell_type": "code",
   "execution_count": 43,
   "id": "53b46022-fd7f-4ec2-97bc-1ef63b7f8b95",
   "metadata": {},
   "outputs": [],
   "source": [
    "l1=[10,20,30]\n",
    "l1.append(['apple','banana'])"
   ]
  },
  {
   "cell_type": "code",
   "execution_count": 44,
   "id": "32c466b1-39b6-4bc9-a0be-9f87c6e099e5",
   "metadata": {},
   "outputs": [
    {
     "data": {
      "text/plain": [
       "[10, 20, 30, ['apple', 'banana']]"
      ]
     },
     "execution_count": 44,
     "metadata": {},
     "output_type": "execute_result"
    }
   ],
   "source": [
    "l1"
   ]
  },
  {
   "cell_type": "markdown",
   "id": "0d9874cc-97b1-4110-963e-6890fe962173",
   "metadata": {},
   "source": [
    "**always recall if you see anywhere multiple values means most of the time we will keep those values in a list**"
   ]
  },
  {
   "cell_type": "markdown",
   "id": "6488e41d-0c9c-4e82-9742-458e61697ad3",
   "metadata": {},
   "source": [
    "**append method is used to store the outputs**"
   ]
  },
  {
   "cell_type": "code",
   "execution_count": 49,
   "id": "a1d3bd7f-c1be-4862-84f3-13bf0cfa9be4",
   "metadata": {},
   "outputs": [
    {
     "data": {
      "text/plain": [
       "[1, 2, 3, 4, 5]"
      ]
     },
     "execution_count": 49,
     "metadata": {},
     "output_type": "execute_result"
    }
   ],
   "source": [
    "# foe example i want a append a number from 1 to 5\n",
    "l1=[]\n",
    "for i in range(1,6):\n",
    "    l1.append(i)\n",
    "l1"
   ]
  },
  {
   "cell_type": "code",
   "execution_count": 48,
   "id": "293154c1-7a98-463c-a95f-215984f1d475",
   "metadata": {},
   "outputs": [
    {
     "data": {
      "text/plain": [
       "[10, 20, 50, 30, 40]"
      ]
     },
     "execution_count": 48,
     "metadata": {},
     "output_type": "execute_result"
    }
   ],
   "source": []
  },
  {
   "cell_type": "code",
   "execution_count": 55,
   "id": "badaff8c-4a8b-48ad-ab59-f29888d180e7",
   "metadata": {},
   "outputs": [
    {
     "data": {
      "text/plain": [
       "['10:100', '25:625', '2:4']"
      ]
     },
     "execution_count": 55,
     "metadata": {},
     "output_type": "execute_result"
    }
   ],
   "source": [
    "#waq ask the user enter 3 random number and perfoerm the square of the number \n",
    "\n",
    "from random import randint as rt\n",
    "l=[]\n",
    "for i in range(3):\n",
    "    num=rt(1,25)    \n",
    "    sq=num**2\n",
    "    l.append(f'{num}:{sq}')\n",
    "l"
   ]
  },
  {
   "cell_type": "code",
   "execution_count": 57,
   "id": "b5fcccbd-3acf-4554-bc6e-808d5967e51d",
   "metadata": {},
   "outputs": [
    {
     "name": "stdout",
     "output_type": "stream",
     "text": [
      "[10, 12]\n",
      "[47, 53, 27]\n"
     ]
    }
   ],
   "source": [
    "#waq i alredy have a list of number\n",
    "#l=[10,47,53,12,27]\n",
    "#evenlist and odd list\n",
    "l=[10,47,53,12,27]\n",
    "l_even=[]\n",
    "l_odd=[]\n",
    "for i in l:\n",
    "    if i%2==0:\n",
    "        l_even.append(i)\n",
    "    else:\n",
    "        l_odd.append(i)\n",
    "print(l_even)\n",
    "print(l_odd)"
   ]
  },
  {
   "cell_type": "code",
   "execution_count": 58,
   "id": "7794ee6e-7ca8-4262-93c5-0e411f280174",
   "metadata": {},
   "outputs": [],
   "source": [
    "#1]input=['hyd','beng'.'pune','mum']\n",
    "\n",
    "#2]input=['hyd','beng'.'pune','mum'] to upper cse\n",
    "\n",
    "#3]input=['hyd','ben#g'.'pune','mu#m']  print [ben#g','mu#m']\n",
    "\n",
    "#4] input=['hyd','beng'.'pune','mum']  to upper case\n",
    "\n",
    "#5] input=['hyd','beng'.'pune','mum'] to print [ben#g','mu#m']\n"
   ]
  },
  {
   "cell_type": "code",
   "execution_count": 172,
   "id": "b9c30387-1540-418f-abc3-c80810e140f2",
   "metadata": {},
   "outputs": [
    {
     "data": {
      "text/plain": [
       "['Hyd', 'Bengaluru', 'Pune', 'Mumbai']"
      ]
     },
     "execution_count": 172,
     "metadata": {},
     "output_type": "execute_result"
    }
   ],
   "source": [
    "input1=['hyd','bengaluru','pune','mumbai']\n",
    "l=[]\n",
    "for city in input1:\n",
    "    a=city.capitalize()\n",
    "    l.append(a)\n",
    "l\n",
    "    "
   ]
  },
  {
   "cell_type": "code",
   "execution_count": 173,
   "id": "0df67d8b-39c8-47b6-8473-3e265b164e3a",
   "metadata": {},
   "outputs": [
    {
     "data": {
      "text/plain": [
       "['HYD', 'BENGALURU', 'PUNE', 'MUMBAI']"
      ]
     },
     "execution_count": 173,
     "metadata": {},
     "output_type": "execute_result"
    }
   ],
   "source": [
    "input1=['hyd','bengaluru','pune','mumbai']\n",
    "l=[]\n",
    "\n",
    "for city in input1:\n",
    "    a=city.upper()\n",
    "    l.append(a)\n",
    "l"
   ]
  },
  {
   "cell_type": "code",
   "execution_count": 175,
   "id": "dc391832-84d9-409a-9a3a-b9537ad18b6e",
   "metadata": {},
   "outputs": [
    {
     "data": {
      "text/plain": [
       "['ben#galuru', 'mu#mbai']"
      ]
     },
     "execution_count": 175,
     "metadata": {},
     "output_type": "execute_result"
    }
   ],
   "source": [
    "#3]input=['hyd','ben#g'.'pune','mu#m']  print [ben#g','mu#m']\n",
    "input1=['hyd','ben#galuru','pune','mu#mbai']\n",
    "a=str(input1)\n",
    "l=[]\n",
    "for city in input1:\n",
    "    a=city.find('#')\n",
    "    if a>0:\n",
    "        l.append(city)\n",
    "l"
   ]
  },
  {
   "cell_type": "code",
   "execution_count": 87,
   "id": "fcc3bb30-f613-4198-a2ff-61fe8dc3f108",
   "metadata": {},
   "outputs": [],
   "source": [
    "# Q3) input=['hyd','bengaluru','pune','mumbai']\n",
    "#     output=['Hyd','Bengaluru','Pune','Mumbai']\n",
    "\n",
    "# Q4) input=['hyd','bengaluru','pune','mumbai']\n",
    "#     output=['HYD','BENGALURU','PUNE','MUMBAI']\n",
    "\n",
    "# Q5) input=['hyd','ben#galuru','pune','mu#mbai']\n",
    "#     output=[ben#galuru',mu#mbai']\n",
    "\n",
    "# Q6) input=['hyd','ben#galuru','pune','mu#mbai']\n",
    "#     output=[hyd,pune]\n",
    "\n",
    "# Q7) input = 'hai how are you'\n",
    "#     output=['HAI','HOW','ARE','YOU']\n",
    "\n",
    "# Q8) input='virat.kohli@rcb.com;rohit.sharma@mi.com;ms.dhoni@csk.com'\n",
    "#     fname=['virat','rohit'.'ms']\n",
    "#     sname=['kohli','sharma','dhoni']\n",
    "#     cname=['rcb','mi','csk']\n",
    "\n",
    "# Q9) input='can canner can you can not canner with you but you can the canner'\n",
    "#     output=['can'-4,'canner'-3,'you'-3,'not'-1,'with'-1,'but'-1,'the'-1]\n",
    "\n",
    "# Q10) input = 'can canner can you can not canner with you but you can the canner'\n",
    "#      stopwords=['not','you','but','with']\n",
    "#      using stopwords remove those words from input\n",
    "#     output='can canner can can canner can canner'\n",
    "\n",
    "# Q11) take a string find the most repeated word from string\n",
    "\n",
    "# Q12) take a string find the longest length of the word from string\n",
    "\n",
    "# Q13) take a string find the lowest length of the word from string\n",
    "\n",
    "# Q14) you have some qns list is there\n",
    "#      also you have answers list also there\n",
    "#     qns=['who is PM of india',\n",
    "#       'what is the capital of india', who is ICT MENS captain]\n",
    "#    ans=['Modi','Delhi','Rohit']\n",
    "#    whenerver correct answer marks +10\n",
    "#    print you got total"
   ]
  },
  {
   "cell_type": "code",
   "execution_count": 99,
   "id": "8e873666-55f8-4b8f-8421-ca0e017c5c97",
   "metadata": {},
   "outputs": [
    {
     "data": {
      "text/plain": [
       "['hyd', 'pune']"
      ]
     },
     "execution_count": 99,
     "metadata": {},
     "output_type": "execute_result"
    }
   ],
   "source": [
    "input1=['hyd','ben#galuru','pune','mu#mbai']\n",
    "#     output=[hyd,pune]\n",
    "a=str(input1)\n",
    "l=[]\n",
    "for city in input1:\n",
    "    a=city.find('#')\n",
    "    if a<0:\n",
    "        l.append(city)\n",
    "l"
   ]
  },
  {
   "cell_type": "code",
   "execution_count": 100,
   "id": "ce472b32-a8f8-45fd-a3b0-6e45f64088e2",
   "metadata": {},
   "outputs": [
    {
     "data": {
      "text/plain": [
       "['HAI', 'HOW', 'ARE', 'YOU']"
      ]
     },
     "execution_count": 100,
     "metadata": {},
     "output_type": "execute_result"
    }
   ],
   "source": [
    "input1 = 'hai how are you'\n",
    "#     output=['HAI','HOW','ARE','YOU']\n",
    "l=[]\n",
    "for i in input1.split():\n",
    "    l.append(i.upper())\n",
    "l\n"
   ]
  },
  {
   "cell_type": "code",
   "execution_count": 111,
   "id": "4f5ff3b0-7290-48ff-b731-b90fae418008",
   "metadata": {},
   "outputs": [
    {
     "name": "stdout",
     "output_type": "stream",
     "text": [
      "First Names: ['virat', 'rohit', 'ms']\n",
      "Last Names: ['kohli', 'sharma', 'dhoni']\n",
      "Club Names: ['rcb', 'mi', 'csk']\n"
     ]
    }
   ],
   "source": [
    "input1=['virat.kohli@rcb.com', 'rohit.sharma@mi.com', 'ms.dhoni@csk.com']\n",
    "#     fname=['virat','rohit'.'ms']\n",
    "#     sname=['kohli','sharma','dhoni']\n",
    "#     cname=['rcb','mi','csk']\n",
    "l_f=[]\n",
    "l_m=[]\n",
    "l_c=[]\n",
    "def name(*input1):\n",
    "    for inputs in input1:\n",
    "        f_index=inputs.index('.')\n",
    "        m_index=inputs.index('@')\n",
    "        c_index=inputs.index('.',f_index+1)\n",
    "\n",
    "        f_name=inputs[:f_index]\n",
    "        m_name=inputs[f_index+1:m_index]\n",
    "        c_name=inputs[m_index+1:c_index]\n",
    "    \n",
    "        l_f.append(f_name)\n",
    "        l_m.append(m_name)\n",
    "        l_c.append(c_name)\n",
    "    \n",
    "    return l_f,l_m,l_c\n",
    "\n",
    "first_names, last_names, club_names = name(*input1)\n",
    "\n",
    "print(\"First Names:\", first_names)\n",
    "print(\"Last Names:\", last_names)\n",
    "print(\"Club Names:\", club_names)"
   ]
  },
  {
   "cell_type": "code",
   "execution_count": 11,
   "id": "a68b9722-3e48-4062-92e8-1f83d8cc575f",
   "metadata": {},
   "outputs": [
    {
     "data": {
      "text/plain": [
       "['can:4', 'canner:3', 'you:3', 'not:1', 'with:1', 'but:1', 'the:1']"
      ]
     },
     "execution_count": 11,
     "metadata": {},
     "output_type": "execute_result"
    }
   ],
   "source": [
    "input1='can canner can you can not canner with you but you can the canner'\n",
    "#     output=['can'-4,'canner'-3,'you'-3,'not'-1,'with'-1,'but'-1,'the'-1]\n",
    "l=input1.split()\n",
    "l1=[]\n",
    "counter=[]\n",
    "for i in l:\n",
    "    if i not in l1:\n",
    "        counter.append(f'{i}:{l.count(i)}')\n",
    "        l1.append(i)\n",
    "counter \n",
    "    \n",
    "\n",
    "    "
   ]
  },
  {
   "cell_type": "code",
   "execution_count": 17,
   "id": "513b3974-f93b-45ab-89ac-f8f50bb7388c",
   "metadata": {},
   "outputs": [
    {
     "data": {
      "text/plain": [
       "['can', 'canner', 'can', 'can', 'canner', 'can', 'the', 'canner']"
      ]
     },
     "execution_count": 17,
     "metadata": {},
     "output_type": "execute_result"
    }
   ],
   "source": [
    "# Q10) input = 'can canner can you can not canner with you but you can the canner'\n",
    "#      stopwords=['not','you','but','with']\n",
    "#      using stopwords remove those words from input\n",
    "#     output='can canner can can canner can canner'\n",
    "input1 = 'can canner can you can not canner with you but you can the canner'\n",
    "l=input1.split()\n",
    "stopwords=['not','you','but','with']\n",
    "output=[]\n",
    "for word in l:\n",
    "    if word not in stopwords:\n",
    "        output.append(word)\n",
    "       \n",
    "output      \n",
    "\n",
    "    \n",
    "    "
   ]
  },
  {
   "cell_type": "code",
   "execution_count": 18,
   "id": "c9a15920-9424-4eaa-8342-9d618138264a",
   "metadata": {},
   "outputs": [
    {
     "data": {
      "text/plain": [
       "'can canner can can canner can the canner'"
      ]
     },
     "execution_count": 18,
     "metadata": {},
     "output_type": "execute_result"
    }
   ],
   "source": [
    "' '.join(output)"
   ]
  },
  {
   "cell_type": "code",
   "execution_count": 19,
   "id": "9afb94a8-956a-4ea9-b8cd-8447784e8fa5",
   "metadata": {},
   "outputs": [
    {
     "name": "stdout",
     "output_type": "stream",
     "text": [
      "['can', 'canner', 'you', 'not', 'with', 'but', 'the']\n",
      "[4, 3, 3, 1, 1, 1, 1]\n"
     ]
    }
   ],
   "source": [
    "\n",
    "# Q11) take a string find the most repeated word from string\n",
    "input1 = 'can canner can you can not canner with you but you can the canner'\n",
    "l=input1.split()\n",
    "l1=[]\n",
    "counter=[]\n",
    "for i in l:\n",
    "    count=l.count(i)\n",
    "    if i not in l1:\n",
    "        l1.append(i)\n",
    "        counter.append(count)\n",
    "print(l1)\n",
    "print(counter)"
   ]
  },
  {
   "cell_type": "code",
   "execution_count": 13,
   "id": "a7a3a917-e1f7-4af3-a107-51be18f2df92",
   "metadata": {},
   "outputs": [
    {
     "name": "stdout",
     "output_type": "stream",
     "text": [
      "6\n",
      "canner\n"
     ]
    }
   ],
   "source": [
    "# Q12) take a string find the longest length of the word from string\n",
    "input1 = 'can canner can you can not canner with you but you can the canner'\n",
    "l=input1.split()\n",
    "max_len=0\n",
    "rep=''\n",
    "for i in l:\n",
    "    length=len(i)\n",
    "    if length>max_len:\n",
    "        max_len=length\n",
    "        rep=i   \n",
    "print(max_len)\n",
    "print(rep)"
   ]
  },
  {
   "cell_type": "code",
   "execution_count": 14,
   "id": "6b4be1fc-4a2f-4f84-95d8-e6bc1b3d2cce",
   "metadata": {},
   "outputs": [
    {
     "name": "stdout",
     "output_type": "stream",
     "text": [
      "3\n",
      "can\n"
     ]
    }
   ],
   "source": [
    "# Q13) take a string find the lowest length of the word from string\n",
    "input1 = 'can canner can you can not canner with you but you can the canner'\n",
    "l=input1.split()\n",
    "min_len=50\n",
    "rep=''\n",
    "for i in l:\n",
    "    length=len(i)\n",
    "    if length<min_len:\n",
    "        min_len=length\n",
    "        rep=i   \n",
    "print(min_len)\n",
    "print(rep)"
   ]
  },
  {
   "cell_type": "code",
   "execution_count": 2,
   "id": "20b9b51f-35b9-4531-9e50-b1e12bbebe17",
   "metadata": {},
   "outputs": [
    {
     "name": "stdin",
     "output_type": "stream",
     "text": [
      "who is PM of india modi\n",
      "what is the capital of india delhi\n",
      "who is ICT MENS captain rohit\n"
     ]
    },
    {
     "name": "stdout",
     "output_type": "stream",
     "text": [
      "30\n"
     ]
    }
   ],
   "source": [
    "# Q14) you have some qns list is there\n",
    "#      also you have answers list also there\n",
    "#     qns=['who is PM of india',\n",
    "#       'what is the capital of india', who is ICT MENS captain]\n",
    "#    ans=['Modi','Delhi','Rohit']\n",
    "#    whenerver correct answer marks +10\n",
    "#    print you got total\n",
    "qns=['who is PM of india', 'what is the capital of india', 'who is ICT MENS captain']\n",
    "ans=['Modi','Delhi','Rohit']\n",
    "total=0\n",
    "for question,answer in zip(qns,ans):\n",
    "    ans1=input(question)\n",
    "    if ans1.lower()==answer.lower():\n",
    "        total+=10\n",
    "print(total)\n",
    "    \n",
    "\n",
    "\n"
   ]
  },
  {
   "cell_type": "code",
   "execution_count": null,
   "id": "05c22cd9-3d46-4c9f-8d16-060445d4b69a",
   "metadata": {},
   "outputs": [],
   "source": []
  },
  {
   "cell_type": "code",
   "execution_count": 20,
   "id": "a65c64ca-2251-4e10-8c0a-1a546999ef84",
   "metadata": {},
   "outputs": [
    {
     "data": {
      "text/plain": [
       "['__add__',\n",
       " '__class__',\n",
       " '__class_getitem__',\n",
       " '__contains__',\n",
       " '__delattr__',\n",
       " '__delitem__',\n",
       " '__dir__',\n",
       " '__doc__',\n",
       " '__eq__',\n",
       " '__format__',\n",
       " '__ge__',\n",
       " '__getattribute__',\n",
       " '__getitem__',\n",
       " '__getstate__',\n",
       " '__gt__',\n",
       " '__hash__',\n",
       " '__iadd__',\n",
       " '__imul__',\n",
       " '__init__',\n",
       " '__init_subclass__',\n",
       " '__iter__',\n",
       " '__le__',\n",
       " '__len__',\n",
       " '__lt__',\n",
       " '__mul__',\n",
       " '__ne__',\n",
       " '__new__',\n",
       " '__reduce__',\n",
       " '__reduce_ex__',\n",
       " '__repr__',\n",
       " '__reversed__',\n",
       " '__rmul__',\n",
       " '__setattr__',\n",
       " '__setitem__',\n",
       " '__sizeof__',\n",
       " '__str__',\n",
       " '__subclasshook__',\n",
       " 'append',\n",
       " 'clear',\n",
       " 'copy',\n",
       " 'count',\n",
       " 'extend',\n",
       " 'index',\n",
       " 'insert',\n",
       " 'pop',\n",
       " 'remove',\n",
       " 'reverse',\n",
       " 'sort']"
      ]
     },
     "execution_count": 20,
     "metadata": {},
     "output_type": "execute_result"
    }
   ],
   "source": [
    "dir(list)"
   ]
  },
  {
   "cell_type": "markdown",
   "id": "80906563-f59d-489f-99f4-c2f14eca6f96",
   "metadata": {},
   "source": [
    "**Extend**"
   ]
  },
  {
   "cell_type": "markdown",
   "id": "d6334ffa-7168-404f-a678-ac3511eedd3a",
   "metadata": {},
   "source": [
    "- overwrite if we use extend"
   ]
  },
  {
   "cell_type": "code",
   "execution_count": 25,
   "id": "a0448a45-7551-467e-bb63-f14b17f83748",
   "metadata": {},
   "outputs": [
    {
     "data": {
      "text/plain": [
       "['A', 'B', 'C', 'D', 'E', 1, 2, 3, 4, 5]"
      ]
     },
     "execution_count": 25,
     "metadata": {},
     "output_type": "execute_result"
    }
   ],
   "source": [
    "l1=[1,2,3,4,5]\n",
    "l2=['A','B','C','D','E']\n",
    "l2.extend(l1)\n",
    "l2"
   ]
  },
  {
   "cell_type": "code",
   "execution_count": 27,
   "id": "217a3323-687f-4b00-a193-8a73e94d6c8b",
   "metadata": {},
   "outputs": [
    {
     "data": {
      "text/plain": [
       "[1, 2, 3, 4, 5, ['A', 'B', 'C', 'D', 'E']]"
      ]
     },
     "execution_count": 27,
     "metadata": {},
     "output_type": "execute_result"
    }
   ],
   "source": [
    "l1=[1,2,3,4,5]\n",
    "l2=['A','B','C','D','E']\n",
    "l1.append(l2)\n",
    "l1"
   ]
  },
  {
   "cell_type": "code",
   "execution_count": 29,
   "id": "8ee0ea6d-de3a-420e-950b-85cce8acf606",
   "metadata": {},
   "outputs": [
    {
     "name": "stdout",
     "output_type": "stream",
     "text": [
      "[1, 2, 3, 4, 5, 'A', 'B', 'C', 'D', 'E']\n",
      "[1, 2, 3, 4, 5]\n",
      "['A', 'B', 'C', 'D', 'E']\n"
     ]
    }
   ],
   "source": [
    "l1=[1,2,3,4,5]\n",
    "l2=['A','B','C','D','E']\n",
    "print(l1+l2)\n",
    "print(l1)\n",
    "print(l2)"
   ]
  },
  {
   "cell_type": "code",
   "execution_count": 30,
   "id": "cb58d798-c299-4b54-ad07-a8383a9afffb",
   "metadata": {},
   "outputs": [
    {
     "data": {
      "text/plain": [
       "['A', 'B', 'C', 'D', 'E', 1, 2, 3, 4, 5]"
      ]
     },
     "execution_count": 30,
     "metadata": {},
     "output_type": "execute_result"
    }
   ],
   "source": [
    "l1=[1,2,3,4,5]\n",
    "l2=['A','B','C','D','E']\n",
    "l2.extend(l1)\n",
    "l2\n"
   ]
  },
  {
   "cell_type": "code",
   "execution_count": null,
   "id": "a9224568-60ed-4605-a3c5-68e6f38fc2a8",
   "metadata": {},
   "outputs": [],
   "source": []
  },
  {
   "cell_type": "code",
   "execution_count": null,
   "id": "95d9e8ad-83c4-4249-b621-9bd3c170259c",
   "metadata": {},
   "outputs": [],
   "source": []
  },
  {
   "cell_type": "markdown",
   "id": "155f0ab0-b509-4e4b-b04f-e5b65c482b77",
   "metadata": {},
   "source": [
    "**index**"
   ]
  },
  {
   "cell_type": "markdown",
   "id": "d09bbf14-4e0b-49e5-a278-6e1ae0da6a34",
   "metadata": {},
   "source": [
    "- strings  we have index and find\n",
    "\n",
    "- but in list we have only index"
   ]
  },
  {
   "cell_type": "code",
   "execution_count": null,
   "id": "f8f6cdaf-aec7-4fb6-b3b1-025ed265ece7",
   "metadata": {},
   "outputs": [],
   "source": []
  },
  {
   "cell_type": "code",
   "execution_count": 31,
   "id": "1fb8badf-7559-4e11-9a6a-d1db2aa84a78",
   "metadata": {},
   "outputs": [
    {
     "data": {
      "text/plain": [
       "3"
      ]
     },
     "execution_count": 31,
     "metadata": {},
     "output_type": "execute_result"
    }
   ],
   "source": [
    "l1=[1,2,3,4,5,6]\n",
    "l1.index(4)"
   ]
  },
  {
   "cell_type": "code",
   "execution_count": 32,
   "id": "288a5849-97f2-4f63-ac9c-be9e619d7da0",
   "metadata": {},
   "outputs": [
    {
     "data": {
      "text/plain": [
       "2"
      ]
     },
     "execution_count": 32,
     "metadata": {},
     "output_type": "execute_result"
    }
   ],
   "source": [
    "l2=['A','B','C','D','E']\n",
    "l2.index('C')"
   ]
  },
  {
   "cell_type": "code",
   "execution_count": 33,
   "id": "7902aa21-be2a-44f4-a959-b5c3fd169aec",
   "metadata": {},
   "outputs": [
    {
     "ename": "ValueError",
     "evalue": "'c' is not in list",
     "output_type": "error",
     "traceback": [
      "\u001b[1;31m---------------------------------------------------------------------------\u001b[0m",
      "\u001b[1;31mValueError\u001b[0m                                Traceback (most recent call last)",
      "Cell \u001b[1;32mIn[33], line 1\u001b[0m\n\u001b[1;32m----> 1\u001b[0m l2\u001b[38;5;241m.\u001b[39mindex(\u001b[38;5;124m'\u001b[39m\u001b[38;5;124mc\u001b[39m\u001b[38;5;124m'\u001b[39m)\n",
      "\u001b[1;31mValueError\u001b[0m: 'c' is not in list"
     ]
    }
   ],
   "source": [
    "l2.index('c')"
   ]
  },
  {
   "cell_type": "code",
   "execution_count": 37,
   "id": "dfeb9ea6-96f1-4b12-88f4-884c41df1dbb",
   "metadata": {},
   "outputs": [
    {
     "data": {
      "text/plain": [
       "3"
      ]
     },
     "execution_count": 37,
     "metadata": {},
     "output_type": "execute_result"
    }
   ],
   "source": [
    "l1=[10,20,30,40,50,10,'A','B','C','D',40,50]\n",
    "l1.index(40)"
   ]
  },
  {
   "cell_type": "code",
   "execution_count": 38,
   "id": "8c54c5e7-e955-4cc0-8b72-3082897aef93",
   "metadata": {},
   "outputs": [
    {
     "data": {
      "text/plain": [
       "0"
      ]
     },
     "execution_count": 38,
     "metadata": {},
     "output_type": "execute_result"
    }
   ],
   "source": [
    "l1.index(10)"
   ]
  },
  {
   "cell_type": "code",
   "execution_count": 39,
   "id": "c0c564f6-f908-4c02-85d0-28c13d143db2",
   "metadata": {},
   "outputs": [
    {
     "data": {
      "text/plain": [
       "5"
      ]
     },
     "execution_count": 39,
     "metadata": {},
     "output_type": "execute_result"
    }
   ],
   "source": [
    "l1.index(10,1)"
   ]
  },
  {
   "cell_type": "code",
   "execution_count": 40,
   "id": "22154aee-416e-4681-bd61-f4961016f179",
   "metadata": {},
   "outputs": [
    {
     "name": "stdout",
     "output_type": "stream",
     "text": [
      "10\n"
     ]
    }
   ],
   "source": [
    "i1=l1.index(40)\n",
    "print(l1.index(40,i1+1))"
   ]
  },
  {
   "cell_type": "code",
   "execution_count": null,
   "id": "bbd1fb19-c024-454a-9f68-fddcf8852721",
   "metadata": {},
   "outputs": [],
   "source": []
  },
  {
   "cell_type": "code",
   "execution_count": null,
   "id": "fb76feae-cd54-4f51-98f8-51816ab4d18f",
   "metadata": {},
   "outputs": [],
   "source": []
  },
  {
   "cell_type": "markdown",
   "id": "ff7e53c8-71cd-4390-af16-7f0d14e84e93",
   "metadata": {},
   "source": [
    "**insert**"
   ]
  },
  {
   "cell_type": "code",
   "execution_count": 41,
   "id": "0a010509-121a-4eeb-b336-0ef9c4b8c579",
   "metadata": {},
   "outputs": [],
   "source": [
    "l1=[10,20,30,40]\n",
    "l1.insert(2,45)"
   ]
  },
  {
   "cell_type": "code",
   "execution_count": 42,
   "id": "c3d8b632-86b2-41b6-b423-6f914094f912",
   "metadata": {},
   "outputs": [
    {
     "data": {
      "text/plain": [
       "[10, 20, 45, 30, 40]"
      ]
     },
     "execution_count": 42,
     "metadata": {},
     "output_type": "execute_result"
    }
   ],
   "source": [
    "l1"
   ]
  },
  {
   "cell_type": "markdown",
   "id": "eea3c1ff-755c-4967-bcd0-d3e3278acb3a",
   "metadata": {},
   "source": [
    "- we can insert the value at any position by using **insert**\n",
    "\n",
    "- but in **append** we add value at the end"
   ]
  },
  {
   "cell_type": "code",
   "execution_count": 43,
   "id": "b16b2f4e-73fa-4bd5-b2e9-51eff01de0ed",
   "metadata": {},
   "outputs": [],
   "source": [
    "l1=[10,20,30,40,50,'A','B','C','D',40,50]"
   ]
  },
  {
   "cell_type": "code",
   "execution_count": 66,
   "id": "f2cd25b9-2814-4f96-8520-14f8f3ee3ee4",
   "metadata": {},
   "outputs": [],
   "source": [
    "i1=l1.index('A')\n",
    "i1\n",
    "l1.insert(i1+1,100)"
   ]
  },
  {
   "cell_type": "code",
   "execution_count": 67,
   "id": "3218bd1e-95dc-4a59-90f5-d987232ca531",
   "metadata": {},
   "outputs": [
    {
     "data": {
      "text/plain": [
       "[10, 20, 30, 40, 50, 'A', 100, 'B', 'C', 'D', 40, 50]"
      ]
     },
     "execution_count": 67,
     "metadata": {},
     "output_type": "execute_result"
    }
   ],
   "source": [
    "l1\n"
   ]
  },
  {
   "cell_type": "code",
   "execution_count": null,
   "id": "43e16d70-b3e8-4924-983f-2014040faa16",
   "metadata": {},
   "outputs": [],
   "source": []
  },
  {
   "cell_type": "markdown",
   "id": "90d04252-7eaa-41cf-a139-109874b9e2f3",
   "metadata": {},
   "source": [
    "**pop vs remove**\n",
    "\n",
    "- pop remove last element by default\n",
    "\n",
    "- pop remove with the help of index\n",
    "\n",
    "- **remove** remove the value"
   ]
  },
  {
   "cell_type": "code",
   "execution_count": 68,
   "id": "ff521fc9-3473-403c-a38a-e7935303b9d9",
   "metadata": {},
   "outputs": [],
   "source": [
    "l1=[10,20,30,40,50,'A','B','C','D',40,50]"
   ]
  },
  {
   "cell_type": "code",
   "execution_count": 69,
   "id": "a2402c03-a465-434e-b9e0-0f11ef0c4f7b",
   "metadata": {},
   "outputs": [],
   "source": [
    "l1.remove(10)"
   ]
  },
  {
   "cell_type": "code",
   "execution_count": 70,
   "id": "b83a9edf-60ac-48f2-adc8-2b80ba966e3e",
   "metadata": {},
   "outputs": [
    {
     "data": {
      "text/plain": [
       "[20, 30, 40, 50, 'A', 'B', 'C', 'D', 40, 50]"
      ]
     },
     "execution_count": 70,
     "metadata": {},
     "output_type": "execute_result"
    }
   ],
   "source": [
    "l1"
   ]
  },
  {
   "cell_type": "code",
   "execution_count": 71,
   "id": "edfa513a-ad31-4df0-be36-5e6d45a9a0ca",
   "metadata": {},
   "outputs": [
    {
     "data": {
      "text/plain": [
       "'A'"
      ]
     },
     "execution_count": 71,
     "metadata": {},
     "output_type": "execute_result"
    }
   ],
   "source": [
    "i1=l1.index('A')\n",
    "l1.pop(i1)"
   ]
  },
  {
   "cell_type": "code",
   "execution_count": 72,
   "id": "e52c784b-42da-49eb-89a1-f8e70664f157",
   "metadata": {},
   "outputs": [
    {
     "data": {
      "text/plain": [
       "[20, 30, 40, 50, 'B', 'C', 'D', 40, 50]"
      ]
     },
     "execution_count": 72,
     "metadata": {},
     "output_type": "execute_result"
    }
   ],
   "source": [
    "l1"
   ]
  },
  {
   "cell_type": "code",
   "execution_count": 73,
   "id": "a92ce2da-6aba-4555-b495-058f8e721a67",
   "metadata": {},
   "outputs": [
    {
     "data": {
      "text/plain": [
       "50"
      ]
     },
     "execution_count": 73,
     "metadata": {},
     "output_type": "execute_result"
    }
   ],
   "source": [
    "l1.pop()"
   ]
  },
  {
   "cell_type": "code",
   "execution_count": 74,
   "id": "15e00b69-96af-4e4d-a3e0-026505521414",
   "metadata": {},
   "outputs": [
    {
     "data": {
      "text/plain": [
       "[20, 30, 40, 50, 'B', 'C', 'D', 40]"
      ]
     },
     "execution_count": 74,
     "metadata": {},
     "output_type": "execute_result"
    }
   ],
   "source": [
    "l1"
   ]
  },
  {
   "cell_type": "code",
   "execution_count": null,
   "id": "ad86b423-0d37-4684-afa6-7072840c29ff",
   "metadata": {},
   "outputs": [],
   "source": []
  },
  {
   "cell_type": "markdown",
   "id": "5347d9be-ae93-4fbc-993d-350a226be976",
   "metadata": {},
   "source": [
    "**del**"
   ]
  },
  {
   "cell_type": "code",
   "execution_count": 75,
   "id": "4a18b69d-4cdf-4cb0-b4a8-32b8db8e7cde",
   "metadata": {},
   "outputs": [],
   "source": [
    "l1=[10,20,30,40,50,'A','B','C','D',40,50]\n",
    "del(l1[5])"
   ]
  },
  {
   "cell_type": "code",
   "execution_count": 76,
   "id": "bfefa757-aab1-456a-b242-d726c5290f17",
   "metadata": {},
   "outputs": [
    {
     "data": {
      "text/plain": [
       "[10, 20, 30, 40, 50, 'B', 'C', 'D', 40, 50]"
      ]
     },
     "execution_count": 76,
     "metadata": {},
     "output_type": "execute_result"
    }
   ],
   "source": [
    "l1"
   ]
  },
  {
   "cell_type": "markdown",
   "id": "d3766c60-7dfe-4cfa-99c2-0b0cd70a838c",
   "metadata": {},
   "source": [
    "- if we want delete any element\n",
    "\n",
    "- pop : based on index\n",
    "\n",
    "- remove : based on value\n",
    "\n",
    "- del is inbulit function based on index"
   ]
  },
  {
   "cell_type": "code",
   "execution_count": 77,
   "id": "cd748670-0ec5-4a1e-9122-9b599658b778",
   "metadata": {},
   "outputs": [],
   "source": [
    "l1=[10,20,30,40,50,'A','B','C','D',40,50]\n",
    "del(l1)"
   ]
  },
  {
   "cell_type": "code",
   "execution_count": 78,
   "id": "f7852049-1d4c-4f1d-a069-2ac365a5c5d6",
   "metadata": {},
   "outputs": [
    {
     "ename": "NameError",
     "evalue": "name 'l1' is not defined",
     "output_type": "error",
     "traceback": [
      "\u001b[1;31m---------------------------------------------------------------------------\u001b[0m",
      "\u001b[1;31mNameError\u001b[0m                                 Traceback (most recent call last)",
      "Cell \u001b[1;32mIn[78], line 1\u001b[0m\n\u001b[1;32m----> 1\u001b[0m l1\n",
      "\u001b[1;31mNameError\u001b[0m: name 'l1' is not defined"
     ]
    }
   ],
   "source": [
    "l1"
   ]
  },
  {
   "cell_type": "code",
   "execution_count": 79,
   "id": "81231fdd-1aa8-46a7-89b5-6c9ddf0a188b",
   "metadata": {},
   "outputs": [],
   "source": [
    "l1=[10,20,30,40,50,'A','B','C','D',40,50]\n",
    "del l1[5]"
   ]
  },
  {
   "cell_type": "code",
   "execution_count": 80,
   "id": "70da96ac-b6b2-4f08-a38e-a82d5a3a9dd8",
   "metadata": {},
   "outputs": [
    {
     "data": {
      "text/plain": [
       "[10, 20, 30, 40, 50, 'B', 'C', 'D', 40, 50]"
      ]
     },
     "execution_count": 80,
     "metadata": {},
     "output_type": "execute_result"
    }
   ],
   "source": [
    "l1"
   ]
  },
  {
   "cell_type": "code",
   "execution_count": null,
   "id": "54dde7ad-be99-45f6-bc98-0a6976bf600b",
   "metadata": {},
   "outputs": [],
   "source": []
  },
  {
   "cell_type": "code",
   "execution_count": null,
   "id": "e39c7a93-5259-4e72-991f-f49afe65efe5",
   "metadata": {},
   "outputs": [],
   "source": []
  },
  {
   "cell_type": "markdown",
   "id": "ecc0ec49-e555-4c35-815b-523bb42b237c",
   "metadata": {},
   "source": [
    "**revese-reversed**"
   ]
  },
  {
   "cell_type": "markdown",
   "id": "1e450a57-594a-4819-a06a-3a6caf56ad9d",
   "metadata": {},
   "source": [
    "- reverse is a method\n",
    "\n",
    "- reversed is an inbuilt function"
   ]
  },
  {
   "cell_type": "code",
   "execution_count": 82,
   "id": "12044637-4bd9-417a-a8ff-63420219748f",
   "metadata": {},
   "outputs": [
    {
     "data": {
      "text/plain": [
       "[50, 40, 'D', 'C', 'B', 'A', 50, 40, 30, 20, 10]"
      ]
     },
     "execution_count": 82,
     "metadata": {},
     "output_type": "execute_result"
    }
   ],
   "source": [
    "l1=[10,20,30,40,50,'A','B','C','D',40,50]\n",
    "list(reversed(l1))"
   ]
  },
  {
   "cell_type": "code",
   "execution_count": 83,
   "id": "576980d8-355c-40b6-b1a8-12128d29bea3",
   "metadata": {},
   "outputs": [],
   "source": [
    "l1.reverse()"
   ]
  },
  {
   "cell_type": "code",
   "execution_count": 84,
   "id": "f85e627a-7a46-4488-b85b-6f0fb7f2918d",
   "metadata": {},
   "outputs": [
    {
     "data": {
      "text/plain": [
       "[50, 40, 'D', 'C', 'B', 'A', 50, 40, 30, 20, 10]"
      ]
     },
     "execution_count": 84,
     "metadata": {},
     "output_type": "execute_result"
    }
   ],
   "source": [
    "l1"
   ]
  },
  {
   "cell_type": "code",
   "execution_count": null,
   "id": "3fe602f6-15c7-445f-96f1-1c6de5619b63",
   "metadata": {},
   "outputs": [],
   "source": []
  },
  {
   "cell_type": "markdown",
   "id": "fce6e309-cc7c-426a-aa09-26d3647d559e",
   "metadata": {},
   "source": [
    "**in place**\n",
    "\n",
    "- when we perform the opeartion some times the values will not overwrite\n",
    "\n",
    "- if we see **inplace** or **inplace=True**\n",
    "\n",
    "- this indicates the output will be overwrite in corresponding variable"
   ]
  },
  {
   "cell_type": "code",
   "execution_count": 86,
   "id": "f9fa2afa-e8c4-406c-ac61-16915945b1fe",
   "metadata": {},
   "outputs": [
    {
     "data": {
      "text/plain": [
       "[50, 40, 'D', 'C', 'B', 'A', 50, 40, 30, 20, 10]"
      ]
     },
     "execution_count": 86,
     "metadata": {},
     "output_type": "execute_result"
    }
   ],
   "source": [
    "l1=[10,20,30,40,50,'A','B','C','D',40,50]\n",
    "list(reversed(l1))"
   ]
  },
  {
   "cell_type": "code",
   "execution_count": 87,
   "id": "07f865bd-513b-43db-a7d9-9abed803a430",
   "metadata": {},
   "outputs": [
    {
     "data": {
      "text/plain": [
       "[10, 20, 30, 40, 50, 'A', 'B', 'C', 'D', 40, 50]"
      ]
     },
     "execution_count": 87,
     "metadata": {},
     "output_type": "execute_result"
    }
   ],
   "source": [
    "l1"
   ]
  },
  {
   "cell_type": "markdown",
   "id": "efc0e200-7ff9-4f19-bdce-4c88703796c3",
   "metadata": {},
   "source": [
    "**sort-Sorted**"
   ]
  },
  {
   "cell_type": "code",
   "execution_count": 90,
   "id": "3ee0c7e5-b751-4c01-9a47-b86475947091",
   "metadata": {},
   "outputs": [
    {
     "data": {
      "text/plain": [
       "[2, 6, 10, 23, 39, 45, 56]"
      ]
     },
     "execution_count": 90,
     "metadata": {},
     "output_type": "execute_result"
    }
   ],
   "source": [
    "l1=[39,45,10,56,23,2,6]\n",
    "sorted(l1)"
   ]
  },
  {
   "cell_type": "code",
   "execution_count": 91,
   "id": "6045dee3-a1a1-4dad-8046-2cdd936b3e10",
   "metadata": {},
   "outputs": [],
   "source": [
    "l1.sort()"
   ]
  },
  {
   "cell_type": "code",
   "execution_count": 92,
   "id": "18909579-773f-4869-a5ec-68ed10bc3075",
   "metadata": {},
   "outputs": [
    {
     "data": {
      "text/plain": [
       "[2, 6, 10, 23, 39, 45, 56]"
      ]
     },
     "execution_count": 92,
     "metadata": {},
     "output_type": "execute_result"
    }
   ],
   "source": [
    "l1"
   ]
  },
  {
   "cell_type": "code",
   "execution_count": null,
   "id": "9a7c4a90-5217-4d0d-a1b9-d72e7c558a29",
   "metadata": {},
   "outputs": [],
   "source": []
  },
  {
   "cell_type": "code",
   "execution_count": null,
   "id": "e81c2f9c-fd8d-49b5-bb6c-c5773bf55683",
   "metadata": {},
   "outputs": [],
   "source": []
  },
  {
   "cell_type": "code",
   "execution_count": 93,
   "id": "ca32764a-8c19-46f8-b97d-071134b27c09",
   "metadata": {},
   "outputs": [
    {
     "data": {
      "text/plain": [
       "['h', 'n', 'o', 'p', 't', 'y']"
      ]
     },
     "execution_count": 93,
     "metadata": {},
     "output_type": "execute_result"
    }
   ],
   "source": [
    "str1='python'\n",
    "sorted(str1)"
   ]
  },
  {
   "cell_type": "code",
   "execution_count": null,
   "id": "134de0c7-f4df-4d80-82b5-8bf85006f4b0",
   "metadata": {},
   "outputs": [],
   "source": [
    "str1.sort() # it is not available"
   ]
  },
  {
   "cell_type": "markdown",
   "id": "94d00df5-36b0-46ca-99d2-db76be148ea9",
   "metadata": {},
   "source": [
    "- inbuilt function applicable for any datatype\n",
    "\n",
    "- but methods works with respect to data type"
   ]
  },
  {
   "cell_type": "markdown",
   "id": "2c27cb79-727d-411a-86c4-e2b53c6558ef",
   "metadata": {},
   "source": [
    "\n",
    "- clear\n",
    "\n",
    "- count\n",
    "\n",
    "- append/extend/insert\n",
    "\n",
    "- pop/remove/del\n",
    "\n",
    "- reverse/servsed\n",
    "\n",
    "- sort/sorted"
   ]
  },
  {
   "cell_type": "code",
   "execution_count": null,
   "id": "41f04e59-6590-4fc9-a400-70c578d274c5",
   "metadata": {},
   "outputs": [],
   "source": []
  }
 ],
 "metadata": {
  "kernelspec": {
   "display_name": "Python 3 (ipykernel)",
   "language": "python",
   "name": "python3"
  },
  "language_info": {
   "codemirror_mode": {
    "name": "ipython",
    "version": 3
   },
   "file_extension": ".py",
   "mimetype": "text/x-python",
   "name": "python",
   "nbconvert_exporter": "python",
   "pygments_lexer": "ipython3",
   "version": "3.12.7"
  }
 },
 "nbformat": 4,
 "nbformat_minor": 5
}
